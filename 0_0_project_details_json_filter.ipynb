{
 "cells": [
  {
   "cell_type": "markdown",
   "metadata": {},
   "source": [
    "Take the raw output from the MongoDB queries, and make them valid Json that can be read. This is done by:\n",
    "- Remove \"ObjectID(\" from the start of the _id value. \n",
    "- Remove the \")\" from the end of the _id value.\n",
    "\n",
    "We also want to correct the ProjectIDs that were stored in the WoC database so they can be used for GithubAPI lookups.\n",
    "The WoC database puts the author account name first, then the project name seperated by an '_'. The GithubAPI expects the account and project name to be seperated by an '/'\n",
    "Ex: 'AccountName_ProjectName' -> 'AccountName/ProjectName'\n",
    "However, the projectName could also have underscores in it, so we must only replace the first _ we see for any give ProjectID.\n"
   ]
  },
  {
   "cell_type": "code",
   "execution_count": 7,
   "metadata": {},
   "outputs": [],
   "source": [
    "import json\n",
    "import re\n",
    "\n",
    "languages = [\"go\", \"java\", \"python\", \"ruby\"]\n",
    "project_details_folder = \"project_details\"\n",
    "\n",
    "for language in languages:\n",
    "  fin = open(f'{project_details_folder}/raw/{language}_projects.json', \"rt\")\n",
    "  fout = open(f'{project_details_folder}/filtered/{language}_projects_filtered.json', \"wt\")\n",
    "\n",
    "  for line in fin:\n",
    "\n",
    "    if \"_id\" in line:\n",
    "      updatedLine = line.replace('ObjectId(', '')\n",
    "      updatedLine = updatedLine.replace(')', '')\n",
    "      fout.write(updatedLine)\n",
    "    elif \"ProjectID\" in line:\n",
    "      updatedLine = re.sub(\"_\", \"/\", line, 1)\n",
    "      fout.write(updatedLine)\n",
    "    else:\n",
    "      fout.write(line)\n",
    "    \n",
    "  fin.close()\n",
    "  fout.close()"
   ]
  },
  {
   "cell_type": "markdown",
   "metadata": {},
   "source": [
    "With the filtered results, we can now read the files as valid JSON and interact with them easily."
   ]
  },
  {
   "cell_type": "code",
   "execution_count": 8,
   "metadata": {},
   "outputs": [
    {
     "name": "stdout",
     "output_type": "stream",
     "text": [
      "Number of go projects: 927\n",
      "Number of java projects: 2358\n",
      "Number of python projects: 4663\n",
      "Number of ruby projects: 1141\n"
     ]
    }
   ],
   "source": [
    "import json\n",
    "\n",
    "languages = [\"go\", \"java\", \"python\", \"ruby\"]\n",
    "project_details_folder = \"project_details\"\n",
    "\n",
    "\n",
    "for language in languages:\n",
    "  f = open(f'{project_details_folder}/filtered/{language}_projects_filtered.json')\n",
    "  projects_data = json.load(f)\n",
    "\n",
    "  print(f'Number of {language} projects: {len(projects_data)}')\n",
    "\n",
    "  # for i in project_data:\n",
    "  #   print(i[\"ProjectID\"])\n",
    "\n",
    "  f.close()"
   ]
  }
 ],
 "metadata": {
  "kernelspec": {
   "display_name": "Python 3.8.9 64-bit",
   "language": "python",
   "name": "python3"
  },
  "language_info": {
   "codemirror_mode": {
    "name": "ipython",
    "version": 3
   },
   "file_extension": ".py",
   "mimetype": "text/x-python",
   "name": "python",
   "nbconvert_exporter": "python",
   "pygments_lexer": "ipython3",
   "version": "3.8.9"
  },
  "orig_nbformat": 4,
  "vscode": {
   "interpreter": {
    "hash": "bfa80abe676a969905570649e715476f4128bf4ca16cb76d71e445a27656091b"
   }
  }
 },
 "nbformat": 4,
 "nbformat_minor": 2
}
