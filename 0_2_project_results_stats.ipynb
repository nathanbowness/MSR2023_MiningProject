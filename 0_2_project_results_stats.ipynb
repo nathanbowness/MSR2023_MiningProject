{
 "cells": [
  {
   "cell_type": "markdown",
   "metadata": {},
   "source": [
    "Create statstical results for the mined results. Specifically how many projects contain READMEs, RELEASES, both or none."
   ]
  },
  {
   "cell_type": "code",
   "execution_count": 1,
   "metadata": {},
   "outputs": [
    {
     "name": "stdout",
     "output_type": "stream",
     "text": [
      "Language go\n",
      "Number of projects total: 927\n",
      "Number of total readmes: 925\n",
      "Number of total release: 593\n",
      "\n",
      "Language java\n",
      "Number of projects total: 2358\n",
      "Number of total readmes: 2307\n",
      "Number of total release: 1317\n",
      "\n",
      "Language python\n",
      "Number of projects total: 4663\n",
      "Number of total readmes: 4365\n",
      "Number of total release: 2196\n",
      "\n",
      "Language ruby\n",
      "Number of projects total: 1141\n",
      "Number of total readmes: 1139\n",
      "Number of total release: 457\n",
      "\n"
     ]
    }
   ],
   "source": [
    "import json\n",
    "import os\n",
    "\n",
    "languages = [\"go\", \"java\", \"python\", \"ruby\"]\n",
    "project_details_folder = \"project_details\"\n",
    "readmes_folder = \"readmes\"\n",
    "releases_folder = \"releases\"\n",
    "\n",
    "\n",
    "for language in languages:\n",
    "\n",
    "    total_projects = 0\n",
    "    total_releases = 0\n",
    "    total_readmes = 0\n",
    "\n",
    "    language_readme_folder = f'{readmes_folder}/{language}'\n",
    "    language_releases_folder = f'{releases_folder}/{language}'\n",
    " \n",
    "    f = open(f'{project_details_folder}/filtered/{language}_projects_filtered.json')\n",
    "    projects_data = json.load(f)\n",
    "\n",
    "    for project in projects_data:\n",
    "\n",
    "        projectId = project[\"ProjectID\"]\n",
    "        projectOwner = projectId.split('/')[0]\n",
    "        projectName = projectId.split('/')[1]\n",
    "        #readme = False\n",
    "        #release = False\n",
    "\n",
    "        # Folders to store the projects readme & releases\n",
    "        readme_file = f\"{language_readme_folder}/{projectOwner}_{projectName}_readme.md\"\n",
    "        release_file = f\"{language_releases_folder}/{projectOwner}_{projectName}_releases.jsonl\"\n",
    "\n",
    "        total_projects+=1\n",
    "        if  os.path.exists(release_file):\n",
    "            total_releases+=1\n",
    "        if os.path.exists(readme_file):\n",
    "            total_readmes+=1\n",
    "    \n",
    "    print(f'Language {language}')\n",
    "    print(f'Number of projects total: {total_projects}')\n",
    "    print(f'Number of total readmes: {total_readmes}')\n",
    "    print(f'Number of total release: {total_releases}' + '\\n')\n",
    "        \n"
   ]
  }
 ],
 "metadata": {
  "kernelspec": {
   "display_name": "Python 3.8.9 64-bit",
   "language": "python",
   "name": "python3"
  },
  "language_info": {
   "codemirror_mode": {
    "name": "ipython",
    "version": 3
   },
   "file_extension": ".py",
   "mimetype": "text/x-python",
   "name": "python",
   "nbconvert_exporter": "python",
   "pygments_lexer": "ipython3",
   "version": "3.8.9"
  },
  "orig_nbformat": 4,
  "vscode": {
   "interpreter": {
    "hash": "bfa80abe676a969905570649e715476f4128bf4ca16cb76d71e445a27656091b"
   }
  }
 },
 "nbformat": 4,
 "nbformat_minor": 2
}
