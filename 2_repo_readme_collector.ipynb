{
 "cells": [
  {
   "cell_type": "code",
   "execution_count": null,
   "id": "fa16d44d-e9c3-4003-8570-9a12d4ea7c49",
   "metadata": {},
   "outputs": [],
   "source": [
    "from github import Github\n",
    "import getpass\n",
    "import time\n",
    "import pandas as pd\n",
    "import csv\n",
    "import langdetect\n",
    "import base64\n",
    "import os\n",
    "\n",
    "g = Github(getpass.getpass(\"Enter access token:\"), per_page=100)"
   ]
  },
  {
   "cell_type": "markdown",
   "id": "86f90bf3-cfc7-4e54-90fe-5d88cb20d494",
   "metadata": {},
   "source": [
    "Retrieves repository readme files and saves them in a folder."
   ]
  },
  {
   "cell_type": "code",
   "execution_count": null,
   "id": "d171f95a-aafb-4cb3-a71d-8f04f481ba51",
   "metadata": {},
   "outputs": [],
   "source": [
    "languages = [\"Java\", \"Python\"]\n",
    "\n",
    "readme_folder = \"readmes\"\n",
    "\n",
    "if not os.path.exists(readme_folder):\n",
    "    os.makedirs(readme_folder)\n",
    "\n",
    "for language in languages:\n",
    "\n",
    "    candidate_repos = pd.read_csv(f\"candidate_repos_{language.lower()}.csv\", delimiter=\";\")\n",
    "    print(f\"Retrieving the readme files for {candidate_repos.shape[0]} repositories in {language}...\")\n",
    "    \n",
    "    collected = 0\n",
    "        \n",
    "    for row_id, row in candidate_repos.iterrows():\n",
    "        readme_file = f\"{readme_folder}/{row.OWNER}_{row.NAME}_readme.md\"\n",
    "        if not os.path.exists(readme_file):\n",
    "            repo = g.get_repo(f\"{row.OWNER}/{row.NAME}\")\n",
    "            time.sleep(0.5)\n",
    "            try:\n",
    "                readme = base64.b64decode(repo.get_readme()._rawData[\"content\"].encode()).decode(\"UTF-8\")\n",
    "                with open(readme_file, \"w\", encoding=\"utf-8\") as file:\n",
    "                    file.write(readme)\n",
    "                collected += 1\n",
    "            except Exception as e:\n",
    "                print(f\"{row.OWNER}/{row.NAME}: {e}\")\n",
    "                continue\n",
    "                \n",
    "    print(f\"{collected} new readme files were collected.\")"
   ]
  },
  {
   "cell_type": "code",
   "execution_count": null,
   "id": "ebc5f15d-5ab4-4064-a025-7b73d09561ba",
   "metadata": {},
   "outputs": [],
   "source": [
    "# !jupyter nbconvert --to script 2_repo_readme_collector.ipynb # converts to .py file"
   ]
  }
 ],
 "metadata": {
  "kernelspec": {
   "display_name": "Python 3.8.9 64-bit",
   "language": "python",
   "name": "python3"
  },
  "language_info": {
   "codemirror_mode": {
    "name": "ipython",
    "version": 3
   },
   "file_extension": ".py",
   "mimetype": "text/x-python",
   "name": "python",
   "nbconvert_exporter": "python",
   "pygments_lexer": "ipython3",
   "version": "3.8.9"
  },
  "vscode": {
   "interpreter": {
    "hash": "bfa80abe676a969905570649e715476f4128bf4ca16cb76d71e445a27656091b"
   }
  }
 },
 "nbformat": 4,
 "nbformat_minor": 5
}
