{
 "cells": [
  {
   "cell_type": "markdown",
   "metadata": {},
   "source": [
    "Using the filtered projects results returned from MongoDB. We should be able to collect all the READMEs and Release Information.\n",
    "\n",
    "First get the users github token:"
   ]
  },
  {
   "cell_type": "code",
   "execution_count": 9,
   "metadata": {},
   "outputs": [],
   "source": [
    "from github import Github\n",
    "import getpass\n",
    "import time\n",
    "import pandas as pd\n",
    "import csv\n",
    "import langdetect\n",
    "import base64\n",
    "import os\n",
    "import json\n",
    "\n",
    "g = Github(getpass.getpass(\"Enter access token:\"), per_page=100)"
   ]
  },
  {
   "cell_type": "markdown",
   "metadata": {},
   "source": [
    "Make directories to store the readmes and releases for each language if they don't exist."
   ]
  },
  {
   "cell_type": "code",
   "execution_count": 10,
   "metadata": {},
   "outputs": [],
   "source": [
    "languages = [\"go\", \"java\", \"python\", \"ruby\"]\n",
    "\n",
    "readme_folder = \"readmes\"\n",
    "releases_folder = \"releases\"\n",
    "\n",
    "if not os.path.exists(readme_folder):\n",
    "    os.makedirs(readme_folder)\n",
    "\n",
    "if not os.path.exists(releases_folder):\n",
    "    os.makedirs(releases_folder)\n",
    "\n",
    "for language in languages:\n",
    "\n",
    "    language_readme_folder = f'{readme_folder}/{language}'\n",
    "    if not os.path.exists(language_readme_folder):\n",
    "        os.makedirs(language_readme_folder)\n",
    "\n",
    "    language_releases_folder = f'{releases_folder}/{language}'\n",
    "    if not os.path.exists(language_releases_folder):\n",
    "        os.makedirs(language_releases_folder)"
   ]
  },
  {
   "cell_type": "markdown",
   "metadata": {},
   "source": [
    "With the github token, collect the READMEs, and the Releases for each repository. \n",
    "Collect the project README first, then try to collect the Release information.\n",
    "Write the results back to the project_details/results folder. Storing the results there will let us do some analysis later if needed."
   ]
  },
  {
   "cell_type": "code",
   "execution_count": 11,
   "metadata": {},
   "outputs": [
    {
     "name": "stdout",
     "output_type": "stream",
     "text": [
      "Retrieving the readme files for 927 repositories in go...\n",
      "GoesToEleven/golang-project: 404 {\"message\": \"Not Found\", \"documentation_url\": \"https://docs.github.com/rest/reference/repos#get-a-repository-readme\"}\n",
      "c-rindi/geras: 404 {\"message\": \"Not Found\", \"documentation_url\": \"https://docs.github.com/rest/reference/repos#get-a-repository\"}\n",
      "c-rindi/geras: 404 {\"message\": \"Not Found\", \"documentation_url\": \"https://docs.github.com/rest/reference/repos#get-a-repository-readme\"}\n",
      "apcera/gssapi: 404 {\"message\": \"Not Found\", \"documentation_url\": \"https://docs.github.com/rest/reference/repos#get-a-repository\"}\n",
      "gitlab.com/diamondburned_6cord: 404 {\"message\": \"Not Found\", \"documentation_url\": \"https://docs.github.com/rest/reference/repos#get-a-repository\"}\n",
      "auth0-community/auth0: 404 {\"message\": \"Not Found\", \"documentation_url\": \"https://docs.github.com/rest\"}\n",
      "145 new readme files were collected for go projects.\n",
      "91 new readme files were collected for go projects.\n",
      "Retrieving the readme files for 2358 repositories in java...\n",
      "JoshitaA/Bitcoin-Ticker: 404 {\"message\": \"Not Found\", \"documentation_url\": \"https://docs.github.com/rest/reference/repos#get-a-repository-readme\"}\n"
     ]
    }
   ],
   "source": [
    "project_details_folder = \"project_details\"\n",
    "\n",
    "for language in languages:\n",
    "\n",
    "    language_readme_folder = f'{readme_folder}/{language}'\n",
    "    language_releases_folder = f'{releases_folder}/{language}'\n",
    "    #fout = open(f'{project_details_folder}/results/{language}_projects.json', \"a+\")\n",
    " \n",
    "    f = open(f'{project_details_folder}/filtered/{language}_projects_filtered.json')\n",
    "    projects_data = json.load(f)\n",
    "\n",
    "    \n",
    "    print(f\"Retrieving the readme files for {len(projects_data)} repositories in {language}...\")\n",
    "    \n",
    "    collectedReadmes = 0\n",
    "    collectedReleases = 0\n",
    "    for project in projects_data:\n",
    "\n",
    "        projectId = project[\"ProjectID\"]\n",
    "        projectOwner = projectId.split('/')[0]\n",
    "        projectName = projectId.split('/')[1]\n",
    "        #readme = False\n",
    "        #release = False\n",
    "\n",
    "        # Folders to store the projects readme & releases\n",
    "        readme_file = f\"{language_readme_folder}/{projectOwner}_{projectName}_readme.md\"\n",
    "        release_file = f\"{language_releases_folder}/{projectOwner}_{projectName}_releases.jsonl\"\n",
    "\n",
    "        if os.path.exists(readme_file) or os.path.exists(release_file):\n",
    "            continue # continue to next project, we've already collected this projects info\n",
    "\n",
    "        try:\n",
    "            repo = g.get_repo(projectId)\n",
    "        except Exception as e:\n",
    "            print(f\"{projectId}: {e}\")\n",
    "        \n",
    "        # Try to collect the readme information\n",
    "        time.sleep(0.25)\n",
    "        try:\n",
    "            readme = base64.b64decode(repo.get_readme()._rawData[\"content\"].encode()).decode(\"UTF-8\")\n",
    "            with open(readme_file, \"w\", encoding=\"utf-8\") as file:\n",
    "                file.write(readme)\n",
    "            collectedReadmes += 1\n",
    "        except Exception as e:\n",
    "            print(f\"{projectId}: {e}\")\n",
    "            time.sleep(1)\n",
    "        \n",
    "        # Try to collect the release information\n",
    "        time.sleep(0.25)\n",
    "        try:\n",
    "            releases = repo.get_releases()\n",
    "            \n",
    "            if releases.totalCount >= 1:\n",
    "                with open(release_file, \"w\", encoding=\"utf-8\") as file:\n",
    "                    for release in releases:\n",
    "                        file.write(json.dumps(release.raw_data) + \"\\n\")\n",
    "                collectedReleases += 1\n",
    "        except Exception as e:\n",
    "            print(f\"{projectId}: {e}\")\n",
    "            if os.path.exists(release_file):\n",
    "                os.remove(release_file) \n",
    "            time.sleep(1)\n",
    "    \n",
    "\n",
    "        # Update project json to include whether projects contain, a readme or releases. Write updated json to results file used for filtering\n",
    "        #project[\"release\"] = release\n",
    "        #project[\"readme\"] = readme\n",
    "        #fout.write(json.dumps(project))\n",
    "   \n",
    "    print(f\"{collectedReadmes} new readme files were collected for {language} projects.\")\n",
    "    print(f\"{collectedReleases} new release files were collected for {language} projects.\")"
   ]
  }
 ],
 "metadata": {
  "kernelspec": {
   "display_name": "Python 3.8.9 64-bit",
   "language": "python",
   "name": "python3"
  },
  "language_info": {
   "codemirror_mode": {
    "name": "ipython",
    "version": 3
   },
   "file_extension": ".py",
   "mimetype": "text/x-python",
   "name": "python",
   "nbconvert_exporter": "python",
   "pygments_lexer": "ipython3",
   "version": "3.8.9"
  },
  "orig_nbformat": 4,
  "vscode": {
   "interpreter": {
    "hash": "bfa80abe676a969905570649e715476f4128bf4ca16cb76d71e445a27656091b"
   }
  }
 },
 "nbformat": 4,
 "nbformat_minor": 2
}
