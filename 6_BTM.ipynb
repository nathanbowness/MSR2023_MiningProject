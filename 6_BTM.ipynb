{
 "cells": [
  {
   "cell_type": "markdown",
   "id": "78ca7f7a-88ff-4548-af67-bd436b34b26b",
   "metadata": {},
   "source": [
    "Importing the dataset and obtaining the biterms:"
   ]
  },
  {
   "cell_type": "code",
   "execution_count": 152,
   "id": "fbc12808-5550-4664-ba2c-e74512dd7d4d",
   "metadata": {},
   "outputs": [
    {
     "name": "stdout",
     "output_type": "stream",
     "text": [
      "0 repositories will be removed due to having more than 250 tokens.\n",
      "       LENGTH_PROCESSED\n",
      "count       1059.000000\n",
      "mean          12.495751\n",
      "std            9.556356\n",
      "min            3.000000\n",
      "25%            6.000000\n",
      "50%            9.000000\n",
      "75%           16.000000\n",
      "max          112.000000\n"
     ]
    },
    {
     "data": {
      "application/vnd.plotly.v1+json": {
       "config": {
        "plotlyServerURL": "https://plot.ly"
       },
       "data": [
        {
         "alignmentgroup": "True",
         "bingroup": "x",
         "hovertemplate": "variable=LENGTH_PROCESSED<br>value=%{x}<br>count=%{y}<extra></extra>",
         "legendgroup": "LENGTH_PROCESSED",
         "marker": {
          "color": "#E53935",
          "pattern": {
           "shape": ""
          }
         },
         "name": "LENGTH_PROCESSED",
         "nbinsx": 30,
         "offsetgroup": "LENGTH_PROCESSED",
         "orientation": "v",
         "showlegend": true,
         "type": "histogram",
         "x": [
          96,
          89,
          76,
          75,
          72,
          66,
          57,
          55,
          43,
          41,
          39,
          38,
          29,
          29,
          29,
          26,
          23,
          19,
          15,
          15,
          14,
          11,
          11,
          10,
          9,
          8,
          8,
          7,
          7,
          5,
          4,
          3,
          3,
          3,
          3,
          3,
          2,
          2,
          2,
          2,
          1,
          1,
          1,
          1,
          1,
          1,
          1,
          1,
          1,
          1
         ],
         "xaxis": "x",
         "yaxis": "y"
        }
       ],
       "layout": {
        "barmode": "relative",
        "height": 300,
        "legend": {
         "title": {
          "text": "variable"
         },
         "tracegroupgap": 0
        },
        "margin": {
         "t": 60
        },
        "showlegend": false,
        "template": {
         "data": {
          "bar": [
           {
            "error_x": {
             "color": "#2a3f5f"
            },
            "error_y": {
             "color": "#2a3f5f"
            },
            "marker": {
             "line": {
              "color": "#E5ECF6",
              "width": 0.5
             },
             "pattern": {
              "fillmode": "overlay",
              "size": 10,
              "solidity": 0.2
             }
            },
            "type": "bar"
           }
          ],
          "barpolar": [
           {
            "marker": {
             "line": {
              "color": "#E5ECF6",
              "width": 0.5
             },
             "pattern": {
              "fillmode": "overlay",
              "size": 10,
              "solidity": 0.2
             }
            },
            "type": "barpolar"
           }
          ],
          "carpet": [
           {
            "aaxis": {
             "endlinecolor": "#2a3f5f",
             "gridcolor": "white",
             "linecolor": "white",
             "minorgridcolor": "white",
             "startlinecolor": "#2a3f5f"
            },
            "baxis": {
             "endlinecolor": "#2a3f5f",
             "gridcolor": "white",
             "linecolor": "white",
             "minorgridcolor": "white",
             "startlinecolor": "#2a3f5f"
            },
            "type": "carpet"
           }
          ],
          "choropleth": [
           {
            "colorbar": {
             "outlinewidth": 0,
             "ticks": ""
            },
            "type": "choropleth"
           }
          ],
          "contour": [
           {
            "colorbar": {
             "outlinewidth": 0,
             "ticks": ""
            },
            "colorscale": [
             [
              0,
              "#0d0887"
             ],
             [
              0.1111111111111111,
              "#46039f"
             ],
             [
              0.2222222222222222,
              "#7201a8"
             ],
             [
              0.3333333333333333,
              "#9c179e"
             ],
             [
              0.4444444444444444,
              "#bd3786"
             ],
             [
              0.5555555555555556,
              "#d8576b"
             ],
             [
              0.6666666666666666,
              "#ed7953"
             ],
             [
              0.7777777777777778,
              "#fb9f3a"
             ],
             [
              0.8888888888888888,
              "#fdca26"
             ],
             [
              1,
              "#f0f921"
             ]
            ],
            "type": "contour"
           }
          ],
          "contourcarpet": [
           {
            "colorbar": {
             "outlinewidth": 0,
             "ticks": ""
            },
            "type": "contourcarpet"
           }
          ],
          "heatmap": [
           {
            "colorbar": {
             "outlinewidth": 0,
             "ticks": ""
            },
            "colorscale": [
             [
              0,
              "#0d0887"
             ],
             [
              0.1111111111111111,
              "#46039f"
             ],
             [
              0.2222222222222222,
              "#7201a8"
             ],
             [
              0.3333333333333333,
              "#9c179e"
             ],
             [
              0.4444444444444444,
              "#bd3786"
             ],
             [
              0.5555555555555556,
              "#d8576b"
             ],
             [
              0.6666666666666666,
              "#ed7953"
             ],
             [
              0.7777777777777778,
              "#fb9f3a"
             ],
             [
              0.8888888888888888,
              "#fdca26"
             ],
             [
              1,
              "#f0f921"
             ]
            ],
            "type": "heatmap"
           }
          ],
          "heatmapgl": [
           {
            "colorbar": {
             "outlinewidth": 0,
             "ticks": ""
            },
            "colorscale": [
             [
              0,
              "#0d0887"
             ],
             [
              0.1111111111111111,
              "#46039f"
             ],
             [
              0.2222222222222222,
              "#7201a8"
             ],
             [
              0.3333333333333333,
              "#9c179e"
             ],
             [
              0.4444444444444444,
              "#bd3786"
             ],
             [
              0.5555555555555556,
              "#d8576b"
             ],
             [
              0.6666666666666666,
              "#ed7953"
             ],
             [
              0.7777777777777778,
              "#fb9f3a"
             ],
             [
              0.8888888888888888,
              "#fdca26"
             ],
             [
              1,
              "#f0f921"
             ]
            ],
            "type": "heatmapgl"
           }
          ],
          "histogram": [
           {
            "marker": {
             "pattern": {
              "fillmode": "overlay",
              "size": 10,
              "solidity": 0.2
             }
            },
            "type": "histogram"
           }
          ],
          "histogram2d": [
           {
            "colorbar": {
             "outlinewidth": 0,
             "ticks": ""
            },
            "colorscale": [
             [
              0,
              "#0d0887"
             ],
             [
              0.1111111111111111,
              "#46039f"
             ],
             [
              0.2222222222222222,
              "#7201a8"
             ],
             [
              0.3333333333333333,
              "#9c179e"
             ],
             [
              0.4444444444444444,
              "#bd3786"
             ],
             [
              0.5555555555555556,
              "#d8576b"
             ],
             [
              0.6666666666666666,
              "#ed7953"
             ],
             [
              0.7777777777777778,
              "#fb9f3a"
             ],
             [
              0.8888888888888888,
              "#fdca26"
             ],
             [
              1,
              "#f0f921"
             ]
            ],
            "type": "histogram2d"
           }
          ],
          "histogram2dcontour": [
           {
            "colorbar": {
             "outlinewidth": 0,
             "ticks": ""
            },
            "colorscale": [
             [
              0,
              "#0d0887"
             ],
             [
              0.1111111111111111,
              "#46039f"
             ],
             [
              0.2222222222222222,
              "#7201a8"
             ],
             [
              0.3333333333333333,
              "#9c179e"
             ],
             [
              0.4444444444444444,
              "#bd3786"
             ],
             [
              0.5555555555555556,
              "#d8576b"
             ],
             [
              0.6666666666666666,
              "#ed7953"
             ],
             [
              0.7777777777777778,
              "#fb9f3a"
             ],
             [
              0.8888888888888888,
              "#fdca26"
             ],
             [
              1,
              "#f0f921"
             ]
            ],
            "type": "histogram2dcontour"
           }
          ],
          "mesh3d": [
           {
            "colorbar": {
             "outlinewidth": 0,
             "ticks": ""
            },
            "type": "mesh3d"
           }
          ],
          "parcoords": [
           {
            "line": {
             "colorbar": {
              "outlinewidth": 0,
              "ticks": ""
             }
            },
            "type": "parcoords"
           }
          ],
          "pie": [
           {
            "automargin": true,
            "type": "pie"
           }
          ],
          "scatter": [
           {
            "fillpattern": {
             "fillmode": "overlay",
             "size": 10,
             "solidity": 0.2
            },
            "type": "scatter"
           }
          ],
          "scatter3d": [
           {
            "line": {
             "colorbar": {
              "outlinewidth": 0,
              "ticks": ""
             }
            },
            "marker": {
             "colorbar": {
              "outlinewidth": 0,
              "ticks": ""
             }
            },
            "type": "scatter3d"
           }
          ],
          "scattercarpet": [
           {
            "marker": {
             "colorbar": {
              "outlinewidth": 0,
              "ticks": ""
             }
            },
            "type": "scattercarpet"
           }
          ],
          "scattergeo": [
           {
            "marker": {
             "colorbar": {
              "outlinewidth": 0,
              "ticks": ""
             }
            },
            "type": "scattergeo"
           }
          ],
          "scattergl": [
           {
            "marker": {
             "colorbar": {
              "outlinewidth": 0,
              "ticks": ""
             }
            },
            "type": "scattergl"
           }
          ],
          "scattermapbox": [
           {
            "marker": {
             "colorbar": {
              "outlinewidth": 0,
              "ticks": ""
             }
            },
            "type": "scattermapbox"
           }
          ],
          "scatterpolar": [
           {
            "marker": {
             "colorbar": {
              "outlinewidth": 0,
              "ticks": ""
             }
            },
            "type": "scatterpolar"
           }
          ],
          "scatterpolargl": [
           {
            "marker": {
             "colorbar": {
              "outlinewidth": 0,
              "ticks": ""
             }
            },
            "type": "scatterpolargl"
           }
          ],
          "scatterternary": [
           {
            "marker": {
             "colorbar": {
              "outlinewidth": 0,
              "ticks": ""
             }
            },
            "type": "scatterternary"
           }
          ],
          "surface": [
           {
            "colorbar": {
             "outlinewidth": 0,
             "ticks": ""
            },
            "colorscale": [
             [
              0,
              "#0d0887"
             ],
             [
              0.1111111111111111,
              "#46039f"
             ],
             [
              0.2222222222222222,
              "#7201a8"
             ],
             [
              0.3333333333333333,
              "#9c179e"
             ],
             [
              0.4444444444444444,
              "#bd3786"
             ],
             [
              0.5555555555555556,
              "#d8576b"
             ],
             [
              0.6666666666666666,
              "#ed7953"
             ],
             [
              0.7777777777777778,
              "#fb9f3a"
             ],
             [
              0.8888888888888888,
              "#fdca26"
             ],
             [
              1,
              "#f0f921"
             ]
            ],
            "type": "surface"
           }
          ],
          "table": [
           {
            "cells": {
             "fill": {
              "color": "#EBF0F8"
             },
             "line": {
              "color": "white"
             }
            },
            "header": {
             "fill": {
              "color": "#C8D4E3"
             },
             "line": {
              "color": "white"
             }
            },
            "type": "table"
           }
          ]
         },
         "layout": {
          "annotationdefaults": {
           "arrowcolor": "#2a3f5f",
           "arrowhead": 0,
           "arrowwidth": 1
          },
          "autotypenumbers": "strict",
          "coloraxis": {
           "colorbar": {
            "outlinewidth": 0,
            "ticks": ""
           }
          },
          "colorscale": {
           "diverging": [
            [
             0,
             "#8e0152"
            ],
            [
             0.1,
             "#c51b7d"
            ],
            [
             0.2,
             "#de77ae"
            ],
            [
             0.3,
             "#f1b6da"
            ],
            [
             0.4,
             "#fde0ef"
            ],
            [
             0.5,
             "#f7f7f7"
            ],
            [
             0.6,
             "#e6f5d0"
            ],
            [
             0.7,
             "#b8e186"
            ],
            [
             0.8,
             "#7fbc41"
            ],
            [
             0.9,
             "#4d9221"
            ],
            [
             1,
             "#276419"
            ]
           ],
           "sequential": [
            [
             0,
             "#0d0887"
            ],
            [
             0.1111111111111111,
             "#46039f"
            ],
            [
             0.2222222222222222,
             "#7201a8"
            ],
            [
             0.3333333333333333,
             "#9c179e"
            ],
            [
             0.4444444444444444,
             "#bd3786"
            ],
            [
             0.5555555555555556,
             "#d8576b"
            ],
            [
             0.6666666666666666,
             "#ed7953"
            ],
            [
             0.7777777777777778,
             "#fb9f3a"
            ],
            [
             0.8888888888888888,
             "#fdca26"
            ],
            [
             1,
             "#f0f921"
            ]
           ],
           "sequentialminus": [
            [
             0,
             "#0d0887"
            ],
            [
             0.1111111111111111,
             "#46039f"
            ],
            [
             0.2222222222222222,
             "#7201a8"
            ],
            [
             0.3333333333333333,
             "#9c179e"
            ],
            [
             0.4444444444444444,
             "#bd3786"
            ],
            [
             0.5555555555555556,
             "#d8576b"
            ],
            [
             0.6666666666666666,
             "#ed7953"
            ],
            [
             0.7777777777777778,
             "#fb9f3a"
            ],
            [
             0.8888888888888888,
             "#fdca26"
            ],
            [
             1,
             "#f0f921"
            ]
           ]
          },
          "colorway": [
           "#636efa",
           "#EF553B",
           "#00cc96",
           "#ab63fa",
           "#FFA15A",
           "#19d3f3",
           "#FF6692",
           "#B6E880",
           "#FF97FF",
           "#FECB52"
          ],
          "font": {
           "color": "#2a3f5f"
          },
          "geo": {
           "bgcolor": "white",
           "lakecolor": "white",
           "landcolor": "#E5ECF6",
           "showlakes": true,
           "showland": true,
           "subunitcolor": "white"
          },
          "hoverlabel": {
           "align": "left"
          },
          "hovermode": "closest",
          "mapbox": {
           "style": "light"
          },
          "paper_bgcolor": "white",
          "plot_bgcolor": "#E5ECF6",
          "polar": {
           "angularaxis": {
            "gridcolor": "white",
            "linecolor": "white",
            "ticks": ""
           },
           "bgcolor": "#E5ECF6",
           "radialaxis": {
            "gridcolor": "white",
            "linecolor": "white",
            "ticks": ""
           }
          },
          "scene": {
           "xaxis": {
            "backgroundcolor": "#E5ECF6",
            "gridcolor": "white",
            "gridwidth": 2,
            "linecolor": "white",
            "showbackground": true,
            "ticks": "",
            "zerolinecolor": "white"
           },
           "yaxis": {
            "backgroundcolor": "#E5ECF6",
            "gridcolor": "white",
            "gridwidth": 2,
            "linecolor": "white",
            "showbackground": true,
            "ticks": "",
            "zerolinecolor": "white"
           },
           "zaxis": {
            "backgroundcolor": "#E5ECF6",
            "gridcolor": "white",
            "gridwidth": 2,
            "linecolor": "white",
            "showbackground": true,
            "ticks": "",
            "zerolinecolor": "white"
           }
          },
          "shapedefaults": {
           "line": {
            "color": "#2a3f5f"
           }
          },
          "ternary": {
           "aaxis": {
            "gridcolor": "white",
            "linecolor": "white",
            "ticks": ""
           },
           "baxis": {
            "gridcolor": "white",
            "linecolor": "white",
            "ticks": ""
           },
           "bgcolor": "#E5ECF6",
           "caxis": {
            "gridcolor": "white",
            "linecolor": "white",
            "ticks": ""
           }
          },
          "title": {
           "x": 0.05
          },
          "xaxis": {
           "automargin": true,
           "gridcolor": "white",
           "linecolor": "white",
           "ticks": "",
           "title": {
            "standoff": 15
           },
           "zerolinecolor": "white",
           "zerolinewidth": 2
          },
          "yaxis": {
           "automargin": true,
           "gridcolor": "white",
           "linecolor": "white",
           "ticks": "",
           "title": {
            "standoff": 15
           },
           "zerolinecolor": "white",
           "zerolinewidth": 2
          }
         }
        },
        "title": {
         "text": "Processed document lengths of Ruby projects",
         "x": 0.5
        },
        "width": 600,
        "xaxis": {
         "anchor": "y",
         "autorange": true,
         "domain": [
          0,
          1
         ],
         "range": [
          -0.5,
          99.5
         ],
         "title": {
          "text": "Term count"
         },
         "type": "linear"
        },
        "yaxis": {
         "anchor": "x",
         "autorange": true,
         "domain": [
          0,
          1
         ],
         "range": [
          0,
          21.05263157894737
         ],
         "title": {
          "text": "Frequency"
         }
        }
       }
      },
      "image/png": "[encoded data removed]",
      "text/html": [
       "<div>                            <div id=\"ac148acf-79e9-41bc-8645-dd31a3b4b5e7\" class=\"plotly-graph-div\" style=\"height:300px; width:600px;\"></div>            <script type=\"text/javascript\">                require([\"plotly\"], function(Plotly) {                    window.PLOTLYENV=window.PLOTLYENV || {};                                    if (document.getElementById(\"ac148acf-79e9-41bc-8645-dd31a3b4b5e7\")) {                    Plotly.newPlot(                        \"ac148acf-79e9-41bc-8645-dd31a3b4b5e7\",                        [{\"alignmentgroup\":\"True\",\"bingroup\":\"x\",\"hovertemplate\":\"variable=LENGTH_PROCESSED<br>value=%{x}<br>count=%{y}<extra></extra>\",\"legendgroup\":\"LENGTH_PROCESSED\",\"marker\":{\"color\":\"#E53935\",\"pattern\":{\"shape\":\"\"}},\"name\":\"LENGTH_PROCESSED\",\"nbinsx\":30,\"offsetgroup\":\"LENGTH_PROCESSED\",\"orientation\":\"v\",\"showlegend\":true,\"x\":[96,89,76,75,72,66,57,55,43,41,39,38,29,29,29,26,23,19,15,15,14,11,11,10,9,8,8,7,7,5,4,3,3,3,3,3,2,2,2,2,1,1,1,1,1,1,1,1,1,1],\"xaxis\":\"x\",\"yaxis\":\"y\",\"type\":\"histogram\"}],                        {\"template\":{\"data\":{\"histogram2dcontour\":[{\"type\":\"histogram2dcontour\",\"colorbar\":{\"outlinewidth\":0,\"ticks\":\"\"},\"colorscale\":[[0.0,\"#0d0887\"],[0.1111111111111111,\"#46039f\"],[0.2222222222222222,\"#7201a8\"],[0.3333333333333333,\"#9c179e\"],[0.4444444444444444,\"#bd3786\"],[0.5555555555555556,\"#d8576b\"],[0.6666666666666666,\"#ed7953\"],[0.7777777777777778,\"#fb9f3a\"],[0.8888888888888888,\"#fdca26\"],[1.0,\"#f0f921\"]]}],\"choropleth\":[{\"type\":\"choropleth\",\"colorbar\":{\"outlinewidth\":0,\"ticks\":\"\"}}],\"histogram2d\":[{\"type\":\"histogram2d\",\"colorbar\":{\"outlinewidth\":0,\"ticks\":\"\"},\"colorscale\":[[0.0,\"#0d0887\"],[0.1111111111111111,\"#46039f\"],[0.2222222222222222,\"#7201a8\"],[0.3333333333333333,\"#9c179e\"],[0.4444444444444444,\"#bd3786\"],[0.5555555555555556,\"#d8576b\"],[0.6666666666666666,\"#ed7953\"],[0.7777777777777778,\"#fb9f3a\"],[0.8888888888888888,\"#fdca26\"],[1.0,\"#f0f921\"]]}],\"heatmap\":[{\"type\":\"heatmap\",\"colorbar\":{\"outlinewidth\":0,\"ticks\":\"\"},\"colorscale\":[[0.0,\"#0d0887\"],[0.1111111111111111,\"#46039f\"],[0.2222222222222222,\"#7201a8\"],[0.3333333333333333,\"#9c179e\"],[0.4444444444444444,\"#bd3786\"],[0.5555555555555556,\"#d8576b\"],[0.6666666666666666,\"#ed7953\"],[0.7777777777777778,\"#fb9f3a\"],[0.8888888888888888,\"#fdca26\"],[1.0,\"#f0f921\"]]}],\"heatmapgl\":[{\"type\":\"heatmapgl\",\"colorbar\":{\"outlinewidth\":0,\"ticks\":\"\"},\"colorscale\":[[0.0,\"#0d0887\"],[0.1111111111111111,\"#46039f\"],[0.2222222222222222,\"#7201a8\"],[0.3333333333333333,\"#9c179e\"],[0.4444444444444444,\"#bd3786\"],[0.5555555555555556,\"#d8576b\"],[0.6666666666666666,\"#ed7953\"],[0.7777777777777778,\"#fb9f3a\"],[0.8888888888888888,\"#fdca26\"],[1.0,\"#f0f921\"]]}],\"contourcarpet\":[{\"type\":\"contourcarpet\",\"colorbar\":{\"outlinewidth\":0,\"ticks\":\"\"}}],\"contour\":[{\"type\":\"contour\",\"colorbar\":{\"outlinewidth\":0,\"ticks\":\"\"},\"colorscale\":[[0.0,\"#0d0887\"],[0.1111111111111111,\"#46039f\"],[0.2222222222222222,\"#7201a8\"],[0.3333333333333333,\"#9c179e\"],[0.4444444444444444,\"#bd3786\"],[0.5555555555555556,\"#d8576b\"],[0.6666666666666666,\"#ed7953\"],[0.7777777777777778,\"#fb9f3a\"],[0.8888888888888888,\"#fdca26\"],[1.0,\"#f0f921\"]]}],\"surface\":[{\"type\":\"surface\",\"colorbar\":{\"outlinewidth\":0,\"ticks\":\"\"},\"colorscale\":[[0.0,\"#0d0887\"],[0.1111111111111111,\"#46039f\"],[0.2222222222222222,\"#7201a8\"],[0.3333333333333333,\"#9c179e\"],[0.4444444444444444,\"#bd3786\"],[0.5555555555555556,\"#d8576b\"],[0.6666666666666666,\"#ed7953\"],[0.7777777777777778,\"#fb9f3a\"],[0.8888888888888888,\"#fdca26\"],[1.0,\"#f0f921\"]]}],\"mesh3d\":[{\"type\":\"mesh3d\",\"colorbar\":{\"outlinewidth\":0,\"ticks\":\"\"}}],\"scatter\":[{\"fillpattern\":{\"fillmode\":\"overlay\",\"size\":10,\"solidity\":0.2},\"type\":\"scatter\"}],\"parcoords\":[{\"type\":\"parcoords\",\"line\":{\"colorbar\":{\"outlinewidth\":0,\"ticks\":\"\"}}}],\"scatterpolargl\":[{\"type\":\"scatterpolargl\",\"marker\":{\"colorbar\":{\"outlinewidth\":0,\"ticks\":\"\"}}}],\"bar\":[{\"error_x\":{\"color\":\"#2a3f5f\"},\"error_y\":{\"color\":\"#2a3f5f\"},\"marker\":{\"line\":{\"color\":\"#E5ECF6\",\"width\":0.5},\"pattern\":{\"fillmode\":\"overlay\",\"size\":10,\"solidity\":0.2}},\"type\":\"bar\"}],\"scattergeo\":[{\"type\":\"scattergeo\",\"marker\":{\"colorbar\":{\"outlinewidth\":0,\"ticks\":\"\"}}}],\"scatterpolar\":[{\"type\":\"scatterpolar\",\"marker\":{\"colorbar\":{\"outlinewidth\":0,\"ticks\":\"\"}}}],\"histogram\":[{\"marker\":{\"pattern\":{\"fillmode\":\"overlay\",\"size\":10,\"solidity\":0.2}},\"type\":\"histogram\"}],\"scattergl\":[{\"type\":\"scattergl\",\"marker\":{\"colorbar\":{\"outlinewidth\":0,\"ticks\":\"\"}}}],\"scatter3d\":[{\"type\":\"scatter3d\",\"line\":{\"colorbar\":{\"outlinewidth\":0,\"ticks\":\"\"}},\"marker\":{\"colorbar\":{\"outlinewidth\":0,\"ticks\":\"\"}}}],\"scattermapbox\":[{\"type\":\"scattermapbox\",\"marker\":{\"colorbar\":{\"outlinewidth\":0,\"ticks\":\"\"}}}],\"scatterternary\":[{\"type\":\"scatterternary\",\"marker\":{\"colorbar\":{\"outlinewidth\":0,\"ticks\":\"\"}}}],\"scattercarpet\":[{\"type\":\"scattercarpet\",\"marker\":{\"colorbar\":{\"outlinewidth\":0,\"ticks\":\"\"}}}],\"carpet\":[{\"aaxis\":{\"endlinecolor\":\"#2a3f5f\",\"gridcolor\":\"white\",\"linecolor\":\"white\",\"minorgridcolor\":\"white\",\"startlinecolor\":\"#2a3f5f\"},\"baxis\":{\"endlinecolor\":\"#2a3f5f\",\"gridcolor\":\"white\",\"linecolor\":\"white\",\"minorgridcolor\":\"white\",\"startlinecolor\":\"#2a3f5f\"},\"type\":\"carpet\"}],\"table\":[{\"cells\":{\"fill\":{\"color\":\"#EBF0F8\"},\"line\":{\"color\":\"white\"}},\"header\":{\"fill\":{\"color\":\"#C8D4E3\"},\"line\":{\"color\":\"white\"}},\"type\":\"table\"}],\"barpolar\":[{\"marker\":{\"line\":{\"color\":\"#E5ECF6\",\"width\":0.5},\"pattern\":{\"fillmode\":\"overlay\",\"size\":10,\"solidity\":0.2}},\"type\":\"barpolar\"}],\"pie\":[{\"automargin\":true,\"type\":\"pie\"}]},\"layout\":{\"autotypenumbers\":\"strict\",\"colorway\":[\"#636efa\",\"#EF553B\",\"#00cc96\",\"#ab63fa\",\"#FFA15A\",\"#19d3f3\",\"#FF6692\",\"#B6E880\",\"#FF97FF\",\"#FECB52\"],\"font\":{\"color\":\"#2a3f5f\"},\"hovermode\":\"closest\",\"hoverlabel\":{\"align\":\"left\"},\"paper_bgcolor\":\"white\",\"plot_bgcolor\":\"#E5ECF6\",\"polar\":{\"bgcolor\":\"#E5ECF6\",\"angularaxis\":{\"gridcolor\":\"white\",\"linecolor\":\"white\",\"ticks\":\"\"},\"radialaxis\":{\"gridcolor\":\"white\",\"linecolor\":\"white\",\"ticks\":\"\"}},\"ternary\":{\"bgcolor\":\"#E5ECF6\",\"aaxis\":{\"gridcolor\":\"white\",\"linecolor\":\"white\",\"ticks\":\"\"},\"baxis\":{\"gridcolor\":\"white\",\"linecolor\":\"white\",\"ticks\":\"\"},\"caxis\":{\"gridcolor\":\"white\",\"linecolor\":\"white\",\"ticks\":\"\"}},\"coloraxis\":{\"colorbar\":{\"outlinewidth\":0,\"ticks\":\"\"}},\"colorscale\":{\"sequential\":[[0.0,\"#0d0887\"],[0.1111111111111111,\"#46039f\"],[0.2222222222222222,\"#7201a8\"],[0.3333333333333333,\"#9c179e\"],[0.4444444444444444,\"#bd3786\"],[0.5555555555555556,\"#d8576b\"],[0.6666666666666666,\"#ed7953\"],[0.7777777777777778,\"#fb9f3a\"],[0.8888888888888888,\"#fdca26\"],[1.0,\"#f0f921\"]],\"sequentialminus\":[[0.0,\"#0d0887\"],[0.1111111111111111,\"#46039f\"],[0.2222222222222222,\"#7201a8\"],[0.3333333333333333,\"#9c179e\"],[0.4444444444444444,\"#bd3786\"],[0.5555555555555556,\"#d8576b\"],[0.6666666666666666,\"#ed7953\"],[0.7777777777777778,\"#fb9f3a\"],[0.8888888888888888,\"#fdca26\"],[1.0,\"#f0f921\"]],\"diverging\":[[0,\"#8e0152\"],[0.1,\"#c51b7d\"],[0.2,\"#de77ae\"],[0.3,\"#f1b6da\"],[0.4,\"#fde0ef\"],[0.5,\"#f7f7f7\"],[0.6,\"#e6f5d0\"],[0.7,\"#b8e186\"],[0.8,\"#7fbc41\"],[0.9,\"#4d9221\"],[1,\"#276419\"]]},\"xaxis\":{\"gridcolor\":\"white\",\"linecolor\":\"white\",\"ticks\":\"\",\"title\":{\"standoff\":15},\"zerolinecolor\":\"white\",\"automargin\":true,\"zerolinewidth\":2},\"yaxis\":{\"gridcolor\":\"white\",\"linecolor\":\"white\",\"ticks\":\"\",\"title\":{\"standoff\":15},\"zerolinecolor\":\"white\",\"automargin\":true,\"zerolinewidth\":2},\"scene\":{\"xaxis\":{\"backgroundcolor\":\"#E5ECF6\",\"gridcolor\":\"white\",\"linecolor\":\"white\",\"showbackground\":true,\"ticks\":\"\",\"zerolinecolor\":\"white\",\"gridwidth\":2},\"yaxis\":{\"backgroundcolor\":\"#E5ECF6\",\"gridcolor\":\"white\",\"linecolor\":\"white\",\"showbackground\":true,\"ticks\":\"\",\"zerolinecolor\":\"white\",\"gridwidth\":2},\"zaxis\":{\"backgroundcolor\":\"#E5ECF6\",\"gridcolor\":\"white\",\"linecolor\":\"white\",\"showbackground\":true,\"ticks\":\"\",\"zerolinecolor\":\"white\",\"gridwidth\":2}},\"shapedefaults\":{\"line\":{\"color\":\"#2a3f5f\"}},\"annotationdefaults\":{\"arrowcolor\":\"#2a3f5f\",\"arrowhead\":0,\"arrowwidth\":1},\"geo\":{\"bgcolor\":\"white\",\"landcolor\":\"#E5ECF6\",\"subunitcolor\":\"white\",\"showland\":true,\"showlakes\":true,\"lakecolor\":\"white\"},\"title\":{\"x\":0.05},\"mapbox\":{\"style\":\"light\"}}},\"xaxis\":{\"anchor\":\"y\",\"domain\":[0.0,1.0],\"title\":{\"text\":\"Term count\"}},\"yaxis\":{\"anchor\":\"x\",\"domain\":[0.0,1.0],\"title\":{\"text\":\"Frequency\"}},\"legend\":{\"title\":{\"text\":\"variable\"},\"tracegroupgap\":0},\"margin\":{\"t\":60},\"barmode\":\"relative\",\"height\":300,\"width\":600,\"title\":{\"text\":\"Processed document lengths of Ruby projects\",\"x\":0.5},\"showlegend\":false},                        {\"responsive\": true}                    ).then(function(){\n",
       "                            \n",
       "var gd = document.getElementById('ac148acf-79e9-41bc-8645-dd31a3b4b5e7');\n",
       "var x = new MutationObserver(function (mutations, observer) {{\n",
       "        var display = window.getComputedStyle(gd).display;\n",
       "        if (!display || display === 'none') {{\n",
       "            console.log([gd, 'removed!']);\n",
       "            Plotly.purge(gd);\n",
       "            observer.disconnect();\n",
       "        }}\n",
       "}});\n",
       "\n",
       "// Listen for the removal of the full notebook cells\n",
       "var notebookContainer = gd.closest('#notebook-container');\n",
       "if (notebookContainer) {{\n",
       "    x.observe(notebookContainer, {childList: true});\n",
       "}}\n",
       "\n",
       "// Listen for the clearing of the current output cell\n",
       "var outputEl = gd.closest('.output');\n",
       "if (outputEl) {{\n",
       "    x.observe(outputEl, {childList: true});\n",
       "}}\n",
       "\n",
       "                        })                };                });            </script>        </div>"
      ]
     },
     "metadata": {},
     "output_type": "display_data"
    },
    {
     "name": "stdout",
     "output_type": "stream",
     "text": [
      "Vocabulary size: 71\n"
     ]
    }
   ],
   "source": [
    "import bitermplus as btm\n",
    "import numpy as np\n",
    "import pandas as pd\n",
    "import statistics\n",
    "import scipy.stats\n",
    "import optuna\n",
    "import plotly.express as px\n",
    "import tqdm\n",
    "import itertools\n",
    "import tmplot as tmp\n",
    "\n",
    "language = \"Ruby\"\n",
    "max_token_limit = 250\n",
    "\n",
    "language_colors = {\"Go\": \"#00ACC1\", \"Java\": \"#6D4C41\", \"Python\": \"#43A047\", \"Ruby\": \"#E53935\"}\n",
    "\n",
    "def contexts_to_text(contexts):\n",
    "    return \" \".join([\" \".join(context) + \".\" for context in eval(contexts)])\n",
    "\n",
    "def count_total_terms(contexts):\n",
    "    return sum([len(context) for context in eval(contexts)])\n",
    "\n",
    "def get_top_topics_entropy(model, top_n):\n",
    "    n_topic = model.matrix_topics_words_.shape[0]\n",
    "\n",
    "    topic_entropies = {}\n",
    "    for topic_id in range(n_topic):\n",
    "        topic_entropy =  btm.entropy(np.array([model.matrix_topics_words_[topic_id]]))\n",
    "        topic_entropies[topic_id] = topic_entropy\n",
    "\n",
    "    topic_entropies = dict(sorted(topic_entropies.items(), key=lambda item: item[1], reverse=True))\n",
    "    discarded_topics = list(topic_entropies.keys())[top_n:]\n",
    "    top_topics_entropy = btm.entropy(np.delete(model.matrix_topics_words_, discarded_topics, axis=0))\n",
    "    return top_topics_entropy\n",
    "\n",
    "repos = pd.read_csv(f\"processed_readmes_{language.lower()}.csv\", sep=\";\", quotechar=\"'\")\n",
    "\n",
    "repos[\"TEXT_PROCESSED\"] = repos[\"CONTEXTS\"].transform(contexts_to_text)\n",
    "repos[\"LENGTH_PROCESSED\"] = repos[\"CONTEXTS\"].transform(count_total_terms)\n",
    "\n",
    "print(f\"{repos[repos.LENGTH_PROCESSED > max_token_limit].shape[0]} repositories will be removed due to having more than {max_token_limit} tokens.\")\n",
    "\n",
    "# for id, row in repos.iterrows():\n",
    "#     if row.LENGTH_PROCESSED > max_token_limit:\n",
    "#         print(f\"{row.OWNER}/{row.NAME}\", row.LENGTH_PROCESSED)\n",
    "#         print(row.TEXT_PROCESSED)\n",
    "#         print(\"\")\n",
    "\n",
    "repos = repos[repos.LENGTH_PROCESSED <= max_token_limit]\n",
    "\n",
    "print(repos.describe())\n",
    "\n",
    "px.histogram(repos[\"LENGTH_PROCESSED\"].value_counts(), nbins=30, width=600, height=300).update_traces(marker_color=language_colors[language]).update_layout(showlegend=False, title_text=f\"Processed document lengths of {language} projects\", title_x=0.5, yaxis_title=\"Frequency\", xaxis_title=\"Term count\").show()\n",
    "\n",
    "texts = repos[\"TEXT_PROCESSED\"]\n",
    "\n",
    "language_removed_words = {\"Go\": [\"go\", \"golang\"], \"Java\": [\"java\"], \"Python\": [\"python\"], \"Ruby\": [\"ruby\"]}\n",
    "# common_removed_words = [\"library\", \"package\"]\n",
    "common_removed_words = []\n",
    "\n",
    "X, vocabulary, vocab_dict = btm.get_words_freqs(texts, binary=False, stop_words=language_removed_words[language]+common_removed_words, min_df=0.02) # It can take whatever parameter CounterVectorizer can take: https://scikit-learn.org/stable/modules/generated/sklearn.feature_extraction.text.CountVectorizer.html\n",
    "docs_vec = btm.get_vectorized_docs(texts, vocabulary)\n",
    "biterms = btm.get_biterms(docs_vec)\n",
    "\n",
    "print(\"Vocabulary size:\", len(vocabulary))\n",
    "\n",
    "# vocab_dict"
   ]
  },
  {
   "cell_type": "markdown",
   "id": "81bda9e0-9698-4c60-bb66-bd140d241c79",
   "metadata": {},
   "source": [
    "## Topic modeling"
   ]
  },
  {
   "cell_type": "markdown",
   "id": "92fb89e7-c089-4d2f-a1c9-e9392b1d30f9",
   "metadata": {},
   "source": [
    "Hyperparameter optimization for topic modeling using the top-n topic entropy:"
   ]
  },
  {
   "cell_type": "code",
   "execution_count": 153,
   "id": "e0b7b0a3-8a95-4cf8-8de7-9680038a4676",
   "metadata": {},
   "outputs": [],
   "source": [
    "best_parameters = {\n",
    "                   \"Go\": {\"n_topic\": 5, \"alpha_multiplier\": 4.418641550920036}, \n",
    "                   \"Java\": {\"n_topic\": 5, \"alpha_multiplier\": 4.886378432794765}, # entropy=2.2827251320259494\n",
    "                   \"Python\": {\"n_topic\": 8, \"alpha_multiplier\": 41.64512461906446}, # entropy=2.295825851703303\n",
    "                   \"Ruby\": {\"n_topic\": 5, \"alpha_multiplier\": 26.73802789246041} # entropy=2.3412844374509705\n",
    "                  }\n",
    "\n",
    "def objective(trial):\n",
    "    n_topic = trial.suggest_int(\"n_topic\", 5, 50, log=False)\n",
    "    alpha_multiplier = trial.suggest_float(\"alpha_multiplier\", 2, 50, log=False)\n",
    "    # beta = trial.suggest_float(\"beta\", 0.005, 0.02, log=True)\n",
    "    # has_background = trial.suggest_categorical(\"has_background\", [True, False])\n",
    "    \n",
    "    model = btm.BTM(X, vocabulary, seed=42, T=n_topic, M=5, alpha=1/(n_topic*alpha_multiplier), beta=0.01, has_background=False)\n",
    "    model.fit(biterms, iterations=600, verbose=False)\n",
    "\n",
    "    # return btm.entropy(model.matrix_topics_words_)\n",
    "    return get_top_topics_entropy(model, 5)\n",
    "\n",
    "if language not in best_parameters:\n",
    "    study = optuna.create_study(direction=\"minimize\")\n",
    "    study.optimize(objective, n_jobs=6, n_trials=100, show_progress_bar=True)\n",
    "\n",
    "    print(\"Study statistics: \")\n",
    "    print(\"  Number of finished trials: \", len(study.trials))\n",
    "\n",
    "    print(\"Best trial:\")\n",
    "    trial = study.best_trial\n",
    "\n",
    "    print(\"  Value: \", trial.value)\n",
    "\n",
    "    print(\"  Params: \")\n",
    "    best_parameters[language] = {}\n",
    "    for key, value in trial.params.items():\n",
    "        print(\"    {}: {}\".format(key, value))\n",
    "        best_parameters[language][key] = value"
   ]
  },
  {
   "cell_type": "code",
   "execution_count": 154,
   "id": "2dd28a7d-8174-45f5-b7d5-c5430e66eddc",
   "metadata": {},
   "outputs": [
    {
     "name": "stderr",
     "output_type": "stream",
     "text": [
      "100%|██████████████████████████████████████████████████████████████████████████████| 600/600 [00:00<00:00, 3351.91it/s]"
     ]
    },
    {
     "name": "stdout",
     "output_type": "stream",
     "text": [
      "Model entropy (all topics): 2.3412844374509705\n",
      "Model entropy (top 5 topics): 2.3412844374509705\n",
      "Perplexity: 7.166423472110015e+303\n",
      "Coherence: DescribeResult(nobs=5, minmax=(1.0886016560779912e-11, 5.75883919978561e-09), mean=1.7305279240821285e-09, variance=6.3724668344540675e-18, skewness=0.9102461385788618, kurtosis=-0.788460922540509)\n"
     ]
    },
    {
     "name": "stderr",
     "output_type": "stream",
     "text": [
      "\n"
     ]
    }
   ],
   "source": [
    "model = btm.BTM(X, vocabulary, seed=42, T=best_parameters[language][\"n_topic\"], M=5, win=500, alpha=1/(best_parameters[language][\"n_topic\"]*best_parameters[language][\"alpha_multiplier\"]), beta=0.01, has_background=False)\n",
    "model.fit(biterms, iterations=600)\n",
    "\n",
    "coherences = np.exp(model.coherence_)\n",
    "\n",
    "print(\"Model entropy (all topics):\", btm.entropy(model.matrix_topics_words_))\n",
    "print(\"Model entropy (top 5 topics):\", get_top_topics_entropy(model, 5))\n",
    "print(\"Perplexity:\", model.perplexity_)\n",
    "print(\"Coherence:\", scipy.stats.describe(coherences))"
   ]
  },
  {
   "cell_type": "markdown",
   "id": "6d3fda8f-fefe-4a81-b085-4479e7b68f85",
   "metadata": {},
   "source": [
    "Displaying the top 5 topics:"
   ]
  },
  {
   "cell_type": "code",
   "execution_count": 155,
   "id": "dcd0565f-19b8-400b-968c-ad18c20562a6",
   "metadata": {},
   "outputs": [
    {
     "name": "stdout",
     "output_type": "stream",
     "text": [
      "Stable topics: [2, 3]\n"
     ]
    },
    {
     "name": "stderr",
     "output_type": "stream",
     "text": [
      "100%|███████████████████████████████████████████████████████████████████████████| 1059/1059 [00:00<00:00, 99388.42it/s]\n"
     ]
    },
    {
     "data": {
      "application/vnd.plotly.v1+json": {
       "config": {
        "plotlyServerURL": "https://plot.ly"
       },
       "data": [
        {
         "alignmentgroup": "True",
         "bingroup": "x",
         "hovertemplate": "variable=TOPIC<br>value=%{x}<br>count=%{y}<extra></extra>",
         "legendgroup": "TOPIC",
         "marker": {
          "color": "#E53935",
          "pattern": {
           "shape": ""
          }
         },
         "name": "TOPIC",
         "nbinsx": 10,
         "offsetgroup": "TOPIC",
         "orientation": "v",
         "showlegend": true,
         "type": "histogram",
         "x": [
          621,
          197,
          114,
          100,
          27
         ],
         "xaxis": "x",
         "yaxis": "y"
        }
       ],
       "layout": {
        "barmode": "relative",
        "height": 300,
        "legend": {
         "title": {
          "text": "variable"
         },
         "tracegroupgap": 0
        },
        "margin": {
         "t": 60
        },
        "showlegend": false,
        "template": {
         "data": {
          "bar": [
           {
            "error_x": {
             "color": "#2a3f5f"
            },
            "error_y": {
             "color": "#2a3f5f"
            },
            "marker": {
             "line": {
              "color": "#E5ECF6",
              "width": 0.5
             },
             "pattern": {
              "fillmode": "overlay",
              "size": 10,
              "solidity": 0.2
             }
            },
            "type": "bar"
           }
          ],
          "barpolar": [
           {
            "marker": {
             "line": {
              "color": "#E5ECF6",
              "width": 0.5
             },
             "pattern": {
              "fillmode": "overlay",
              "size": 10,
              "solidity": 0.2
             }
            },
            "type": "barpolar"
           }
          ],
          "carpet": [
           {
            "aaxis": {
             "endlinecolor": "#2a3f5f",
             "gridcolor": "white",
             "linecolor": "white",
             "minorgridcolor": "white",
             "startlinecolor": "#2a3f5f"
            },
            "baxis": {
             "endlinecolor": "#2a3f5f",
             "gridcolor": "white",
             "linecolor": "white",
             "minorgridcolor": "white",
             "startlinecolor": "#2a3f5f"
            },
            "type": "carpet"
           }
          ],
          "choropleth": [
           {
            "colorbar": {
             "outlinewidth": 0,
             "ticks": ""
            },
            "type": "choropleth"
           }
          ],
          "contour": [
           {
            "colorbar": {
             "outlinewidth": 0,
             "ticks": ""
            },
            "colorscale": [
             [
              0,
              "#0d0887"
             ],
             [
              0.1111111111111111,
              "#46039f"
             ],
             [
              0.2222222222222222,
              "#7201a8"
             ],
             [
              0.3333333333333333,
              "#9c179e"
             ],
             [
              0.4444444444444444,
              "#bd3786"
             ],
             [
              0.5555555555555556,
              "#d8576b"
             ],
             [
              0.6666666666666666,
              "#ed7953"
             ],
             [
              0.7777777777777778,
              "#fb9f3a"
             ],
             [
              0.8888888888888888,
              "#fdca26"
             ],
             [
              1,
              "#f0f921"
             ]
            ],
            "type": "contour"
           }
          ],
          "contourcarpet": [
           {
            "colorbar": {
             "outlinewidth": 0,
             "ticks": ""
            },
            "type": "contourcarpet"
           }
          ],
          "heatmap": [
           {
            "colorbar": {
             "outlinewidth": 0,
             "ticks": ""
            },
            "colorscale": [
             [
              0,
              "#0d0887"
             ],
             [
              0.1111111111111111,
              "#46039f"
             ],
             [
              0.2222222222222222,
              "#7201a8"
             ],
             [
              0.3333333333333333,
              "#9c179e"
             ],
             [
              0.4444444444444444,
              "#bd3786"
             ],
             [
              0.5555555555555556,
              "#d8576b"
             ],
             [
              0.6666666666666666,
              "#ed7953"
             ],
             [
              0.7777777777777778,
              "#fb9f3a"
             ],
             [
              0.8888888888888888,
              "#fdca26"
             ],
             [
              1,
              "#f0f921"
             ]
            ],
            "type": "heatmap"
           }
          ],
          "heatmapgl": [
           {
            "colorbar": {
             "outlinewidth": 0,
             "ticks": ""
            },
            "colorscale": [
             [
              0,
              "#0d0887"
             ],
             [
              0.1111111111111111,
              "#46039f"
             ],
             [
              0.2222222222222222,
              "#7201a8"
             ],
             [
              0.3333333333333333,
              "#9c179e"
             ],
             [
              0.4444444444444444,
              "#bd3786"
             ],
             [
              0.5555555555555556,
              "#d8576b"
             ],
             [
              0.6666666666666666,
              "#ed7953"
             ],
             [
              0.7777777777777778,
              "#fb9f3a"
             ],
             [
              0.8888888888888888,
              "#fdca26"
             ],
             [
              1,
              "#f0f921"
             ]
            ],
            "type": "heatmapgl"
           }
          ],
          "histogram": [
           {
            "marker": {
             "pattern": {
              "fillmode": "overlay",
              "size": 10,
              "solidity": 0.2
             }
            },
            "type": "histogram"
           }
          ],
          "histogram2d": [
           {
            "colorbar": {
             "outlinewidth": 0,
             "ticks": ""
            },
            "colorscale": [
             [
              0,
              "#0d0887"
             ],
             [
              0.1111111111111111,
              "#46039f"
             ],
             [
              0.2222222222222222,
              "#7201a8"
             ],
             [
              0.3333333333333333,
              "#9c179e"
             ],
             [
              0.4444444444444444,
              "#bd3786"
             ],
             [
              0.5555555555555556,
              "#d8576b"
             ],
             [
              0.6666666666666666,
              "#ed7953"
             ],
             [
              0.7777777777777778,
              "#fb9f3a"
             ],
             [
              0.8888888888888888,
              "#fdca26"
             ],
             [
              1,
              "#f0f921"
             ]
            ],
            "type": "histogram2d"
           }
          ],
          "histogram2dcontour": [
           {
            "colorbar": {
             "outlinewidth": 0,
             "ticks": ""
            },
            "colorscale": [
             [
              0,
              "#0d0887"
             ],
             [
              0.1111111111111111,
              "#46039f"
             ],
             [
              0.2222222222222222,
              "#7201a8"
             ],
             [
              0.3333333333333333,
              "#9c179e"
             ],
             [
              0.4444444444444444,
              "#bd3786"
             ],
             [
              0.5555555555555556,
              "#d8576b"
             ],
             [
              0.6666666666666666,
              "#ed7953"
             ],
             [
              0.7777777777777778,
              "#fb9f3a"
             ],
             [
              0.8888888888888888,
              "#fdca26"
             ],
             [
              1,
              "#f0f921"
             ]
            ],
            "type": "histogram2dcontour"
           }
          ],
          "mesh3d": [
           {
            "colorbar": {
             "outlinewidth": 0,
             "ticks": ""
            },
            "type": "mesh3d"
           }
          ],
          "parcoords": [
           {
            "line": {
             "colorbar": {
              "outlinewidth": 0,
              "ticks": ""
             }
            },
            "type": "parcoords"
           }
          ],
          "pie": [
           {
            "automargin": true,
            "type": "pie"
           }
          ],
          "scatter": [
           {
            "fillpattern": {
             "fillmode": "overlay",
             "size": 10,
             "solidity": 0.2
            },
            "type": "scatter"
           }
          ],
          "scatter3d": [
           {
            "line": {
             "colorbar": {
              "outlinewidth": 0,
              "ticks": ""
             }
            },
            "marker": {
             "colorbar": {
              "outlinewidth": 0,
              "ticks": ""
             }
            },
            "type": "scatter3d"
           }
          ],
          "scattercarpet": [
           {
            "marker": {
             "colorbar": {
              "outlinewidth": 0,
              "ticks": ""
             }
            },
            "type": "scattercarpet"
           }
          ],
          "scattergeo": [
           {
            "marker": {
             "colorbar": {
              "outlinewidth": 0,
              "ticks": ""
             }
            },
            "type": "scattergeo"
           }
          ],
          "scattergl": [
           {
            "marker": {
             "colorbar": {
              "outlinewidth": 0,
              "ticks": ""
             }
            },
            "type": "scattergl"
           }
          ],
          "scattermapbox": [
           {
            "marker": {
             "colorbar": {
              "outlinewidth": 0,
              "ticks": ""
             }
            },
            "type": "scattermapbox"
           }
          ],
          "scatterpolar": [
           {
            "marker": {
             "colorbar": {
              "outlinewidth": 0,
              "ticks": ""
             }
            },
            "type": "scatterpolar"
           }
          ],
          "scatterpolargl": [
           {
            "marker": {
             "colorbar": {
              "outlinewidth": 0,
              "ticks": ""
             }
            },
            "type": "scatterpolargl"
           }
          ],
          "scatterternary": [
           {
            "marker": {
             "colorbar": {
              "outlinewidth": 0,
              "ticks": ""
             }
            },
            "type": "scatterternary"
           }
          ],
          "surface": [
           {
            "colorbar": {
             "outlinewidth": 0,
             "ticks": ""
            },
            "colorscale": [
             [
              0,
              "#0d0887"
             ],
             [
              0.1111111111111111,
              "#46039f"
             ],
             [
              0.2222222222222222,
              "#7201a8"
             ],
             [
              0.3333333333333333,
              "#9c179e"
             ],
             [
              0.4444444444444444,
              "#bd3786"
             ],
             [
              0.5555555555555556,
              "#d8576b"
             ],
             [
              0.6666666666666666,
              "#ed7953"
             ],
             [
              0.7777777777777778,
              "#fb9f3a"
             ],
             [
              0.8888888888888888,
              "#fdca26"
             ],
             [
              1,
              "#f0f921"
             ]
            ],
            "type": "surface"
           }
          ],
          "table": [
           {
            "cells": {
             "fill": {
              "color": "#EBF0F8"
             },
             "line": {
              "color": "white"
             }
            },
            "header": {
             "fill": {
              "color": "#C8D4E3"
             },
             "line": {
              "color": "white"
             }
            },
            "type": "table"
           }
          ]
         },
         "layout": {
          "annotationdefaults": {
           "arrowcolor": "#2a3f5f",
           "arrowhead": 0,
           "arrowwidth": 1
          },
          "autotypenumbers": "strict",
          "coloraxis": {
           "colorbar": {
            "outlinewidth": 0,
            "ticks": ""
           }
          },
          "colorscale": {
           "diverging": [
            [
             0,
             "#8e0152"
            ],
            [
             0.1,
             "#c51b7d"
            ],
            [
             0.2,
             "#de77ae"
            ],
            [
             0.3,
             "#f1b6da"
            ],
            [
             0.4,
             "#fde0ef"
            ],
            [
             0.5,
             "#f7f7f7"
            ],
            [
             0.6,
             "#e6f5d0"
            ],
            [
             0.7,
             "#b8e186"
            ],
            [
             0.8,
             "#7fbc41"
            ],
            [
             0.9,
             "#4d9221"
            ],
            [
             1,
             "#276419"
            ]
           ],
           "sequential": [
            [
             0,
             "#0d0887"
            ],
            [
             0.1111111111111111,
             "#46039f"
            ],
            [
             0.2222222222222222,
             "#7201a8"
            ],
            [
             0.3333333333333333,
             "#9c179e"
            ],
            [
             0.4444444444444444,
             "#bd3786"
            ],
            [
             0.5555555555555556,
             "#d8576b"
            ],
            [
             0.6666666666666666,
             "#ed7953"
            ],
            [
             0.7777777777777778,
             "#fb9f3a"
            ],
            [
             0.8888888888888888,
             "#fdca26"
            ],
            [
             1,
             "#f0f921"
            ]
           ],
           "sequentialminus": [
            [
             0,
             "#0d0887"
            ],
            [
             0.1111111111111111,
             "#46039f"
            ],
            [
             0.2222222222222222,
             "#7201a8"
            ],
            [
             0.3333333333333333,
             "#9c179e"
            ],
            [
             0.4444444444444444,
             "#bd3786"
            ],
            [
             0.5555555555555556,
             "#d8576b"
            ],
            [
             0.6666666666666666,
             "#ed7953"
            ],
            [
             0.7777777777777778,
             "#fb9f3a"
            ],
            [
             0.8888888888888888,
             "#fdca26"
            ],
            [
             1,
             "#f0f921"
            ]
           ]
          },
          "colorway": [
           "#636efa",
           "#EF553B",
           "#00cc96",
           "#ab63fa",
           "#FFA15A",
           "#19d3f3",
           "#FF6692",
           "#B6E880",
           "#FF97FF",
           "#FECB52"
          ],
          "font": {
           "color": "#2a3f5f"
          },
          "geo": {
           "bgcolor": "white",
           "lakecolor": "white",
           "landcolor": "#E5ECF6",
           "showlakes": true,
           "showland": true,
           "subunitcolor": "white"
          },
          "hoverlabel": {
           "align": "left"
          },
          "hovermode": "closest",
          "mapbox": {
           "style": "light"
          },
          "paper_bgcolor": "white",
          "plot_bgcolor": "#E5ECF6",
          "polar": {
           "angularaxis": {
            "gridcolor": "white",
            "linecolor": "white",
            "ticks": ""
           },
           "bgcolor": "#E5ECF6",
           "radialaxis": {
            "gridcolor": "white",
            "linecolor": "white",
            "ticks": ""
           }
          },
          "scene": {
           "xaxis": {
            "backgroundcolor": "#E5ECF6",
            "gridcolor": "white",
            "gridwidth": 2,
            "linecolor": "white",
            "showbackground": true,
            "ticks": "",
            "zerolinecolor": "white"
           },
           "yaxis": {
            "backgroundcolor": "#E5ECF6",
            "gridcolor": "white",
            "gridwidth": 2,
            "linecolor": "white",
            "showbackground": true,
            "ticks": "",
            "zerolinecolor": "white"
           },
           "zaxis": {
            "backgroundcolor": "#E5ECF6",
            "gridcolor": "white",
            "gridwidth": 2,
            "linecolor": "white",
            "showbackground": true,
            "ticks": "",
            "zerolinecolor": "white"
           }
          },
          "shapedefaults": {
           "line": {
            "color": "#2a3f5f"
           }
          },
          "ternary": {
           "aaxis": {
            "gridcolor": "white",
            "linecolor": "white",
            "ticks": ""
           },
           "baxis": {
            "gridcolor": "white",
            "linecolor": "white",
            "ticks": ""
           },
           "bgcolor": "#E5ECF6",
           "caxis": {
            "gridcolor": "white",
            "linecolor": "white",
            "ticks": ""
           }
          },
          "title": {
           "x": 0.05
          },
          "xaxis": {
           "automargin": true,
           "gridcolor": "white",
           "linecolor": "white",
           "ticks": "",
           "title": {
            "standoff": 15
           },
           "zerolinecolor": "white",
           "zerolinewidth": 2
          },
          "yaxis": {
           "automargin": true,
           "gridcolor": "white",
           "linecolor": "white",
           "ticks": "",
           "title": {
            "standoff": 15
           },
           "zerolinecolor": "white",
           "zerolinewidth": 2
          }
         }
        },
        "width": 600,
        "xaxis": {
         "anchor": "y",
         "autorange": true,
         "domain": [
          0,
          1
         ],
         "range": [
          -0.5,
          699.5
         ],
         "title": {
          "text": "Topic document count"
         },
         "type": "linear"
        },
        "yaxis": {
         "anchor": "x",
         "autorange": true,
         "domain": [
          0,
          1
         ],
         "range": [
          0,
          3.1578947368421053
         ],
         "title": {
          "text": "Frequency"
         }
        }
       }
      },
      "image/png": "[encoded data removed]",
      "text/html": [
       "<div>                            <div id=\"d6fcca9d-2475-4144-92a9-29dc87c25251\" class=\"plotly-graph-div\" style=\"height:300px; width:600px;\"></div>            <script type=\"text/javascript\">                require([\"plotly\"], function(Plotly) {                    window.PLOTLYENV=window.PLOTLYENV || {};                                    if (document.getElementById(\"d6fcca9d-2475-4144-92a9-29dc87c25251\")) {                    Plotly.newPlot(                        \"d6fcca9d-2475-4144-92a9-29dc87c25251\",                        [{\"alignmentgroup\":\"True\",\"bingroup\":\"x\",\"hovertemplate\":\"variable=TOPIC<br>value=%{x}<br>count=%{y}<extra></extra>\",\"legendgroup\":\"TOPIC\",\"marker\":{\"color\":\"#E53935\",\"pattern\":{\"shape\":\"\"}},\"name\":\"TOPIC\",\"nbinsx\":10,\"offsetgroup\":\"TOPIC\",\"orientation\":\"v\",\"showlegend\":true,\"x\":[621,197,114,100,27],\"xaxis\":\"x\",\"yaxis\":\"y\",\"type\":\"histogram\"}],                        {\"template\":{\"data\":{\"histogram2dcontour\":[{\"type\":\"histogram2dcontour\",\"colorbar\":{\"outlinewidth\":0,\"ticks\":\"\"},\"colorscale\":[[0.0,\"#0d0887\"],[0.1111111111111111,\"#46039f\"],[0.2222222222222222,\"#7201a8\"],[0.3333333333333333,\"#9c179e\"],[0.4444444444444444,\"#bd3786\"],[0.5555555555555556,\"#d8576b\"],[0.6666666666666666,\"#ed7953\"],[0.7777777777777778,\"#fb9f3a\"],[0.8888888888888888,\"#fdca26\"],[1.0,\"#f0f921\"]]}],\"choropleth\":[{\"type\":\"choropleth\",\"colorbar\":{\"outlinewidth\":0,\"ticks\":\"\"}}],\"histogram2d\":[{\"type\":\"histogram2d\",\"colorbar\":{\"outlinewidth\":0,\"ticks\":\"\"},\"colorscale\":[[0.0,\"#0d0887\"],[0.1111111111111111,\"#46039f\"],[0.2222222222222222,\"#7201a8\"],[0.3333333333333333,\"#9c179e\"],[0.4444444444444444,\"#bd3786\"],[0.5555555555555556,\"#d8576b\"],[0.6666666666666666,\"#ed7953\"],[0.7777777777777778,\"#fb9f3a\"],[0.8888888888888888,\"#fdca26\"],[1.0,\"#f0f921\"]]}],\"heatmap\":[{\"type\":\"heatmap\",\"colorbar\":{\"outlinewidth\":0,\"ticks\":\"\"},\"colorscale\":[[0.0,\"#0d0887\"],[0.1111111111111111,\"#46039f\"],[0.2222222222222222,\"#7201a8\"],[0.3333333333333333,\"#9c179e\"],[0.4444444444444444,\"#bd3786\"],[0.5555555555555556,\"#d8576b\"],[0.6666666666666666,\"#ed7953\"],[0.7777777777777778,\"#fb9f3a\"],[0.8888888888888888,\"#fdca26\"],[1.0,\"#f0f921\"]]}],\"heatmapgl\":[{\"type\":\"heatmapgl\",\"colorbar\":{\"outlinewidth\":0,\"ticks\":\"\"},\"colorscale\":[[0.0,\"#0d0887\"],[0.1111111111111111,\"#46039f\"],[0.2222222222222222,\"#7201a8\"],[0.3333333333333333,\"#9c179e\"],[0.4444444444444444,\"#bd3786\"],[0.5555555555555556,\"#d8576b\"],[0.6666666666666666,\"#ed7953\"],[0.7777777777777778,\"#fb9f3a\"],[0.8888888888888888,\"#fdca26\"],[1.0,\"#f0f921\"]]}],\"contourcarpet\":[{\"type\":\"contourcarpet\",\"colorbar\":{\"outlinewidth\":0,\"ticks\":\"\"}}],\"contour\":[{\"type\":\"contour\",\"colorbar\":{\"outlinewidth\":0,\"ticks\":\"\"},\"colorscale\":[[0.0,\"#0d0887\"],[0.1111111111111111,\"#46039f\"],[0.2222222222222222,\"#7201a8\"],[0.3333333333333333,\"#9c179e\"],[0.4444444444444444,\"#bd3786\"],[0.5555555555555556,\"#d8576b\"],[0.6666666666666666,\"#ed7953\"],[0.7777777777777778,\"#fb9f3a\"],[0.8888888888888888,\"#fdca26\"],[1.0,\"#f0f921\"]]}],\"surface\":[{\"type\":\"surface\",\"colorbar\":{\"outlinewidth\":0,\"ticks\":\"\"},\"colorscale\":[[0.0,\"#0d0887\"],[0.1111111111111111,\"#46039f\"],[0.2222222222222222,\"#7201a8\"],[0.3333333333333333,\"#9c179e\"],[0.4444444444444444,\"#bd3786\"],[0.5555555555555556,\"#d8576b\"],[0.6666666666666666,\"#ed7953\"],[0.7777777777777778,\"#fb9f3a\"],[0.8888888888888888,\"#fdca26\"],[1.0,\"#f0f921\"]]}],\"mesh3d\":[{\"type\":\"mesh3d\",\"colorbar\":{\"outlinewidth\":0,\"ticks\":\"\"}}],\"scatter\":[{\"fillpattern\":{\"fillmode\":\"overlay\",\"size\":10,\"solidity\":0.2},\"type\":\"scatter\"}],\"parcoords\":[{\"type\":\"parcoords\",\"line\":{\"colorbar\":{\"outlinewidth\":0,\"ticks\":\"\"}}}],\"scatterpolargl\":[{\"type\":\"scatterpolargl\",\"marker\":{\"colorbar\":{\"outlinewidth\":0,\"ticks\":\"\"}}}],\"bar\":[{\"error_x\":{\"color\":\"#2a3f5f\"},\"error_y\":{\"color\":\"#2a3f5f\"},\"marker\":{\"line\":{\"color\":\"#E5ECF6\",\"width\":0.5},\"pattern\":{\"fillmode\":\"overlay\",\"size\":10,\"solidity\":0.2}},\"type\":\"bar\"}],\"scattergeo\":[{\"type\":\"scattergeo\",\"marker\":{\"colorbar\":{\"outlinewidth\":0,\"ticks\":\"\"}}}],\"scatterpolar\":[{\"type\":\"scatterpolar\",\"marker\":{\"colorbar\":{\"outlinewidth\":0,\"ticks\":\"\"}}}],\"histogram\":[{\"marker\":{\"pattern\":{\"fillmode\":\"overlay\",\"size\":10,\"solidity\":0.2}},\"type\":\"histogram\"}],\"scattergl\":[{\"type\":\"scattergl\",\"marker\":{\"colorbar\":{\"outlinewidth\":0,\"ticks\":\"\"}}}],\"scatter3d\":[{\"type\":\"scatter3d\",\"line\":{\"colorbar\":{\"outlinewidth\":0,\"ticks\":\"\"}},\"marker\":{\"colorbar\":{\"outlinewidth\":0,\"ticks\":\"\"}}}],\"scattermapbox\":[{\"type\":\"scattermapbox\",\"marker\":{\"colorbar\":{\"outlinewidth\":0,\"ticks\":\"\"}}}],\"scatterternary\":[{\"type\":\"scatterternary\",\"marker\":{\"colorbar\":{\"outlinewidth\":0,\"ticks\":\"\"}}}],\"scattercarpet\":[{\"type\":\"scattercarpet\",\"marker\":{\"colorbar\":{\"outlinewidth\":0,\"ticks\":\"\"}}}],\"carpet\":[{\"aaxis\":{\"endlinecolor\":\"#2a3f5f\",\"gridcolor\":\"white\",\"linecolor\":\"white\",\"minorgridcolor\":\"white\",\"startlinecolor\":\"#2a3f5f\"},\"baxis\":{\"endlinecolor\":\"#2a3f5f\",\"gridcolor\":\"white\",\"linecolor\":\"white\",\"minorgridcolor\":\"white\",\"startlinecolor\":\"#2a3f5f\"},\"type\":\"carpet\"}],\"table\":[{\"cells\":{\"fill\":{\"color\":\"#EBF0F8\"},\"line\":{\"color\":\"white\"}},\"header\":{\"fill\":{\"color\":\"#C8D4E3\"},\"line\":{\"color\":\"white\"}},\"type\":\"table\"}],\"barpolar\":[{\"marker\":{\"line\":{\"color\":\"#E5ECF6\",\"width\":0.5},\"pattern\":{\"fillmode\":\"overlay\",\"size\":10,\"solidity\":0.2}},\"type\":\"barpolar\"}],\"pie\":[{\"automargin\":true,\"type\":\"pie\"}]},\"layout\":{\"autotypenumbers\":\"strict\",\"colorway\":[\"#636efa\",\"#EF553B\",\"#00cc96\",\"#ab63fa\",\"#FFA15A\",\"#19d3f3\",\"#FF6692\",\"#B6E880\",\"#FF97FF\",\"#FECB52\"],\"font\":{\"color\":\"#2a3f5f\"},\"hovermode\":\"closest\",\"hoverlabel\":{\"align\":\"left\"},\"paper_bgcolor\":\"white\",\"plot_bgcolor\":\"#E5ECF6\",\"polar\":{\"bgcolor\":\"#E5ECF6\",\"angularaxis\":{\"gridcolor\":\"white\",\"linecolor\":\"white\",\"ticks\":\"\"},\"radialaxis\":{\"gridcolor\":\"white\",\"linecolor\":\"white\",\"ticks\":\"\"}},\"ternary\":{\"bgcolor\":\"#E5ECF6\",\"aaxis\":{\"gridcolor\":\"white\",\"linecolor\":\"white\",\"ticks\":\"\"},\"baxis\":{\"gridcolor\":\"white\",\"linecolor\":\"white\",\"ticks\":\"\"},\"caxis\":{\"gridcolor\":\"white\",\"linecolor\":\"white\",\"ticks\":\"\"}},\"coloraxis\":{\"colorbar\":{\"outlinewidth\":0,\"ticks\":\"\"}},\"colorscale\":{\"sequential\":[[0.0,\"#0d0887\"],[0.1111111111111111,\"#46039f\"],[0.2222222222222222,\"#7201a8\"],[0.3333333333333333,\"#9c179e\"],[0.4444444444444444,\"#bd3786\"],[0.5555555555555556,\"#d8576b\"],[0.6666666666666666,\"#ed7953\"],[0.7777777777777778,\"#fb9f3a\"],[0.8888888888888888,\"#fdca26\"],[1.0,\"#f0f921\"]],\"sequentialminus\":[[0.0,\"#0d0887\"],[0.1111111111111111,\"#46039f\"],[0.2222222222222222,\"#7201a8\"],[0.3333333333333333,\"#9c179e\"],[0.4444444444444444,\"#bd3786\"],[0.5555555555555556,\"#d8576b\"],[0.6666666666666666,\"#ed7953\"],[0.7777777777777778,\"#fb9f3a\"],[0.8888888888888888,\"#fdca26\"],[1.0,\"#f0f921\"]],\"diverging\":[[0,\"#8e0152\"],[0.1,\"#c51b7d\"],[0.2,\"#de77ae\"],[0.3,\"#f1b6da\"],[0.4,\"#fde0ef\"],[0.5,\"#f7f7f7\"],[0.6,\"#e6f5d0\"],[0.7,\"#b8e186\"],[0.8,\"#7fbc41\"],[0.9,\"#4d9221\"],[1,\"#276419\"]]},\"xaxis\":{\"gridcolor\":\"white\",\"linecolor\":\"white\",\"ticks\":\"\",\"title\":{\"standoff\":15},\"zerolinecolor\":\"white\",\"automargin\":true,\"zerolinewidth\":2},\"yaxis\":{\"gridcolor\":\"white\",\"linecolor\":\"white\",\"ticks\":\"\",\"title\":{\"standoff\":15},\"zerolinecolor\":\"white\",\"automargin\":true,\"zerolinewidth\":2},\"scene\":{\"xaxis\":{\"backgroundcolor\":\"#E5ECF6\",\"gridcolor\":\"white\",\"linecolor\":\"white\",\"showbackground\":true,\"ticks\":\"\",\"zerolinecolor\":\"white\",\"gridwidth\":2},\"yaxis\":{\"backgroundcolor\":\"#E5ECF6\",\"gridcolor\":\"white\",\"linecolor\":\"white\",\"showbackground\":true,\"ticks\":\"\",\"zerolinecolor\":\"white\",\"gridwidth\":2},\"zaxis\":{\"backgroundcolor\":\"#E5ECF6\",\"gridcolor\":\"white\",\"linecolor\":\"white\",\"showbackground\":true,\"ticks\":\"\",\"zerolinecolor\":\"white\",\"gridwidth\":2}},\"shapedefaults\":{\"line\":{\"color\":\"#2a3f5f\"}},\"annotationdefaults\":{\"arrowcolor\":\"#2a3f5f\",\"arrowhead\":0,\"arrowwidth\":1},\"geo\":{\"bgcolor\":\"white\",\"landcolor\":\"#E5ECF6\",\"subunitcolor\":\"white\",\"showland\":true,\"showlakes\":true,\"lakecolor\":\"white\"},\"title\":{\"x\":0.05},\"mapbox\":{\"style\":\"light\"}}},\"xaxis\":{\"anchor\":\"y\",\"domain\":[0.0,1.0],\"title\":{\"text\":\"Topic document count\"}},\"yaxis\":{\"anchor\":\"x\",\"domain\":[0.0,1.0],\"title\":{\"text\":\"Frequency\"}},\"legend\":{\"title\":{\"text\":\"variable\"},\"tracegroupgap\":0},\"margin\":{\"t\":60},\"barmode\":\"relative\",\"height\":300,\"width\":600,\"showlegend\":false},                        {\"responsive\": true}                    ).then(function(){\n",
       "                            \n",
       "var gd = document.getElementById('d6fcca9d-2475-4144-92a9-29dc87c25251');\n",
       "var x = new MutationObserver(function (mutations, observer) {{\n",
       "        var display = window.getComputedStyle(gd).display;\n",
       "        if (!display || display === 'none') {{\n",
       "            console.log([gd, 'removed!']);\n",
       "            Plotly.purge(gd);\n",
       "            observer.disconnect();\n",
       "        }}\n",
       "}});\n",
       "\n",
       "// Listen for the removal of the full notebook cells\n",
       "var notebookContainer = gd.closest('#notebook-container');\n",
       "if (notebookContainer) {{\n",
       "    x.observe(notebookContainer, {childList: true});\n",
       "}}\n",
       "\n",
       "// Listen for the clearing of the current output cell\n",
       "var outputEl = gd.closest('.output');\n",
       "if (outputEl) {{\n",
       "    x.observe(outputEl, {childList: true});\n",
       "}}\n",
       "\n",
       "                        })                };                });            </script>        </div>"
      ]
     },
     "metadata": {},
     "output_type": "display_data"
    },
    {
     "name": "stdout",
     "output_type": "stream",
     "text": [
      "[4, 0, 3, 1, 2]\n"
     ]
    },
    {
     "data": {
      "text/html": [
       "<div>\n",
       "<style scoped>\n",
       "    .dataframe tbody tr th:only-of-type {\n",
       "        vertical-align: middle;\n",
       "    }\n",
       "\n",
       "    .dataframe tbody tr th {\n",
       "        vertical-align: top;\n",
       "    }\n",
       "\n",
       "    .dataframe thead th {\n",
       "        text-align: right;\n",
       "    }\n",
       "</style>\n",
       "<table border=\"1\" class=\"dataframe\">\n",
       "  <thead>\n",
       "    <tr style=\"text-align: right;\">\n",
       "      <th></th>\n",
       "      <th>topic4</th>\n",
       "      <th>topic0</th>\n",
       "      <th>topic3</th>\n",
       "      <th>topic1</th>\n",
       "      <th>topic2</th>\n",
       "    </tr>\n",
       "  </thead>\n",
       "  <tbody>\n",
       "    <tr>\n",
       "      <th>0</th>\n",
       "      <td>use</td>\n",
       "      <td>test</td>\n",
       "      <td>api</td>\n",
       "      <td>use</td>\n",
       "      <td>support</td>\n",
       "    </tr>\n",
       "    <tr>\n",
       "      <th>1</th>\n",
       "      <td>gem</td>\n",
       "      <td>use</td>\n",
       "      <td>client</td>\n",
       "      <td>library</td>\n",
       "      <td>library</td>\n",
       "    </tr>\n",
       "    <tr>\n",
       "      <th>2</th>\n",
       "      <td>rail</td>\n",
       "      <td>code</td>\n",
       "      <td>library</td>\n",
       "      <td>gem</td>\n",
       "      <td>officially</td>\n",
       "    </tr>\n",
       "    <tr>\n",
       "      <th>3</th>\n",
       "      <td>project</td>\n",
       "      <td>file</td>\n",
       "      <td>service</td>\n",
       "      <td>provide</td>\n",
       "      <td>following</td>\n",
       "    </tr>\n",
       "    <tr>\n",
       "      <th>4</th>\n",
       "      <td>support</td>\n",
       "      <td>tool</td>\n",
       "      <td>support</td>\n",
       "      <td>model</td>\n",
       "      <td>project</td>\n",
       "    </tr>\n",
       "    <tr>\n",
       "      <th>5</th>\n",
       "      <td>make</td>\n",
       "      <td>run</td>\n",
       "      <td>gem</td>\n",
       "      <td>object</td>\n",
       "      <td>please</td>\n",
       "    </tr>\n",
       "    <tr>\n",
       "      <th>6</th>\n",
       "      <td>add</td>\n",
       "      <td>create</td>\n",
       "      <td>request</td>\n",
       "      <td>file</td>\n",
       "      <td>use</td>\n",
       "    </tr>\n",
       "    <tr>\n",
       "      <th>7</th>\n",
       "      <td>provide</td>\n",
       "      <td>simple</td>\n",
       "      <td>web</td>\n",
       "      <td>generate</td>\n",
       "      <td>base</td>\n",
       "    </tr>\n",
       "    <tr>\n",
       "      <th>8</th>\n",
       "      <td>need</td>\n",
       "      <td>write</td>\n",
       "      <td>provide</td>\n",
       "      <td>simple</td>\n",
       "      <td>framework</td>\n",
       "    </tr>\n",
       "    <tr>\n",
       "      <th>9</th>\n",
       "      <td>code</td>\n",
       "      <td>command</td>\n",
       "      <td>official</td>\n",
       "      <td>user</td>\n",
       "      <td>feature</td>\n",
       "    </tr>\n",
       "  </tbody>\n",
       "</table>\n",
       "</div>"
      ],
      "text/plain": [
       "    topic4   topic0    topic3    topic1      topic2\n",
       "0      use     test       api       use     support\n",
       "1      gem      use    client   library     library\n",
       "2     rail     code   library       gem  officially\n",
       "3  project     file   service   provide   following\n",
       "4  support     tool   support     model     project\n",
       "5     make      run       gem    object      please\n",
       "6      add   create   request      file         use\n",
       "7  provide   simple       web  generate        base\n",
       "8     need    write   provide    simple   framework\n",
       "9     code  command  official      user     feature"
      ]
     },
     "metadata": {},
     "output_type": "display_data"
    },
    {
     "name": "stdout",
     "output_type": "stream",
     "text": [
      "Document counts by topic and some examples:\n",
      "Topic 4: 621 repos\n"
     ]
    },
    {
     "data": {
      "application/vnd.plotly.v1+json": {
       "config": {
        "plotlyServerURL": "https://plot.ly"
       },
       "data": [
        {
         "alignmentgroup": "True",
         "hovertemplate": "Relevance=%{x}<br>Term=%{y}<extra></extra>",
         "legendgroup": "",
         "marker": {
          "color": "#E53935",
          "pattern": {
           "shape": ""
          }
         },
         "name": "",
         "offsetgroup": "",
         "orientation": "h",
         "showlegend": false,
         "textposition": "auto",
         "type": "bar",
         "x": [
          0.41490864463497995,
          0.4112140058312038,
          0.40680276852947983,
          0.4052558546580012,
          0.32214417922670463,
          0.3200635129733015,
          0.28267505407257554,
          0.26900707985443895,
          0.2611648808019026,
          0.2535972958683254
         ],
         "xaxis": "x",
         "y": [
          "need",
          "get",
          "want",
          "extension",
          "make",
          "repository",
          "add",
          "rail",
          "work",
          "app"
         ],
         "yaxis": "y"
        }
       ],
       "layout": {
        "barmode": "relative",
        "height": 500,
        "legend": {
         "tracegroupgap": 0
        },
        "margin": {
         "t": 60
        },
        "template": {
         "data": {
          "bar": [
           {
            "error_x": {
             "color": "#2a3f5f"
            },
            "error_y": {
             "color": "#2a3f5f"
            },
            "marker": {
             "line": {
              "color": "#E5ECF6",
              "width": 0.5
             },
             "pattern": {
              "fillmode": "overlay",
              "size": 10,
              "solidity": 0.2
             }
            },
            "type": "bar"
           }
          ],
          "barpolar": [
           {
            "marker": {
             "line": {
              "color": "#E5ECF6",
              "width": 0.5
             },
             "pattern": {
              "fillmode": "overlay",
              "size": 10,
              "solidity": 0.2
             }
            },
            "type": "barpolar"
           }
          ],
          "carpet": [
           {
            "aaxis": {
             "endlinecolor": "#2a3f5f",
             "gridcolor": "white",
             "linecolor": "white",
             "minorgridcolor": "white",
             "startlinecolor": "#2a3f5f"
            },
            "baxis": {
             "endlinecolor": "#2a3f5f",
             "gridcolor": "white",
             "linecolor": "white",
             "minorgridcolor": "white",
             "startlinecolor": "#2a3f5f"
            },
            "type": "carpet"
           }
          ],
          "choropleth": [
           {
            "colorbar": {
             "outlinewidth": 0,
             "ticks": ""
            },
            "type": "choropleth"
           }
          ],
          "contour": [
           {
            "colorbar": {
             "outlinewidth": 0,
             "ticks": ""
            },
            "colorscale": [
             [
              0,
              "#0d0887"
             ],
             [
              0.1111111111111111,
              "#46039f"
             ],
             [
              0.2222222222222222,
              "#7201a8"
             ],
             [
              0.3333333333333333,
              "#9c179e"
             ],
             [
              0.4444444444444444,
              "#bd3786"
             ],
             [
              0.5555555555555556,
              "#d8576b"
             ],
             [
              0.6666666666666666,
              "#ed7953"
             ],
             [
              0.7777777777777778,
              "#fb9f3a"
             ],
             [
              0.8888888888888888,
              "#fdca26"
             ],
             [
              1,
              "#f0f921"
             ]
            ],
            "type": "contour"
           }
          ],
          "contourcarpet": [
           {
            "colorbar": {
             "outlinewidth": 0,
             "ticks": ""
            },
            "type": "contourcarpet"
           }
          ],
          "heatmap": [
           {
            "colorbar": {
             "outlinewidth": 0,
             "ticks": ""
            },
            "colorscale": [
             [
              0,
              "#0d0887"
             ],
             [
              0.1111111111111111,
              "#46039f"
             ],
             [
              0.2222222222222222,
              "#7201a8"
             ],
             [
              0.3333333333333333,
              "#9c179e"
             ],
             [
              0.4444444444444444,
              "#bd3786"
             ],
             [
              0.5555555555555556,
              "#d8576b"
             ],
             [
              0.6666666666666666,
              "#ed7953"
             ],
             [
              0.7777777777777778,
              "#fb9f3a"
             ],
             [
              0.8888888888888888,
              "#fdca26"
             ],
             [
              1,
              "#f0f921"
             ]
            ],
            "type": "heatmap"
           }
          ],
          "heatmapgl": [
           {
            "colorbar": {
             "outlinewidth": 0,
             "ticks": ""
            },
            "colorscale": [
             [
              0,
              "#0d0887"
             ],
             [
              0.1111111111111111,
              "#46039f"
             ],
             [
              0.2222222222222222,
              "#7201a8"
             ],
             [
              0.3333333333333333,
              "#9c179e"
             ],
             [
              0.4444444444444444,
              "#bd3786"
             ],
             [
              0.5555555555555556,
              "#d8576b"
             ],
             [
              0.6666666666666666,
              "#ed7953"
             ],
             [
              0.7777777777777778,
              "#fb9f3a"
             ],
             [
              0.8888888888888888,
              "#fdca26"
             ],
             [
              1,
              "#f0f921"
             ]
            ],
            "type": "heatmapgl"
           }
          ],
          "histogram": [
           {
            "marker": {
             "pattern": {
              "fillmode": "overlay",
              "size": 10,
              "solidity": 0.2
             }
            },
            "type": "histogram"
           }
          ],
          "histogram2d": [
           {
            "colorbar": {
             "outlinewidth": 0,
             "ticks": ""
            },
            "colorscale": [
             [
              0,
              "#0d0887"
             ],
             [
              0.1111111111111111,
              "#46039f"
             ],
             [
              0.2222222222222222,
              "#7201a8"
             ],
             [
              0.3333333333333333,
              "#9c179e"
             ],
             [
              0.4444444444444444,
              "#bd3786"
             ],
             [
              0.5555555555555556,
              "#d8576b"
             ],
             [
              0.6666666666666666,
              "#ed7953"
             ],
             [
              0.7777777777777778,
              "#fb9f3a"
             ],
             [
              0.8888888888888888,
              "#fdca26"
             ],
             [
              1,
              "#f0f921"
             ]
            ],
            "type": "histogram2d"
           }
          ],
          "histogram2dcontour": [
           {
            "colorbar": {
             "outlinewidth": 0,
             "ticks": ""
            },
            "colorscale": [
             [
              0,
              "#0d0887"
             ],
             [
              0.1111111111111111,
              "#46039f"
             ],
             [
              0.2222222222222222,
              "#7201a8"
             ],
             [
              0.3333333333333333,
              "#9c179e"
             ],
             [
              0.4444444444444444,
              "#bd3786"
             ],
             [
              0.5555555555555556,
              "#d8576b"
             ],
             [
              0.6666666666666666,
              "#ed7953"
             ],
             [
              0.7777777777777778,
              "#fb9f3a"
             ],
             [
              0.8888888888888888,
              "#fdca26"
             ],
             [
              1,
              "#f0f921"
             ]
            ],
            "type": "histogram2dcontour"
           }
          ],
          "mesh3d": [
           {
            "colorbar": {
             "outlinewidth": 0,
             "ticks": ""
            },
            "type": "mesh3d"
           }
          ],
          "parcoords": [
           {
            "line": {
             "colorbar": {
              "outlinewidth": 0,
              "ticks": ""
             }
            },
            "type": "parcoords"
           }
          ],
          "pie": [
           {
            "automargin": true,
            "type": "pie"
           }
          ],
          "scatter": [
           {
            "fillpattern": {
             "fillmode": "overlay",
             "size": 10,
             "solidity": 0.2
            },
            "type": "scatter"
           }
          ],
          "scatter3d": [
           {
            "line": {
             "colorbar": {
              "outlinewidth": 0,
              "ticks": ""
             }
            },
            "marker": {
             "colorbar": {
              "outlinewidth": 0,
              "ticks": ""
             }
            },
            "type": "scatter3d"
           }
          ],
          "scattercarpet": [
           {
            "marker": {
             "colorbar": {
              "outlinewidth": 0,
              "ticks": ""
             }
            },
            "type": "scattercarpet"
           }
          ],
          "scattergeo": [
           {
            "marker": {
             "colorbar": {
              "outlinewidth": 0,
              "ticks": ""
             }
            },
            "type": "scattergeo"
           }
          ],
          "scattergl": [
           {
            "marker": {
             "colorbar": {
              "outlinewidth": 0,
              "ticks": ""
             }
            },
            "type": "scattergl"
           }
          ],
          "scattermapbox": [
           {
            "marker": {
             "colorbar": {
              "outlinewidth": 0,
              "ticks": ""
             }
            },
            "type": "scattermapbox"
           }
          ],
          "scatterpolar": [
           {
            "marker": {
             "colorbar": {
              "outlinewidth": 0,
              "ticks": ""
             }
            },
            "type": "scatterpolar"
           }
          ],
          "scatterpolargl": [
           {
            "marker": {
             "colorbar": {
              "outlinewidth": 0,
              "ticks": ""
             }
            },
            "type": "scatterpolargl"
           }
          ],
          "scatterternary": [
           {
            "marker": {
             "colorbar": {
              "outlinewidth": 0,
              "ticks": ""
             }
            },
            "type": "scatterternary"
           }
          ],
          "surface": [
           {
            "colorbar": {
             "outlinewidth": 0,
             "ticks": ""
            },
            "colorscale": [
             [
              0,
              "#0d0887"
             ],
             [
              0.1111111111111111,
              "#46039f"
             ],
             [
              0.2222222222222222,
              "#7201a8"
             ],
             [
              0.3333333333333333,
              "#9c179e"
             ],
             [
              0.4444444444444444,
              "#bd3786"
             ],
             [
              0.5555555555555556,
              "#d8576b"
             ],
             [
              0.6666666666666666,
              "#ed7953"
             ],
             [
              0.7777777777777778,
              "#fb9f3a"
             ],
             [
              0.8888888888888888,
              "#fdca26"
             ],
             [
              1,
              "#f0f921"
             ]
            ],
            "type": "surface"
           }
          ],
          "table": [
           {
            "cells": {
             "fill": {
              "color": "#EBF0F8"
             },
             "line": {
              "color": "white"
             }
            },
            "header": {
             "fill": {
              "color": "#C8D4E3"
             },
             "line": {
              "color": "white"
             }
            },
            "type": "table"
           }
          ]
         },
         "layout": {
          "annotationdefaults": {
           "arrowcolor": "#2a3f5f",
           "arrowhead": 0,
           "arrowwidth": 1
          },
          "autotypenumbers": "strict",
          "coloraxis": {
           "colorbar": {
            "outlinewidth": 0,
            "ticks": ""
           }
          },
          "colorscale": {
           "diverging": [
            [
             0,
             "#8e0152"
            ],
            [
             0.1,
             "#c51b7d"
            ],
            [
             0.2,
             "#de77ae"
            ],
            [
             0.3,
             "#f1b6da"
            ],
            [
             0.4,
             "#fde0ef"
            ],
            [
             0.5,
             "#f7f7f7"
            ],
            [
             0.6,
             "#e6f5d0"
            ],
            [
             0.7,
             "#b8e186"
            ],
            [
             0.8,
             "#7fbc41"
            ],
            [
             0.9,
             "#4d9221"
            ],
            [
             1,
             "#276419"
            ]
           ],
           "sequential": [
            [
             0,
             "#0d0887"
            ],
            [
             0.1111111111111111,
             "#46039f"
            ],
            [
             0.2222222222222222,
             "#7201a8"
            ],
            [
             0.3333333333333333,
             "#9c179e"
            ],
            [
             0.4444444444444444,
             "#bd3786"
            ],
            [
             0.5555555555555556,
             "#d8576b"
            ],
            [
             0.6666666666666666,
             "#ed7953"
            ],
            [
             0.7777777777777778,
             "#fb9f3a"
            ],
            [
             0.8888888888888888,
             "#fdca26"
            ],
            [
             1,
             "#f0f921"
            ]
           ],
           "sequentialminus": [
            [
             0,
             "#0d0887"
            ],
            [
             0.1111111111111111,
             "#46039f"
            ],
            [
             0.2222222222222222,
             "#7201a8"
            ],
            [
             0.3333333333333333,
             "#9c179e"
            ],
            [
             0.4444444444444444,
             "#bd3786"
            ],
            [
             0.5555555555555556,
             "#d8576b"
            ],
            [
             0.6666666666666666,
             "#ed7953"
            ],
            [
             0.7777777777777778,
             "#fb9f3a"
            ],
            [
             0.8888888888888888,
             "#fdca26"
            ],
            [
             1,
             "#f0f921"
            ]
           ]
          },
          "colorway": [
           "#636efa",
           "#EF553B",
           "#00cc96",
           "#ab63fa",
           "#FFA15A",
           "#19d3f3",
           "#FF6692",
           "#B6E880",
           "#FF97FF",
           "#FECB52"
          ],
          "font": {
           "color": "#2a3f5f"
          },
          "geo": {
           "bgcolor": "white",
           "lakecolor": "white",
           "landcolor": "#E5ECF6",
           "showlakes": true,
           "showland": true,
           "subunitcolor": "white"
          },
          "hoverlabel": {
           "align": "left"
          },
          "hovermode": "closest",
          "mapbox": {
           "style": "light"
          },
          "paper_bgcolor": "white",
          "plot_bgcolor": "#E5ECF6",
          "polar": {
           "angularaxis": {
            "gridcolor": "white",
            "linecolor": "white",
            "ticks": ""
           },
           "bgcolor": "#E5ECF6",
           "radialaxis": {
            "gridcolor": "white",
            "linecolor": "white",
            "ticks": ""
           }
          },
          "scene": {
           "xaxis": {
            "backgroundcolor": "#E5ECF6",
            "gridcolor": "white",
            "gridwidth": 2,
            "linecolor": "white",
            "showbackground": true,
            "ticks": "",
            "zerolinecolor": "white"
           },
           "yaxis": {
            "backgroundcolor": "#E5ECF6",
            "gridcolor": "white",
            "gridwidth": 2,
            "linecolor": "white",
            "showbackground": true,
            "ticks": "",
            "zerolinecolor": "white"
           },
           "zaxis": {
            "backgroundcolor": "#E5ECF6",
            "gridcolor": "white",
            "gridwidth": 2,
            "linecolor": "white",
            "showbackground": true,
            "ticks": "",
            "zerolinecolor": "white"
           }
          },
          "shapedefaults": {
           "line": {
            "color": "#2a3f5f"
           }
          },
          "ternary": {
           "aaxis": {
            "gridcolor": "white",
            "linecolor": "white",
            "ticks": ""
           },
           "baxis": {
            "gridcolor": "white",
            "linecolor": "white",
            "ticks": ""
           },
           "bgcolor": "#E5ECF6",
           "caxis": {
            "gridcolor": "white",
            "linecolor": "white",
            "ticks": ""
           }
          },
          "title": {
           "x": 0.05
          },
          "xaxis": {
           "automargin": true,
           "gridcolor": "white",
           "linecolor": "white",
           "ticks": "",
           "title": {
            "standoff": 15
           },
           "zerolinecolor": "white",
           "zerolinewidth": 2
          },
          "yaxis": {
           "automargin": true,
           "gridcolor": "white",
           "linecolor": "white",
           "ticks": "",
           "title": {
            "standoff": 15
           },
           "zerolinecolor": "white",
           "zerolinewidth": 2
          }
         }
        },
        "width": 500,
        "xaxis": {
         "anchor": "y",
         "autorange": true,
         "domain": [
          0,
          1
         ],
         "range": [
          0,
          0.43674594172103154
         ],
         "title": {
          "text": "Relevance"
         },
         "type": "linear"
        },
        "yaxis": {
         "anchor": "x",
         "autorange": true,
         "domain": [
          0,
          1
         ],
         "range": [
          9.5,
          -0.5
         ],
         "title": {
          "text": "Term"
         },
         "type": "category"
        }
       }
      },
      "image/png": "[encoded data removed]",
      "text/html": [
       "<div>                            <div id=\"c546afc2-21e7-4121-a9d6-196caca5c7e7\" class=\"plotly-graph-div\" style=\"height:500px; width:500px;\"></div>            <script type=\"text/javascript\">                require([\"plotly\"], function(Plotly) {                    window.PLOTLYENV=window.PLOTLYENV || {};                                    if (document.getElementById(\"c546afc2-21e7-4121-a9d6-196caca5c7e7\")) {                    Plotly.newPlot(                        \"c546afc2-21e7-4121-a9d6-196caca5c7e7\",                        [{\"alignmentgroup\":\"True\",\"hovertemplate\":\"Relevance=%{x}<br>Term=%{y}<extra></extra>\",\"legendgroup\":\"\",\"marker\":{\"color\":\"#E53935\",\"pattern\":{\"shape\":\"\"}},\"name\":\"\",\"offsetgroup\":\"\",\"orientation\":\"h\",\"showlegend\":false,\"textposition\":\"auto\",\"x\":[0.41490864463497995,0.4112140058312038,0.40680276852947983,0.4052558546580012,0.32214417922670463,0.3200635129733015,0.28267505407257554,0.26900707985443895,0.2611648808019026,0.2535972958683254],\"xaxis\":\"x\",\"y\":[\"need\",\"get\",\"want\",\"extension\",\"make\",\"repository\",\"add\",\"rail\",\"work\",\"app\"],\"yaxis\":\"y\",\"type\":\"bar\"}],                        {\"template\":{\"data\":{\"histogram2dcontour\":[{\"type\":\"histogram2dcontour\",\"colorbar\":{\"outlinewidth\":0,\"ticks\":\"\"},\"colorscale\":[[0.0,\"#0d0887\"],[0.1111111111111111,\"#46039f\"],[0.2222222222222222,\"#7201a8\"],[0.3333333333333333,\"#9c179e\"],[0.4444444444444444,\"#bd3786\"],[0.5555555555555556,\"#d8576b\"],[0.6666666666666666,\"#ed7953\"],[0.7777777777777778,\"#fb9f3a\"],[0.8888888888888888,\"#fdca26\"],[1.0,\"#f0f921\"]]}],\"choropleth\":[{\"type\":\"choropleth\",\"colorbar\":{\"outlinewidth\":0,\"ticks\":\"\"}}],\"histogram2d\":[{\"type\":\"histogram2d\",\"colorbar\":{\"outlinewidth\":0,\"ticks\":\"\"},\"colorscale\":[[0.0,\"#0d0887\"],[0.1111111111111111,\"#46039f\"],[0.2222222222222222,\"#7201a8\"],[0.3333333333333333,\"#9c179e\"],[0.4444444444444444,\"#bd3786\"],[0.5555555555555556,\"#d8576b\"],[0.6666666666666666,\"#ed7953\"],[0.7777777777777778,\"#fb9f3a\"],[0.8888888888888888,\"#fdca26\"],[1.0,\"#f0f921\"]]}],\"heatmap\":[{\"type\":\"heatmap\",\"colorbar\":{\"outlinewidth\":0,\"ticks\":\"\"},\"colorscale\":[[0.0,\"#0d0887\"],[0.1111111111111111,\"#46039f\"],[0.2222222222222222,\"#7201a8\"],[0.3333333333333333,\"#9c179e\"],[0.4444444444444444,\"#bd3786\"],[0.5555555555555556,\"#d8576b\"],[0.6666666666666666,\"#ed7953\"],[0.7777777777777778,\"#fb9f3a\"],[0.8888888888888888,\"#fdca26\"],[1.0,\"#f0f921\"]]}],\"heatmapgl\":[{\"type\":\"heatmapgl\",\"colorbar\":{\"outlinewidth\":0,\"ticks\":\"\"},\"colorscale\":[[0.0,\"#0d0887\"],[0.1111111111111111,\"#46039f\"],[0.2222222222222222,\"#7201a8\"],[0.3333333333333333,\"#9c179e\"],[0.4444444444444444,\"#bd3786\"],[0.5555555555555556,\"#d8576b\"],[0.6666666666666666,\"#ed7953\"],[0.7777777777777778,\"#fb9f3a\"],[0.8888888888888888,\"#fdca26\"],[1.0,\"#f0f921\"]]}],\"contourcarpet\":[{\"type\":\"contourcarpet\",\"colorbar\":{\"outlinewidth\":0,\"ticks\":\"\"}}],\"contour\":[{\"type\":\"contour\",\"colorbar\":{\"outlinewidth\":0,\"ticks\":\"\"},\"colorscale\":[[0.0,\"#0d0887\"],[0.1111111111111111,\"#46039f\"],[0.2222222222222222,\"#7201a8\"],[0.3333333333333333,\"#9c179e\"],[0.4444444444444444,\"#bd3786\"],[0.5555555555555556,\"#d8576b\"],[0.6666666666666666,\"#ed7953\"],[0.7777777777777778,\"#fb9f3a\"],[0.8888888888888888,\"#fdca26\"],[1.0,\"#f0f921\"]]}],\"surface\":[{\"type\":\"surface\",\"colorbar\":{\"outlinewidth\":0,\"ticks\":\"\"},\"colorscale\":[[0.0,\"#0d0887\"],[0.1111111111111111,\"#46039f\"],[0.2222222222222222,\"#7201a8\"],[0.3333333333333333,\"#9c179e\"],[0.4444444444444444,\"#bd3786\"],[0.5555555555555556,\"#d8576b\"],[0.6666666666666666,\"#ed7953\"],[0.7777777777777778,\"#fb9f3a\"],[0.8888888888888888,\"#fdca26\"],[1.0,\"#f0f921\"]]}],\"mesh3d\":[{\"type\":\"mesh3d\",\"colorbar\":{\"outlinewidth\":0,\"ticks\":\"\"}}],\"scatter\":[{\"fillpattern\":{\"fillmode\":\"overlay\",\"size\":10,\"solidity\":0.2},\"type\":\"scatter\"}],\"parcoords\":[{\"type\":\"parcoords\",\"line\":{\"colorbar\":{\"outlinewidth\":0,\"ticks\":\"\"}}}],\"scatterpolargl\":[{\"type\":\"scatterpolargl\",\"marker\":{\"colorbar\":{\"outlinewidth\":0,\"ticks\":\"\"}}}],\"bar\":[{\"error_x\":{\"color\":\"#2a3f5f\"},\"error_y\":{\"color\":\"#2a3f5f\"},\"marker\":{\"line\":{\"color\":\"#E5ECF6\",\"width\":0.5},\"pattern\":{\"fillmode\":\"overlay\",\"size\":10,\"solidity\":0.2}},\"type\":\"bar\"}],\"scattergeo\":[{\"type\":\"scattergeo\",\"marker\":{\"colorbar\":{\"outlinewidth\":0,\"ticks\":\"\"}}}],\"scatterpolar\":[{\"type\":\"scatterpolar\",\"marker\":{\"colorbar\":{\"outlinewidth\":0,\"ticks\":\"\"}}}],\"histogram\":[{\"marker\":{\"pattern\":{\"fillmode\":\"overlay\",\"size\":10,\"solidity\":0.2}},\"type\":\"histogram\"}],\"scattergl\":[{\"type\":\"scattergl\",\"marker\":{\"colorbar\":{\"outlinewidth\":0,\"ticks\":\"\"}}}],\"scatter3d\":[{\"type\":\"scatter3d\",\"line\":{\"colorbar\":{\"outlinewidth\":0,\"ticks\":\"\"}},\"marker\":{\"colorbar\":{\"outlinewidth\":0,\"ticks\":\"\"}}}],\"scattermapbox\":[{\"type\":\"scattermapbox\",\"marker\":{\"colorbar\":{\"outlinewidth\":0,\"ticks\":\"\"}}}],\"scatterternary\":[{\"type\":\"scatterternary\",\"marker\":{\"colorbar\":{\"outlinewidth\":0,\"ticks\":\"\"}}}],\"scattercarpet\":[{\"type\":\"scattercarpet\",\"marker\":{\"colorbar\":{\"outlinewidth\":0,\"ticks\":\"\"}}}],\"carpet\":[{\"aaxis\":{\"endlinecolor\":\"#2a3f5f\",\"gridcolor\":\"white\",\"linecolor\":\"white\",\"minorgridcolor\":\"white\",\"startlinecolor\":\"#2a3f5f\"},\"baxis\":{\"endlinecolor\":\"#2a3f5f\",\"gridcolor\":\"white\",\"linecolor\":\"white\",\"minorgridcolor\":\"white\",\"startlinecolor\":\"#2a3f5f\"},\"type\":\"carpet\"}],\"table\":[{\"cells\":{\"fill\":{\"color\":\"#EBF0F8\"},\"line\":{\"color\":\"white\"}},\"header\":{\"fill\":{\"color\":\"#C8D4E3\"},\"line\":{\"color\":\"white\"}},\"type\":\"table\"}],\"barpolar\":[{\"marker\":{\"line\":{\"color\":\"#E5ECF6\",\"width\":0.5},\"pattern\":{\"fillmode\":\"overlay\",\"size\":10,\"solidity\":0.2}},\"type\":\"barpolar\"}],\"pie\":[{\"automargin\":true,\"type\":\"pie\"}]},\"layout\":{\"autotypenumbers\":\"strict\",\"colorway\":[\"#636efa\",\"#EF553B\",\"#00cc96\",\"#ab63fa\",\"#FFA15A\",\"#19d3f3\",\"#FF6692\",\"#B6E880\",\"#FF97FF\",\"#FECB52\"],\"font\":{\"color\":\"#2a3f5f\"},\"hovermode\":\"closest\",\"hoverlabel\":{\"align\":\"left\"},\"paper_bgcolor\":\"white\",\"plot_bgcolor\":\"#E5ECF6\",\"polar\":{\"bgcolor\":\"#E5ECF6\",\"angularaxis\":{\"gridcolor\":\"white\",\"linecolor\":\"white\",\"ticks\":\"\"},\"radialaxis\":{\"gridcolor\":\"white\",\"linecolor\":\"white\",\"ticks\":\"\"}},\"ternary\":{\"bgcolor\":\"#E5ECF6\",\"aaxis\":{\"gridcolor\":\"white\",\"linecolor\":\"white\",\"ticks\":\"\"},\"baxis\":{\"gridcolor\":\"white\",\"linecolor\":\"white\",\"ticks\":\"\"},\"caxis\":{\"gridcolor\":\"white\",\"linecolor\":\"white\",\"ticks\":\"\"}},\"coloraxis\":{\"colorbar\":{\"outlinewidth\":0,\"ticks\":\"\"}},\"colorscale\":{\"sequential\":[[0.0,\"#0d0887\"],[0.1111111111111111,\"#46039f\"],[0.2222222222222222,\"#7201a8\"],[0.3333333333333333,\"#9c179e\"],[0.4444444444444444,\"#bd3786\"],[0.5555555555555556,\"#d8576b\"],[0.6666666666666666,\"#ed7953\"],[0.7777777777777778,\"#fb9f3a\"],[0.8888888888888888,\"#fdca26\"],[1.0,\"#f0f921\"]],\"sequentialminus\":[[0.0,\"#0d0887\"],[0.1111111111111111,\"#46039f\"],[0.2222222222222222,\"#7201a8\"],[0.3333333333333333,\"#9c179e\"],[0.4444444444444444,\"#bd3786\"],[0.5555555555555556,\"#d8576b\"],[0.6666666666666666,\"#ed7953\"],[0.7777777777777778,\"#fb9f3a\"],[0.8888888888888888,\"#fdca26\"],[1.0,\"#f0f921\"]],\"diverging\":[[0,\"#8e0152\"],[0.1,\"#c51b7d\"],[0.2,\"#de77ae\"],[0.3,\"#f1b6da\"],[0.4,\"#fde0ef\"],[0.5,\"#f7f7f7\"],[0.6,\"#e6f5d0\"],[0.7,\"#b8e186\"],[0.8,\"#7fbc41\"],[0.9,\"#4d9221\"],[1,\"#276419\"]]},\"xaxis\":{\"gridcolor\":\"white\",\"linecolor\":\"white\",\"ticks\":\"\",\"title\":{\"standoff\":15},\"zerolinecolor\":\"white\",\"automargin\":true,\"zerolinewidth\":2},\"yaxis\":{\"gridcolor\":\"white\",\"linecolor\":\"white\",\"ticks\":\"\",\"title\":{\"standoff\":15},\"zerolinecolor\":\"white\",\"automargin\":true,\"zerolinewidth\":2},\"scene\":{\"xaxis\":{\"backgroundcolor\":\"#E5ECF6\",\"gridcolor\":\"white\",\"linecolor\":\"white\",\"showbackground\":true,\"ticks\":\"\",\"zerolinecolor\":\"white\",\"gridwidth\":2},\"yaxis\":{\"backgroundcolor\":\"#E5ECF6\",\"gridcolor\":\"white\",\"linecolor\":\"white\",\"showbackground\":true,\"ticks\":\"\",\"zerolinecolor\":\"white\",\"gridwidth\":2},\"zaxis\":{\"backgroundcolor\":\"#E5ECF6\",\"gridcolor\":\"white\",\"linecolor\":\"white\",\"showbackground\":true,\"ticks\":\"\",\"zerolinecolor\":\"white\",\"gridwidth\":2}},\"shapedefaults\":{\"line\":{\"color\":\"#2a3f5f\"}},\"annotationdefaults\":{\"arrowcolor\":\"#2a3f5f\",\"arrowhead\":0,\"arrowwidth\":1},\"geo\":{\"bgcolor\":\"white\",\"landcolor\":\"#E5ECF6\",\"subunitcolor\":\"white\",\"showland\":true,\"showlakes\":true,\"lakecolor\":\"white\"},\"title\":{\"x\":0.05},\"mapbox\":{\"style\":\"light\"}}},\"xaxis\":{\"anchor\":\"y\",\"domain\":[0.0,1.0],\"title\":{\"text\":\"Relevance\"}},\"yaxis\":{\"anchor\":\"x\",\"domain\":[0.0,1.0],\"title\":{\"text\":\"Term\"},\"autorange\":\"reversed\"},\"legend\":{\"tracegroupgap\":0},\"margin\":{\"t\":60},\"barmode\":\"relative\",\"height\":500,\"width\":500},                        {\"responsive\": true}                    ).then(function(){\n",
       "                            \n",
       "var gd = document.getElementById('c546afc2-21e7-4121-a9d6-196caca5c7e7');\n",
       "var x = new MutationObserver(function (mutations, observer) {{\n",
       "        var display = window.getComputedStyle(gd).display;\n",
       "        if (!display || display === 'none') {{\n",
       "            console.log([gd, 'removed!']);\n",
       "            Plotly.purge(gd);\n",
       "            observer.disconnect();\n",
       "        }}\n",
       "}});\n",
       "\n",
       "// Listen for the removal of the full notebook cells\n",
       "var notebookContainer = gd.closest('#notebook-container');\n",
       "if (notebookContainer) {{\n",
       "    x.observe(notebookContainer, {childList: true});\n",
       "}}\n",
       "\n",
       "// Listen for the clearing of the current output cell\n",
       "var outputEl = gd.closest('.output');\n",
       "if (outputEl) {{\n",
       "    x.observe(outputEl, {childList: true});\n",
       "}}\n",
       "\n",
       "                        })                };                });            </script>        </div>"
      ]
     },
     "metadata": {},
     "output_type": "display_data"
    },
    {
     "name": "stdout",
     "output_type": "stream",
     "text": [
      "Top 10 documents:\n"
     ]
    },
    {
     "data": {
      "text/html": [
       "<div>\n",
       "<style scoped>\n",
       "    .dataframe tbody tr th:only-of-type {\n",
       "        vertical-align: middle;\n",
       "    }\n",
       "\n",
       "    .dataframe tbody tr th {\n",
       "        vertical-align: top;\n",
       "    }\n",
       "\n",
       "    .dataframe thead th {\n",
       "        text-align: right;\n",
       "    }\n",
       "</style>\n",
       "<table border=\"1\" class=\"dataframe\">\n",
       "  <thead>\n",
       "    <tr style=\"text-align: right;\">\n",
       "      <th></th>\n",
       "      <th>OWNER</th>\n",
       "      <th>NAME</th>\n",
       "      <th>CONTEXTS</th>\n",
       "      <th>TEXT_PROCESSED</th>\n",
       "      <th>LENGTH_PROCESSED</th>\n",
       "      <th>TOPIC</th>\n",
       "    </tr>\n",
       "  </thead>\n",
       "  <tbody>\n",
       "    <tr>\n",
       "      <th>20</th>\n",
       "      <td>ahoward</td>\n",
       "      <td>map</td>\n",
       "      <td>[[\"synopsis\", \"awesome\", \"ruby\", \"container\", ...</td>\n",
       "      <td>synopsis awesome ruby container always want st...</td>\n",
       "      <td>13</td>\n",
       "      <td>4</td>\n",
       "    </tr>\n",
       "    <tr>\n",
       "      <th>105</th>\n",
       "      <td>braintree</td>\n",
       "      <td>pg_ha_migrations</td>\n",
       "      <td>[[\"document\", \"learned\", \"best\", \"practice\", \"...</td>\n",
       "      <td>document learned best practice apply schema ch...</td>\n",
       "      <td>30</td>\n",
       "      <td>4</td>\n",
       "    </tr>\n",
       "    <tr>\n",
       "      <th>173</th>\n",
       "      <td>copiousfreetime</td>\n",
       "      <td>amalgalite</td>\n",
       "      <td>[[\"amalgalite\", \"embed\", \"sqlite\", \"database\",...</td>\n",
       "      <td>amalgalite embed sqlite database engine ruby e...</td>\n",
       "      <td>11</td>\n",
       "      <td>4</td>\n",
       "    </tr>\n",
       "    <tr>\n",
       "      <th>411</th>\n",
       "      <td>instructure</td>\n",
       "      <td>switchman</td>\n",
       "      <td>[[\"switchman\", \"activerecord\", \"extension\", \"s...</td>\n",
       "      <td>switchman activerecord extension sharding data...</td>\n",
       "      <td>8</td>\n",
       "      <td>4</td>\n",
       "    </tr>\n",
       "    <tr>\n",
       "      <th>418</th>\n",
       "      <td>ITV</td>\n",
       "      <td>aws-assume-role</td>\n",
       "      <td>[[\"aws-assume-role\", \"utility\", \"intend\", \"dev...</td>\n",
       "      <td>aws-assume-role utility intend developer opera...</td>\n",
       "      <td>14</td>\n",
       "      <td>4</td>\n",
       "    </tr>\n",
       "    <tr>\n",
       "      <th>555</th>\n",
       "      <td>mgomes</td>\n",
       "      <td>api_auth</td>\n",
       "      <td>[[\"logins\", \"password\", \"human\", \"communicatio...</td>\n",
       "      <td>logins password human communication applicatio...</td>\n",
       "      <td>9</td>\n",
       "      <td>4</td>\n",
       "    </tr>\n",
       "    <tr>\n",
       "      <th>567</th>\n",
       "      <td>mirego</td>\n",
       "      <td>activerecord_json_validator</td>\n",
       "      <td>[[\"activerecord\", \"jsonvalidator\", \"make\", \"ea...</td>\n",
       "      <td>activerecord jsonvalidator make easy validate ...</td>\n",
       "      <td>9</td>\n",
       "      <td>4</td>\n",
       "    </tr>\n",
       "    <tr>\n",
       "      <th>588</th>\n",
       "      <td>mruby-esp32</td>\n",
       "      <td>mruby-esp32</td>\n",
       "      <td>[[\"get\", \"start\", \"need\", \"follow\", \"setup\", \"...</td>\n",
       "      <td>get start need follow setup documentation esp-...</td>\n",
       "      <td>11</td>\n",
       "      <td>4</td>\n",
       "    </tr>\n",
       "    <tr>\n",
       "      <th>592</th>\n",
       "      <td>mxenabled</td>\n",
       "      <td>action_subscriber</td>\n",
       "      <td>[[\"actionsubscriber\", \"dsl\", \"easily\", \"interg...</td>\n",
       "      <td>actionsubscriber dsl easily intergrating rail ...</td>\n",
       "      <td>9</td>\n",
       "      <td>4</td>\n",
       "    </tr>\n",
       "    <tr>\n",
       "      <th>1029</th>\n",
       "      <td>xijo</td>\n",
       "      <td>reverse_markdown</td>\n",
       "      <td>[[\"transform\", \"html\", \"markdown\", \"useful\", \"...</td>\n",
       "      <td>transform html markdown useful example want im...</td>\n",
       "      <td>11</td>\n",
       "      <td>4</td>\n",
       "    </tr>\n",
       "  </tbody>\n",
       "</table>\n",
       "</div>"
      ],
      "text/plain": [
       "                OWNER                         NAME                                           CONTEXTS                                     TEXT_PROCESSED  LENGTH_PROCESSED  TOPIC\n",
       "20            ahoward                          map  [[\"synopsis\", \"awesome\", \"ruby\", \"container\", ...  synopsis awesome ruby container always want st...                13      4\n",
       "105         braintree             pg_ha_migrations  [[\"document\", \"learned\", \"best\", \"practice\", \"...  document learned best practice apply schema ch...                30      4\n",
       "173   copiousfreetime                   amalgalite  [[\"amalgalite\", \"embed\", \"sqlite\", \"database\",...  amalgalite embed sqlite database engine ruby e...                11      4\n",
       "411       instructure                    switchman  [[\"switchman\", \"activerecord\", \"extension\", \"s...  switchman activerecord extension sharding data...                 8      4\n",
       "418               ITV              aws-assume-role  [[\"aws-assume-role\", \"utility\", \"intend\", \"dev...  aws-assume-role utility intend developer opera...                14      4\n",
       "555            mgomes                     api_auth  [[\"logins\", \"password\", \"human\", \"communicatio...  logins password human communication applicatio...                 9      4\n",
       "567            mirego  activerecord_json_validator  [[\"activerecord\", \"jsonvalidator\", \"make\", \"ea...  activerecord jsonvalidator make easy validate ...                 9      4\n",
       "588       mruby-esp32                  mruby-esp32  [[\"get\", \"start\", \"need\", \"follow\", \"setup\", \"...  get start need follow setup documentation esp-...                11      4\n",
       "592         mxenabled            action_subscriber  [[\"actionsubscriber\", \"dsl\", \"easily\", \"interg...  actionsubscriber dsl easily intergrating rail ...                 9      4\n",
       "1029             xijo             reverse_markdown  [[\"transform\", \"html\", \"markdown\", \"useful\", \"...  transform html markdown useful example want im...                11      4"
      ]
     },
     "metadata": {},
     "output_type": "display_data"
    },
    {
     "name": "stdout",
     "output_type": "stream",
     "text": [
      "synopsis awesome ruby container always want string symbol indifferent order hash work ruby.\n",
      "document learned best practice apply schema change without downtime post postgresql scale database schema change without downtime paypal technology blog many approach take choice make explain much great depth readme.\n",
      "amalgalite embed sqlite database engine ruby extension need_NEG install_NEG sqlite_NEG separately_NEG.\n",
      "switchman activerecord extension sharding database key feature include.\n",
      "aws-assume-role utility intend developer operator environment need use 2fa role assumption access aws service.\n",
      "logins password human communication application need protect different mean.\n",
      "activerecord jsonvalidator make easy validate json attribute json schema.\n",
      "get start need follow setup documentation esp-idf project specific operating system.\n",
      "actionsubscriber dsl easily intergrating rail app rabbitmq message server.\n",
      "transform html markdown useful example want import html markdown base application.\n",
      "Topic 0: 197 repos\n"
     ]
    },
    {
     "data": {
      "application/vnd.plotly.v1+json": {
       "config": {
        "plotlyServerURL": "https://plot.ly"
       },
       "data": [
        {
         "alignmentgroup": "True",
         "hovertemplate": "Relevance=%{x}<br>Term=%{y}<extra></extra>",
         "legendgroup": "",
         "marker": {
          "color": "#E53935",
          "pattern": {
           "shape": ""
          }
         },
         "name": "",
         "offsetgroup": "",
         "orientation": "h",
         "showlegend": false,
         "textposition": "auto",
         "type": "bar",
         "x": [
          0.3771276197059975,
          0.36997758746744597,
          0.3625515400127985,
          0.35543226880698575,
          0.3517925396653158,
          0.34132944042523256,
          0.2982120856641928,
          0.2933028607865917,
          0.2894150074693893,
          0.28129734852905386
         ],
         "xaxis": "x",
         "y": [
          "tool",
          "test",
          "command",
          "run",
          "line",
          "code",
          "manage",
          "help",
          "check",
          "write"
         ],
         "yaxis": "y"
        }
       ],
       "layout": {
        "barmode": "relative",
        "height": 500,
        "legend": {
         "tracegroupgap": 0
        },
        "margin": {
         "t": 60
        },
        "template": {
         "data": {
          "bar": [
           {
            "error_x": {
             "color": "#2a3f5f"
            },
            "error_y": {
             "color": "#2a3f5f"
            },
            "marker": {
             "line": {
              "color": "#E5ECF6",
              "width": 0.5
             },
             "pattern": {
              "fillmode": "overlay",
              "size": 10,
              "solidity": 0.2
             }
            },
            "type": "bar"
           }
          ],
          "barpolar": [
           {
            "marker": {
             "line": {
              "color": "#E5ECF6",
              "width": 0.5
             },
             "pattern": {
              "fillmode": "overlay",
              "size": 10,
              "solidity": 0.2
             }
            },
            "type": "barpolar"
           }
          ],
          "carpet": [
           {
            "aaxis": {
             "endlinecolor": "#2a3f5f",
             "gridcolor": "white",
             "linecolor": "white",
             "minorgridcolor": "white",
             "startlinecolor": "#2a3f5f"
            },
            "baxis": {
             "endlinecolor": "#2a3f5f",
             "gridcolor": "white",
             "linecolor": "white",
             "minorgridcolor": "white",
             "startlinecolor": "#2a3f5f"
            },
            "type": "carpet"
           }
          ],
          "choropleth": [
           {
            "colorbar": {
             "outlinewidth": 0,
             "ticks": ""
            },
            "type": "choropleth"
           }
          ],
          "contour": [
           {
            "colorbar": {
             "outlinewidth": 0,
             "ticks": ""
            },
            "colorscale": [
             [
              0,
              "#0d0887"
             ],
             [
              0.1111111111111111,
              "#46039f"
             ],
             [
              0.2222222222222222,
              "#7201a8"
             ],
             [
              0.3333333333333333,
              "#9c179e"
             ],
             [
              0.4444444444444444,
              "#bd3786"
             ],
             [
              0.5555555555555556,
              "#d8576b"
             ],
             [
              0.6666666666666666,
              "#ed7953"
             ],
             [
              0.7777777777777778,
              "#fb9f3a"
             ],
             [
              0.8888888888888888,
              "#fdca26"
             ],
             [
              1,
              "#f0f921"
             ]
            ],
            "type": "contour"
           }
          ],
          "contourcarpet": [
           {
            "colorbar": {
             "outlinewidth": 0,
             "ticks": ""
            },
            "type": "contourcarpet"
           }
          ],
          "heatmap": [
           {
            "colorbar": {
             "outlinewidth": 0,
             "ticks": ""
            },
            "colorscale": [
             [
              0,
              "#0d0887"
             ],
             [
              0.1111111111111111,
              "#46039f"
             ],
             [
              0.2222222222222222,
              "#7201a8"
             ],
             [
              0.3333333333333333,
              "#9c179e"
             ],
             [
              0.4444444444444444,
              "#bd3786"
             ],
             [
              0.5555555555555556,
              "#d8576b"
             ],
             [
              0.6666666666666666,
              "#ed7953"
             ],
             [
              0.7777777777777778,
              "#fb9f3a"
             ],
             [
              0.8888888888888888,
              "#fdca26"
             ],
             [
              1,
              "#f0f921"
             ]
            ],
            "type": "heatmap"
           }
          ],
          "heatmapgl": [
           {
            "colorbar": {
             "outlinewidth": 0,
             "ticks": ""
            },
            "colorscale": [
             [
              0,
              "#0d0887"
             ],
             [
              0.1111111111111111,
              "#46039f"
             ],
             [
              0.2222222222222222,
              "#7201a8"
             ],
             [
              0.3333333333333333,
              "#9c179e"
             ],
             [
              0.4444444444444444,
              "#bd3786"
             ],
             [
              0.5555555555555556,
              "#d8576b"
             ],
             [
              0.6666666666666666,
              "#ed7953"
             ],
             [
              0.7777777777777778,
              "#fb9f3a"
             ],
             [
              0.8888888888888888,
              "#fdca26"
             ],
             [
              1,
              "#f0f921"
             ]
            ],
            "type": "heatmapgl"
           }
          ],
          "histogram": [
           {
            "marker": {
             "pattern": {
              "fillmode": "overlay",
              "size": 10,
              "solidity": 0.2
             }
            },
            "type": "histogram"
           }
          ],
          "histogram2d": [
           {
            "colorbar": {
             "outlinewidth": 0,
             "ticks": ""
            },
            "colorscale": [
             [
              0,
              "#0d0887"
             ],
             [
              0.1111111111111111,
              "#46039f"
             ],
             [
              0.2222222222222222,
              "#7201a8"
             ],
             [
              0.3333333333333333,
              "#9c179e"
             ],
             [
              0.4444444444444444,
              "#bd3786"
             ],
             [
              0.5555555555555556,
              "#d8576b"
             ],
             [
              0.6666666666666666,
              "#ed7953"
             ],
             [
              0.7777777777777778,
              "#fb9f3a"
             ],
             [
              0.8888888888888888,
              "#fdca26"
             ],
             [
              1,
              "#f0f921"
             ]
            ],
            "type": "histogram2d"
           }
          ],
          "histogram2dcontour": [
           {
            "colorbar": {
             "outlinewidth": 0,
             "ticks": ""
            },
            "colorscale": [
             [
              0,
              "#0d0887"
             ],
             [
              0.1111111111111111,
              "#46039f"
             ],
             [
              0.2222222222222222,
              "#7201a8"
             ],
             [
              0.3333333333333333,
              "#9c179e"
             ],
             [
              0.4444444444444444,
              "#bd3786"
             ],
             [
              0.5555555555555556,
              "#d8576b"
             ],
             [
              0.6666666666666666,
              "#ed7953"
             ],
             [
              0.7777777777777778,
              "#fb9f3a"
             ],
             [
              0.8888888888888888,
              "#fdca26"
             ],
             [
              1,
              "#f0f921"
             ]
            ],
            "type": "histogram2dcontour"
           }
          ],
          "mesh3d": [
           {
            "colorbar": {
             "outlinewidth": 0,
             "ticks": ""
            },
            "type": "mesh3d"
           }
          ],
          "parcoords": [
           {
            "line": {
             "colorbar": {
              "outlinewidth": 0,
              "ticks": ""
             }
            },
            "type": "parcoords"
           }
          ],
          "pie": [
           {
            "automargin": true,
            "type": "pie"
           }
          ],
          "scatter": [
           {
            "fillpattern": {
             "fillmode": "overlay",
             "size": 10,
             "solidity": 0.2
            },
            "type": "scatter"
           }
          ],
          "scatter3d": [
           {
            "line": {
             "colorbar": {
              "outlinewidth": 0,
              "ticks": ""
             }
            },
            "marker": {
             "colorbar": {
              "outlinewidth": 0,
              "ticks": ""
             }
            },
            "type": "scatter3d"
           }
          ],
          "scattercarpet": [
           {
            "marker": {
             "colorbar": {
              "outlinewidth": 0,
              "ticks": ""
             }
            },
            "type": "scattercarpet"
           }
          ],
          "scattergeo": [
           {
            "marker": {
             "colorbar": {
              "outlinewidth": 0,
              "ticks": ""
             }
            },
            "type": "scattergeo"
           }
          ],
          "scattergl": [
           {
            "marker": {
             "colorbar": {
              "outlinewidth": 0,
              "ticks": ""
             }
            },
            "type": "scattergl"
           }
          ],
          "scattermapbox": [
           {
            "marker": {
             "colorbar": {
              "outlinewidth": 0,
              "ticks": ""
             }
            },
            "type": "scattermapbox"
           }
          ],
          "scatterpolar": [
           {
            "marker": {
             "colorbar": {
              "outlinewidth": 0,
              "ticks": ""
             }
            },
            "type": "scatterpolar"
           }
          ],
          "scatterpolargl": [
           {
            "marker": {
             "colorbar": {
              "outlinewidth": 0,
              "ticks": ""
             }
            },
            "type": "scatterpolargl"
           }
          ],
          "scatterternary": [
           {
            "marker": {
             "colorbar": {
              "outlinewidth": 0,
              "ticks": ""
             }
            },
            "type": "scatterternary"
           }
          ],
          "surface": [
           {
            "colorbar": {
             "outlinewidth": 0,
             "ticks": ""
            },
            "colorscale": [
             [
              0,
              "#0d0887"
             ],
             [
              0.1111111111111111,
              "#46039f"
             ],
             [
              0.2222222222222222,
              "#7201a8"
             ],
             [
              0.3333333333333333,
              "#9c179e"
             ],
             [
              0.4444444444444444,
              "#bd3786"
             ],
             [
              0.5555555555555556,
              "#d8576b"
             ],
             [
              0.6666666666666666,
              "#ed7953"
             ],
             [
              0.7777777777777778,
              "#fb9f3a"
             ],
             [
              0.8888888888888888,
              "#fdca26"
             ],
             [
              1,
              "#f0f921"
             ]
            ],
            "type": "surface"
           }
          ],
          "table": [
           {
            "cells": {
             "fill": {
              "color": "#EBF0F8"
             },
             "line": {
              "color": "white"
             }
            },
            "header": {
             "fill": {
              "color": "#C8D4E3"
             },
             "line": {
              "color": "white"
             }
            },
            "type": "table"
           }
          ]
         },
         "layout": {
          "annotationdefaults": {
           "arrowcolor": "#2a3f5f",
           "arrowhead": 0,
           "arrowwidth": 1
          },
          "autotypenumbers": "strict",
          "coloraxis": {
           "colorbar": {
            "outlinewidth": 0,
            "ticks": ""
           }
          },
          "colorscale": {
           "diverging": [
            [
             0,
             "#8e0152"
            ],
            [
             0.1,
             "#c51b7d"
            ],
            [
             0.2,
             "#de77ae"
            ],
            [
             0.3,
             "#f1b6da"
            ],
            [
             0.4,
             "#fde0ef"
            ],
            [
             0.5,
             "#f7f7f7"
            ],
            [
             0.6,
             "#e6f5d0"
            ],
            [
             0.7,
             "#b8e186"
            ],
            [
             0.8,
             "#7fbc41"
            ],
            [
             0.9,
             "#4d9221"
            ],
            [
             1,
             "#276419"
            ]
           ],
           "sequential": [
            [
             0,
             "#0d0887"
            ],
            [
             0.1111111111111111,
             "#46039f"
            ],
            [
             0.2222222222222222,
             "#7201a8"
            ],
            [
             0.3333333333333333,
             "#9c179e"
            ],
            [
             0.4444444444444444,
             "#bd3786"
            ],
            [
             0.5555555555555556,
             "#d8576b"
            ],
            [
             0.6666666666666666,
             "#ed7953"
            ],
            [
             0.7777777777777778,
             "#fb9f3a"
            ],
            [
             0.8888888888888888,
             "#fdca26"
            ],
            [
             1,
             "#f0f921"
            ]
           ],
           "sequentialminus": [
            [
             0,
             "#0d0887"
            ],
            [
             0.1111111111111111,
             "#46039f"
            ],
            [
             0.2222222222222222,
             "#7201a8"
            ],
            [
             0.3333333333333333,
             "#9c179e"
            ],
            [
             0.4444444444444444,
             "#bd3786"
            ],
            [
             0.5555555555555556,
             "#d8576b"
            ],
            [
             0.6666666666666666,
             "#ed7953"
            ],
            [
             0.7777777777777778,
             "#fb9f3a"
            ],
            [
             0.8888888888888888,
             "#fdca26"
            ],
            [
             1,
             "#f0f921"
            ]
           ]
          },
          "colorway": [
           "#636efa",
           "#EF553B",
           "#00cc96",
           "#ab63fa",
           "#FFA15A",
           "#19d3f3",
           "#FF6692",
           "#B6E880",
           "#FF97FF",
           "#FECB52"
          ],
          "font": {
           "color": "#2a3f5f"
          },
          "geo": {
           "bgcolor": "white",
           "lakecolor": "white",
           "landcolor": "#E5ECF6",
           "showlakes": true,
           "showland": true,
           "subunitcolor": "white"
          },
          "hoverlabel": {
           "align": "left"
          },
          "hovermode": "closest",
          "mapbox": {
           "style": "light"
          },
          "paper_bgcolor": "white",
          "plot_bgcolor": "#E5ECF6",
          "polar": {
           "angularaxis": {
            "gridcolor": "white",
            "linecolor": "white",
            "ticks": ""
           },
           "bgcolor": "#E5ECF6",
           "radialaxis": {
            "gridcolor": "white",
            "linecolor": "white",
            "ticks": ""
           }
          },
          "scene": {
           "xaxis": {
            "backgroundcolor": "#E5ECF6",
            "gridcolor": "white",
            "gridwidth": 2,
            "linecolor": "white",
            "showbackground": true,
            "ticks": "",
            "zerolinecolor": "white"
           },
           "yaxis": {
            "backgroundcolor": "#E5ECF6",
            "gridcolor": "white",
            "gridwidth": 2,
            "linecolor": "white",
            "showbackground": true,
            "ticks": "",
            "zerolinecolor": "white"
           },
           "zaxis": {
            "backgroundcolor": "#E5ECF6",
            "gridcolor": "white",
            "gridwidth": 2,
            "linecolor": "white",
            "showbackground": true,
            "ticks": "",
            "zerolinecolor": "white"
           }
          },
          "shapedefaults": {
           "line": {
            "color": "#2a3f5f"
           }
          },
          "ternary": {
           "aaxis": {
            "gridcolor": "white",
            "linecolor": "white",
            "ticks": ""
           },
           "baxis": {
            "gridcolor": "white",
            "linecolor": "white",
            "ticks": ""
           },
           "bgcolor": "#E5ECF6",
           "caxis": {
            "gridcolor": "white",
            "linecolor": "white",
            "ticks": ""
           }
          },
          "title": {
           "x": 0.05
          },
          "xaxis": {
           "automargin": true,
           "gridcolor": "white",
           "linecolor": "white",
           "ticks": "",
           "title": {
            "standoff": 15
           },
           "zerolinecolor": "white",
           "zerolinewidth": 2
          },
          "yaxis": {
           "automargin": true,
           "gridcolor": "white",
           "linecolor": "white",
           "ticks": "",
           "title": {
            "standoff": 15
           },
           "zerolinecolor": "white",
           "zerolinewidth": 2
          }
         }
        },
        "width": 500,
        "xaxis": {
         "anchor": "y",
         "autorange": true,
         "domain": [
          0,
          1
         ],
         "range": [
          0,
          0.39697644179578684
         ],
         "title": {
          "text": "Relevance"
         },
         "type": "linear"
        },
        "yaxis": {
         "anchor": "x",
         "autorange": true,
         "domain": [
          0,
          1
         ],
         "range": [
          9.5,
          -0.5
         ],
         "title": {
          "text": "Term"
         },
         "type": "category"
        }
       }
      },
      "image/png": "[encoded data removed]",
      "text/html": [
       "<div>                            <div id=\"4728bf72-fdc8-4ea7-8f72-f81e0edcb0ca\" class=\"plotly-graph-div\" style=\"height:500px; width:500px;\"></div>            <script type=\"text/javascript\">                require([\"plotly\"], function(Plotly) {                    window.PLOTLYENV=window.PLOTLYENV || {};                                    if (document.getElementById(\"4728bf72-fdc8-4ea7-8f72-f81e0edcb0ca\")) {                    Plotly.newPlot(                        \"4728bf72-fdc8-4ea7-8f72-f81e0edcb0ca\",                        [{\"alignmentgroup\":\"True\",\"hovertemplate\":\"Relevance=%{x}<br>Term=%{y}<extra></extra>\",\"legendgroup\":\"\",\"marker\":{\"color\":\"#E53935\",\"pattern\":{\"shape\":\"\"}},\"name\":\"\",\"offsetgroup\":\"\",\"orientation\":\"h\",\"showlegend\":false,\"textposition\":\"auto\",\"x\":[0.3771276197059975,0.36997758746744597,0.3625515400127985,0.35543226880698575,0.3517925396653158,0.34132944042523256,0.2982120856641928,0.2933028607865917,0.2894150074693893,0.28129734852905386],\"xaxis\":\"x\",\"y\":[\"tool\",\"test\",\"command\",\"run\",\"line\",\"code\",\"manage\",\"help\",\"check\",\"write\"],\"yaxis\":\"y\",\"type\":\"bar\"}],                        {\"template\":{\"data\":{\"histogram2dcontour\":[{\"type\":\"histogram2dcontour\",\"colorbar\":{\"outlinewidth\":0,\"ticks\":\"\"},\"colorscale\":[[0.0,\"#0d0887\"],[0.1111111111111111,\"#46039f\"],[0.2222222222222222,\"#7201a8\"],[0.3333333333333333,\"#9c179e\"],[0.4444444444444444,\"#bd3786\"],[0.5555555555555556,\"#d8576b\"],[0.6666666666666666,\"#ed7953\"],[0.7777777777777778,\"#fb9f3a\"],[0.8888888888888888,\"#fdca26\"],[1.0,\"#f0f921\"]]}],\"choropleth\":[{\"type\":\"choropleth\",\"colorbar\":{\"outlinewidth\":0,\"ticks\":\"\"}}],\"histogram2d\":[{\"type\":\"histogram2d\",\"colorbar\":{\"outlinewidth\":0,\"ticks\":\"\"},\"colorscale\":[[0.0,\"#0d0887\"],[0.1111111111111111,\"#46039f\"],[0.2222222222222222,\"#7201a8\"],[0.3333333333333333,\"#9c179e\"],[0.4444444444444444,\"#bd3786\"],[0.5555555555555556,\"#d8576b\"],[0.6666666666666666,\"#ed7953\"],[0.7777777777777778,\"#fb9f3a\"],[0.8888888888888888,\"#fdca26\"],[1.0,\"#f0f921\"]]}],\"heatmap\":[{\"type\":\"heatmap\",\"colorbar\":{\"outlinewidth\":0,\"ticks\":\"\"},\"colorscale\":[[0.0,\"#0d0887\"],[0.1111111111111111,\"#46039f\"],[0.2222222222222222,\"#7201a8\"],[0.3333333333333333,\"#9c179e\"],[0.4444444444444444,\"#bd3786\"],[0.5555555555555556,\"#d8576b\"],[0.6666666666666666,\"#ed7953\"],[0.7777777777777778,\"#fb9f3a\"],[0.8888888888888888,\"#fdca26\"],[1.0,\"#f0f921\"]]}],\"heatmapgl\":[{\"type\":\"heatmapgl\",\"colorbar\":{\"outlinewidth\":0,\"ticks\":\"\"},\"colorscale\":[[0.0,\"#0d0887\"],[0.1111111111111111,\"#46039f\"],[0.2222222222222222,\"#7201a8\"],[0.3333333333333333,\"#9c179e\"],[0.4444444444444444,\"#bd3786\"],[0.5555555555555556,\"#d8576b\"],[0.6666666666666666,\"#ed7953\"],[0.7777777777777778,\"#fb9f3a\"],[0.8888888888888888,\"#fdca26\"],[1.0,\"#f0f921\"]]}],\"contourcarpet\":[{\"type\":\"contourcarpet\",\"colorbar\":{\"outlinewidth\":0,\"ticks\":\"\"}}],\"contour\":[{\"type\":\"contour\",\"colorbar\":{\"outlinewidth\":0,\"ticks\":\"\"},\"colorscale\":[[0.0,\"#0d0887\"],[0.1111111111111111,\"#46039f\"],[0.2222222222222222,\"#7201a8\"],[0.3333333333333333,\"#9c179e\"],[0.4444444444444444,\"#bd3786\"],[0.5555555555555556,\"#d8576b\"],[0.6666666666666666,\"#ed7953\"],[0.7777777777777778,\"#fb9f3a\"],[0.8888888888888888,\"#fdca26\"],[1.0,\"#f0f921\"]]}],\"surface\":[{\"type\":\"surface\",\"colorbar\":{\"outlinewidth\":0,\"ticks\":\"\"},\"colorscale\":[[0.0,\"#0d0887\"],[0.1111111111111111,\"#46039f\"],[0.2222222222222222,\"#7201a8\"],[0.3333333333333333,\"#9c179e\"],[0.4444444444444444,\"#bd3786\"],[0.5555555555555556,\"#d8576b\"],[0.6666666666666666,\"#ed7953\"],[0.7777777777777778,\"#fb9f3a\"],[0.8888888888888888,\"#fdca26\"],[1.0,\"#f0f921\"]]}],\"mesh3d\":[{\"type\":\"mesh3d\",\"colorbar\":{\"outlinewidth\":0,\"ticks\":\"\"}}],\"scatter\":[{\"fillpattern\":{\"fillmode\":\"overlay\",\"size\":10,\"solidity\":0.2},\"type\":\"scatter\"}],\"parcoords\":[{\"type\":\"parcoords\",\"line\":{\"colorbar\":{\"outlinewidth\":0,\"ticks\":\"\"}}}],\"scatterpolargl\":[{\"type\":\"scatterpolargl\",\"marker\":{\"colorbar\":{\"outlinewidth\":0,\"ticks\":\"\"}}}],\"bar\":[{\"error_x\":{\"color\":\"#2a3f5f\"},\"error_y\":{\"color\":\"#2a3f5f\"},\"marker\":{\"line\":{\"color\":\"#E5ECF6\",\"width\":0.5},\"pattern\":{\"fillmode\":\"overlay\",\"size\":10,\"solidity\":0.2}},\"type\":\"bar\"}],\"scattergeo\":[{\"type\":\"scattergeo\",\"marker\":{\"colorbar\":{\"outlinewidth\":0,\"ticks\":\"\"}}}],\"scatterpolar\":[{\"type\":\"scatterpolar\",\"marker\":{\"colorbar\":{\"outlinewidth\":0,\"ticks\":\"\"}}}],\"histogram\":[{\"marker\":{\"pattern\":{\"fillmode\":\"overlay\",\"size\":10,\"solidity\":0.2}},\"type\":\"histogram\"}],\"scattergl\":[{\"type\":\"scattergl\",\"marker\":{\"colorbar\":{\"outlinewidth\":0,\"ticks\":\"\"}}}],\"scatter3d\":[{\"type\":\"scatter3d\",\"line\":{\"colorbar\":{\"outlinewidth\":0,\"ticks\":\"\"}},\"marker\":{\"colorbar\":{\"outlinewidth\":0,\"ticks\":\"\"}}}],\"scattermapbox\":[{\"type\":\"scattermapbox\",\"marker\":{\"colorbar\":{\"outlinewidth\":0,\"ticks\":\"\"}}}],\"scatterternary\":[{\"type\":\"scatterternary\",\"marker\":{\"colorbar\":{\"outlinewidth\":0,\"ticks\":\"\"}}}],\"scattercarpet\":[{\"type\":\"scattercarpet\",\"marker\":{\"colorbar\":{\"outlinewidth\":0,\"ticks\":\"\"}}}],\"carpet\":[{\"aaxis\":{\"endlinecolor\":\"#2a3f5f\",\"gridcolor\":\"white\",\"linecolor\":\"white\",\"minorgridcolor\":\"white\",\"startlinecolor\":\"#2a3f5f\"},\"baxis\":{\"endlinecolor\":\"#2a3f5f\",\"gridcolor\":\"white\",\"linecolor\":\"white\",\"minorgridcolor\":\"white\",\"startlinecolor\":\"#2a3f5f\"},\"type\":\"carpet\"}],\"table\":[{\"cells\":{\"fill\":{\"color\":\"#EBF0F8\"},\"line\":{\"color\":\"white\"}},\"header\":{\"fill\":{\"color\":\"#C8D4E3\"},\"line\":{\"color\":\"white\"}},\"type\":\"table\"}],\"barpolar\":[{\"marker\":{\"line\":{\"color\":\"#E5ECF6\",\"width\":0.5},\"pattern\":{\"fillmode\":\"overlay\",\"size\":10,\"solidity\":0.2}},\"type\":\"barpolar\"}],\"pie\":[{\"automargin\":true,\"type\":\"pie\"}]},\"layout\":{\"autotypenumbers\":\"strict\",\"colorway\":[\"#636efa\",\"#EF553B\",\"#00cc96\",\"#ab63fa\",\"#FFA15A\",\"#19d3f3\",\"#FF6692\",\"#B6E880\",\"#FF97FF\",\"#FECB52\"],\"font\":{\"color\":\"#2a3f5f\"},\"hovermode\":\"closest\",\"hoverlabel\":{\"align\":\"left\"},\"paper_bgcolor\":\"white\",\"plot_bgcolor\":\"#E5ECF6\",\"polar\":{\"bgcolor\":\"#E5ECF6\",\"angularaxis\":{\"gridcolor\":\"white\",\"linecolor\":\"white\",\"ticks\":\"\"},\"radialaxis\":{\"gridcolor\":\"white\",\"linecolor\":\"white\",\"ticks\":\"\"}},\"ternary\":{\"bgcolor\":\"#E5ECF6\",\"aaxis\":{\"gridcolor\":\"white\",\"linecolor\":\"white\",\"ticks\":\"\"},\"baxis\":{\"gridcolor\":\"white\",\"linecolor\":\"white\",\"ticks\":\"\"},\"caxis\":{\"gridcolor\":\"white\",\"linecolor\":\"white\",\"ticks\":\"\"}},\"coloraxis\":{\"colorbar\":{\"outlinewidth\":0,\"ticks\":\"\"}},\"colorscale\":{\"sequential\":[[0.0,\"#0d0887\"],[0.1111111111111111,\"#46039f\"],[0.2222222222222222,\"#7201a8\"],[0.3333333333333333,\"#9c179e\"],[0.4444444444444444,\"#bd3786\"],[0.5555555555555556,\"#d8576b\"],[0.6666666666666666,\"#ed7953\"],[0.7777777777777778,\"#fb9f3a\"],[0.8888888888888888,\"#fdca26\"],[1.0,\"#f0f921\"]],\"sequentialminus\":[[0.0,\"#0d0887\"],[0.1111111111111111,\"#46039f\"],[0.2222222222222222,\"#7201a8\"],[0.3333333333333333,\"#9c179e\"],[0.4444444444444444,\"#bd3786\"],[0.5555555555555556,\"#d8576b\"],[0.6666666666666666,\"#ed7953\"],[0.7777777777777778,\"#fb9f3a\"],[0.8888888888888888,\"#fdca26\"],[1.0,\"#f0f921\"]],\"diverging\":[[0,\"#8e0152\"],[0.1,\"#c51b7d\"],[0.2,\"#de77ae\"],[0.3,\"#f1b6da\"],[0.4,\"#fde0ef\"],[0.5,\"#f7f7f7\"],[0.6,\"#e6f5d0\"],[0.7,\"#b8e186\"],[0.8,\"#7fbc41\"],[0.9,\"#4d9221\"],[1,\"#276419\"]]},\"xaxis\":{\"gridcolor\":\"white\",\"linecolor\":\"white\",\"ticks\":\"\",\"title\":{\"standoff\":15},\"zerolinecolor\":\"white\",\"automargin\":true,\"zerolinewidth\":2},\"yaxis\":{\"gridcolor\":\"white\",\"linecolor\":\"white\",\"ticks\":\"\",\"title\":{\"standoff\":15},\"zerolinecolor\":\"white\",\"automargin\":true,\"zerolinewidth\":2},\"scene\":{\"xaxis\":{\"backgroundcolor\":\"#E5ECF6\",\"gridcolor\":\"white\",\"linecolor\":\"white\",\"showbackground\":true,\"ticks\":\"\",\"zerolinecolor\":\"white\",\"gridwidth\":2},\"yaxis\":{\"backgroundcolor\":\"#E5ECF6\",\"gridcolor\":\"white\",\"linecolor\":\"white\",\"showbackground\":true,\"ticks\":\"\",\"zerolinecolor\":\"white\",\"gridwidth\":2},\"zaxis\":{\"backgroundcolor\":\"#E5ECF6\",\"gridcolor\":\"white\",\"linecolor\":\"white\",\"showbackground\":true,\"ticks\":\"\",\"zerolinecolor\":\"white\",\"gridwidth\":2}},\"shapedefaults\":{\"line\":{\"color\":\"#2a3f5f\"}},\"annotationdefaults\":{\"arrowcolor\":\"#2a3f5f\",\"arrowhead\":0,\"arrowwidth\":1},\"geo\":{\"bgcolor\":\"white\",\"landcolor\":\"#E5ECF6\",\"subunitcolor\":\"white\",\"showland\":true,\"showlakes\":true,\"lakecolor\":\"white\"},\"title\":{\"x\":0.05},\"mapbox\":{\"style\":\"light\"}}},\"xaxis\":{\"anchor\":\"y\",\"domain\":[0.0,1.0],\"title\":{\"text\":\"Relevance\"}},\"yaxis\":{\"anchor\":\"x\",\"domain\":[0.0,1.0],\"title\":{\"text\":\"Term\"},\"autorange\":\"reversed\"},\"legend\":{\"tracegroupgap\":0},\"margin\":{\"t\":60},\"barmode\":\"relative\",\"height\":500,\"width\":500},                        {\"responsive\": true}                    ).then(function(){\n",
       "                            \n",
       "var gd = document.getElementById('4728bf72-fdc8-4ea7-8f72-f81e0edcb0ca');\n",
       "var x = new MutationObserver(function (mutations, observer) {{\n",
       "        var display = window.getComputedStyle(gd).display;\n",
       "        if (!display || display === 'none') {{\n",
       "            console.log([gd, 'removed!']);\n",
       "            Plotly.purge(gd);\n",
       "            observer.disconnect();\n",
       "        }}\n",
       "}});\n",
       "\n",
       "// Listen for the removal of the full notebook cells\n",
       "var notebookContainer = gd.closest('#notebook-container');\n",
       "if (notebookContainer) {{\n",
       "    x.observe(notebookContainer, {childList: true});\n",
       "}}\n",
       "\n",
       "// Listen for the clearing of the current output cell\n",
       "var outputEl = gd.closest('.output');\n",
       "if (outputEl) {{\n",
       "    x.observe(outputEl, {childList: true});\n",
       "}}\n",
       "\n",
       "                        })                };                });            </script>        </div>"
      ]
     },
     "metadata": {},
     "output_type": "display_data"
    },
    {
     "name": "stdout",
     "output_type": "stream",
     "text": [
      "Top 10 documents:\n"
     ]
    },
    {
     "data": {
      "text/html": [
       "<div>\n",
       "<style scoped>\n",
       "    .dataframe tbody tr th:only-of-type {\n",
       "        vertical-align: middle;\n",
       "    }\n",
       "\n",
       "    .dataframe tbody tr th {\n",
       "        vertical-align: top;\n",
       "    }\n",
       "\n",
       "    .dataframe thead th {\n",
       "        text-align: right;\n",
       "    }\n",
       "</style>\n",
       "<table border=\"1\" class=\"dataframe\">\n",
       "  <thead>\n",
       "    <tr style=\"text-align: right;\">\n",
       "      <th></th>\n",
       "      <th>OWNER</th>\n",
       "      <th>NAME</th>\n",
       "      <th>CONTEXTS</th>\n",
       "      <th>TEXT_PROCESSED</th>\n",
       "      <th>LENGTH_PROCESSED</th>\n",
       "      <th>TOPIC</th>\n",
       "    </tr>\n",
       "  </thead>\n",
       "  <tbody>\n",
       "    <tr>\n",
       "      <th>287</th>\n",
       "      <td>floraison</td>\n",
       "      <td>fugit</td>\n",
       "      <td>[[\"time\", \"tool\", \"flor\", \"floraison\", \"group\"]]</td>\n",
       "      <td>time tool flor floraison group.</td>\n",
       "      <td>5</td>\n",
       "      <td>0</td>\n",
       "    </tr>\n",
       "    <tr>\n",
       "      <th>371</th>\n",
       "      <td>hercules-team</td>\n",
       "      <td>augeas</td>\n",
       "      <td>[[\"augeas\", \"library\", \"command\", \"line\", \"too...</td>\n",
       "      <td>augeas library command line tool focus basic p...</td>\n",
       "      <td>18</td>\n",
       "      <td>0</td>\n",
       "    </tr>\n",
       "    <tr>\n",
       "      <th>451</th>\n",
       "      <td>joenorton</td>\n",
       "      <td>rubyretriever</td>\n",
       "      <td>[[\"rubyretriever\", \"web\", \"crawler\", \"scraper\"...</td>\n",
       "      <td>rubyretriever web crawler scraper file harvest...</td>\n",
       "      <td>11</td>\n",
       "      <td>0</td>\n",
       "    </tr>\n",
       "    <tr>\n",
       "      <th>568</th>\n",
       "      <td>mizzy</td>\n",
       "      <td>serverspec</td>\n",
       "      <td>[[\"rspec\", \"test\", \"server\", \"configure\", \"pup...</td>\n",
       "      <td>rspec test server configure puppet chef anythi...</td>\n",
       "      <td>8</td>\n",
       "      <td>0</td>\n",
       "    </tr>\n",
       "    <tr>\n",
       "      <th>667</th>\n",
       "      <td>plataformatec</td>\n",
       "      <td>faraday-http-cache</td>\n",
       "      <td>[[\"faraday\", \"middleware\", \"respect\", \"http\", ...</td>\n",
       "      <td>faraday middleware respect http cache check ex...</td>\n",
       "      <td>10</td>\n",
       "      <td>0</td>\n",
       "    </tr>\n",
       "    <tr>\n",
       "      <th>689</th>\n",
       "      <td>puppetlabs</td>\n",
       "      <td>vmfloaty</td>\n",
       "      <td>[[\"cli\", \"helper\", \"tool\", \"puppet's\", \"vmpool...</td>\n",
       "      <td>cli helper tool puppet's vmpooler help stay af...</td>\n",
       "      <td>8</td>\n",
       "      <td>0</td>\n",
       "    </tr>\n",
       "    <tr>\n",
       "      <th>695</th>\n",
       "      <td>qrush</td>\n",
       "      <td>m</td>\n",
       "      <td>[[\"stand\", \"metal\", \"good\", \"test\", \"unit\", \"m...</td>\n",
       "      <td>stand metal good test unit minitest test runne...</td>\n",
       "      <td>12</td>\n",
       "      <td>0</td>\n",
       "    </tr>\n",
       "    <tr>\n",
       "      <th>813</th>\n",
       "      <td>sds</td>\n",
       "      <td>slim-lint</td>\n",
       "      <td>[[\"slim-lint\", \"tool\", \"help\", \"keep\", \"slim\",...</td>\n",
       "      <td>slim-lint tool help keep slim file clean reada...</td>\n",
       "      <td>21</td>\n",
       "      <td>0</td>\n",
       "    </tr>\n",
       "    <tr>\n",
       "      <th>965</th>\n",
       "      <td>travis-ci</td>\n",
       "      <td>kubernetes-config</td>\n",
       "      <td>[[\"travis\", \"service\", \"run\", \"kubernetes\"]]</td>\n",
       "      <td>travis service run kubernetes.</td>\n",
       "      <td>4</td>\n",
       "      <td>0</td>\n",
       "    </tr>\n",
       "    <tr>\n",
       "      <th>992</th>\n",
       "      <td>vcr</td>\n",
       "      <td>vcr</td>\n",
       "      <td>[[\"record\", \"test\", \"suite's\", \"http\", \"intera...</td>\n",
       "      <td>record test suite's http interaction replay fu...</td>\n",
       "      <td>13</td>\n",
       "      <td>0</td>\n",
       "    </tr>\n",
       "  </tbody>\n",
       "</table>\n",
       "</div>"
      ],
      "text/plain": [
       "             OWNER                NAME                                           CONTEXTS                                     TEXT_PROCESSED  LENGTH_PROCESSED  TOPIC\n",
       "287      floraison               fugit   [[\"time\", \"tool\", \"flor\", \"floraison\", \"group\"]]                    time tool flor floraison group.                 5      0\n",
       "371  hercules-team              augeas  [[\"augeas\", \"library\", \"command\", \"line\", \"too...  augeas library command line tool focus basic p...                18      0\n",
       "451      joenorton       rubyretriever  [[\"rubyretriever\", \"web\", \"crawler\", \"scraper\"...  rubyretriever web crawler scraper file harvest...                11      0\n",
       "568          mizzy          serverspec  [[\"rspec\", \"test\", \"server\", \"configure\", \"pup...  rspec test server configure puppet chef anythi...                 8      0\n",
       "667  plataformatec  faraday-http-cache  [[\"faraday\", \"middleware\", \"respect\", \"http\", ...  faraday middleware respect http cache check ex...                10      0\n",
       "689     puppetlabs            vmfloaty  [[\"cli\", \"helper\", \"tool\", \"puppet's\", \"vmpool...  cli helper tool puppet's vmpooler help stay af...                 8      0\n",
       "695          qrush                   m  [[\"stand\", \"metal\", \"good\", \"test\", \"unit\", \"m...  stand metal good test unit minitest test runne...                12      0\n",
       "813            sds           slim-lint  [[\"slim-lint\", \"tool\", \"help\", \"keep\", \"slim\",...  slim-lint tool help keep slim file clean reada...                21      0\n",
       "965      travis-ci   kubernetes-config       [[\"travis\", \"service\", \"run\", \"kubernetes\"]]                     travis service run kubernetes.                 4      0\n",
       "992            vcr                 vcr  [[\"record\", \"test\", \"suite's\", \"http\", \"intera...  record test suite's http interaction replay fu...                13      0"
      ]
     },
     "metadata": {},
     "output_type": "display_data"
    },
    {
     "name": "stdout",
     "output_type": "stream",
     "text": [
      "time tool flor floraison group.\n",
      "augeas library command line tool focus basic problem handle linux configuration programmatically edit actual configuration file controlled manner.\n",
      "rubyretriever web crawler scraper file harvester available command-line executable crawling framework.\n",
      "rspec test server configure puppet chef anything else.\n",
      "faraday middleware respect http cache check expiration validation stored response.\n",
      "cli helper tool puppet's vmpooler help stay afloat.\n",
      "stand metal good test unit minitest test runner run test line number.\n",
      "slim-lint tool help keep slim file clean readable addition style lint check integrate rubocop bring powerful static analysis tool slim template.\n",
      "travis service run kubernetes.\n",
      "record test suite's http interaction replay future test run fast deterministic accurate test.\n",
      "Topic 3: 114 repos\n"
     ]
    },
    {
     "data": {
      "application/vnd.plotly.v1+json": {
       "config": {
        "plotlyServerURL": "https://plot.ly"
       },
       "data": [
        {
         "alignmentgroup": "True",
         "hovertemplate": "Relevance=%{x}<br>Term=%{y}<extra></extra>",
         "legendgroup": "",
         "marker": {
          "color": "#E53935",
          "pattern": {
           "shape": ""
          }
         },
         "name": "",
         "offsetgroup": "",
         "orientation": "h",
         "showlegend": false,
         "textposition": "auto",
         "type": "bar",
         "x": [
          0.44711183720411096,
          0.3693206508356066,
          0.36814258836130764,
          0.3337165793333702,
          0.3309248217114895,
          0.3002636810944679,
          0.2791601464130991,
          0.2730977415536567,
          0.2603566257504537,
          0.2505683513114855
         ],
         "xaxis": "x",
         "y": [
          "api",
          "official",
          "client",
          "service",
          "request",
          "wrapper",
          "build",
          "implementation",
          "framework",
          "feature"
         ],
         "yaxis": "y"
        }
       ],
       "layout": {
        "barmode": "relative",
        "height": 500,
        "legend": {
         "tracegroupgap": 0
        },
        "margin": {
         "t": 60
        },
        "template": {
         "data": {
          "bar": [
           {
            "error_x": {
             "color": "#2a3f5f"
            },
            "error_y": {
             "color": "#2a3f5f"
            },
            "marker": {
             "line": {
              "color": "#E5ECF6",
              "width": 0.5
             },
             "pattern": {
              "fillmode": "overlay",
              "size": 10,
              "solidity": 0.2
             }
            },
            "type": "bar"
           }
          ],
          "barpolar": [
           {
            "marker": {
             "line": {
              "color": "#E5ECF6",
              "width": 0.5
             },
             "pattern": {
              "fillmode": "overlay",
              "size": 10,
              "solidity": 0.2
             }
            },
            "type": "barpolar"
           }
          ],
          "carpet": [
           {
            "aaxis": {
             "endlinecolor": "#2a3f5f",
             "gridcolor": "white",
             "linecolor": "white",
             "minorgridcolor": "white",
             "startlinecolor": "#2a3f5f"
            },
            "baxis": {
             "endlinecolor": "#2a3f5f",
             "gridcolor": "white",
             "linecolor": "white",
             "minorgridcolor": "white",
             "startlinecolor": "#2a3f5f"
            },
            "type": "carpet"
           }
          ],
          "choropleth": [
           {
            "colorbar": {
             "outlinewidth": 0,
             "ticks": ""
            },
            "type": "choropleth"
           }
          ],
          "contour": [
           {
            "colorbar": {
             "outlinewidth": 0,
             "ticks": ""
            },
            "colorscale": [
             [
              0,
              "#0d0887"
             ],
             [
              0.1111111111111111,
              "#46039f"
             ],
             [
              0.2222222222222222,
              "#7201a8"
             ],
             [
              0.3333333333333333,
              "#9c179e"
             ],
             [
              0.4444444444444444,
              "#bd3786"
             ],
             [
              0.5555555555555556,
              "#d8576b"
             ],
             [
              0.6666666666666666,
              "#ed7953"
             ],
             [
              0.7777777777777778,
              "#fb9f3a"
             ],
             [
              0.8888888888888888,
              "#fdca26"
             ],
             [
              1,
              "#f0f921"
             ]
            ],
            "type": "contour"
           }
          ],
          "contourcarpet": [
           {
            "colorbar": {
             "outlinewidth": 0,
             "ticks": ""
            },
            "type": "contourcarpet"
           }
          ],
          "heatmap": [
           {
            "colorbar": {
             "outlinewidth": 0,
             "ticks": ""
            },
            "colorscale": [
             [
              0,
              "#0d0887"
             ],
             [
              0.1111111111111111,
              "#46039f"
             ],
             [
              0.2222222222222222,
              "#7201a8"
             ],
             [
              0.3333333333333333,
              "#9c179e"
             ],
             [
              0.4444444444444444,
              "#bd3786"
             ],
             [
              0.5555555555555556,
              "#d8576b"
             ],
             [
              0.6666666666666666,
              "#ed7953"
             ],
             [
              0.7777777777777778,
              "#fb9f3a"
             ],
             [
              0.8888888888888888,
              "#fdca26"
             ],
             [
              1,
              "#f0f921"
             ]
            ],
            "type": "heatmap"
           }
          ],
          "heatmapgl": [
           {
            "colorbar": {
             "outlinewidth": 0,
             "ticks": ""
            },
            "colorscale": [
             [
              0,
              "#0d0887"
             ],
             [
              0.1111111111111111,
              "#46039f"
             ],
             [
              0.2222222222222222,
              "#7201a8"
             ],
             [
              0.3333333333333333,
              "#9c179e"
             ],
             [
              0.4444444444444444,
              "#bd3786"
             ],
             [
              0.5555555555555556,
              "#d8576b"
             ],
             [
              0.6666666666666666,
              "#ed7953"
             ],
             [
              0.7777777777777778,
              "#fb9f3a"
             ],
             [
              0.8888888888888888,
              "#fdca26"
             ],
             [
              1,
              "#f0f921"
             ]
            ],
            "type": "heatmapgl"
           }
          ],
          "histogram": [
           {
            "marker": {
             "pattern": {
              "fillmode": "overlay",
              "size": 10,
              "solidity": 0.2
             }
            },
            "type": "histogram"
           }
          ],
          "histogram2d": [
           {
            "colorbar": {
             "outlinewidth": 0,
             "ticks": ""
            },
            "colorscale": [
             [
              0,
              "#0d0887"
             ],
             [
              0.1111111111111111,
              "#46039f"
             ],
             [
              0.2222222222222222,
              "#7201a8"
             ],
             [
              0.3333333333333333,
              "#9c179e"
             ],
             [
              0.4444444444444444,
              "#bd3786"
             ],
             [
              0.5555555555555556,
              "#d8576b"
             ],
             [
              0.6666666666666666,
              "#ed7953"
             ],
             [
              0.7777777777777778,
              "#fb9f3a"
             ],
             [
              0.8888888888888888,
              "#fdca26"
             ],
             [
              1,
              "#f0f921"
             ]
            ],
            "type": "histogram2d"
           }
          ],
          "histogram2dcontour": [
           {
            "colorbar": {
             "outlinewidth": 0,
             "ticks": ""
            },
            "colorscale": [
             [
              0,
              "#0d0887"
             ],
             [
              0.1111111111111111,
              "#46039f"
             ],
             [
              0.2222222222222222,
              "#7201a8"
             ],
             [
              0.3333333333333333,
              "#9c179e"
             ],
             [
              0.4444444444444444,
              "#bd3786"
             ],
             [
              0.5555555555555556,
              "#d8576b"
             ],
             [
              0.6666666666666666,
              "#ed7953"
             ],
             [
              0.7777777777777778,
              "#fb9f3a"
             ],
             [
              0.8888888888888888,
              "#fdca26"
             ],
             [
              1,
              "#f0f921"
             ]
            ],
            "type": "histogram2dcontour"
           }
          ],
          "mesh3d": [
           {
            "colorbar": {
             "outlinewidth": 0,
             "ticks": ""
            },
            "type": "mesh3d"
           }
          ],
          "parcoords": [
           {
            "line": {
             "colorbar": {
              "outlinewidth": 0,
              "ticks": ""
             }
            },
            "type": "parcoords"
           }
          ],
          "pie": [
           {
            "automargin": true,
            "type": "pie"
           }
          ],
          "scatter": [
           {
            "fillpattern": {
             "fillmode": "overlay",
             "size": 10,
             "solidity": 0.2
            },
            "type": "scatter"
           }
          ],
          "scatter3d": [
           {
            "line": {
             "colorbar": {
              "outlinewidth": 0,
              "ticks": ""
             }
            },
            "marker": {
             "colorbar": {
              "outlinewidth": 0,
              "ticks": ""
             }
            },
            "type": "scatter3d"
           }
          ],
          "scattercarpet": [
           {
            "marker": {
             "colorbar": {
              "outlinewidth": 0,
              "ticks": ""
             }
            },
            "type": "scattercarpet"
           }
          ],
          "scattergeo": [
           {
            "marker": {
             "colorbar": {
              "outlinewidth": 0,
              "ticks": ""
             }
            },
            "type": "scattergeo"
           }
          ],
          "scattergl": [
           {
            "marker": {
             "colorbar": {
              "outlinewidth": 0,
              "ticks": ""
             }
            },
            "type": "scattergl"
           }
          ],
          "scattermapbox": [
           {
            "marker": {
             "colorbar": {
              "outlinewidth": 0,
              "ticks": ""
             }
            },
            "type": "scattermapbox"
           }
          ],
          "scatterpolar": [
           {
            "marker": {
             "colorbar": {
              "outlinewidth": 0,
              "ticks": ""
             }
            },
            "type": "scatterpolar"
           }
          ],
          "scatterpolargl": [
           {
            "marker": {
             "colorbar": {
              "outlinewidth": 0,
              "ticks": ""
             }
            },
            "type": "scatterpolargl"
           }
          ],
          "scatterternary": [
           {
            "marker": {
             "colorbar": {
              "outlinewidth": 0,
              "ticks": ""
             }
            },
            "type": "scatterternary"
           }
          ],
          "surface": [
           {
            "colorbar": {
             "outlinewidth": 0,
             "ticks": ""
            },
            "colorscale": [
             [
              0,
              "#0d0887"
             ],
             [
              0.1111111111111111,
              "#46039f"
             ],
             [
              0.2222222222222222,
              "#7201a8"
             ],
             [
              0.3333333333333333,
              "#9c179e"
             ],
             [
              0.4444444444444444,
              "#bd3786"
             ],
             [
              0.5555555555555556,
              "#d8576b"
             ],
             [
              0.6666666666666666,
              "#ed7953"
             ],
             [
              0.7777777777777778,
              "#fb9f3a"
             ],
             [
              0.8888888888888888,
              "#fdca26"
             ],
             [
              1,
              "#f0f921"
             ]
            ],
            "type": "surface"
           }
          ],
          "table": [
           {
            "cells": {
             "fill": {
              "color": "#EBF0F8"
             },
             "line": {
              "color": "white"
             }
            },
            "header": {
             "fill": {
              "color": "#C8D4E3"
             },
             "line": {
              "color": "white"
             }
            },
            "type": "table"
           }
          ]
         },
         "layout": {
          "annotationdefaults": {
           "arrowcolor": "#2a3f5f",
           "arrowhead": 0,
           "arrowwidth": 1
          },
          "autotypenumbers": "strict",
          "coloraxis": {
           "colorbar": {
            "outlinewidth": 0,
            "ticks": ""
           }
          },
          "colorscale": {
           "diverging": [
            [
             0,
             "#8e0152"
            ],
            [
             0.1,
             "#c51b7d"
            ],
            [
             0.2,
             "#de77ae"
            ],
            [
             0.3,
             "#f1b6da"
            ],
            [
             0.4,
             "#fde0ef"
            ],
            [
             0.5,
             "#f7f7f7"
            ],
            [
             0.6,
             "#e6f5d0"
            ],
            [
             0.7,
             "#b8e186"
            ],
            [
             0.8,
             "#7fbc41"
            ],
            [
             0.9,
             "#4d9221"
            ],
            [
             1,
             "#276419"
            ]
           ],
           "sequential": [
            [
             0,
             "#0d0887"
            ],
            [
             0.1111111111111111,
             "#46039f"
            ],
            [
             0.2222222222222222,
             "#7201a8"
            ],
            [
             0.3333333333333333,
             "#9c179e"
            ],
            [
             0.4444444444444444,
             "#bd3786"
            ],
            [
             0.5555555555555556,
             "#d8576b"
            ],
            [
             0.6666666666666666,
             "#ed7953"
            ],
            [
             0.7777777777777778,
             "#fb9f3a"
            ],
            [
             0.8888888888888888,
             "#fdca26"
            ],
            [
             1,
             "#f0f921"
            ]
           ],
           "sequentialminus": [
            [
             0,
             "#0d0887"
            ],
            [
             0.1111111111111111,
             "#46039f"
            ],
            [
             0.2222222222222222,
             "#7201a8"
            ],
            [
             0.3333333333333333,
             "#9c179e"
            ],
            [
             0.4444444444444444,
             "#bd3786"
            ],
            [
             0.5555555555555556,
             "#d8576b"
            ],
            [
             0.6666666666666666,
             "#ed7953"
            ],
            [
             0.7777777777777778,
             "#fb9f3a"
            ],
            [
             0.8888888888888888,
             "#fdca26"
            ],
            [
             1,
             "#f0f921"
            ]
           ]
          },
          "colorway": [
           "#636efa",
           "#EF553B",
           "#00cc96",
           "#ab63fa",
           "#FFA15A",
           "#19d3f3",
           "#FF6692",
           "#B6E880",
           "#FF97FF",
           "#FECB52"
          ],
          "font": {
           "color": "#2a3f5f"
          },
          "geo": {
           "bgcolor": "white",
           "lakecolor": "white",
           "landcolor": "#E5ECF6",
           "showlakes": true,
           "showland": true,
           "subunitcolor": "white"
          },
          "hoverlabel": {
           "align": "left"
          },
          "hovermode": "closest",
          "mapbox": {
           "style": "light"
          },
          "paper_bgcolor": "white",
          "plot_bgcolor": "#E5ECF6",
          "polar": {
           "angularaxis": {
            "gridcolor": "white",
            "linecolor": "white",
            "ticks": ""
           },
           "bgcolor": "#E5ECF6",
           "radialaxis": {
            "gridcolor": "white",
            "linecolor": "white",
            "ticks": ""
           }
          },
          "scene": {
           "xaxis": {
            "backgroundcolor": "#E5ECF6",
            "gridcolor": "white",
            "gridwidth": 2,
            "linecolor": "white",
            "showbackground": true,
            "ticks": "",
            "zerolinecolor": "white"
           },
           "yaxis": {
            "backgroundcolor": "#E5ECF6",
            "gridcolor": "white",
            "gridwidth": 2,
            "linecolor": "white",
            "showbackground": true,
            "ticks": "",
            "zerolinecolor": "white"
           },
           "zaxis": {
            "backgroundcolor": "#E5ECF6",
            "gridcolor": "white",
            "gridwidth": 2,
            "linecolor": "white",
            "showbackground": true,
            "ticks": "",
            "zerolinecolor": "white"
           }
          },
          "shapedefaults": {
           "line": {
            "color": "#2a3f5f"
           }
          },
          "ternary": {
           "aaxis": {
            "gridcolor": "white",
            "linecolor": "white",
            "ticks": ""
           },
           "baxis": {
            "gridcolor": "white",
            "linecolor": "white",
            "ticks": ""
           },
           "bgcolor": "#E5ECF6",
           "caxis": {
            "gridcolor": "white",
            "linecolor": "white",
            "ticks": ""
           }
          },
          "title": {
           "x": 0.05
          },
          "xaxis": {
           "automargin": true,
           "gridcolor": "white",
           "linecolor": "white",
           "ticks": "",
           "title": {
            "standoff": 15
           },
           "zerolinecolor": "white",
           "zerolinewidth": 2
          },
          "yaxis": {
           "automargin": true,
           "gridcolor": "white",
           "linecolor": "white",
           "ticks": "",
           "title": {
            "standoff": 15
           },
           "zerolinecolor": "white",
           "zerolinewidth": 2
          }
         }
        },
        "width": 500,
        "xaxis": {
         "anchor": "y",
         "autorange": true,
         "domain": [
          0,
          1
         ],
         "range": [
          0,
          0.4706440391622221
         ],
         "title": {
          "text": "Relevance"
         },
         "type": "linear"
        },
        "yaxis": {
         "anchor": "x",
         "autorange": true,
         "domain": [
          0,
          1
         ],
         "range": [
          9.5,
          -0.5
         ],
         "title": {
          "text": "Term"
         },
         "type": "category"
        }
       }
      },
      "image/png": "[encoded data removed]",
      "text/html": [
       "<div>                            <div id=\"523f9031-957f-4746-aac8-231e44e6f811\" class=\"plotly-graph-div\" style=\"height:500px; width:500px;\"></div>            <script type=\"text/javascript\">                require([\"plotly\"], function(Plotly) {                    window.PLOTLYENV=window.PLOTLYENV || {};                                    if (document.getElementById(\"523f9031-957f-4746-aac8-231e44e6f811\")) {                    Plotly.newPlot(                        \"523f9031-957f-4746-aac8-231e44e6f811\",                        [{\"alignmentgroup\":\"True\",\"hovertemplate\":\"Relevance=%{x}<br>Term=%{y}<extra></extra>\",\"legendgroup\":\"\",\"marker\":{\"color\":\"#E53935\",\"pattern\":{\"shape\":\"\"}},\"name\":\"\",\"offsetgroup\":\"\",\"orientation\":\"h\",\"showlegend\":false,\"textposition\":\"auto\",\"x\":[0.44711183720411096,0.3693206508356066,0.36814258836130764,0.3337165793333702,0.3309248217114895,0.3002636810944679,0.2791601464130991,0.2730977415536567,0.2603566257504537,0.2505683513114855],\"xaxis\":\"x\",\"y\":[\"api\",\"official\",\"client\",\"service\",\"request\",\"wrapper\",\"build\",\"implementation\",\"framework\",\"feature\"],\"yaxis\":\"y\",\"type\":\"bar\"}],                        {\"template\":{\"data\":{\"histogram2dcontour\":[{\"type\":\"histogram2dcontour\",\"colorbar\":{\"outlinewidth\":0,\"ticks\":\"\"},\"colorscale\":[[0.0,\"#0d0887\"],[0.1111111111111111,\"#46039f\"],[0.2222222222222222,\"#7201a8\"],[0.3333333333333333,\"#9c179e\"],[0.4444444444444444,\"#bd3786\"],[0.5555555555555556,\"#d8576b\"],[0.6666666666666666,\"#ed7953\"],[0.7777777777777778,\"#fb9f3a\"],[0.8888888888888888,\"#fdca26\"],[1.0,\"#f0f921\"]]}],\"choropleth\":[{\"type\":\"choropleth\",\"colorbar\":{\"outlinewidth\":0,\"ticks\":\"\"}}],\"histogram2d\":[{\"type\":\"histogram2d\",\"colorbar\":{\"outlinewidth\":0,\"ticks\":\"\"},\"colorscale\":[[0.0,\"#0d0887\"],[0.1111111111111111,\"#46039f\"],[0.2222222222222222,\"#7201a8\"],[0.3333333333333333,\"#9c179e\"],[0.4444444444444444,\"#bd3786\"],[0.5555555555555556,\"#d8576b\"],[0.6666666666666666,\"#ed7953\"],[0.7777777777777778,\"#fb9f3a\"],[0.8888888888888888,\"#fdca26\"],[1.0,\"#f0f921\"]]}],\"heatmap\":[{\"type\":\"heatmap\",\"colorbar\":{\"outlinewidth\":0,\"ticks\":\"\"},\"colorscale\":[[0.0,\"#0d0887\"],[0.1111111111111111,\"#46039f\"],[0.2222222222222222,\"#7201a8\"],[0.3333333333333333,\"#9c179e\"],[0.4444444444444444,\"#bd3786\"],[0.5555555555555556,\"#d8576b\"],[0.6666666666666666,\"#ed7953\"],[0.7777777777777778,\"#fb9f3a\"],[0.8888888888888888,\"#fdca26\"],[1.0,\"#f0f921\"]]}],\"heatmapgl\":[{\"type\":\"heatmapgl\",\"colorbar\":{\"outlinewidth\":0,\"ticks\":\"\"},\"colorscale\":[[0.0,\"#0d0887\"],[0.1111111111111111,\"#46039f\"],[0.2222222222222222,\"#7201a8\"],[0.3333333333333333,\"#9c179e\"],[0.4444444444444444,\"#bd3786\"],[0.5555555555555556,\"#d8576b\"],[0.6666666666666666,\"#ed7953\"],[0.7777777777777778,\"#fb9f3a\"],[0.8888888888888888,\"#fdca26\"],[1.0,\"#f0f921\"]]}],\"contourcarpet\":[{\"type\":\"contourcarpet\",\"colorbar\":{\"outlinewidth\":0,\"ticks\":\"\"}}],\"contour\":[{\"type\":\"contour\",\"colorbar\":{\"outlinewidth\":0,\"ticks\":\"\"},\"colorscale\":[[0.0,\"#0d0887\"],[0.1111111111111111,\"#46039f\"],[0.2222222222222222,\"#7201a8\"],[0.3333333333333333,\"#9c179e\"],[0.4444444444444444,\"#bd3786\"],[0.5555555555555556,\"#d8576b\"],[0.6666666666666666,\"#ed7953\"],[0.7777777777777778,\"#fb9f3a\"],[0.8888888888888888,\"#fdca26\"],[1.0,\"#f0f921\"]]}],\"surface\":[{\"type\":\"surface\",\"colorbar\":{\"outlinewidth\":0,\"ticks\":\"\"},\"colorscale\":[[0.0,\"#0d0887\"],[0.1111111111111111,\"#46039f\"],[0.2222222222222222,\"#7201a8\"],[0.3333333333333333,\"#9c179e\"],[0.4444444444444444,\"#bd3786\"],[0.5555555555555556,\"#d8576b\"],[0.6666666666666666,\"#ed7953\"],[0.7777777777777778,\"#fb9f3a\"],[0.8888888888888888,\"#fdca26\"],[1.0,\"#f0f921\"]]}],\"mesh3d\":[{\"type\":\"mesh3d\",\"colorbar\":{\"outlinewidth\":0,\"ticks\":\"\"}}],\"scatter\":[{\"fillpattern\":{\"fillmode\":\"overlay\",\"size\":10,\"solidity\":0.2},\"type\":\"scatter\"}],\"parcoords\":[{\"type\":\"parcoords\",\"line\":{\"colorbar\":{\"outlinewidth\":0,\"ticks\":\"\"}}}],\"scatterpolargl\":[{\"type\":\"scatterpolargl\",\"marker\":{\"colorbar\":{\"outlinewidth\":0,\"ticks\":\"\"}}}],\"bar\":[{\"error_x\":{\"color\":\"#2a3f5f\"},\"error_y\":{\"color\":\"#2a3f5f\"},\"marker\":{\"line\":{\"color\":\"#E5ECF6\",\"width\":0.5},\"pattern\":{\"fillmode\":\"overlay\",\"size\":10,\"solidity\":0.2}},\"type\":\"bar\"}],\"scattergeo\":[{\"type\":\"scattergeo\",\"marker\":{\"colorbar\":{\"outlinewidth\":0,\"ticks\":\"\"}}}],\"scatterpolar\":[{\"type\":\"scatterpolar\",\"marker\":{\"colorbar\":{\"outlinewidth\":0,\"ticks\":\"\"}}}],\"histogram\":[{\"marker\":{\"pattern\":{\"fillmode\":\"overlay\",\"size\":10,\"solidity\":0.2}},\"type\":\"histogram\"}],\"scattergl\":[{\"type\":\"scattergl\",\"marker\":{\"colorbar\":{\"outlinewidth\":0,\"ticks\":\"\"}}}],\"scatter3d\":[{\"type\":\"scatter3d\",\"line\":{\"colorbar\":{\"outlinewidth\":0,\"ticks\":\"\"}},\"marker\":{\"colorbar\":{\"outlinewidth\":0,\"ticks\":\"\"}}}],\"scattermapbox\":[{\"type\":\"scattermapbox\",\"marker\":{\"colorbar\":{\"outlinewidth\":0,\"ticks\":\"\"}}}],\"scatterternary\":[{\"type\":\"scatterternary\",\"marker\":{\"colorbar\":{\"outlinewidth\":0,\"ticks\":\"\"}}}],\"scattercarpet\":[{\"type\":\"scattercarpet\",\"marker\":{\"colorbar\":{\"outlinewidth\":0,\"ticks\":\"\"}}}],\"carpet\":[{\"aaxis\":{\"endlinecolor\":\"#2a3f5f\",\"gridcolor\":\"white\",\"linecolor\":\"white\",\"minorgridcolor\":\"white\",\"startlinecolor\":\"#2a3f5f\"},\"baxis\":{\"endlinecolor\":\"#2a3f5f\",\"gridcolor\":\"white\",\"linecolor\":\"white\",\"minorgridcolor\":\"white\",\"startlinecolor\":\"#2a3f5f\"},\"type\":\"carpet\"}],\"table\":[{\"cells\":{\"fill\":{\"color\":\"#EBF0F8\"},\"line\":{\"color\":\"white\"}},\"header\":{\"fill\":{\"color\":\"#C8D4E3\"},\"line\":{\"color\":\"white\"}},\"type\":\"table\"}],\"barpolar\":[{\"marker\":{\"line\":{\"color\":\"#E5ECF6\",\"width\":0.5},\"pattern\":{\"fillmode\":\"overlay\",\"size\":10,\"solidity\":0.2}},\"type\":\"barpolar\"}],\"pie\":[{\"automargin\":true,\"type\":\"pie\"}]},\"layout\":{\"autotypenumbers\":\"strict\",\"colorway\":[\"#636efa\",\"#EF553B\",\"#00cc96\",\"#ab63fa\",\"#FFA15A\",\"#19d3f3\",\"#FF6692\",\"#B6E880\",\"#FF97FF\",\"#FECB52\"],\"font\":{\"color\":\"#2a3f5f\"},\"hovermode\":\"closest\",\"hoverlabel\":{\"align\":\"left\"},\"paper_bgcolor\":\"white\",\"plot_bgcolor\":\"#E5ECF6\",\"polar\":{\"bgcolor\":\"#E5ECF6\",\"angularaxis\":{\"gridcolor\":\"white\",\"linecolor\":\"white\",\"ticks\":\"\"},\"radialaxis\":{\"gridcolor\":\"white\",\"linecolor\":\"white\",\"ticks\":\"\"}},\"ternary\":{\"bgcolor\":\"#E5ECF6\",\"aaxis\":{\"gridcolor\":\"white\",\"linecolor\":\"white\",\"ticks\":\"\"},\"baxis\":{\"gridcolor\":\"white\",\"linecolor\":\"white\",\"ticks\":\"\"},\"caxis\":{\"gridcolor\":\"white\",\"linecolor\":\"white\",\"ticks\":\"\"}},\"coloraxis\":{\"colorbar\":{\"outlinewidth\":0,\"ticks\":\"\"}},\"colorscale\":{\"sequential\":[[0.0,\"#0d0887\"],[0.1111111111111111,\"#46039f\"],[0.2222222222222222,\"#7201a8\"],[0.3333333333333333,\"#9c179e\"],[0.4444444444444444,\"#bd3786\"],[0.5555555555555556,\"#d8576b\"],[0.6666666666666666,\"#ed7953\"],[0.7777777777777778,\"#fb9f3a\"],[0.8888888888888888,\"#fdca26\"],[1.0,\"#f0f921\"]],\"sequentialminus\":[[0.0,\"#0d0887\"],[0.1111111111111111,\"#46039f\"],[0.2222222222222222,\"#7201a8\"],[0.3333333333333333,\"#9c179e\"],[0.4444444444444444,\"#bd3786\"],[0.5555555555555556,\"#d8576b\"],[0.6666666666666666,\"#ed7953\"],[0.7777777777777778,\"#fb9f3a\"],[0.8888888888888888,\"#fdca26\"],[1.0,\"#f0f921\"]],\"diverging\":[[0,\"#8e0152\"],[0.1,\"#c51b7d\"],[0.2,\"#de77ae\"],[0.3,\"#f1b6da\"],[0.4,\"#fde0ef\"],[0.5,\"#f7f7f7\"],[0.6,\"#e6f5d0\"],[0.7,\"#b8e186\"],[0.8,\"#7fbc41\"],[0.9,\"#4d9221\"],[1,\"#276419\"]]},\"xaxis\":{\"gridcolor\":\"white\",\"linecolor\":\"white\",\"ticks\":\"\",\"title\":{\"standoff\":15},\"zerolinecolor\":\"white\",\"automargin\":true,\"zerolinewidth\":2},\"yaxis\":{\"gridcolor\":\"white\",\"linecolor\":\"white\",\"ticks\":\"\",\"title\":{\"standoff\":15},\"zerolinecolor\":\"white\",\"automargin\":true,\"zerolinewidth\":2},\"scene\":{\"xaxis\":{\"backgroundcolor\":\"#E5ECF6\",\"gridcolor\":\"white\",\"linecolor\":\"white\",\"showbackground\":true,\"ticks\":\"\",\"zerolinecolor\":\"white\",\"gridwidth\":2},\"yaxis\":{\"backgroundcolor\":\"#E5ECF6\",\"gridcolor\":\"white\",\"linecolor\":\"white\",\"showbackground\":true,\"ticks\":\"\",\"zerolinecolor\":\"white\",\"gridwidth\":2},\"zaxis\":{\"backgroundcolor\":\"#E5ECF6\",\"gridcolor\":\"white\",\"linecolor\":\"white\",\"showbackground\":true,\"ticks\":\"\",\"zerolinecolor\":\"white\",\"gridwidth\":2}},\"shapedefaults\":{\"line\":{\"color\":\"#2a3f5f\"}},\"annotationdefaults\":{\"arrowcolor\":\"#2a3f5f\",\"arrowhead\":0,\"arrowwidth\":1},\"geo\":{\"bgcolor\":\"white\",\"landcolor\":\"#E5ECF6\",\"subunitcolor\":\"white\",\"showland\":true,\"showlakes\":true,\"lakecolor\":\"white\"},\"title\":{\"x\":0.05},\"mapbox\":{\"style\":\"light\"}}},\"xaxis\":{\"anchor\":\"y\",\"domain\":[0.0,1.0],\"title\":{\"text\":\"Relevance\"}},\"yaxis\":{\"anchor\":\"x\",\"domain\":[0.0,1.0],\"title\":{\"text\":\"Term\"},\"autorange\":\"reversed\"},\"legend\":{\"tracegroupgap\":0},\"margin\":{\"t\":60},\"barmode\":\"relative\",\"height\":500,\"width\":500},                        {\"responsive\": true}                    ).then(function(){\n",
       "                            \n",
       "var gd = document.getElementById('523f9031-957f-4746-aac8-231e44e6f811');\n",
       "var x = new MutationObserver(function (mutations, observer) {{\n",
       "        var display = window.getComputedStyle(gd).display;\n",
       "        if (!display || display === 'none') {{\n",
       "            console.log([gd, 'removed!']);\n",
       "            Plotly.purge(gd);\n",
       "            observer.disconnect();\n",
       "        }}\n",
       "}});\n",
       "\n",
       "// Listen for the removal of the full notebook cells\n",
       "var notebookContainer = gd.closest('#notebook-container');\n",
       "if (notebookContainer) {{\n",
       "    x.observe(notebookContainer, {childList: true});\n",
       "}}\n",
       "\n",
       "// Listen for the clearing of the current output cell\n",
       "var outputEl = gd.closest('.output');\n",
       "if (outputEl) {{\n",
       "    x.observe(outputEl, {childList: true});\n",
       "}}\n",
       "\n",
       "                        })                };                });            </script>        </div>"
      ]
     },
     "metadata": {},
     "output_type": "display_data"
    },
    {
     "name": "stdout",
     "output_type": "stream",
     "text": [
      "Top 10 documents:\n"
     ]
    },
    {
     "data": {
      "text/html": [
       "<div>\n",
       "<style scoped>\n",
       "    .dataframe tbody tr th:only-of-type {\n",
       "        vertical-align: middle;\n",
       "    }\n",
       "\n",
       "    .dataframe tbody tr th {\n",
       "        vertical-align: top;\n",
       "    }\n",
       "\n",
       "    .dataframe thead th {\n",
       "        text-align: right;\n",
       "    }\n",
       "</style>\n",
       "<table border=\"1\" class=\"dataframe\">\n",
       "  <thead>\n",
       "    <tr style=\"text-align: right;\">\n",
       "      <th></th>\n",
       "      <th>OWNER</th>\n",
       "      <th>NAME</th>\n",
       "      <th>CONTEXTS</th>\n",
       "      <th>TEXT_PROCESSED</th>\n",
       "      <th>LENGTH_PROCESSED</th>\n",
       "      <th>TOPIC</th>\n",
       "    </tr>\n",
       "  </thead>\n",
       "  <tbody>\n",
       "    <tr>\n",
       "      <th>3</th>\n",
       "      <td>3scale</td>\n",
       "      <td>3scale_ws_api_for_ruby</td>\n",
       "      <td>[[\"3scale\", \"api\", \"infrastructure\", \"service\"...</td>\n",
       "      <td>3scale api infrastructure service handle api k...</td>\n",
       "      <td>25</td>\n",
       "      <td>3</td>\n",
       "    </tr>\n",
       "    <tr>\n",
       "      <th>81</th>\n",
       "      <td>basecrm</td>\n",
       "      <td>basecrm-ruby</td>\n",
       "      <td>[[\"basecrm\", \"official\", \"api\", \"v2\", \"library...</td>\n",
       "      <td>basecrm official api v2 library client ruby.</td>\n",
       "      <td>7</td>\n",
       "      <td>3</td>\n",
       "    </tr>\n",
       "    <tr>\n",
       "      <th>123</th>\n",
       "      <td>cburnette</td>\n",
       "      <td>boxr</td>\n",
       "      <td>[[\"boxr\", \"ruby\", \"client\", \"library\", \"box\", ...</td>\n",
       "      <td>boxr ruby client library box v2 content api bo...</td>\n",
       "      <td>18</td>\n",
       "      <td>3</td>\n",
       "    </tr>\n",
       "    <tr>\n",
       "      <th>220</th>\n",
       "      <td>dnsimple</td>\n",
       "      <td>dnsimple-ruby</td>\n",
       "      <td>[[\"ruby\", \"client\", \"dnsimple\", \"api\", \"v2\"]]</td>\n",
       "      <td>ruby client dnsimple api v2.</td>\n",
       "      <td>5</td>\n",
       "      <td>3</td>\n",
       "    </tr>\n",
       "    <tr>\n",
       "      <th>364</th>\n",
       "      <td>hashicorp</td>\n",
       "      <td>vault-ruby</td>\n",
       "      <td>[[\"vault\", \"official\", \"ruby\", \"client\", \"inte...</td>\n",
       "      <td>vault official ruby client interact vault hash...</td>\n",
       "      <td>7</td>\n",
       "      <td>3</td>\n",
       "    </tr>\n",
       "    <tr>\n",
       "      <th>406</th>\n",
       "      <td>influxdata</td>\n",
       "      <td>influxdb-ruby</td>\n",
       "      <td>[[\"official\", \"ruby\", \"client\", \"library\", \"in...</td>\n",
       "      <td>official ruby client library influxdb maintain...</td>\n",
       "      <td>8</td>\n",
       "      <td>3</td>\n",
       "    </tr>\n",
       "    <tr>\n",
       "      <th>491</th>\n",
       "      <td>kontena</td>\n",
       "      <td>kong-client-ruby</td>\n",
       "      <td>[[\"kong\", \"api\", \"client\", \"ruby\"]]</td>\n",
       "      <td>kong api client ruby.</td>\n",
       "      <td>4</td>\n",
       "      <td>3</td>\n",
       "    </tr>\n",
       "    <tr>\n",
       "      <th>959</th>\n",
       "      <td>tpitale</td>\n",
       "      <td>staccato</td>\n",
       "      <td>[[\"ruby\", \"library\", \"track\", \"official\", \"goo...</td>\n",
       "      <td>ruby library track official google analytics m...</td>\n",
       "      <td>8</td>\n",
       "      <td>3</td>\n",
       "    </tr>\n",
       "    <tr>\n",
       "      <th>982</th>\n",
       "      <td>unixcharles</td>\n",
       "      <td>acme-client</td>\n",
       "      <td>[[\"acme-client\", \"client\", \"implementation\", \"...</td>\n",
       "      <td>acme-client client implementation acmev rfc pr...</td>\n",
       "      <td>7</td>\n",
       "      <td>3</td>\n",
       "    </tr>\n",
       "    <tr>\n",
       "      <th>983</th>\n",
       "      <td>Unleash</td>\n",
       "      <td>unleash-client-ruby</td>\n",
       "      <td>[[\"unleash\", \"client\", \"roll\", \"feature\", \"con...</td>\n",
       "      <td>unleash client roll feature confidence.</td>\n",
       "      <td>5</td>\n",
       "      <td>3</td>\n",
       "    </tr>\n",
       "  </tbody>\n",
       "</table>\n",
       "</div>"
      ],
      "text/plain": [
       "           OWNER                    NAME                                           CONTEXTS                                     TEXT_PROCESSED  LENGTH_PROCESSED  TOPIC\n",
       "3         3scale  3scale_ws_api_for_ruby  [[\"3scale\", \"api\", \"infrastructure\", \"service\"...  3scale api infrastructure service handle api k...                25      3\n",
       "81       basecrm            basecrm-ruby  [[\"basecrm\", \"official\", \"api\", \"v2\", \"library...       basecrm official api v2 library client ruby.                 7      3\n",
       "123    cburnette                    boxr  [[\"boxr\", \"ruby\", \"client\", \"library\", \"box\", ...  boxr ruby client library box v2 content api bo...                18      3\n",
       "220     dnsimple           dnsimple-ruby      [[\"ruby\", \"client\", \"dnsimple\", \"api\", \"v2\"]]                       ruby client dnsimple api v2.                 5      3\n",
       "364    hashicorp              vault-ruby  [[\"vault\", \"official\", \"ruby\", \"client\", \"inte...  vault official ruby client interact vault hash...                 7      3\n",
       "406   influxdata           influxdb-ruby  [[\"official\", \"ruby\", \"client\", \"library\", \"in...  official ruby client library influxdb maintain...                 8      3\n",
       "491      kontena        kong-client-ruby                [[\"kong\", \"api\", \"client\", \"ruby\"]]                              kong api client ruby.                 4      3\n",
       "959      tpitale                staccato  [[\"ruby\", \"library\", \"track\", \"official\", \"goo...  ruby library track official google analytics m...                 8      3\n",
       "982  unixcharles             acme-client  [[\"acme-client\", \"client\", \"implementation\", \"...  acme-client client implementation acmev rfc pr...                 7      3\n",
       "983      Unleash     unleash-client-ruby  [[\"unleash\", \"client\", \"roll\", \"feature\", \"con...            unleash client roll feature confidence.                 5      3"
      ]
     },
     "metadata": {},
     "output_type": "display_data"
    },
    {
     "name": "stdout",
     "output_type": "stream",
     "text": [
      "3scale api infrastructure service handle api key rate limiting analytics bill payment developer management include configurable api dashboard developer portal cm product stuff support information.\n",
      "basecrm official api v2 library client ruby.\n",
      "boxr ruby client library box v2 content api box employee affectionately refer one another boxer hence name gem.\n",
      "ruby client dnsimple api v2.\n",
      "vault official ruby client interact vault hashicorp.\n",
      "official ruby client library influxdb maintain @toddboom @dmke.\n",
      "kong api client ruby.\n",
      "ruby library track official google analytics measurement protocol.\n",
      "acme-client client implementation acmev rfc protocol ruby.\n",
      "unleash client roll feature confidence.\n",
      "Topic 1: 100 repos\n"
     ]
    },
    {
     "data": {
      "application/vnd.plotly.v1+json": {
       "config": {
        "plotlyServerURL": "https://plot.ly"
       },
       "data": [
        {
         "alignmentgroup": "True",
         "hovertemplate": "Relevance=%{x}<br>Term=%{y}<extra></extra>",
         "legendgroup": "",
         "marker": {
          "color": "#E53935",
          "pattern": {
           "shape": ""
          }
         },
         "name": "",
         "offsetgroup": "",
         "orientation": "h",
         "showlegend": false,
         "textposition": "auto",
         "type": "bar",
         "x": [
          0.3628888871965817,
          0.33890215938049867,
          0.33270717745852146,
          0.3297314880987539,
          0.32092264100541085,
          0.2924515241815803,
          0.2835608204832229,
          0.28220770110195376,
          0.2634608758771937,
          0.2621814017574105
         ],
         "xaxis": "x",
         "y": [
          "rails",
          "user",
          "class",
          "generate",
          "model",
          "like",
          "object",
          "also",
          "language",
          "easy"
         ],
         "yaxis": "y"
        }
       ],
       "layout": {
        "barmode": "relative",
        "height": 500,
        "legend": {
         "tracegroupgap": 0
        },
        "margin": {
         "t": 60
        },
        "template": {
         "data": {
          "bar": [
           {
            "error_x": {
             "color": "#2a3f5f"
            },
            "error_y": {
             "color": "#2a3f5f"
            },
            "marker": {
             "line": {
              "color": "#E5ECF6",
              "width": 0.5
             },
             "pattern": {
              "fillmode": "overlay",
              "size": 10,
              "solidity": 0.2
             }
            },
            "type": "bar"
           }
          ],
          "barpolar": [
           {
            "marker": {
             "line": {
              "color": "#E5ECF6",
              "width": 0.5
             },
             "pattern": {
              "fillmode": "overlay",
              "size": 10,
              "solidity": 0.2
             }
            },
            "type": "barpolar"
           }
          ],
          "carpet": [
           {
            "aaxis": {
             "endlinecolor": "#2a3f5f",
             "gridcolor": "white",
             "linecolor": "white",
             "minorgridcolor": "white",
             "startlinecolor": "#2a3f5f"
            },
            "baxis": {
             "endlinecolor": "#2a3f5f",
             "gridcolor": "white",
             "linecolor": "white",
             "minorgridcolor": "white",
             "startlinecolor": "#2a3f5f"
            },
            "type": "carpet"
           }
          ],
          "choropleth": [
           {
            "colorbar": {
             "outlinewidth": 0,
             "ticks": ""
            },
            "type": "choropleth"
           }
          ],
          "contour": [
           {
            "colorbar": {
             "outlinewidth": 0,
             "ticks": ""
            },
            "colorscale": [
             [
              0,
              "#0d0887"
             ],
             [
              0.1111111111111111,
              "#46039f"
             ],
             [
              0.2222222222222222,
              "#7201a8"
             ],
             [
              0.3333333333333333,
              "#9c179e"
             ],
             [
              0.4444444444444444,
              "#bd3786"
             ],
             [
              0.5555555555555556,
              "#d8576b"
             ],
             [
              0.6666666666666666,
              "#ed7953"
             ],
             [
              0.7777777777777778,
              "#fb9f3a"
             ],
             [
              0.8888888888888888,
              "#fdca26"
             ],
             [
              1,
              "#f0f921"
             ]
            ],
            "type": "contour"
           }
          ],
          "contourcarpet": [
           {
            "colorbar": {
             "outlinewidth": 0,
             "ticks": ""
            },
            "type": "contourcarpet"
           }
          ],
          "heatmap": [
           {
            "colorbar": {
             "outlinewidth": 0,
             "ticks": ""
            },
            "colorscale": [
             [
              0,
              "#0d0887"
             ],
             [
              0.1111111111111111,
              "#46039f"
             ],
             [
              0.2222222222222222,
              "#7201a8"
             ],
             [
              0.3333333333333333,
              "#9c179e"
             ],
             [
              0.4444444444444444,
              "#bd3786"
             ],
             [
              0.5555555555555556,
              "#d8576b"
             ],
             [
              0.6666666666666666,
              "#ed7953"
             ],
             [
              0.7777777777777778,
              "#fb9f3a"
             ],
             [
              0.8888888888888888,
              "#fdca26"
             ],
             [
              1,
              "#f0f921"
             ]
            ],
            "type": "heatmap"
           }
          ],
          "heatmapgl": [
           {
            "colorbar": {
             "outlinewidth": 0,
             "ticks": ""
            },
            "colorscale": [
             [
              0,
              "#0d0887"
             ],
             [
              0.1111111111111111,
              "#46039f"
             ],
             [
              0.2222222222222222,
              "#7201a8"
             ],
             [
              0.3333333333333333,
              "#9c179e"
             ],
             [
              0.4444444444444444,
              "#bd3786"
             ],
             [
              0.5555555555555556,
              "#d8576b"
             ],
             [
              0.6666666666666666,
              "#ed7953"
             ],
             [
              0.7777777777777778,
              "#fb9f3a"
             ],
             [
              0.8888888888888888,
              "#fdca26"
             ],
             [
              1,
              "#f0f921"
             ]
            ],
            "type": "heatmapgl"
           }
          ],
          "histogram": [
           {
            "marker": {
             "pattern": {
              "fillmode": "overlay",
              "size": 10,
              "solidity": 0.2
             }
            },
            "type": "histogram"
           }
          ],
          "histogram2d": [
           {
            "colorbar": {
             "outlinewidth": 0,
             "ticks": ""
            },
            "colorscale": [
             [
              0,
              "#0d0887"
             ],
             [
              0.1111111111111111,
              "#46039f"
             ],
             [
              0.2222222222222222,
              "#7201a8"
             ],
             [
              0.3333333333333333,
              "#9c179e"
             ],
             [
              0.4444444444444444,
              "#bd3786"
             ],
             [
              0.5555555555555556,
              "#d8576b"
             ],
             [
              0.6666666666666666,
              "#ed7953"
             ],
             [
              0.7777777777777778,
              "#fb9f3a"
             ],
             [
              0.8888888888888888,
              "#fdca26"
             ],
             [
              1,
              "#f0f921"
             ]
            ],
            "type": "histogram2d"
           }
          ],
          "histogram2dcontour": [
           {
            "colorbar": {
             "outlinewidth": 0,
             "ticks": ""
            },
            "colorscale": [
             [
              0,
              "#0d0887"
             ],
             [
              0.1111111111111111,
              "#46039f"
             ],
             [
              0.2222222222222222,
              "#7201a8"
             ],
             [
              0.3333333333333333,
              "#9c179e"
             ],
             [
              0.4444444444444444,
              "#bd3786"
             ],
             [
              0.5555555555555556,
              "#d8576b"
             ],
             [
              0.6666666666666666,
              "#ed7953"
             ],
             [
              0.7777777777777778,
              "#fb9f3a"
             ],
             [
              0.8888888888888888,
              "#fdca26"
             ],
             [
              1,
              "#f0f921"
             ]
            ],
            "type": "histogram2dcontour"
           }
          ],
          "mesh3d": [
           {
            "colorbar": {
             "outlinewidth": 0,
             "ticks": ""
            },
            "type": "mesh3d"
           }
          ],
          "parcoords": [
           {
            "line": {
             "colorbar": {
              "outlinewidth": 0,
              "ticks": ""
             }
            },
            "type": "parcoords"
           }
          ],
          "pie": [
           {
            "automargin": true,
            "type": "pie"
           }
          ],
          "scatter": [
           {
            "fillpattern": {
             "fillmode": "overlay",
             "size": 10,
             "solidity": 0.2
            },
            "type": "scatter"
           }
          ],
          "scatter3d": [
           {
            "line": {
             "colorbar": {
              "outlinewidth": 0,
              "ticks": ""
             }
            },
            "marker": {
             "colorbar": {
              "outlinewidth": 0,
              "ticks": ""
             }
            },
            "type": "scatter3d"
           }
          ],
          "scattercarpet": [
           {
            "marker": {
             "colorbar": {
              "outlinewidth": 0,
              "ticks": ""
             }
            },
            "type": "scattercarpet"
           }
          ],
          "scattergeo": [
           {
            "marker": {
             "colorbar": {
              "outlinewidth": 0,
              "ticks": ""
             }
            },
            "type": "scattergeo"
           }
          ],
          "scattergl": [
           {
            "marker": {
             "colorbar": {
              "outlinewidth": 0,
              "ticks": ""
             }
            },
            "type": "scattergl"
           }
          ],
          "scattermapbox": [
           {
            "marker": {
             "colorbar": {
              "outlinewidth": 0,
              "ticks": ""
             }
            },
            "type": "scattermapbox"
           }
          ],
          "scatterpolar": [
           {
            "marker": {
             "colorbar": {
              "outlinewidth": 0,
              "ticks": ""
             }
            },
            "type": "scatterpolar"
           }
          ],
          "scatterpolargl": [
           {
            "marker": {
             "colorbar": {
              "outlinewidth": 0,
              "ticks": ""
             }
            },
            "type": "scatterpolargl"
           }
          ],
          "scatterternary": [
           {
            "marker": {
             "colorbar": {
              "outlinewidth": 0,
              "ticks": ""
             }
            },
            "type": "scatterternary"
           }
          ],
          "surface": [
           {
            "colorbar": {
             "outlinewidth": 0,
             "ticks": ""
            },
            "colorscale": [
             [
              0,
              "#0d0887"
             ],
             [
              0.1111111111111111,
              "#46039f"
             ],
             [
              0.2222222222222222,
              "#7201a8"
             ],
             [
              0.3333333333333333,
              "#9c179e"
             ],
             [
              0.4444444444444444,
              "#bd3786"
             ],
             [
              0.5555555555555556,
              "#d8576b"
             ],
             [
              0.6666666666666666,
              "#ed7953"
             ],
             [
              0.7777777777777778,
              "#fb9f3a"
             ],
             [
              0.8888888888888888,
              "#fdca26"
             ],
             [
              1,
              "#f0f921"
             ]
            ],
            "type": "surface"
           }
          ],
          "table": [
           {
            "cells": {
             "fill": {
              "color": "#EBF0F8"
             },
             "line": {
              "color": "white"
             }
            },
            "header": {
             "fill": {
              "color": "#C8D4E3"
             },
             "line": {
              "color": "white"
             }
            },
            "type": "table"
           }
          ]
         },
         "layout": {
          "annotationdefaults": {
           "arrowcolor": "#2a3f5f",
           "arrowhead": 0,
           "arrowwidth": 1
          },
          "autotypenumbers": "strict",
          "coloraxis": {
           "colorbar": {
            "outlinewidth": 0,
            "ticks": ""
           }
          },
          "colorscale": {
           "diverging": [
            [
             0,
             "#8e0152"
            ],
            [
             0.1,
             "#c51b7d"
            ],
            [
             0.2,
             "#de77ae"
            ],
            [
             0.3,
             "#f1b6da"
            ],
            [
             0.4,
             "#fde0ef"
            ],
            [
             0.5,
             "#f7f7f7"
            ],
            [
             0.6,
             "#e6f5d0"
            ],
            [
             0.7,
             "#b8e186"
            ],
            [
             0.8,
             "#7fbc41"
            ],
            [
             0.9,
             "#4d9221"
            ],
            [
             1,
             "#276419"
            ]
           ],
           "sequential": [
            [
             0,
             "#0d0887"
            ],
            [
             0.1111111111111111,
             "#46039f"
            ],
            [
             0.2222222222222222,
             "#7201a8"
            ],
            [
             0.3333333333333333,
             "#9c179e"
            ],
            [
             0.4444444444444444,
             "#bd3786"
            ],
            [
             0.5555555555555556,
             "#d8576b"
            ],
            [
             0.6666666666666666,
             "#ed7953"
            ],
            [
             0.7777777777777778,
             "#fb9f3a"
            ],
            [
             0.8888888888888888,
             "#fdca26"
            ],
            [
             1,
             "#f0f921"
            ]
           ],
           "sequentialminus": [
            [
             0,
             "#0d0887"
            ],
            [
             0.1111111111111111,
             "#46039f"
            ],
            [
             0.2222222222222222,
             "#7201a8"
            ],
            [
             0.3333333333333333,
             "#9c179e"
            ],
            [
             0.4444444444444444,
             "#bd3786"
            ],
            [
             0.5555555555555556,
             "#d8576b"
            ],
            [
             0.6666666666666666,
             "#ed7953"
            ],
            [
             0.7777777777777778,
             "#fb9f3a"
            ],
            [
             0.8888888888888888,
             "#fdca26"
            ],
            [
             1,
             "#f0f921"
            ]
           ]
          },
          "colorway": [
           "#636efa",
           "#EF553B",
           "#00cc96",
           "#ab63fa",
           "#FFA15A",
           "#19d3f3",
           "#FF6692",
           "#B6E880",
           "#FF97FF",
           "#FECB52"
          ],
          "font": {
           "color": "#2a3f5f"
          },
          "geo": {
           "bgcolor": "white",
           "lakecolor": "white",
           "landcolor": "#E5ECF6",
           "showlakes": true,
           "showland": true,
           "subunitcolor": "white"
          },
          "hoverlabel": {
           "align": "left"
          },
          "hovermode": "closest",
          "mapbox": {
           "style": "light"
          },
          "paper_bgcolor": "white",
          "plot_bgcolor": "#E5ECF6",
          "polar": {
           "angularaxis": {
            "gridcolor": "white",
            "linecolor": "white",
            "ticks": ""
           },
           "bgcolor": "#E5ECF6",
           "radialaxis": {
            "gridcolor": "white",
            "linecolor": "white",
            "ticks": ""
           }
          },
          "scene": {
           "xaxis": {
            "backgroundcolor": "#E5ECF6",
            "gridcolor": "white",
            "gridwidth": 2,
            "linecolor": "white",
            "showbackground": true,
            "ticks": "",
            "zerolinecolor": "white"
           },
           "yaxis": {
            "backgroundcolor": "#E5ECF6",
            "gridcolor": "white",
            "gridwidth": 2,
            "linecolor": "white",
            "showbackground": true,
            "ticks": "",
            "zerolinecolor": "white"
           },
           "zaxis": {
            "backgroundcolor": "#E5ECF6",
            "gridcolor": "white",
            "gridwidth": 2,
            "linecolor": "white",
            "showbackground": true,
            "ticks": "",
            "zerolinecolor": "white"
           }
          },
          "shapedefaults": {
           "line": {
            "color": "#2a3f5f"
           }
          },
          "ternary": {
           "aaxis": {
            "gridcolor": "white",
            "linecolor": "white",
            "ticks": ""
           },
           "baxis": {
            "gridcolor": "white",
            "linecolor": "white",
            "ticks": ""
           },
           "bgcolor": "#E5ECF6",
           "caxis": {
            "gridcolor": "white",
            "linecolor": "white",
            "ticks": ""
           }
          },
          "title": {
           "x": 0.05
          },
          "xaxis": {
           "automargin": true,
           "gridcolor": "white",
           "linecolor": "white",
           "ticks": "",
           "title": {
            "standoff": 15
           },
           "zerolinecolor": "white",
           "zerolinewidth": 2
          },
          "yaxis": {
           "automargin": true,
           "gridcolor": "white",
           "linecolor": "white",
           "ticks": "",
           "title": {
            "standoff": 15
           },
           "zerolinecolor": "white",
           "zerolinewidth": 2
          }
         }
        },
        "width": 500,
        "xaxis": {
         "anchor": "y",
         "autorange": true,
         "domain": [
          0,
          1
         ],
         "range": [
          0,
          0.3819883023121913
         ],
         "title": {
          "text": "Relevance"
         },
         "type": "linear"
        },
        "yaxis": {
         "anchor": "x",
         "autorange": true,
         "domain": [
          0,
          1
         ],
         "range": [
          9.5,
          -0.5
         ],
         "title": {
          "text": "Term"
         },
         "type": "category"
        }
       }
      },
      "image/png": "[encoded data removed]",
      "text/html": [
       "<div>                            <div id=\"f2a56823-d7f3-41d3-b9a6-6201573c8000\" class=\"plotly-graph-div\" style=\"height:500px; width:500px;\"></div>            <script type=\"text/javascript\">                require([\"plotly\"], function(Plotly) {                    window.PLOTLYENV=window.PLOTLYENV || {};                                    if (document.getElementById(\"f2a56823-d7f3-41d3-b9a6-6201573c8000\")) {                    Plotly.newPlot(                        \"f2a56823-d7f3-41d3-b9a6-6201573c8000\",                        [{\"alignmentgroup\":\"True\",\"hovertemplate\":\"Relevance=%{x}<br>Term=%{y}<extra></extra>\",\"legendgroup\":\"\",\"marker\":{\"color\":\"#E53935\",\"pattern\":{\"shape\":\"\"}},\"name\":\"\",\"offsetgroup\":\"\",\"orientation\":\"h\",\"showlegend\":false,\"textposition\":\"auto\",\"x\":[0.3628888871965817,0.33890215938049867,0.33270717745852146,0.3297314880987539,0.32092264100541085,0.2924515241815803,0.2835608204832229,0.28220770110195376,0.2634608758771937,0.2621814017574105],\"xaxis\":\"x\",\"y\":[\"rails\",\"user\",\"class\",\"generate\",\"model\",\"like\",\"object\",\"also\",\"language\",\"easy\"],\"yaxis\":\"y\",\"type\":\"bar\"}],                        {\"template\":{\"data\":{\"histogram2dcontour\":[{\"type\":\"histogram2dcontour\",\"colorbar\":{\"outlinewidth\":0,\"ticks\":\"\"},\"colorscale\":[[0.0,\"#0d0887\"],[0.1111111111111111,\"#46039f\"],[0.2222222222222222,\"#7201a8\"],[0.3333333333333333,\"#9c179e\"],[0.4444444444444444,\"#bd3786\"],[0.5555555555555556,\"#d8576b\"],[0.6666666666666666,\"#ed7953\"],[0.7777777777777778,\"#fb9f3a\"],[0.8888888888888888,\"#fdca26\"],[1.0,\"#f0f921\"]]}],\"choropleth\":[{\"type\":\"choropleth\",\"colorbar\":{\"outlinewidth\":0,\"ticks\":\"\"}}],\"histogram2d\":[{\"type\":\"histogram2d\",\"colorbar\":{\"outlinewidth\":0,\"ticks\":\"\"},\"colorscale\":[[0.0,\"#0d0887\"],[0.1111111111111111,\"#46039f\"],[0.2222222222222222,\"#7201a8\"],[0.3333333333333333,\"#9c179e\"],[0.4444444444444444,\"#bd3786\"],[0.5555555555555556,\"#d8576b\"],[0.6666666666666666,\"#ed7953\"],[0.7777777777777778,\"#fb9f3a\"],[0.8888888888888888,\"#fdca26\"],[1.0,\"#f0f921\"]]}],\"heatmap\":[{\"type\":\"heatmap\",\"colorbar\":{\"outlinewidth\":0,\"ticks\":\"\"},\"colorscale\":[[0.0,\"#0d0887\"],[0.1111111111111111,\"#46039f\"],[0.2222222222222222,\"#7201a8\"],[0.3333333333333333,\"#9c179e\"],[0.4444444444444444,\"#bd3786\"],[0.5555555555555556,\"#d8576b\"],[0.6666666666666666,\"#ed7953\"],[0.7777777777777778,\"#fb9f3a\"],[0.8888888888888888,\"#fdca26\"],[1.0,\"#f0f921\"]]}],\"heatmapgl\":[{\"type\":\"heatmapgl\",\"colorbar\":{\"outlinewidth\":0,\"ticks\":\"\"},\"colorscale\":[[0.0,\"#0d0887\"],[0.1111111111111111,\"#46039f\"],[0.2222222222222222,\"#7201a8\"],[0.3333333333333333,\"#9c179e\"],[0.4444444444444444,\"#bd3786\"],[0.5555555555555556,\"#d8576b\"],[0.6666666666666666,\"#ed7953\"],[0.7777777777777778,\"#fb9f3a\"],[0.8888888888888888,\"#fdca26\"],[1.0,\"#f0f921\"]]}],\"contourcarpet\":[{\"type\":\"contourcarpet\",\"colorbar\":{\"outlinewidth\":0,\"ticks\":\"\"}}],\"contour\":[{\"type\":\"contour\",\"colorbar\":{\"outlinewidth\":0,\"ticks\":\"\"},\"colorscale\":[[0.0,\"#0d0887\"],[0.1111111111111111,\"#46039f\"],[0.2222222222222222,\"#7201a8\"],[0.3333333333333333,\"#9c179e\"],[0.4444444444444444,\"#bd3786\"],[0.5555555555555556,\"#d8576b\"],[0.6666666666666666,\"#ed7953\"],[0.7777777777777778,\"#fb9f3a\"],[0.8888888888888888,\"#fdca26\"],[1.0,\"#f0f921\"]]}],\"surface\":[{\"type\":\"surface\",\"colorbar\":{\"outlinewidth\":0,\"ticks\":\"\"},\"colorscale\":[[0.0,\"#0d0887\"],[0.1111111111111111,\"#46039f\"],[0.2222222222222222,\"#7201a8\"],[0.3333333333333333,\"#9c179e\"],[0.4444444444444444,\"#bd3786\"],[0.5555555555555556,\"#d8576b\"],[0.6666666666666666,\"#ed7953\"],[0.7777777777777778,\"#fb9f3a\"],[0.8888888888888888,\"#fdca26\"],[1.0,\"#f0f921\"]]}],\"mesh3d\":[{\"type\":\"mesh3d\",\"colorbar\":{\"outlinewidth\":0,\"ticks\":\"\"}}],\"scatter\":[{\"fillpattern\":{\"fillmode\":\"overlay\",\"size\":10,\"solidity\":0.2},\"type\":\"scatter\"}],\"parcoords\":[{\"type\":\"parcoords\",\"line\":{\"colorbar\":{\"outlinewidth\":0,\"ticks\":\"\"}}}],\"scatterpolargl\":[{\"type\":\"scatterpolargl\",\"marker\":{\"colorbar\":{\"outlinewidth\":0,\"ticks\":\"\"}}}],\"bar\":[{\"error_x\":{\"color\":\"#2a3f5f\"},\"error_y\":{\"color\":\"#2a3f5f\"},\"marker\":{\"line\":{\"color\":\"#E5ECF6\",\"width\":0.5},\"pattern\":{\"fillmode\":\"overlay\",\"size\":10,\"solidity\":0.2}},\"type\":\"bar\"}],\"scattergeo\":[{\"type\":\"scattergeo\",\"marker\":{\"colorbar\":{\"outlinewidth\":0,\"ticks\":\"\"}}}],\"scatterpolar\":[{\"type\":\"scatterpolar\",\"marker\":{\"colorbar\":{\"outlinewidth\":0,\"ticks\":\"\"}}}],\"histogram\":[{\"marker\":{\"pattern\":{\"fillmode\":\"overlay\",\"size\":10,\"solidity\":0.2}},\"type\":\"histogram\"}],\"scattergl\":[{\"type\":\"scattergl\",\"marker\":{\"colorbar\":{\"outlinewidth\":0,\"ticks\":\"\"}}}],\"scatter3d\":[{\"type\":\"scatter3d\",\"line\":{\"colorbar\":{\"outlinewidth\":0,\"ticks\":\"\"}},\"marker\":{\"colorbar\":{\"outlinewidth\":0,\"ticks\":\"\"}}}],\"scattermapbox\":[{\"type\":\"scattermapbox\",\"marker\":{\"colorbar\":{\"outlinewidth\":0,\"ticks\":\"\"}}}],\"scatterternary\":[{\"type\":\"scatterternary\",\"marker\":{\"colorbar\":{\"outlinewidth\":0,\"ticks\":\"\"}}}],\"scattercarpet\":[{\"type\":\"scattercarpet\",\"marker\":{\"colorbar\":{\"outlinewidth\":0,\"ticks\":\"\"}}}],\"carpet\":[{\"aaxis\":{\"endlinecolor\":\"#2a3f5f\",\"gridcolor\":\"white\",\"linecolor\":\"white\",\"minorgridcolor\":\"white\",\"startlinecolor\":\"#2a3f5f\"},\"baxis\":{\"endlinecolor\":\"#2a3f5f\",\"gridcolor\":\"white\",\"linecolor\":\"white\",\"minorgridcolor\":\"white\",\"startlinecolor\":\"#2a3f5f\"},\"type\":\"carpet\"}],\"table\":[{\"cells\":{\"fill\":{\"color\":\"#EBF0F8\"},\"line\":{\"color\":\"white\"}},\"header\":{\"fill\":{\"color\":\"#C8D4E3\"},\"line\":{\"color\":\"white\"}},\"type\":\"table\"}],\"barpolar\":[{\"marker\":{\"line\":{\"color\":\"#E5ECF6\",\"width\":0.5},\"pattern\":{\"fillmode\":\"overlay\",\"size\":10,\"solidity\":0.2}},\"type\":\"barpolar\"}],\"pie\":[{\"automargin\":true,\"type\":\"pie\"}]},\"layout\":{\"autotypenumbers\":\"strict\",\"colorway\":[\"#636efa\",\"#EF553B\",\"#00cc96\",\"#ab63fa\",\"#FFA15A\",\"#19d3f3\",\"#FF6692\",\"#B6E880\",\"#FF97FF\",\"#FECB52\"],\"font\":{\"color\":\"#2a3f5f\"},\"hovermode\":\"closest\",\"hoverlabel\":{\"align\":\"left\"},\"paper_bgcolor\":\"white\",\"plot_bgcolor\":\"#E5ECF6\",\"polar\":{\"bgcolor\":\"#E5ECF6\",\"angularaxis\":{\"gridcolor\":\"white\",\"linecolor\":\"white\",\"ticks\":\"\"},\"radialaxis\":{\"gridcolor\":\"white\",\"linecolor\":\"white\",\"ticks\":\"\"}},\"ternary\":{\"bgcolor\":\"#E5ECF6\",\"aaxis\":{\"gridcolor\":\"white\",\"linecolor\":\"white\",\"ticks\":\"\"},\"baxis\":{\"gridcolor\":\"white\",\"linecolor\":\"white\",\"ticks\":\"\"},\"caxis\":{\"gridcolor\":\"white\",\"linecolor\":\"white\",\"ticks\":\"\"}},\"coloraxis\":{\"colorbar\":{\"outlinewidth\":0,\"ticks\":\"\"}},\"colorscale\":{\"sequential\":[[0.0,\"#0d0887\"],[0.1111111111111111,\"#46039f\"],[0.2222222222222222,\"#7201a8\"],[0.3333333333333333,\"#9c179e\"],[0.4444444444444444,\"#bd3786\"],[0.5555555555555556,\"#d8576b\"],[0.6666666666666666,\"#ed7953\"],[0.7777777777777778,\"#fb9f3a\"],[0.8888888888888888,\"#fdca26\"],[1.0,\"#f0f921\"]],\"sequentialminus\":[[0.0,\"#0d0887\"],[0.1111111111111111,\"#46039f\"],[0.2222222222222222,\"#7201a8\"],[0.3333333333333333,\"#9c179e\"],[0.4444444444444444,\"#bd3786\"],[0.5555555555555556,\"#d8576b\"],[0.6666666666666666,\"#ed7953\"],[0.7777777777777778,\"#fb9f3a\"],[0.8888888888888888,\"#fdca26\"],[1.0,\"#f0f921\"]],\"diverging\":[[0,\"#8e0152\"],[0.1,\"#c51b7d\"],[0.2,\"#de77ae\"],[0.3,\"#f1b6da\"],[0.4,\"#fde0ef\"],[0.5,\"#f7f7f7\"],[0.6,\"#e6f5d0\"],[0.7,\"#b8e186\"],[0.8,\"#7fbc41\"],[0.9,\"#4d9221\"],[1,\"#276419\"]]},\"xaxis\":{\"gridcolor\":\"white\",\"linecolor\":\"white\",\"ticks\":\"\",\"title\":{\"standoff\":15},\"zerolinecolor\":\"white\",\"automargin\":true,\"zerolinewidth\":2},\"yaxis\":{\"gridcolor\":\"white\",\"linecolor\":\"white\",\"ticks\":\"\",\"title\":{\"standoff\":15},\"zerolinecolor\":\"white\",\"automargin\":true,\"zerolinewidth\":2},\"scene\":{\"xaxis\":{\"backgroundcolor\":\"#E5ECF6\",\"gridcolor\":\"white\",\"linecolor\":\"white\",\"showbackground\":true,\"ticks\":\"\",\"zerolinecolor\":\"white\",\"gridwidth\":2},\"yaxis\":{\"backgroundcolor\":\"#E5ECF6\",\"gridcolor\":\"white\",\"linecolor\":\"white\",\"showbackground\":true,\"ticks\":\"\",\"zerolinecolor\":\"white\",\"gridwidth\":2},\"zaxis\":{\"backgroundcolor\":\"#E5ECF6\",\"gridcolor\":\"white\",\"linecolor\":\"white\",\"showbackground\":true,\"ticks\":\"\",\"zerolinecolor\":\"white\",\"gridwidth\":2}},\"shapedefaults\":{\"line\":{\"color\":\"#2a3f5f\"}},\"annotationdefaults\":{\"arrowcolor\":\"#2a3f5f\",\"arrowhead\":0,\"arrowwidth\":1},\"geo\":{\"bgcolor\":\"white\",\"landcolor\":\"#E5ECF6\",\"subunitcolor\":\"white\",\"showland\":true,\"showlakes\":true,\"lakecolor\":\"white\"},\"title\":{\"x\":0.05},\"mapbox\":{\"style\":\"light\"}}},\"xaxis\":{\"anchor\":\"y\",\"domain\":[0.0,1.0],\"title\":{\"text\":\"Relevance\"}},\"yaxis\":{\"anchor\":\"x\",\"domain\":[0.0,1.0],\"title\":{\"text\":\"Term\"},\"autorange\":\"reversed\"},\"legend\":{\"tracegroupgap\":0},\"margin\":{\"t\":60},\"barmode\":\"relative\",\"height\":500,\"width\":500},                        {\"responsive\": true}                    ).then(function(){\n",
       "                            \n",
       "var gd = document.getElementById('f2a56823-d7f3-41d3-b9a6-6201573c8000');\n",
       "var x = new MutationObserver(function (mutations, observer) {{\n",
       "        var display = window.getComputedStyle(gd).display;\n",
       "        if (!display || display === 'none') {{\n",
       "            console.log([gd, 'removed!']);\n",
       "            Plotly.purge(gd);\n",
       "            observer.disconnect();\n",
       "        }}\n",
       "}});\n",
       "\n",
       "// Listen for the removal of the full notebook cells\n",
       "var notebookContainer = gd.closest('#notebook-container');\n",
       "if (notebookContainer) {{\n",
       "    x.observe(notebookContainer, {childList: true});\n",
       "}}\n",
       "\n",
       "// Listen for the clearing of the current output cell\n",
       "var outputEl = gd.closest('.output');\n",
       "if (outputEl) {{\n",
       "    x.observe(outputEl, {childList: true});\n",
       "}}\n",
       "\n",
       "                        })                };                });            </script>        </div>"
      ]
     },
     "metadata": {},
     "output_type": "display_data"
    },
    {
     "name": "stdout",
     "output_type": "stream",
     "text": [
      "Top 10 documents:\n"
     ]
    },
    {
     "data": {
      "text/html": [
       "<div>\n",
       "<style scoped>\n",
       "    .dataframe tbody tr th:only-of-type {\n",
       "        vertical-align: middle;\n",
       "    }\n",
       "\n",
       "    .dataframe tbody tr th {\n",
       "        vertical-align: top;\n",
       "    }\n",
       "\n",
       "    .dataframe thead th {\n",
       "        text-align: right;\n",
       "    }\n",
       "</style>\n",
       "<table border=\"1\" class=\"dataframe\">\n",
       "  <thead>\n",
       "    <tr style=\"text-align: right;\">\n",
       "      <th></th>\n",
       "      <th>OWNER</th>\n",
       "      <th>NAME</th>\n",
       "      <th>CONTEXTS</th>\n",
       "      <th>TEXT_PROCESSED</th>\n",
       "      <th>LENGTH_PROCESSED</th>\n",
       "      <th>TOPIC</th>\n",
       "    </tr>\n",
       "  </thead>\n",
       "  <tbody>\n",
       "    <tr>\n",
       "      <th>35</th>\n",
       "      <td>amoeba-rb</td>\n",
       "      <td>amoeba</td>\n",
       "      <td>[[\"easy\", \"cloning\", \"active_record\", \"object\"...</td>\n",
       "      <td>easy cloning active_record object include asso...</td>\n",
       "      <td>10</td>\n",
       "      <td>1</td>\n",
       "    </tr>\n",
       "    <tr>\n",
       "      <th>67</th>\n",
       "      <td>asenchi</td>\n",
       "      <td>scrolls</td>\n",
       "      <td>[[\"scroll\", \"library\", \"generate\", \"log\", \"str...</td>\n",
       "      <td>scroll library generate log structure key value.</td>\n",
       "      <td>7</td>\n",
       "      <td>1</td>\n",
       "    </tr>\n",
       "    <tr>\n",
       "      <th>167</th>\n",
       "      <td>comma-csv</td>\n",
       "      <td>comma</td>\n",
       "      <td>[[\"library\", \"generate\", \"comma\", \"seperated\",...</td>\n",
       "      <td>library generate comma seperated value csv rub...</td>\n",
       "      <td>11</td>\n",
       "      <td>1</td>\n",
       "    </tr>\n",
       "    <tr>\n",
       "      <th>184</th>\n",
       "      <td>cvent</td>\n",
       "      <td>octopus-deploy-cookbook</td>\n",
       "      <td>[[\"cookbook\", \"use\", \"instal\", \"octopus\", \"dep...</td>\n",
       "      <td>cookbook use instal octopus deploy server tent...</td>\n",
       "      <td>10</td>\n",
       "      <td>1</td>\n",
       "    </tr>\n",
       "    <tr>\n",
       "      <th>289</th>\n",
       "      <td>fluent-plugins-nursery</td>\n",
       "      <td>fluent-plugin-out-http</td>\n",
       "      <td>[[\"generic\", \"fluentd\", \"output\", \"plugin\", \"s...</td>\n",
       "      <td>generic fluentd output plugin send log http en...</td>\n",
       "      <td>8</td>\n",
       "      <td>1</td>\n",
       "    </tr>\n",
       "    <tr>\n",
       "      <th>317</th>\n",
       "      <td>GetStream</td>\n",
       "      <td>stream-rails</td>\n",
       "      <td>[[\"stream-rails\", \"ruby\", \"rail\", \"client\", \"s...</td>\n",
       "      <td>stream-rails ruby rail client stream.</td>\n",
       "      <td>5</td>\n",
       "      <td>1</td>\n",
       "    </tr>\n",
       "    <tr>\n",
       "      <th>422</th>\n",
       "      <td>jackc</td>\n",
       "      <td>tod</td>\n",
       "      <td>[[\"supply\", \"timeofday\", \"class\", \"include\", \"...</td>\n",
       "      <td>supply timeofday class include parsing strftim...</td>\n",
       "      <td>8</td>\n",
       "      <td>1</td>\n",
       "    </tr>\n",
       "    <tr>\n",
       "      <th>617</th>\n",
       "      <td>oivoodoo</td>\n",
       "      <td>devise_masquerade</td>\n",
       "      <td>[[\"utility\", \"library\", \"enable\", \"functionall...</td>\n",
       "      <td>utility library enable functionallity like log...</td>\n",
       "      <td>8</td>\n",
       "      <td>1</td>\n",
       "    </tr>\n",
       "    <tr>\n",
       "      <th>960</th>\n",
       "      <td>trailblazer</td>\n",
       "      <td>reform-rails</td>\n",
       "      <td>[[\"load\", \"rails-specific\", \"reform\", \"file\", ...</td>\n",
       "      <td>load rails-specific reform file include module...</td>\n",
       "      <td>11</td>\n",
       "      <td>1</td>\n",
       "    </tr>\n",
       "    <tr>\n",
       "      <th>1015</th>\n",
       "      <td>wildbit</td>\n",
       "      <td>postmark-gem</td>\n",
       "      <td>[[\"postmark\", \"allow\", \"send\", \"email\", \"high\"...</td>\n",
       "      <td>postmark allow send email high delivery rate a...</td>\n",
       "      <td>19</td>\n",
       "      <td>1</td>\n",
       "    </tr>\n",
       "  </tbody>\n",
       "</table>\n",
       "</div>"
      ],
      "text/plain": [
       "                       OWNER                     NAME                                           CONTEXTS                                     TEXT_PROCESSED  LENGTH_PROCESSED  TOPIC\n",
       "35                 amoeba-rb                   amoeba  [[\"easy\", \"cloning\", \"active_record\", \"object\"...  easy cloning active_record object include asso...                10      1\n",
       "67                   asenchi                  scrolls  [[\"scroll\", \"library\", \"generate\", \"log\", \"str...   scroll library generate log structure key value.                 7      1\n",
       "167                comma-csv                    comma  [[\"library\", \"generate\", \"comma\", \"seperated\",...  library generate comma seperated value csv rub...                11      1\n",
       "184                    cvent  octopus-deploy-cookbook  [[\"cookbook\", \"use\", \"instal\", \"octopus\", \"dep...  cookbook use instal octopus deploy server tent...                10      1\n",
       "289   fluent-plugins-nursery   fluent-plugin-out-http  [[\"generic\", \"fluentd\", \"output\", \"plugin\", \"s...  generic fluentd output plugin send log http en...                 8      1\n",
       "317                GetStream             stream-rails  [[\"stream-rails\", \"ruby\", \"rail\", \"client\", \"s...              stream-rails ruby rail client stream.                 5      1\n",
       "422                    jackc                      tod  [[\"supply\", \"timeofday\", \"class\", \"include\", \"...  supply timeofday class include parsing strftim...                 8      1\n",
       "617                 oivoodoo        devise_masquerade  [[\"utility\", \"library\", \"enable\", \"functionall...  utility library enable functionallity like log...                 8      1\n",
       "960              trailblazer             reform-rails  [[\"load\", \"rails-specific\", \"reform\", \"file\", ...  load rails-specific reform file include module...                11      1\n",
       "1015                 wildbit             postmark-gem  [[\"postmark\", \"allow\", \"send\", \"email\", \"high\"...  postmark allow send email high delivery rate a...                19      1"
      ]
     },
     "metadata": {},
     "output_type": "display_data"
    },
    {
     "name": "stdout",
     "output_type": "stream",
     "text": [
      "easy cloning active_record object include association several operation association attribute.\n",
      "scroll library generate log structure key value.\n",
      "library generate comma seperated value csv ruby object like activerecord array.\n",
      "cookbook use instal octopus deploy server tentacle microsoft window machine.\n",
      "generic fluentd output plugin send log http endpoint.\n",
      "stream-rails ruby rail client stream.\n",
      "supply timeofday class include parsing strftime comparison arithmetic.\n",
      "utility library enable functionallity like login button admin.\n",
      "load rails-specific reform file include module like reform form activemodel automatically.\n",
      "postmark allow send email high delivery rate also include detailed statistic addition postmark parse incoming email forward back application.\n",
      "Topic 2: 27 repos\n"
     ]
    },
    {
     "data": {
      "application/vnd.plotly.v1+json": {
       "config": {
        "plotlyServerURL": "https://plot.ly"
       },
       "data": [
        {
         "alignmentgroup": "True",
         "hovertemplate": "Relevance=%{x}<br>Term=%{y}<extra></extra>",
         "legendgroup": "",
         "marker": {
          "color": "#E53935",
          "pattern": {
           "shape": ""
          }
         },
         "name": "",
         "offsetgroup": "",
         "orientation": "h",
         "showlegend": false,
         "textposition": "auto",
         "type": "bar",
         "x": [
          0.515378167145525,
          0.49093849067869355,
          0.46893349372968574,
          0.37473576635509626,
          0.3279507010333028,
          0.23634489570740413,
          0.20796705094168513,
          0.0492002797746168,
          0.02951227566322668,
          0.0008230826404413013
         ],
         "xaxis": "x",
         "y": [
          "officially",
          "following",
          "support",
          "project",
          "library",
          "please",
          "activerecord",
          "use",
          "base",
          "extension"
         ],
         "yaxis": "y"
        }
       ],
       "layout": {
        "barmode": "relative",
        "height": 500,
        "legend": {
         "tracegroupgap": 0
        },
        "margin": {
         "t": 60
        },
        "template": {
         "data": {
          "bar": [
           {
            "error_x": {
             "color": "#2a3f5f"
            },
            "error_y": {
             "color": "#2a3f5f"
            },
            "marker": {
             "line": {
              "color": "#E5ECF6",
              "width": 0.5
             },
             "pattern": {
              "fillmode": "overlay",
              "size": 10,
              "solidity": 0.2
             }
            },
            "type": "bar"
           }
          ],
          "barpolar": [
           {
            "marker": {
             "line": {
              "color": "#E5ECF6",
              "width": 0.5
             },
             "pattern": {
              "fillmode": "overlay",
              "size": 10,
              "solidity": 0.2
             }
            },
            "type": "barpolar"
           }
          ],
          "carpet": [
           {
            "aaxis": {
             "endlinecolor": "#2a3f5f",
             "gridcolor": "white",
             "linecolor": "white",
             "minorgridcolor": "white",
             "startlinecolor": "#2a3f5f"
            },
            "baxis": {
             "endlinecolor": "#2a3f5f",
             "gridcolor": "white",
             "linecolor": "white",
             "minorgridcolor": "white",
             "startlinecolor": "#2a3f5f"
            },
            "type": "carpet"
           }
          ],
          "choropleth": [
           {
            "colorbar": {
             "outlinewidth": 0,
             "ticks": ""
            },
            "type": "choropleth"
           }
          ],
          "contour": [
           {
            "colorbar": {
             "outlinewidth": 0,
             "ticks": ""
            },
            "colorscale": [
             [
              0,
              "#0d0887"
             ],
             [
              0.1111111111111111,
              "#46039f"
             ],
             [
              0.2222222222222222,
              "#7201a8"
             ],
             [
              0.3333333333333333,
              "#9c179e"
             ],
             [
              0.4444444444444444,
              "#bd3786"
             ],
             [
              0.5555555555555556,
              "#d8576b"
             ],
             [
              0.6666666666666666,
              "#ed7953"
             ],
             [
              0.7777777777777778,
              "#fb9f3a"
             ],
             [
              0.8888888888888888,
              "#fdca26"
             ],
             [
              1,
              "#f0f921"
             ]
            ],
            "type": "contour"
           }
          ],
          "contourcarpet": [
           {
            "colorbar": {
             "outlinewidth": 0,
             "ticks": ""
            },
            "type": "contourcarpet"
           }
          ],
          "heatmap": [
           {
            "colorbar": {
             "outlinewidth": 0,
             "ticks": ""
            },
            "colorscale": [
             [
              0,
              "#0d0887"
             ],
             [
              0.1111111111111111,
              "#46039f"
             ],
             [
              0.2222222222222222,
              "#7201a8"
             ],
             [
              0.3333333333333333,
              "#9c179e"
             ],
             [
              0.4444444444444444,
              "#bd3786"
             ],
             [
              0.5555555555555556,
              "#d8576b"
             ],
             [
              0.6666666666666666,
              "#ed7953"
             ],
             [
              0.7777777777777778,
              "#fb9f3a"
             ],
             [
              0.8888888888888888,
              "#fdca26"
             ],
             [
              1,
              "#f0f921"
             ]
            ],
            "type": "heatmap"
           }
          ],
          "heatmapgl": [
           {
            "colorbar": {
             "outlinewidth": 0,
             "ticks": ""
            },
            "colorscale": [
             [
              0,
              "#0d0887"
             ],
             [
              0.1111111111111111,
              "#46039f"
             ],
             [
              0.2222222222222222,
              "#7201a8"
             ],
             [
              0.3333333333333333,
              "#9c179e"
             ],
             [
              0.4444444444444444,
              "#bd3786"
             ],
             [
              0.5555555555555556,
              "#d8576b"
             ],
             [
              0.6666666666666666,
              "#ed7953"
             ],
             [
              0.7777777777777778,
              "#fb9f3a"
             ],
             [
              0.8888888888888888,
              "#fdca26"
             ],
             [
              1,
              "#f0f921"
             ]
            ],
            "type": "heatmapgl"
           }
          ],
          "histogram": [
           {
            "marker": {
             "pattern": {
              "fillmode": "overlay",
              "size": 10,
              "solidity": 0.2
             }
            },
            "type": "histogram"
           }
          ],
          "histogram2d": [
           {
            "colorbar": {
             "outlinewidth": 0,
             "ticks": ""
            },
            "colorscale": [
             [
              0,
              "#0d0887"
             ],
             [
              0.1111111111111111,
              "#46039f"
             ],
             [
              0.2222222222222222,
              "#7201a8"
             ],
             [
              0.3333333333333333,
              "#9c179e"
             ],
             [
              0.4444444444444444,
              "#bd3786"
             ],
             [
              0.5555555555555556,
              "#d8576b"
             ],
             [
              0.6666666666666666,
              "#ed7953"
             ],
             [
              0.7777777777777778,
              "#fb9f3a"
             ],
             [
              0.8888888888888888,
              "#fdca26"
             ],
             [
              1,
              "#f0f921"
             ]
            ],
            "type": "histogram2d"
           }
          ],
          "histogram2dcontour": [
           {
            "colorbar": {
             "outlinewidth": 0,
             "ticks": ""
            },
            "colorscale": [
             [
              0,
              "#0d0887"
             ],
             [
              0.1111111111111111,
              "#46039f"
             ],
             [
              0.2222222222222222,
              "#7201a8"
             ],
             [
              0.3333333333333333,
              "#9c179e"
             ],
             [
              0.4444444444444444,
              "#bd3786"
             ],
             [
              0.5555555555555556,
              "#d8576b"
             ],
             [
              0.6666666666666666,
              "#ed7953"
             ],
             [
              0.7777777777777778,
              "#fb9f3a"
             ],
             [
              0.8888888888888888,
              "#fdca26"
             ],
             [
              1,
              "#f0f921"
             ]
            ],
            "type": "histogram2dcontour"
           }
          ],
          "mesh3d": [
           {
            "colorbar": {
             "outlinewidth": 0,
             "ticks": ""
            },
            "type": "mesh3d"
           }
          ],
          "parcoords": [
           {
            "line": {
             "colorbar": {
              "outlinewidth": 0,
              "ticks": ""
             }
            },
            "type": "parcoords"
           }
          ],
          "pie": [
           {
            "automargin": true,
            "type": "pie"
           }
          ],
          "scatter": [
           {
            "fillpattern": {
             "fillmode": "overlay",
             "size": 10,
             "solidity": 0.2
            },
            "type": "scatter"
           }
          ],
          "scatter3d": [
           {
            "line": {
             "colorbar": {
              "outlinewidth": 0,
              "ticks": ""
             }
            },
            "marker": {
             "colorbar": {
              "outlinewidth": 0,
              "ticks": ""
             }
            },
            "type": "scatter3d"
           }
          ],
          "scattercarpet": [
           {
            "marker": {
             "colorbar": {
              "outlinewidth": 0,
              "ticks": ""
             }
            },
            "type": "scattercarpet"
           }
          ],
          "scattergeo": [
           {
            "marker": {
             "colorbar": {
              "outlinewidth": 0,
              "ticks": ""
             }
            },
            "type": "scattergeo"
           }
          ],
          "scattergl": [
           {
            "marker": {
             "colorbar": {
              "outlinewidth": 0,
              "ticks": ""
             }
            },
            "type": "scattergl"
           }
          ],
          "scattermapbox": [
           {
            "marker": {
             "colorbar": {
              "outlinewidth": 0,
              "ticks": ""
             }
            },
            "type": "scattermapbox"
           }
          ],
          "scatterpolar": [
           {
            "marker": {
             "colorbar": {
              "outlinewidth": 0,
              "ticks": ""
             }
            },
            "type": "scatterpolar"
           }
          ],
          "scatterpolargl": [
           {
            "marker": {
             "colorbar": {
              "outlinewidth": 0,
              "ticks": ""
             }
            },
            "type": "scatterpolargl"
           }
          ],
          "scatterternary": [
           {
            "marker": {
             "colorbar": {
              "outlinewidth": 0,
              "ticks": ""
             }
            },
            "type": "scatterternary"
           }
          ],
          "surface": [
           {
            "colorbar": {
             "outlinewidth": 0,
             "ticks": ""
            },
            "colorscale": [
             [
              0,
              "#0d0887"
             ],
             [
              0.1111111111111111,
              "#46039f"
             ],
             [
              0.2222222222222222,
              "#7201a8"
             ],
             [
              0.3333333333333333,
              "#9c179e"
             ],
             [
              0.4444444444444444,
              "#bd3786"
             ],
             [
              0.5555555555555556,
              "#d8576b"
             ],
             [
              0.6666666666666666,
              "#ed7953"
             ],
             [
              0.7777777777777778,
              "#fb9f3a"
             ],
             [
              0.8888888888888888,
              "#fdca26"
             ],
             [
              1,
              "#f0f921"
             ]
            ],
            "type": "surface"
           }
          ],
          "table": [
           {
            "cells": {
             "fill": {
              "color": "#EBF0F8"
             },
             "line": {
              "color": "white"
             }
            },
            "header": {
             "fill": {
              "color": "#C8D4E3"
             },
             "line": {
              "color": "white"
             }
            },
            "type": "table"
           }
          ]
         },
         "layout": {
          "annotationdefaults": {
           "arrowcolor": "#2a3f5f",
           "arrowhead": 0,
           "arrowwidth": 1
          },
          "autotypenumbers": "strict",
          "coloraxis": {
           "colorbar": {
            "outlinewidth": 0,
            "ticks": ""
           }
          },
          "colorscale": {
           "diverging": [
            [
             0,
             "#8e0152"
            ],
            [
             0.1,
             "#c51b7d"
            ],
            [
             0.2,
             "#de77ae"
            ],
            [
             0.3,
             "#f1b6da"
            ],
            [
             0.4,
             "#fde0ef"
            ],
            [
             0.5,
             "#f7f7f7"
            ],
            [
             0.6,
             "#e6f5d0"
            ],
            [
             0.7,
             "#b8e186"
            ],
            [
             0.8,
             "#7fbc41"
            ],
            [
             0.9,
             "#4d9221"
            ],
            [
             1,
             "#276419"
            ]
           ],
           "sequential": [
            [
             0,
             "#0d0887"
            ],
            [
             0.1111111111111111,
             "#46039f"
            ],
            [
             0.2222222222222222,
             "#7201a8"
            ],
            [
             0.3333333333333333,
             "#9c179e"
            ],
            [
             0.4444444444444444,
             "#bd3786"
            ],
            [
             0.5555555555555556,
             "#d8576b"
            ],
            [
             0.6666666666666666,
             "#ed7953"
            ],
            [
             0.7777777777777778,
             "#fb9f3a"
            ],
            [
             0.8888888888888888,
             "#fdca26"
            ],
            [
             1,
             "#f0f921"
            ]
           ],
           "sequentialminus": [
            [
             0,
             "#0d0887"
            ],
            [
             0.1111111111111111,
             "#46039f"
            ],
            [
             0.2222222222222222,
             "#7201a8"
            ],
            [
             0.3333333333333333,
             "#9c179e"
            ],
            [
             0.4444444444444444,
             "#bd3786"
            ],
            [
             0.5555555555555556,
             "#d8576b"
            ],
            [
             0.6666666666666666,
             "#ed7953"
            ],
            [
             0.7777777777777778,
             "#fb9f3a"
            ],
            [
             0.8888888888888888,
             "#fdca26"
            ],
            [
             1,
             "#f0f921"
            ]
           ]
          },
          "colorway": [
           "#636efa",
           "#EF553B",
           "#00cc96",
           "#ab63fa",
           "#FFA15A",
           "#19d3f3",
           "#FF6692",
           "#B6E880",
           "#FF97FF",
           "#FECB52"
          ],
          "font": {
           "color": "#2a3f5f"
          },
          "geo": {
           "bgcolor": "white",
           "lakecolor": "white",
           "landcolor": "#E5ECF6",
           "showlakes": true,
           "showland": true,
           "subunitcolor": "white"
          },
          "hoverlabel": {
           "align": "left"
          },
          "hovermode": "closest",
          "mapbox": {
           "style": "light"
          },
          "paper_bgcolor": "white",
          "plot_bgcolor": "#E5ECF6",
          "polar": {
           "angularaxis": {
            "gridcolor": "white",
            "linecolor": "white",
            "ticks": ""
           },
           "bgcolor": "#E5ECF6",
           "radialaxis": {
            "gridcolor": "white",
            "linecolor": "white",
            "ticks": ""
           }
          },
          "scene": {
           "xaxis": {
            "backgroundcolor": "#E5ECF6",
            "gridcolor": "white",
            "gridwidth": 2,
            "linecolor": "white",
            "showbackground": true,
            "ticks": "",
            "zerolinecolor": "white"
           },
           "yaxis": {
            "backgroundcolor": "#E5ECF6",
            "gridcolor": "white",
            "gridwidth": 2,
            "linecolor": "white",
            "showbackground": true,
            "ticks": "",
            "zerolinecolor": "white"
           },
           "zaxis": {
            "backgroundcolor": "#E5ECF6",
            "gridcolor": "white",
            "gridwidth": 2,
            "linecolor": "white",
            "showbackground": true,
            "ticks": "",
            "zerolinecolor": "white"
           }
          },
          "shapedefaults": {
           "line": {
            "color": "#2a3f5f"
           }
          },
          "ternary": {
           "aaxis": {
            "gridcolor": "white",
            "linecolor": "white",
            "ticks": ""
           },
           "baxis": {
            "gridcolor": "white",
            "linecolor": "white",
            "ticks": ""
           },
           "bgcolor": "#E5ECF6",
           "caxis": {
            "gridcolor": "white",
            "linecolor": "white",
            "ticks": ""
           }
          },
          "title": {
           "x": 0.05
          },
          "xaxis": {
           "automargin": true,
           "gridcolor": "white",
           "linecolor": "white",
           "ticks": "",
           "title": {
            "standoff": 15
           },
           "zerolinecolor": "white",
           "zerolinewidth": 2
          },
          "yaxis": {
           "automargin": true,
           "gridcolor": "white",
           "linecolor": "white",
           "ticks": "",
           "title": {
            "standoff": 15
           },
           "zerolinecolor": "white",
           "zerolinewidth": 2
          }
         }
        },
        "width": 500,
        "xaxis": {
         "anchor": "y",
         "autorange": true,
         "domain": [
          0,
          1
         ],
         "range": [
          0,
          0.5425033338373947
         ],
         "title": {
          "text": "Relevance"
         },
         "type": "linear"
        },
        "yaxis": {
         "anchor": "x",
         "autorange": true,
         "domain": [
          0,
          1
         ],
         "range": [
          9.5,
          -0.5
         ],
         "title": {
          "text": "Term"
         },
         "type": "category"
        }
       }
      },
      "image/png": "[encoded data removed]",
      "text/html": [
       "<div>                            <div id=\"6ce85528-a29c-4510-8755-1c601568f93a\" class=\"plotly-graph-div\" style=\"height:500px; width:500px;\"></div>            <script type=\"text/javascript\">                require([\"plotly\"], function(Plotly) {                    window.PLOTLYENV=window.PLOTLYENV || {};                                    if (document.getElementById(\"6ce85528-a29c-4510-8755-1c601568f93a\")) {                    Plotly.newPlot(                        \"6ce85528-a29c-4510-8755-1c601568f93a\",                        [{\"alignmentgroup\":\"True\",\"hovertemplate\":\"Relevance=%{x}<br>Term=%{y}<extra></extra>\",\"legendgroup\":\"\",\"marker\":{\"color\":\"#E53935\",\"pattern\":{\"shape\":\"\"}},\"name\":\"\",\"offsetgroup\":\"\",\"orientation\":\"h\",\"showlegend\":false,\"textposition\":\"auto\",\"x\":[0.515378167145525,0.49093849067869355,0.46893349372968574,0.37473576635509626,0.3279507010333028,0.23634489570740413,0.20796705094168513,0.0492002797746168,0.02951227566322668,0.0008230826404413013],\"xaxis\":\"x\",\"y\":[\"officially\",\"following\",\"support\",\"project\",\"library\",\"please\",\"activerecord\",\"use\",\"base\",\"extension\"],\"yaxis\":\"y\",\"type\":\"bar\"}],                        {\"template\":{\"data\":{\"histogram2dcontour\":[{\"type\":\"histogram2dcontour\",\"colorbar\":{\"outlinewidth\":0,\"ticks\":\"\"},\"colorscale\":[[0.0,\"#0d0887\"],[0.1111111111111111,\"#46039f\"],[0.2222222222222222,\"#7201a8\"],[0.3333333333333333,\"#9c179e\"],[0.4444444444444444,\"#bd3786\"],[0.5555555555555556,\"#d8576b\"],[0.6666666666666666,\"#ed7953\"],[0.7777777777777778,\"#fb9f3a\"],[0.8888888888888888,\"#fdca26\"],[1.0,\"#f0f921\"]]}],\"choropleth\":[{\"type\":\"choropleth\",\"colorbar\":{\"outlinewidth\":0,\"ticks\":\"\"}}],\"histogram2d\":[{\"type\":\"histogram2d\",\"colorbar\":{\"outlinewidth\":0,\"ticks\":\"\"},\"colorscale\":[[0.0,\"#0d0887\"],[0.1111111111111111,\"#46039f\"],[0.2222222222222222,\"#7201a8\"],[0.3333333333333333,\"#9c179e\"],[0.4444444444444444,\"#bd3786\"],[0.5555555555555556,\"#d8576b\"],[0.6666666666666666,\"#ed7953\"],[0.7777777777777778,\"#fb9f3a\"],[0.8888888888888888,\"#fdca26\"],[1.0,\"#f0f921\"]]}],\"heatmap\":[{\"type\":\"heatmap\",\"colorbar\":{\"outlinewidth\":0,\"ticks\":\"\"},\"colorscale\":[[0.0,\"#0d0887\"],[0.1111111111111111,\"#46039f\"],[0.2222222222222222,\"#7201a8\"],[0.3333333333333333,\"#9c179e\"],[0.4444444444444444,\"#bd3786\"],[0.5555555555555556,\"#d8576b\"],[0.6666666666666666,\"#ed7953\"],[0.7777777777777778,\"#fb9f3a\"],[0.8888888888888888,\"#fdca26\"],[1.0,\"#f0f921\"]]}],\"heatmapgl\":[{\"type\":\"heatmapgl\",\"colorbar\":{\"outlinewidth\":0,\"ticks\":\"\"},\"colorscale\":[[0.0,\"#0d0887\"],[0.1111111111111111,\"#46039f\"],[0.2222222222222222,\"#7201a8\"],[0.3333333333333333,\"#9c179e\"],[0.4444444444444444,\"#bd3786\"],[0.5555555555555556,\"#d8576b\"],[0.6666666666666666,\"#ed7953\"],[0.7777777777777778,\"#fb9f3a\"],[0.8888888888888888,\"#fdca26\"],[1.0,\"#f0f921\"]]}],\"contourcarpet\":[{\"type\":\"contourcarpet\",\"colorbar\":{\"outlinewidth\":0,\"ticks\":\"\"}}],\"contour\":[{\"type\":\"contour\",\"colorbar\":{\"outlinewidth\":0,\"ticks\":\"\"},\"colorscale\":[[0.0,\"#0d0887\"],[0.1111111111111111,\"#46039f\"],[0.2222222222222222,\"#7201a8\"],[0.3333333333333333,\"#9c179e\"],[0.4444444444444444,\"#bd3786\"],[0.5555555555555556,\"#d8576b\"],[0.6666666666666666,\"#ed7953\"],[0.7777777777777778,\"#fb9f3a\"],[0.8888888888888888,\"#fdca26\"],[1.0,\"#f0f921\"]]}],\"surface\":[{\"type\":\"surface\",\"colorbar\":{\"outlinewidth\":0,\"ticks\":\"\"},\"colorscale\":[[0.0,\"#0d0887\"],[0.1111111111111111,\"#46039f\"],[0.2222222222222222,\"#7201a8\"],[0.3333333333333333,\"#9c179e\"],[0.4444444444444444,\"#bd3786\"],[0.5555555555555556,\"#d8576b\"],[0.6666666666666666,\"#ed7953\"],[0.7777777777777778,\"#fb9f3a\"],[0.8888888888888888,\"#fdca26\"],[1.0,\"#f0f921\"]]}],\"mesh3d\":[{\"type\":\"mesh3d\",\"colorbar\":{\"outlinewidth\":0,\"ticks\":\"\"}}],\"scatter\":[{\"fillpattern\":{\"fillmode\":\"overlay\",\"size\":10,\"solidity\":0.2},\"type\":\"scatter\"}],\"parcoords\":[{\"type\":\"parcoords\",\"line\":{\"colorbar\":{\"outlinewidth\":0,\"ticks\":\"\"}}}],\"scatterpolargl\":[{\"type\":\"scatterpolargl\",\"marker\":{\"colorbar\":{\"outlinewidth\":0,\"ticks\":\"\"}}}],\"bar\":[{\"error_x\":{\"color\":\"#2a3f5f\"},\"error_y\":{\"color\":\"#2a3f5f\"},\"marker\":{\"line\":{\"color\":\"#E5ECF6\",\"width\":0.5},\"pattern\":{\"fillmode\":\"overlay\",\"size\":10,\"solidity\":0.2}},\"type\":\"bar\"}],\"scattergeo\":[{\"type\":\"scattergeo\",\"marker\":{\"colorbar\":{\"outlinewidth\":0,\"ticks\":\"\"}}}],\"scatterpolar\":[{\"type\":\"scatterpolar\",\"marker\":{\"colorbar\":{\"outlinewidth\":0,\"ticks\":\"\"}}}],\"histogram\":[{\"marker\":{\"pattern\":{\"fillmode\":\"overlay\",\"size\":10,\"solidity\":0.2}},\"type\":\"histogram\"}],\"scattergl\":[{\"type\":\"scattergl\",\"marker\":{\"colorbar\":{\"outlinewidth\":0,\"ticks\":\"\"}}}],\"scatter3d\":[{\"type\":\"scatter3d\",\"line\":{\"colorbar\":{\"outlinewidth\":0,\"ticks\":\"\"}},\"marker\":{\"colorbar\":{\"outlinewidth\":0,\"ticks\":\"\"}}}],\"scattermapbox\":[{\"type\":\"scattermapbox\",\"marker\":{\"colorbar\":{\"outlinewidth\":0,\"ticks\":\"\"}}}],\"scatterternary\":[{\"type\":\"scatterternary\",\"marker\":{\"colorbar\":{\"outlinewidth\":0,\"ticks\":\"\"}}}],\"scattercarpet\":[{\"type\":\"scattercarpet\",\"marker\":{\"colorbar\":{\"outlinewidth\":0,\"ticks\":\"\"}}}],\"carpet\":[{\"aaxis\":{\"endlinecolor\":\"#2a3f5f\",\"gridcolor\":\"white\",\"linecolor\":\"white\",\"minorgridcolor\":\"white\",\"startlinecolor\":\"#2a3f5f\"},\"baxis\":{\"endlinecolor\":\"#2a3f5f\",\"gridcolor\":\"white\",\"linecolor\":\"white\",\"minorgridcolor\":\"white\",\"startlinecolor\":\"#2a3f5f\"},\"type\":\"carpet\"}],\"table\":[{\"cells\":{\"fill\":{\"color\":\"#EBF0F8\"},\"line\":{\"color\":\"white\"}},\"header\":{\"fill\":{\"color\":\"#C8D4E3\"},\"line\":{\"color\":\"white\"}},\"type\":\"table\"}],\"barpolar\":[{\"marker\":{\"line\":{\"color\":\"#E5ECF6\",\"width\":0.5},\"pattern\":{\"fillmode\":\"overlay\",\"size\":10,\"solidity\":0.2}},\"type\":\"barpolar\"}],\"pie\":[{\"automargin\":true,\"type\":\"pie\"}]},\"layout\":{\"autotypenumbers\":\"strict\",\"colorway\":[\"#636efa\",\"#EF553B\",\"#00cc96\",\"#ab63fa\",\"#FFA15A\",\"#19d3f3\",\"#FF6692\",\"#B6E880\",\"#FF97FF\",\"#FECB52\"],\"font\":{\"color\":\"#2a3f5f\"},\"hovermode\":\"closest\",\"hoverlabel\":{\"align\":\"left\"},\"paper_bgcolor\":\"white\",\"plot_bgcolor\":\"#E5ECF6\",\"polar\":{\"bgcolor\":\"#E5ECF6\",\"angularaxis\":{\"gridcolor\":\"white\",\"linecolor\":\"white\",\"ticks\":\"\"},\"radialaxis\":{\"gridcolor\":\"white\",\"linecolor\":\"white\",\"ticks\":\"\"}},\"ternary\":{\"bgcolor\":\"#E5ECF6\",\"aaxis\":{\"gridcolor\":\"white\",\"linecolor\":\"white\",\"ticks\":\"\"},\"baxis\":{\"gridcolor\":\"white\",\"linecolor\":\"white\",\"ticks\":\"\"},\"caxis\":{\"gridcolor\":\"white\",\"linecolor\":\"white\",\"ticks\":\"\"}},\"coloraxis\":{\"colorbar\":{\"outlinewidth\":0,\"ticks\":\"\"}},\"colorscale\":{\"sequential\":[[0.0,\"#0d0887\"],[0.1111111111111111,\"#46039f\"],[0.2222222222222222,\"#7201a8\"],[0.3333333333333333,\"#9c179e\"],[0.4444444444444444,\"#bd3786\"],[0.5555555555555556,\"#d8576b\"],[0.6666666666666666,\"#ed7953\"],[0.7777777777777778,\"#fb9f3a\"],[0.8888888888888888,\"#fdca26\"],[1.0,\"#f0f921\"]],\"sequentialminus\":[[0.0,\"#0d0887\"],[0.1111111111111111,\"#46039f\"],[0.2222222222222222,\"#7201a8\"],[0.3333333333333333,\"#9c179e\"],[0.4444444444444444,\"#bd3786\"],[0.5555555555555556,\"#d8576b\"],[0.6666666666666666,\"#ed7953\"],[0.7777777777777778,\"#fb9f3a\"],[0.8888888888888888,\"#fdca26\"],[1.0,\"#f0f921\"]],\"diverging\":[[0,\"#8e0152\"],[0.1,\"#c51b7d\"],[0.2,\"#de77ae\"],[0.3,\"#f1b6da\"],[0.4,\"#fde0ef\"],[0.5,\"#f7f7f7\"],[0.6,\"#e6f5d0\"],[0.7,\"#b8e186\"],[0.8,\"#7fbc41\"],[0.9,\"#4d9221\"],[1,\"#276419\"]]},\"xaxis\":{\"gridcolor\":\"white\",\"linecolor\":\"white\",\"ticks\":\"\",\"title\":{\"standoff\":15},\"zerolinecolor\":\"white\",\"automargin\":true,\"zerolinewidth\":2},\"yaxis\":{\"gridcolor\":\"white\",\"linecolor\":\"white\",\"ticks\":\"\",\"title\":{\"standoff\":15},\"zerolinecolor\":\"white\",\"automargin\":true,\"zerolinewidth\":2},\"scene\":{\"xaxis\":{\"backgroundcolor\":\"#E5ECF6\",\"gridcolor\":\"white\",\"linecolor\":\"white\",\"showbackground\":true,\"ticks\":\"\",\"zerolinecolor\":\"white\",\"gridwidth\":2},\"yaxis\":{\"backgroundcolor\":\"#E5ECF6\",\"gridcolor\":\"white\",\"linecolor\":\"white\",\"showbackground\":true,\"ticks\":\"\",\"zerolinecolor\":\"white\",\"gridwidth\":2},\"zaxis\":{\"backgroundcolor\":\"#E5ECF6\",\"gridcolor\":\"white\",\"linecolor\":\"white\",\"showbackground\":true,\"ticks\":\"\",\"zerolinecolor\":\"white\",\"gridwidth\":2}},\"shapedefaults\":{\"line\":{\"color\":\"#2a3f5f\"}},\"annotationdefaults\":{\"arrowcolor\":\"#2a3f5f\",\"arrowhead\":0,\"arrowwidth\":1},\"geo\":{\"bgcolor\":\"white\",\"landcolor\":\"#E5ECF6\",\"subunitcolor\":\"white\",\"showland\":true,\"showlakes\":true,\"lakecolor\":\"white\"},\"title\":{\"x\":0.05},\"mapbox\":{\"style\":\"light\"}}},\"xaxis\":{\"anchor\":\"y\",\"domain\":[0.0,1.0],\"title\":{\"text\":\"Relevance\"}},\"yaxis\":{\"anchor\":\"x\",\"domain\":[0.0,1.0],\"title\":{\"text\":\"Term\"},\"autorange\":\"reversed\"},\"legend\":{\"tracegroupgap\":0},\"margin\":{\"t\":60},\"barmode\":\"relative\",\"height\":500,\"width\":500},                        {\"responsive\": true}                    ).then(function(){\n",
       "                            \n",
       "var gd = document.getElementById('6ce85528-a29c-4510-8755-1c601568f93a');\n",
       "var x = new MutationObserver(function (mutations, observer) {{\n",
       "        var display = window.getComputedStyle(gd).display;\n",
       "        if (!display || display === 'none') {{\n",
       "            console.log([gd, 'removed!']);\n",
       "            Plotly.purge(gd);\n",
       "            observer.disconnect();\n",
       "        }}\n",
       "}});\n",
       "\n",
       "// Listen for the removal of the full notebook cells\n",
       "var notebookContainer = gd.closest('#notebook-container');\n",
       "if (notebookContainer) {{\n",
       "    x.observe(notebookContainer, {childList: true});\n",
       "}}\n",
       "\n",
       "// Listen for the clearing of the current output cell\n",
       "var outputEl = gd.closest('.output');\n",
       "if (outputEl) {{\n",
       "    x.observe(outputEl, {childList: true});\n",
       "}}\n",
       "\n",
       "                        })                };                });            </script>        </div>"
      ]
     },
     "metadata": {},
     "output_type": "display_data"
    },
    {
     "name": "stdout",
     "output_type": "stream",
     "text": [
      "Top 10 documents:\n"
     ]
    },
    {
     "data": {
      "text/html": [
       "<div>\n",
       "<style scoped>\n",
       "    .dataframe tbody tr th:only-of-type {\n",
       "        vertical-align: middle;\n",
       "    }\n",
       "\n",
       "    .dataframe tbody tr th {\n",
       "        vertical-align: top;\n",
       "    }\n",
       "\n",
       "    .dataframe thead th {\n",
       "        text-align: right;\n",
       "    }\n",
       "</style>\n",
       "<table border=\"1\" class=\"dataframe\">\n",
       "  <thead>\n",
       "    <tr style=\"text-align: right;\">\n",
       "      <th></th>\n",
       "      <th>OWNER</th>\n",
       "      <th>NAME</th>\n",
       "      <th>CONTEXTS</th>\n",
       "      <th>TEXT_PROCESSED</th>\n",
       "      <th>LENGTH_PROCESSED</th>\n",
       "      <th>TOPIC</th>\n",
       "    </tr>\n",
       "  </thead>\n",
       "  <tbody>\n",
       "    <tr>\n",
       "      <th>163</th>\n",
       "      <td>collectiveidea</td>\n",
       "      <td>delayed_job_mongoid</td>\n",
       "      <td>[[\"delay\", \"job\", \"mongoid\", \"support\", \"follo...</td>\n",
       "      <td>delay job mongoid support following dependency...</td>\n",
       "      <td>7</td>\n",
       "      <td>2</td>\n",
       "    </tr>\n",
       "    <tr>\n",
       "      <th>228</th>\n",
       "      <td>dry-rb</td>\n",
       "      <td>dry-auto_inject</td>\n",
       "      <td>[[\"library\", \"officially\", \"support\", \"followi...</td>\n",
       "      <td>library officially support following ruby vers...</td>\n",
       "      <td>6</td>\n",
       "      <td>2</td>\n",
       "    </tr>\n",
       "    <tr>\n",
       "      <th>229</th>\n",
       "      <td>dry-rb</td>\n",
       "      <td>dry-configurable</td>\n",
       "      <td>[[\"library\", \"officially\", \"support\", \"followi...</td>\n",
       "      <td>library officially support following ruby vers...</td>\n",
       "      <td>6</td>\n",
       "      <td>2</td>\n",
       "    </tr>\n",
       "    <tr>\n",
       "      <th>230</th>\n",
       "      <td>dry-rb</td>\n",
       "      <td>dry-container</td>\n",
       "      <td>[[\"library\", \"officially\", \"support\", \"followi...</td>\n",
       "      <td>library officially support following ruby vers...</td>\n",
       "      <td>6</td>\n",
       "      <td>2</td>\n",
       "    </tr>\n",
       "    <tr>\n",
       "      <th>231</th>\n",
       "      <td>dry-rb</td>\n",
       "      <td>dry-core</td>\n",
       "      <td>[[\"library\", \"officially\", \"support\", \"followi...</td>\n",
       "      <td>library officially support following ruby vers...</td>\n",
       "      <td>6</td>\n",
       "      <td>2</td>\n",
       "    </tr>\n",
       "    <tr>\n",
       "      <th>232</th>\n",
       "      <td>dry-rb</td>\n",
       "      <td>dry-effects</td>\n",
       "      <td>[[\"library\", \"officially\", \"support\", \"followi...</td>\n",
       "      <td>library officially support following ruby vers...</td>\n",
       "      <td>6</td>\n",
       "      <td>2</td>\n",
       "    </tr>\n",
       "    <tr>\n",
       "      <th>233</th>\n",
       "      <td>dry-rb</td>\n",
       "      <td>dry-initializer</td>\n",
       "      <td>[[\"library\", \"officially\", \"support\", \"followi...</td>\n",
       "      <td>library officially support following ruby vers...</td>\n",
       "      <td>6</td>\n",
       "      <td>2</td>\n",
       "    </tr>\n",
       "    <tr>\n",
       "      <th>234</th>\n",
       "      <td>dry-rb</td>\n",
       "      <td>dry-logic</td>\n",
       "      <td>[[\"library\", \"officially\", \"support\", \"followi...</td>\n",
       "      <td>library officially support following ruby vers...</td>\n",
       "      <td>6</td>\n",
       "      <td>2</td>\n",
       "    </tr>\n",
       "    <tr>\n",
       "      <th>235</th>\n",
       "      <td>dry-rb</td>\n",
       "      <td>dry-matcher</td>\n",
       "      <td>[[\"library\", \"officially\", \"support\", \"followi...</td>\n",
       "      <td>library officially support following ruby vers...</td>\n",
       "      <td>6</td>\n",
       "      <td>2</td>\n",
       "    </tr>\n",
       "    <tr>\n",
       "      <th>236</th>\n",
       "      <td>dry-rb</td>\n",
       "      <td>dry-monads</td>\n",
       "      <td>[[\"library\", \"officially\", \"support\", \"followi...</td>\n",
       "      <td>library officially support following ruby vers...</td>\n",
       "      <td>6</td>\n",
       "      <td>2</td>\n",
       "    </tr>\n",
       "  </tbody>\n",
       "</table>\n",
       "</div>"
      ],
      "text/plain": [
       "              OWNER                 NAME                                           CONTEXTS                                     TEXT_PROCESSED  LENGTH_PROCESSED  TOPIC\n",
       "163  collectiveidea  delayed_job_mongoid  [[\"delay\", \"job\", \"mongoid\", \"support\", \"follo...  delay job mongoid support following dependency...                 7      2\n",
       "228          dry-rb      dry-auto_inject  [[\"library\", \"officially\", \"support\", \"followi...  library officially support following ruby vers...                 6      2\n",
       "229          dry-rb     dry-configurable  [[\"library\", \"officially\", \"support\", \"followi...  library officially support following ruby vers...                 6      2\n",
       "230          dry-rb        dry-container  [[\"library\", \"officially\", \"support\", \"followi...  library officially support following ruby vers...                 6      2\n",
       "231          dry-rb             dry-core  [[\"library\", \"officially\", \"support\", \"followi...  library officially support following ruby vers...                 6      2\n",
       "232          dry-rb          dry-effects  [[\"library\", \"officially\", \"support\", \"followi...  library officially support following ruby vers...                 6      2\n",
       "233          dry-rb      dry-initializer  [[\"library\", \"officially\", \"support\", \"followi...  library officially support following ruby vers...                 6      2\n",
       "234          dry-rb            dry-logic  [[\"library\", \"officially\", \"support\", \"followi...  library officially support following ruby vers...                 6      2\n",
       "235          dry-rb          dry-matcher  [[\"library\", \"officially\", \"support\", \"followi...  library officially support following ruby vers...                 6      2\n",
       "236          dry-rb           dry-monads  [[\"library\", \"officially\", \"support\", \"followi...  library officially support following ruby vers...                 6      2"
      ]
     },
     "metadata": {},
     "output_type": "display_data"
    },
    {
     "name": "stdout",
     "output_type": "stream",
     "text": [
      "delay job mongoid support following dependency version.\n",
      "library officially support following ruby version.\n",
      "library officially support following ruby version.\n",
      "library officially support following ruby version.\n",
      "library officially support following ruby version.\n",
      "library officially support following ruby version.\n",
      "library officially support following ruby version.\n",
      "library officially support following ruby version.\n",
      "library officially support following ruby version.\n",
      "library officially support following ruby version.\n"
     ]
    }
   ],
   "source": [
    "mean_coherence = statistics.mean(coherences)    \n",
    "\n",
    "stable_topics = []\n",
    "for topic_id, topic_coherence in enumerate(coherences):\n",
    "    if topic_coherence >= mean_coherence:\n",
    "    # if topic_coherence > 0:\n",
    "        stable_topics.append(topic_id)\n",
    "        \n",
    "print(\"Stable topics:\", stable_topics)\n",
    "\n",
    "def classify_doc(likelihoods, stable_topics=None):\n",
    "    if stable_topics is None:\n",
    "        stable_topics = list(range(0, likelihoods.shape[0]))\n",
    "    filtered_max = max([likelihood for topic_id, likelihood in enumerate(likelihoods) if topic_id in stable_topics])\n",
    "    return np.where(likelihoods == filtered_max)[0][0]\n",
    "\n",
    "def get_top_n_topics(topic_doc_counts, n):\n",
    "    top_n = sorted(topic_doc_counts.items(), key=lambda x: x[1], reverse=True)[:n]\n",
    "    return [topic[0] for topic in top_n]\n",
    "\n",
    "def get_top_n_terms(model, topic_id, n, lambda_=0.6, return_df=True, plot=True, show_title=True):\n",
    "    phi = tmp.get_phi(model)\n",
    "    terms_probs = tmp.calc_terms_probs_ratio(phi, topic=topic_id, lambda_=lambda_)\n",
    "    terms_probs\n",
    "\n",
    "    term_relevances = {}\n",
    "    for term in terms_probs.Terms.unique():\n",
    "        # marginal_prob = terms_probs[(terms_probs.Terms == term) & (terms_probs.Type == \"Marginal term probability, p(w)\")][\"Probability\"].values[0]\n",
    "        # conditional_prob = terms_probs[(terms_probs.Terms == term) & (terms_probs.Type == \"Conditional term probability, p(w|t)\")][\"Probability\"].values[0]\n",
    "        \n",
    "        conditional_prob = phi.loc[term, topic_id] / phi[topic_id].sum()\n",
    "        marginal_prob = phi.loc[term, topic_id] / phi.loc[term,].sum()\n",
    "        \n",
    "        term_relevances[term] = conditional_prob * lambda_ + marginal_prob * (1-lambda_)\n",
    "    term_relevances = dict(sorted(term_relevances.items(), key=lambda x: x[1], reverse=True))\n",
    "    top_terms = dict(itertools.islice(term_relevances.items(), n))\n",
    "    top_terms = pd.DataFrame(top_terms.items(), columns=[\"Term\", \"Relevance\"])\n",
    "    \n",
    "    if plot:\n",
    "        fig = px.bar(top_terms, x=\"Relevance\", y=\"Term\", orientation=\"h\", width=500, height=500).update_traces(marker_color=language_colors[language]).update_yaxes(autorange=\"reversed\")\n",
    "        if show_title:\n",
    "            fig.update_layout(title_text=f\"{language} - Topic {topic_id}\", title_x=0.5)\n",
    "        fig.show()\n",
    "    \n",
    "    if return_df:\n",
    "        return top_terms\n",
    "\n",
    "docs_topic_likelihoods = model.transform(docs_vec)\n",
    "\n",
    "repos[\"TOPIC\"] = [classify_doc(likelihoods, stable_topics=None) for likelihoods in docs_topic_likelihoods]\n",
    "\n",
    "topic_doc_counts = repos[\"TOPIC\"].value_counts().to_dict()\n",
    "\n",
    "px.histogram(repos[\"TOPIC\"].value_counts(), width=600, height=300, nbins=10).update_traces(marker_color=language_colors[language]).update_layout(showlegend=False, yaxis_title=\"Frequency\", xaxis_title=\"Topic document count\").show()\n",
    "\n",
    "top_topics = get_top_n_topics(topic_doc_counts, 5)\n",
    "\n",
    "print(top_topics)\n",
    "\n",
    "display(btm.get_top_topic_words(model, words_num=10, topics_idx=top_topics))\n",
    "\n",
    "pd.set_option('display.width', 2000)\n",
    "\n",
    "print(\"Document counts by topic and some examples:\")\n",
    "for topic in top_topics:\n",
    "    print(f\"Topic {topic}: {topic_doc_counts[topic]} repos\")\n",
    "    # display(repos[repos.TOPIC == topic][0:10])\n",
    "    get_top_n_terms(model, topic_id=topic, n=10, lambda_=0.6, return_df=False, plot=True, show_title=False)\n",
    "    print(\"Top 10 documents:\")\n",
    "    top_docs = [doc[0] for doc in tmp.get_top_docs(model=model, docs=texts, topics=[topic], docs_num=10).values]\n",
    "    display(repos[repos.TEXT_PROCESSED.isin(top_docs)].head(len(top_docs)))\n",
    "    for row_id, row in repos[repos.TEXT_PROCESSED.isin(top_docs)].head(len(top_docs)).iterrows():\n",
    "        print(row.TEXT_PROCESSED)"
   ]
  },
  {
   "cell_type": "markdown",
   "id": "8dd9880b-5e1b-40fc-8743-b87263b222e5",
   "metadata": {},
   "source": [
    "Term-topic relationships:"
   ]
  },
  {
   "cell_type": "code",
   "execution_count": 156,
   "id": "7134a03e-0119-4c73-94f1-db1a67eee995",
   "metadata": {},
   "outputs": [
    {
     "data": {
      "text/html": [
       "<style type=\"text/css\">\n",
       "#T_f2ea6_row0_col0, #T_f2ea6_row0_col1, #T_f2ea6_row0_col2, #T_f2ea6_row0_col3, #T_f2ea6_row0_col4, #T_f2ea6_row1_col0, #T_f2ea6_row1_col2, #T_f2ea6_row1_col3, #T_f2ea6_row2_col2, #T_f2ea6_row3_col0, #T_f2ea6_row3_col2, #T_f2ea6_row4_col0, #T_f2ea6_row4_col1, #T_f2ea6_row4_col2, #T_f2ea6_row5_col0, #T_f2ea6_row5_col1, #T_f2ea6_row5_col2, #T_f2ea6_row6_col0, #T_f2ea6_row6_col2, #T_f2ea6_row7_col0, #T_f2ea6_row7_col2, #T_f2ea6_row7_col3, #T_f2ea6_row8_col0, #T_f2ea6_row8_col1, #T_f2ea6_row8_col2, #T_f2ea6_row9_col1, #T_f2ea6_row9_col2, #T_f2ea6_row9_col3, #T_f2ea6_row10_col0, #T_f2ea6_row10_col2, #T_f2ea6_row10_col3, #T_f2ea6_row11_col0, #T_f2ea6_row11_col2, #T_f2ea6_row11_col4, #T_f2ea6_row12_col1, #T_f2ea6_row12_col2, #T_f2ea6_row13_col1, #T_f2ea6_row13_col2, #T_f2ea6_row13_col3, #T_f2ea6_row14_col0, #T_f2ea6_row14_col1, #T_f2ea6_row14_col2, #T_f2ea6_row15_col2, #T_f2ea6_row15_col3, #T_f2ea6_row16_col0, #T_f2ea6_row16_col2, #T_f2ea6_row17_col0, #T_f2ea6_row17_col2, #T_f2ea6_row17_col3, #T_f2ea6_row18_col0, #T_f2ea6_row18_col2, #T_f2ea6_row18_col3, #T_f2ea6_row19_col0, #T_f2ea6_row19_col1, #T_f2ea6_row19_col2, #T_f2ea6_row19_col3, #T_f2ea6_row20_col0, #T_f2ea6_row20_col1, #T_f2ea6_row20_col2, #T_f2ea6_row21_col2, #T_f2ea6_row21_col3, #T_f2ea6_row22_col0, #T_f2ea6_row22_col1, #T_f2ea6_row22_col3, #T_f2ea6_row22_col4, #T_f2ea6_row23_col0, #T_f2ea6_row23_col2, #T_f2ea6_row24_col0, #T_f2ea6_row24_col2, #T_f2ea6_row25_col0, #T_f2ea6_row25_col2, #T_f2ea6_row25_col3, #T_f2ea6_row26_col0, #T_f2ea6_row26_col1, #T_f2ea6_row26_col2, #T_f2ea6_row26_col3, #T_f2ea6_row27_col1, #T_f2ea6_row27_col2, #T_f2ea6_row28_col2, #T_f2ea6_row28_col4, #T_f2ea6_row29_col0, #T_f2ea6_row29_col1, #T_f2ea6_row29_col2, #T_f2ea6_row30_col0, #T_f2ea6_row30_col2, #T_f2ea6_row30_col4, #T_f2ea6_row31_col1, #T_f2ea6_row31_col2, #T_f2ea6_row32_col0, #T_f2ea6_row32_col2, #T_f2ea6_row34_col0, #T_f2ea6_row34_col2, #T_f2ea6_row34_col3, #T_f2ea6_row35_col1, #T_f2ea6_row35_col2, #T_f2ea6_row35_col3, #T_f2ea6_row36_col0, #T_f2ea6_row36_col1, #T_f2ea6_row36_col2, #T_f2ea6_row37_col2, #T_f2ea6_row37_col3, #T_f2ea6_row38_col0, #T_f2ea6_row38_col2, #T_f2ea6_row38_col3, #T_f2ea6_row39_col0, #T_f2ea6_row39_col2, #T_f2ea6_row39_col3, #T_f2ea6_row40_col0, #T_f2ea6_row40_col1, #T_f2ea6_row40_col2, #T_f2ea6_row40_col3, #T_f2ea6_row41_col0, #T_f2ea6_row41_col2, #T_f2ea6_row42_col0, #T_f2ea6_row42_col1, #T_f2ea6_row42_col2, #T_f2ea6_row42_col4, #T_f2ea6_row43_col0, #T_f2ea6_row43_col1, #T_f2ea6_row43_col3, #T_f2ea6_row43_col4, #T_f2ea6_row44_col0, #T_f2ea6_row44_col1, #T_f2ea6_row45_col0, #T_f2ea6_row45_col2, #T_f2ea6_row45_col3, #T_f2ea6_row46_col0, #T_f2ea6_row46_col1, #T_f2ea6_row46_col3, #T_f2ea6_row47_col2, #T_f2ea6_row48_col0, #T_f2ea6_row48_col2, #T_f2ea6_row48_col3, #T_f2ea6_row49_col0, #T_f2ea6_row49_col2, #T_f2ea6_row49_col3, #T_f2ea6_row50_col0, #T_f2ea6_row50_col1, #T_f2ea6_row50_col2, #T_f2ea6_row50_col3, #T_f2ea6_row51_col0, #T_f2ea6_row51_col1, #T_f2ea6_row51_col2, #T_f2ea6_row52_col1, #T_f2ea6_row52_col2, #T_f2ea6_row52_col3, #T_f2ea6_row53_col0, #T_f2ea6_row53_col1, #T_f2ea6_row53_col2, #T_f2ea6_row54_col2, #T_f2ea6_row54_col4, #T_f2ea6_row55_col1, #T_f2ea6_row55_col2, #T_f2ea6_row55_col4, #T_f2ea6_row56_col2, #T_f2ea6_row57_col0, #T_f2ea6_row57_col1, #T_f2ea6_row58_col0, #T_f2ea6_row58_col2, #T_f2ea6_row58_col3, #T_f2ea6_row59_col1, #T_f2ea6_row59_col2, #T_f2ea6_row60_col2, #T_f2ea6_row60_col3, #T_f2ea6_row61_col1, #T_f2ea6_row61_col2, #T_f2ea6_row61_col3, #T_f2ea6_row63_col0, #T_f2ea6_row63_col2, #T_f2ea6_row63_col3, #T_f2ea6_row64_col0, #T_f2ea6_row64_col1, #T_f2ea6_row64_col2, #T_f2ea6_row65_col0, #T_f2ea6_row65_col1, #T_f2ea6_row65_col2, #T_f2ea6_row65_col3, #T_f2ea6_row66_col2, #T_f2ea6_row66_col3, #T_f2ea6_row67_col1, #T_f2ea6_row67_col2, #T_f2ea6_row68_col0, #T_f2ea6_row68_col2, #T_f2ea6_row69_col0, #T_f2ea6_row69_col1, #T_f2ea6_row69_col2, #T_f2ea6_row70_col1, #T_f2ea6_row70_col2 {\n",
       "  background-color: #a50026;\n",
       "  color: #f1f1f1;\n",
       "}\n",
       "#T_f2ea6_row1_col1, #T_f2ea6_row7_col1, #T_f2ea6_row18_col4, #T_f2ea6_row20_col3, #T_f2ea6_row23_col3, #T_f2ea6_row32_col1, #T_f2ea6_row39_col4, #T_f2ea6_row41_col3, #T_f2ea6_row55_col0, #T_f2ea6_row56_col4, #T_f2ea6_row59_col3, #T_f2ea6_row62_col3, #T_f2ea6_row66_col0 {\n",
       "  background-color: #ad0826;\n",
       "  color: #f1f1f1;\n",
       "}\n",
       "#T_f2ea6_row1_col4, #T_f2ea6_row3_col1, #T_f2ea6_row35_col0, #T_f2ea6_row37_col0, #T_f2ea6_row42_col3, #T_f2ea6_row44_col2, #T_f2ea6_row47_col0, #T_f2ea6_row47_col4, #T_f2ea6_row49_col1, #T_f2ea6_row54_col1, #T_f2ea6_row67_col0 {\n",
       "  background-color: #b30d26;\n",
       "  color: #f1f1f1;\n",
       "}\n",
       "#T_f2ea6_row2_col0, #T_f2ea6_row4_col4, #T_f2ea6_row6_col1, #T_f2ea6_row9_col0, #T_f2ea6_row10_col1, #T_f2ea6_row11_col1, #T_f2ea6_row12_col4, #T_f2ea6_row15_col4, #T_f2ea6_row18_col1, #T_f2ea6_row34_col1, #T_f2ea6_row40_col4, #T_f2ea6_row48_col1, #T_f2ea6_row62_col2, #T_f2ea6_row66_col1, #T_f2ea6_row68_col4 {\n",
       "  background-color: #b10b26;\n",
       "  color: #f1f1f1;\n",
       "}\n",
       "#T_f2ea6_row2_col1, #T_f2ea6_row36_col4, #T_f2ea6_row56_col1, #T_f2ea6_row63_col1 {\n",
       "  background-color: #b50f26;\n",
       "  color: #f1f1f1;\n",
       "}\n",
       "#T_f2ea6_row2_col3, #T_f2ea6_row3_col4, #T_f2ea6_row14_col4, #T_f2ea6_row16_col3, #T_f2ea6_row17_col1, #T_f2ea6_row17_col4, #T_f2ea6_row19_col4, #T_f2ea6_row20_col4, #T_f2ea6_row25_col4, #T_f2ea6_row27_col4, #T_f2ea6_row28_col1, #T_f2ea6_row33_col4, #T_f2ea6_row34_col4, #T_f2ea6_row36_col3, #T_f2ea6_row44_col4, #T_f2ea6_row45_col1, #T_f2ea6_row45_col4, #T_f2ea6_row51_col4, #T_f2ea6_row53_col4, #T_f2ea6_row54_col0, #T_f2ea6_row54_col3, #T_f2ea6_row58_col1, #T_f2ea6_row61_col4, #T_f2ea6_row63_col4, #T_f2ea6_row66_col4, #T_f2ea6_row68_col3, #T_f2ea6_row70_col4 {\n",
       "  background-color: #a90426;\n",
       "  color: #f1f1f1;\n",
       "}\n",
       "#T_f2ea6_row2_col4, #T_f2ea6_row5_col4, #T_f2ea6_row6_col3, #T_f2ea6_row7_col4, #T_f2ea6_row8_col4, #T_f2ea6_row9_col4, #T_f2ea6_row16_col4, #T_f2ea6_row21_col4, #T_f2ea6_row29_col3, #T_f2ea6_row31_col0, #T_f2ea6_row31_col3, #T_f2ea6_row38_col4, #T_f2ea6_row44_col3, #T_f2ea6_row50_col4, #T_f2ea6_row52_col4, #T_f2ea6_row56_col3, #T_f2ea6_row59_col4, #T_f2ea6_row65_col4, #T_f2ea6_row70_col3 {\n",
       "  background-color: #ab0626;\n",
       "  color: #f1f1f1;\n",
       "}\n",
       "#T_f2ea6_row3_col3, #T_f2ea6_row5_col3, #T_f2ea6_row10_col4, #T_f2ea6_row12_col3, #T_f2ea6_row13_col4, #T_f2ea6_row14_col3, #T_f2ea6_row23_col1, #T_f2ea6_row23_col4, #T_f2ea6_row27_col3, #T_f2ea6_row29_col4, #T_f2ea6_row31_col4, #T_f2ea6_row32_col3, #T_f2ea6_row32_col4, #T_f2ea6_row35_col4, #T_f2ea6_row37_col1, #T_f2ea6_row37_col4, #T_f2ea6_row41_col4, #T_f2ea6_row49_col4, #T_f2ea6_row53_col3, #T_f2ea6_row58_col4, #T_f2ea6_row60_col4, #T_f2ea6_row67_col4, #T_f2ea6_row68_col1, #T_f2ea6_row69_col4 {\n",
       "  background-color: #a70226;\n",
       "  color: #f1f1f1;\n",
       "}\n",
       "#T_f2ea6_row4_col3 {\n",
       "  background-color: #ea5739;\n",
       "  color: #f1f1f1;\n",
       "}\n",
       "#T_f2ea6_row6_col4, #T_f2ea6_row8_col3, #T_f2ea6_row15_col1, #T_f2ea6_row16_col1, #T_f2ea6_row26_col4, #T_f2ea6_row28_col0, #T_f2ea6_row28_col3, #T_f2ea6_row30_col1, #T_f2ea6_row30_col3, #T_f2ea6_row38_col1, #T_f2ea6_row60_col0, #T_f2ea6_row60_col1, #T_f2ea6_row64_col3, #T_f2ea6_row64_col4, #T_f2ea6_row69_col3 {\n",
       "  background-color: #af0926;\n",
       "  color: #f1f1f1;\n",
       "}\n",
       "#T_f2ea6_row11_col3, #T_f2ea6_row62_col0 {\n",
       "  background-color: #d42d27;\n",
       "  color: #f1f1f1;\n",
       "}\n",
       "#T_f2ea6_row12_col0, #T_f2ea6_row62_col1 {\n",
       "  background-color: #ce2827;\n",
       "  color: #f1f1f1;\n",
       "}\n",
       "#T_f2ea6_row13_col0, #T_f2ea6_row21_col1, #T_f2ea6_row27_col0, #T_f2ea6_row33_col0, #T_f2ea6_row41_col1, #T_f2ea6_row48_col4 {\n",
       "  background-color: #b91326;\n",
       "  color: #f1f1f1;\n",
       "}\n",
       "#T_f2ea6_row15_col0, #T_f2ea6_row47_col1, #T_f2ea6_row52_col0 {\n",
       "  background-color: #be1827;\n",
       "  color: #f1f1f1;\n",
       "}\n",
       "#T_f2ea6_row21_col0 {\n",
       "  background-color: #c82227;\n",
       "  color: #f1f1f1;\n",
       "}\n",
       "#T_f2ea6_row22_col2 {\n",
       "  background-color: #e95538;\n",
       "  color: #f1f1f1;\n",
       "}\n",
       "#T_f2ea6_row24_col1, #T_f2ea6_row33_col1, #T_f2ea6_row61_col0 {\n",
       "  background-color: #c21c27;\n",
       "  color: #f1f1f1;\n",
       "}\n",
       "#T_f2ea6_row24_col3, #T_f2ea6_row57_col3, #T_f2ea6_row70_col0 {\n",
       "  background-color: #bb1526;\n",
       "  color: #f1f1f1;\n",
       "}\n",
       "#T_f2ea6_row24_col4, #T_f2ea6_row55_col3 {\n",
       "  background-color: #c01a27;\n",
       "  color: #f1f1f1;\n",
       "}\n",
       "#T_f2ea6_row25_col1, #T_f2ea6_row46_col4, #T_f2ea6_row47_col3, #T_f2ea6_row51_col3, #T_f2ea6_row57_col4, #T_f2ea6_row67_col3 {\n",
       "  background-color: #b71126;\n",
       "  color: #f1f1f1;\n",
       "}\n",
       "#T_f2ea6_row33_col2 {\n",
       "  background-color: #f46d43;\n",
       "  color: #f1f1f1;\n",
       "}\n",
       "#T_f2ea6_row33_col3, #T_f2ea6_row62_col4 {\n",
       "  background-color: #ca2427;\n",
       "  color: #f1f1f1;\n",
       "}\n",
       "#T_f2ea6_row39_col1, #T_f2ea6_row56_col0 {\n",
       "  background-color: #bd1726;\n",
       "  color: #f1f1f1;\n",
       "}\n",
       "#T_f2ea6_row43_col2 {\n",
       "  background-color: #f26841;\n",
       "  color: #f1f1f1;\n",
       "}\n",
       "#T_f2ea6_row46_col2 {\n",
       "  background-color: #db382b;\n",
       "  color: #f1f1f1;\n",
       "}\n",
       "#T_f2ea6_row57_col2 {\n",
       "  background-color: #fa9b58;\n",
       "  color: #000000;\n",
       "}\n",
       "#T_f2ea6_row59_col0 {\n",
       "  background-color: #d83128;\n",
       "  color: #f1f1f1;\n",
       "}\n",
       "</style>\n",
       "<table id=\"T_f2ea6\">\n",
       "  <thead>\n",
       "    <tr>\n",
       "      <th class=\"index_name level0\" >topics</th>\n",
       "      <th id=\"T_f2ea6_level0_col0\" class=\"col_heading level0 col0\" >0</th>\n",
       "      <th id=\"T_f2ea6_level0_col1\" class=\"col_heading level0 col1\" >1</th>\n",
       "      <th id=\"T_f2ea6_level0_col2\" class=\"col_heading level0 col2\" >2</th>\n",
       "      <th id=\"T_f2ea6_level0_col3\" class=\"col_heading level0 col3\" >3</th>\n",
       "      <th id=\"T_f2ea6_level0_col4\" class=\"col_heading level0 col4\" >4</th>\n",
       "    </tr>\n",
       "    <tr>\n",
       "      <th class=\"index_name level0\" >words</th>\n",
       "      <th class=\"blank col0\" >&nbsp;</th>\n",
       "      <th class=\"blank col1\" >&nbsp;</th>\n",
       "      <th class=\"blank col2\" >&nbsp;</th>\n",
       "      <th class=\"blank col3\" >&nbsp;</th>\n",
       "      <th class=\"blank col4\" >&nbsp;</th>\n",
       "    </tr>\n",
       "  </thead>\n",
       "  <tbody>\n",
       "    <tr>\n",
       "      <th id=\"T_f2ea6_level0_row0\" class=\"row_heading level0 row0\" >activerecord</th>\n",
       "      <td id=\"T_f2ea6_row0_col0\" class=\"data row0 col0\" >0.000009</td>\n",
       "      <td id=\"T_f2ea6_row0_col1\" class=\"data row0 col1\" >0.000005</td>\n",
       "      <td id=\"T_f2ea6_row0_col2\" class=\"data row0 col2\" >0.000023</td>\n",
       "      <td id=\"T_f2ea6_row0_col3\" class=\"data row0 col3\" >0.000005</td>\n",
       "      <td id=\"T_f2ea6_row0_col4\" class=\"data row0 col4\" >0.000001</td>\n",
       "    </tr>\n",
       "    <tr>\n",
       "      <th id=\"T_f2ea6_level0_row1\" class=\"row_heading level0 row1\" >add</th>\n",
       "      <td id=\"T_f2ea6_row1_col0\" class=\"data row1 col0\" >0.000009</td>\n",
       "      <td id=\"T_f2ea6_row1_col1\" class=\"data row1 col1\" >0.015983</td>\n",
       "      <td id=\"T_f2ea6_row1_col2\" class=\"data row1 col2\" >0.000023</td>\n",
       "      <td id=\"T_f2ea6_row1_col3\" class=\"data row1 col3\" >0.000005</td>\n",
       "      <td id=\"T_f2ea6_row1_col4\" class=\"data row1 col4\" >0.031104</td>\n",
       "    </tr>\n",
       "    <tr>\n",
       "      <th id=\"T_f2ea6_level0_row2\" class=\"row_heading level0 row2\" >allow</th>\n",
       "      <td id=\"T_f2ea6_row2_col0\" class=\"data row2 col0\" >0.026258</td>\n",
       "      <td id=\"T_f2ea6_row2_col1\" class=\"data row2 col1\" >0.031462</td>\n",
       "      <td id=\"T_f2ea6_row2_col2\" class=\"data row2 col2\" >0.000023</td>\n",
       "      <td id=\"T_f2ea6_row2_col3\" class=\"data row2 col3\" >0.010847</td>\n",
       "      <td id=\"T_f2ea6_row2_col4\" class=\"data row2 col4\" >0.012089</td>\n",
       "    </tr>\n",
       "    <tr>\n",
       "      <th id=\"T_f2ea6_level0_row3\" class=\"row_heading level0 row3\" >also</th>\n",
       "      <td id=\"T_f2ea6_row3_col0\" class=\"data row3 col0\" >0.000009</td>\n",
       "      <td id=\"T_f2ea6_row3_col1\" class=\"data row3 col1\" >0.027468</td>\n",
       "      <td id=\"T_f2ea6_row3_col2\" class=\"data row3 col2\" >0.000023</td>\n",
       "      <td id=\"T_f2ea6_row3_col3\" class=\"data row3 col3\" >0.005968</td>\n",
       "      <td id=\"T_f2ea6_row3_col4\" class=\"data row3 col4\" >0.007879</td>\n",
       "    </tr>\n",
       "    <tr>\n",
       "      <th id=\"T_f2ea6_level0_row4\" class=\"row_heading level0 row4\" >api</th>\n",
       "      <td id=\"T_f2ea6_row4_col0\" class=\"data row4 col0\" >0.000009</td>\n",
       "      <td id=\"T_f2ea6_row4_col1\" class=\"data row4 col1\" >0.000005</td>\n",
       "      <td id=\"T_f2ea6_row4_col2\" class=\"data row4 col2\" >0.000023</td>\n",
       "      <td id=\"T_f2ea6_row4_col3\" class=\"data row4 col3\" >0.165343</td>\n",
       "      <td id=\"T_f2ea6_row4_col4\" class=\"data row4 col4\" >0.024721</td>\n",
       "    </tr>\n",
       "    <tr>\n",
       "      <th id=\"T_f2ea6_level0_row5\" class=\"row_heading level0 row5\" >app</th>\n",
       "      <td id=\"T_f2ea6_row5_col0\" class=\"data row5 col0\" >0.000009</td>\n",
       "      <td id=\"T_f2ea6_row5_col1\" class=\"data row5 col1\" >0.000005</td>\n",
       "      <td id=\"T_f2ea6_row5_col2\" class=\"data row5 col2\" >0.000023</td>\n",
       "      <td id=\"T_f2ea6_row5_col3\" class=\"data row5 col3\" >0.007595</td>\n",
       "      <td id=\"T_f2ea6_row5_col4\" class=\"data row5 col4\" >0.012225</td>\n",
       "    </tr>\n",
       "    <tr>\n",
       "      <th id=\"T_f2ea6_level0_row6\" class=\"row_heading level0 row6\" >application</th>\n",
       "      <td id=\"T_f2ea6_row6_col0\" class=\"data row6 col0\" >0.000009</td>\n",
       "      <td id=\"T_f2ea6_row6_col1\" class=\"data row6 col1\" >0.023973</td>\n",
       "      <td id=\"T_f2ea6_row6_col2\" class=\"data row6 col2\" >0.000023</td>\n",
       "      <td id=\"T_f2ea6_row6_col3\" class=\"data row6 col3\" >0.014642</td>\n",
       "      <td id=\"T_f2ea6_row6_col4\" class=\"data row6 col4\" >0.022819</td>\n",
       "    </tr>\n",
       "    <tr>\n",
       "      <th id=\"T_f2ea6_level0_row7\" class=\"row_heading level0 row7\" >base</th>\n",
       "      <td id=\"T_f2ea6_row7_col0\" class=\"data row7 col0\" >0.000009</td>\n",
       "      <td id=\"T_f2ea6_row7_col1\" class=\"data row7 col1\" >0.016982</td>\n",
       "      <td id=\"T_f2ea6_row7_col2\" class=\"data row7 col2\" >0.002313</td>\n",
       "      <td id=\"T_f2ea6_row7_col3\" class=\"data row7 col3\" >0.000005</td>\n",
       "      <td id=\"T_f2ea6_row7_col4\" class=\"data row7 col4\" >0.013583</td>\n",
       "    </tr>\n",
       "    <tr>\n",
       "      <th id=\"T_f2ea6_level0_row8\" class=\"row_heading level0 row8\" >build</th>\n",
       "      <td id=\"T_f2ea6_row8_col0\" class=\"data row8 col0\" >0.000009</td>\n",
       "      <td id=\"T_f2ea6_row8_col1\" class=\"data row8 col1\" >0.000005</td>\n",
       "      <td id=\"T_f2ea6_row8_col2\" class=\"data row8 col2\" >0.000023</td>\n",
       "      <td id=\"T_f2ea6_row8_col3\" class=\"data row8 col3\" >0.023315</td>\n",
       "      <td id=\"T_f2ea6_row8_col4\" class=\"data row8 col4\" >0.011818</td>\n",
       "    </tr>\n",
       "    <tr>\n",
       "      <th id=\"T_f2ea6_level0_row9\" class=\"row_heading level0 row9\" >check</th>\n",
       "      <td id=\"T_f2ea6_row9_col0\" class=\"data row9 col0\" >0.026258</td>\n",
       "      <td id=\"T_f2ea6_row9_col1\" class=\"data row9 col1\" >0.000005</td>\n",
       "      <td id=\"T_f2ea6_row9_col2\" class=\"data row9 col2\" >0.000023</td>\n",
       "      <td id=\"T_f2ea6_row9_col3\" class=\"data row9 col3\" >0.000005</td>\n",
       "      <td id=\"T_f2ea6_row9_col4\" class=\"data row9 col4\" >0.012089</td>\n",
       "    </tr>\n",
       "    <tr>\n",
       "      <th id=\"T_f2ea6_level0_row10\" class=\"row_heading level0 row10\" >class</th>\n",
       "      <td id=\"T_f2ea6_row10_col0\" class=\"data row10 col0\" >0.000009</td>\n",
       "      <td id=\"T_f2ea6_row10_col1\" class=\"data row10 col1\" >0.023973</td>\n",
       "      <td id=\"T_f2ea6_row10_col2\" class=\"data row10 col2\" >0.000023</td>\n",
       "      <td id=\"T_f2ea6_row10_col3\" class=\"data row10 col3\" >0.000005</td>\n",
       "      <td id=\"T_f2ea6_row10_col4\" class=\"data row10 col4\" >0.006113</td>\n",
       "    </tr>\n",
       "    <tr>\n",
       "      <th id=\"T_f2ea6_level0_row11\" class=\"row_heading level0 row11\" >client</th>\n",
       "      <td id=\"T_f2ea6_row11_col0\" class=\"data row11 col0\" >0.000009</td>\n",
       "      <td id=\"T_f2ea6_row11_col1\" class=\"data row11 col1\" >0.026469</td>\n",
       "      <td id=\"T_f2ea6_row11_col2\" class=\"data row11 col2\" >0.000023</td>\n",
       "      <td id=\"T_f2ea6_row11_col3\" class=\"data row11 col3\" >0.093787</td>\n",
       "      <td id=\"T_f2ea6_row11_col4\" class=\"data row11 col4\" >0.000001</td>\n",
       "    </tr>\n",
       "    <tr>\n",
       "      <th id=\"T_f2ea6_level0_row12\" class=\"row_heading level0 row12\" >code</th>\n",
       "      <td id=\"T_f2ea6_row12_col0\" class=\"data row12 col0\" >0.082506</td>\n",
       "      <td id=\"T_f2ea6_row12_col1\" class=\"data row12 col1\" >0.000005</td>\n",
       "      <td id=\"T_f2ea6_row12_col2\" class=\"data row12 col2\" >0.000023</td>\n",
       "      <td id=\"T_f2ea6_row12_col3\" class=\"data row12 col3\" >0.004884</td>\n",
       "      <td id=\"T_f2ea6_row12_col4\" class=\"data row12 col4\" >0.025671</td>\n",
       "    </tr>\n",
       "    <tr>\n",
       "      <th id=\"T_f2ea6_level0_row13\" class=\"row_heading level0 row13\" >command</th>\n",
       "      <td id=\"T_f2ea6_row13_col0\" class=\"data row13 col0\" >0.039383</td>\n",
       "      <td id=\"T_f2ea6_row13_col1\" class=\"data row13 col1\" >0.000005</td>\n",
       "      <td id=\"T_f2ea6_row13_col2\" class=\"data row13 col2\" >0.000023</td>\n",
       "      <td id=\"T_f2ea6_row13_col3\" class=\"data row13 col3\" >0.000005</td>\n",
       "      <td id=\"T_f2ea6_row13_col4\" class=\"data row13 col4\" >0.007064</td>\n",
       "    </tr>\n",
       "    <tr>\n",
       "      <th id=\"T_f2ea6_level0_row14\" class=\"row_heading level0 row14\" >contain</th>\n",
       "      <td id=\"T_f2ea6_row14_col0\" class=\"data row14 col0\" >0.000009</td>\n",
       "      <td id=\"T_f2ea6_row14_col1\" class=\"data row14 col1\" >0.000005</td>\n",
       "      <td id=\"T_f2ea6_row14_col2\" class=\"data row14 col2\" >0.000023</td>\n",
       "      <td id=\"T_f2ea6_row14_col3\" class=\"data row14 col3\" >0.006511</td>\n",
       "      <td id=\"T_f2ea6_row14_col4\" class=\"data row14 col4\" >0.010595</td>\n",
       "    </tr>\n",
       "    <tr>\n",
       "      <th id=\"T_f2ea6_level0_row15\" class=\"row_heading level0 row15\" >create</th>\n",
       "      <td id=\"T_f2ea6_row15_col0\" class=\"data row15 col0\" >0.052507</td>\n",
       "      <td id=\"T_f2ea6_row15_col1\" class=\"data row15 col1\" >0.020477</td>\n",
       "      <td id=\"T_f2ea6_row15_col2\" class=\"data row15 col2\" >0.000023</td>\n",
       "      <td id=\"T_f2ea6_row15_col3\" class=\"data row15 col3\" >0.003800</td>\n",
       "      <td id=\"T_f2ea6_row15_col4\" class=\"data row15 col4\" >0.024177</td>\n",
       "    </tr>\n",
       "    <tr>\n",
       "      <th id=\"T_f2ea6_level0_row16\" class=\"row_heading level0 row16\" >data</th>\n",
       "      <td id=\"T_f2ea6_row16_col0\" class=\"data row16 col0\" >0.000009</td>\n",
       "      <td id=\"T_f2ea6_row16_col1\" class=\"data row16 col1\" >0.022974</td>\n",
       "      <td id=\"T_f2ea6_row16_col2\" class=\"data row16 col2\" >0.000023</td>\n",
       "      <td id=\"T_f2ea6_row16_col3\" class=\"data row16 col3\" >0.008679</td>\n",
       "      <td id=\"T_f2ea6_row16_col4\" class=\"data row16 col4\" >0.012225</td>\n",
       "    </tr>\n",
       "    <tr>\n",
       "      <th id=\"T_f2ea6_level0_row17\" class=\"row_heading level0 row17\" >database</th>\n",
       "      <td id=\"T_f2ea6_row17_col0\" class=\"data row17 col0\" >0.000009</td>\n",
       "      <td id=\"T_f2ea6_row17_col1\" class=\"data row17 col1\" >0.007994</td>\n",
       "      <td id=\"T_f2ea6_row17_col2\" class=\"data row17 col2\" >0.000023</td>\n",
       "      <td id=\"T_f2ea6_row17_col3\" class=\"data row17 col3\" >0.000005</td>\n",
       "      <td id=\"T_f2ea6_row17_col4\" class=\"data row17 col4\" >0.011410</td>\n",
       "    </tr>\n",
       "    <tr>\n",
       "      <th id=\"T_f2ea6_level0_row18\" class=\"row_heading level0 row18\" >easy</th>\n",
       "      <td id=\"T_f2ea6_row18_col0\" class=\"data row18 col0\" >0.000009</td>\n",
       "      <td id=\"T_f2ea6_row18_col1\" class=\"data row18 col1\" >0.025470</td>\n",
       "      <td id=\"T_f2ea6_row18_col2\" class=\"data row18 col2\" >0.000023</td>\n",
       "      <td id=\"T_f2ea6_row18_col3\" class=\"data row18 col3\" >0.000005</td>\n",
       "      <td id=\"T_f2ea6_row18_col4\" class=\"data row18 col4\" >0.015756</td>\n",
       "    </tr>\n",
       "    <tr>\n",
       "      <th id=\"T_f2ea6_level0_row19\" class=\"row_heading level0 row19\" >extension</th>\n",
       "      <td id=\"T_f2ea6_row19_col0\" class=\"data row19 col0\" >0.000009</td>\n",
       "      <td id=\"T_f2ea6_row19_col1\" class=\"data row19 col1\" >0.000005</td>\n",
       "      <td id=\"T_f2ea6_row19_col2\" class=\"data row19 col2\" >0.000023</td>\n",
       "      <td id=\"T_f2ea6_row19_col3\" class=\"data row19 col3\" >0.000005</td>\n",
       "      <td id=\"T_f2ea6_row19_col4\" class=\"data row19 col4\" >0.011274</td>\n",
       "    </tr>\n",
       "    <tr>\n",
       "      <th id=\"T_f2ea6_level0_row20\" class=\"row_heading level0 row20\" >feature</th>\n",
       "      <td id=\"T_f2ea6_row20_col0\" class=\"data row20 col0\" >0.000009</td>\n",
       "      <td id=\"T_f2ea6_row20_col1\" class=\"data row20 col1\" >0.000005</td>\n",
       "      <td id=\"T_f2ea6_row20_col2\" class=\"data row20 col2\" >0.000023</td>\n",
       "      <td id=\"T_f2ea6_row20_col3\" class=\"data row20 col3\" >0.015726</td>\n",
       "      <td id=\"T_f2ea6_row20_col4\" class=\"data row20 col4\" >0.010324</td>\n",
       "    </tr>\n",
       "    <tr>\n",
       "      <th id=\"T_f2ea6_level0_row21\" class=\"row_heading level0 row21\" >file</th>\n",
       "      <td id=\"T_f2ea6_row21_col0\" class=\"data row21 col0\" >0.070319</td>\n",
       "      <td id=\"T_f2ea6_row21_col1\" class=\"data row21 col1\" >0.041449</td>\n",
       "      <td id=\"T_f2ea6_row21_col2\" class=\"data row21 col2\" >0.000023</td>\n",
       "      <td id=\"T_f2ea6_row21_col3\" class=\"data row21 col3\" >0.000005</td>\n",
       "      <td id=\"T_f2ea6_row21_col4\" class=\"data row21 col4\" >0.013583</td>\n",
       "    </tr>\n",
       "    <tr>\n",
       "      <th id=\"T_f2ea6_level0_row22\" class=\"row_heading level0 row22\" >following</th>\n",
       "      <td id=\"T_f2ea6_row22_col0\" class=\"data row22 col0\" >0.000009</td>\n",
       "      <td id=\"T_f2ea6_row22_col1\" class=\"data row22 col1\" >0.000005</td>\n",
       "      <td id=\"T_f2ea6_row22_col2\" class=\"data row22 col2\" >0.162602</td>\n",
       "      <td id=\"T_f2ea6_row22_col3\" class=\"data row22 col3\" >0.000005</td>\n",
       "      <td id=\"T_f2ea6_row22_col4\" class=\"data row22 col4\" >0.002718</td>\n",
       "    </tr>\n",
       "    <tr>\n",
       "      <th id=\"T_f2ea6_level0_row23\" class=\"row_heading level0 row23\" >framework</th>\n",
       "      <td id=\"T_f2ea6_row23_col0\" class=\"data row23 col0\" >0.000009</td>\n",
       "      <td id=\"T_f2ea6_row23_col1\" class=\"data row23 col1\" >0.004499</td>\n",
       "      <td id=\"T_f2ea6_row23_col2\" class=\"data row23 col2\" >0.000023</td>\n",
       "      <td id=\"T_f2ea6_row23_col3\" class=\"data row23 col3\" >0.017894</td>\n",
       "      <td id=\"T_f2ea6_row23_col4\" class=\"data row23 col4\" >0.006249</td>\n",
       "    </tr>\n",
       "    <tr>\n",
       "      <th id=\"T_f2ea6_level0_row24\" class=\"row_heading level0 row24\" >gem</th>\n",
       "      <td id=\"T_f2ea6_row24_col0\" class=\"data row24 col0\" >0.000009</td>\n",
       "      <td id=\"T_f2ea6_row24_col1\" class=\"data row24 col1\" >0.059924</td>\n",
       "      <td id=\"T_f2ea6_row24_col2\" class=\"data row24 col2\" >0.000023</td>\n",
       "      <td id=\"T_f2ea6_row24_col3\" class=\"data row24 col3\" >0.044999</td>\n",
       "      <td id=\"T_f2ea6_row24_col4\" class=\"data row24 col4\" >0.058268</td>\n",
       "    </tr>\n",
       "    <tr>\n",
       "      <th id=\"T_f2ea6_level0_row25\" class=\"row_heading level0 row25\" >generate</th>\n",
       "      <td id=\"T_f2ea6_row25_col0\" class=\"data row25 col0\" >0.000009</td>\n",
       "      <td id=\"T_f2ea6_row25_col1\" class=\"data row25 col1\" >0.037454</td>\n",
       "      <td id=\"T_f2ea6_row25_col2\" class=\"data row25 col2\" >0.000023</td>\n",
       "      <td id=\"T_f2ea6_row25_col3\" class=\"data row25 col3\" >0.003258</td>\n",
       "      <td id=\"T_f2ea6_row25_col4\" class=\"data row25 col4\" >0.008015</td>\n",
       "    </tr>\n",
       "    <tr>\n",
       "      <th id=\"T_f2ea6_level0_row26\" class=\"row_heading level0 row26\" >get</th>\n",
       "      <td id=\"T_f2ea6_row26_col0\" class=\"data row26 col0\" >0.000009</td>\n",
       "      <td id=\"T_f2ea6_row26_col1\" class=\"data row26 col1\" >0.000005</td>\n",
       "      <td id=\"T_f2ea6_row26_col2\" class=\"data row26 col2\" >0.000023</td>\n",
       "      <td id=\"T_f2ea6_row26_col3\" class=\"data row26 col3\" >0.000005</td>\n",
       "      <td id=\"T_f2ea6_row26_col4\" class=\"data row26 col4\" >0.020103</td>\n",
       "    </tr>\n",
       "    <tr>\n",
       "      <th id=\"T_f2ea6_level0_row27\" class=\"row_heading level0 row27\" >help</th>\n",
       "      <td id=\"T_f2ea6_row27_col0\" class=\"data row27 col0\" >0.039383</td>\n",
       "      <td id=\"T_f2ea6_row27_col1\" class=\"data row27 col1\" >0.000005</td>\n",
       "      <td id=\"T_f2ea6_row27_col2\" class=\"data row27 col2\" >0.000023</td>\n",
       "      <td id=\"T_f2ea6_row27_col3\" class=\"data row27 col3\" >0.007595</td>\n",
       "      <td id=\"T_f2ea6_row27_col4\" class=\"data row27 col4\" >0.011410</td>\n",
       "    </tr>\n",
       "    <tr>\n",
       "      <th id=\"T_f2ea6_level0_row28\" class=\"row_heading level0 row28\" >http</th>\n",
       "      <td id=\"T_f2ea6_row28_col0\" class=\"data row28 col0\" >0.019696</td>\n",
       "      <td id=\"T_f2ea6_row28_col1\" class=\"data row28 col1\" >0.010491</td>\n",
       "      <td id=\"T_f2ea6_row28_col2\" class=\"data row28 col2\" >0.000023</td>\n",
       "      <td id=\"T_f2ea6_row28_col3\" class=\"data row28 col3\" >0.022773</td>\n",
       "      <td id=\"T_f2ea6_row28_col4\" class=\"data row28 col4\" >0.000001</td>\n",
       "    </tr>\n",
       "    <tr>\n",
       "      <th id=\"T_f2ea6_level0_row29\" class=\"row_heading level0 row29\" >implementation</th>\n",
       "      <td id=\"T_f2ea6_row29_col0\" class=\"data row29 col0\" >0.000009</td>\n",
       "      <td id=\"T_f2ea6_row29_col1\" class=\"data row29 col1\" >0.000005</td>\n",
       "      <td id=\"T_f2ea6_row29_col2\" class=\"data row29 col2\" >0.000023</td>\n",
       "      <td id=\"T_f2ea6_row29_col3\" class=\"data row29 col3\" >0.011931</td>\n",
       "      <td id=\"T_f2ea6_row29_col4\" class=\"data row29 col4\" >0.005977</td>\n",
       "    </tr>\n",
       "    <tr>\n",
       "      <th id=\"T_f2ea6_level0_row30\" class=\"row_heading level0 row30\" >include</th>\n",
       "      <td id=\"T_f2ea6_row30_col0\" class=\"data row30 col0\" >0.000009</td>\n",
       "      <td id=\"T_f2ea6_row30_col1\" class=\"data row30 col1\" >0.021476</td>\n",
       "      <td id=\"T_f2ea6_row30_col2\" class=\"data row30 col2\" >0.000023</td>\n",
       "      <td id=\"T_f2ea6_row30_col3\" class=\"data row30 col3\" >0.021689</td>\n",
       "      <td id=\"T_f2ea6_row30_col4\" class=\"data row30 col4\" >0.000001</td>\n",
       "    </tr>\n",
       "    <tr>\n",
       "      <th id=\"T_f2ea6_level0_row31\" class=\"row_heading level0 row31\" >interface</th>\n",
       "      <td id=\"T_f2ea6_row31_col0\" class=\"data row31 col0\" >0.015009</td>\n",
       "      <td id=\"T_f2ea6_row31_col1\" class=\"data row31 col1\" >0.000005</td>\n",
       "      <td id=\"T_f2ea6_row31_col2\" class=\"data row31 col2\" >0.000023</td>\n",
       "      <td id=\"T_f2ea6_row31_col3\" class=\"data row31 col3\" >0.011931</td>\n",
       "      <td id=\"T_f2ea6_row31_col4\" class=\"data row31 col4\" >0.006792</td>\n",
       "    </tr>\n",
       "    <tr>\n",
       "      <th id=\"T_f2ea6_level0_row32\" class=\"row_heading level0 row32\" >language</th>\n",
       "      <td id=\"T_f2ea6_row32_col0\" class=\"data row32 col0\" >0.000009</td>\n",
       "      <td id=\"T_f2ea6_row32_col1\" class=\"data row32 col1\" >0.017981</td>\n",
       "      <td id=\"T_f2ea6_row32_col2\" class=\"data row32 col2\" >0.000023</td>\n",
       "      <td id=\"T_f2ea6_row32_col3\" class=\"data row32 col3\" >0.005968</td>\n",
       "      <td id=\"T_f2ea6_row32_col4\" class=\"data row32 col4\" >0.004483</td>\n",
       "    </tr>\n",
       "    <tr>\n",
       "      <th id=\"T_f2ea6_level0_row33\" class=\"row_heading level0 row33\" >library</th>\n",
       "      <td id=\"T_f2ea6_row33_col0\" class=\"data row33 col0\" >0.039383</td>\n",
       "      <td id=\"T_f2ea6_row33_col1\" class=\"data row33 col1\" >0.061422</td>\n",
       "      <td id=\"T_f2ea6_row33_col2\" class=\"data row33 col2\" >0.201530</td>\n",
       "      <td id=\"T_f2ea6_row33_col3\" class=\"data row33 col3\" >0.077524</td>\n",
       "      <td id=\"T_f2ea6_row33_col4\" class=\"data row33 col4\" >0.009509</td>\n",
       "    </tr>\n",
       "    <tr>\n",
       "      <th id=\"T_f2ea6_level0_row34\" class=\"row_heading level0 row34\" >like</th>\n",
       "      <td id=\"T_f2ea6_row34_col0\" class=\"data row34 col0\" >0.000009</td>\n",
       "      <td id=\"T_f2ea6_row34_col1\" class=\"data row34 col1\" >0.024472</td>\n",
       "      <td id=\"T_f2ea6_row34_col2\" class=\"data row34 col2\" >0.000023</td>\n",
       "      <td id=\"T_f2ea6_row34_col3\" class=\"data row34 col3\" >0.000005</td>\n",
       "      <td id=\"T_f2ea6_row34_col4\" class=\"data row34 col4\" >0.010731</td>\n",
       "    </tr>\n",
       "    <tr>\n",
       "      <th id=\"T_f2ea6_level0_row35\" class=\"row_heading level0 row35\" >line</th>\n",
       "      <td id=\"T_f2ea6_row35_col0\" class=\"data row35 col0\" >0.028133</td>\n",
       "      <td id=\"T_f2ea6_row35_col1\" class=\"data row35 col1\" >0.000005</td>\n",
       "      <td id=\"T_f2ea6_row35_col2\" class=\"data row35 col2\" >0.000023</td>\n",
       "      <td id=\"T_f2ea6_row35_col3\" class=\"data row35 col3\" >0.000005</td>\n",
       "      <td id=\"T_f2ea6_row35_col4\" class=\"data row35 col4\" >0.005434</td>\n",
       "    </tr>\n",
       "    <tr>\n",
       "      <th id=\"T_f2ea6_level0_row36\" class=\"row_heading level0 row36\" >make</th>\n",
       "      <td id=\"T_f2ea6_row36_col0\" class=\"data row36 col0\" >0.000009</td>\n",
       "      <td id=\"T_f2ea6_row36_col1\" class=\"data row36 col1\" >0.000005</td>\n",
       "      <td id=\"T_f2ea6_row36_col2\" class=\"data row36 col2\" >0.000023</td>\n",
       "      <td id=\"T_f2ea6_row36_col3\" class=\"data row36 col3\" >0.010847</td>\n",
       "      <td id=\"T_f2ea6_row36_col4\" class=\"data row36 col4\" >0.033549</td>\n",
       "    </tr>\n",
       "    <tr>\n",
       "      <th id=\"T_f2ea6_level0_row37\" class=\"row_heading level0 row37\" >manage</th>\n",
       "      <td id=\"T_f2ea6_row37_col0\" class=\"data row37 col0\" >0.028133</td>\n",
       "      <td id=\"T_f2ea6_row37_col1\" class=\"data row37 col1\" >0.005997</td>\n",
       "      <td id=\"T_f2ea6_row37_col2\" class=\"data row37 col2\" >0.000023</td>\n",
       "      <td id=\"T_f2ea6_row37_col3\" class=\"data row37 col3\" >0.000005</td>\n",
       "      <td id=\"T_f2ea6_row37_col4\" class=\"data row37 col4\" >0.005842</td>\n",
       "    </tr>\n",
       "    <tr>\n",
       "      <th id=\"T_f2ea6_level0_row38\" class=\"row_heading level0 row38\" >method</th>\n",
       "      <td id=\"T_f2ea6_row38_col0\" class=\"data row38 col0\" >0.000009</td>\n",
       "      <td id=\"T_f2ea6_row38_col1\" class=\"data row38 col1\" >0.020977</td>\n",
       "      <td id=\"T_f2ea6_row38_col2\" class=\"data row38 col2\" >0.000023</td>\n",
       "      <td id=\"T_f2ea6_row38_col3\" class=\"data row38 col3\" >0.000005</td>\n",
       "      <td id=\"T_f2ea6_row38_col4\" class=\"data row38 col4\" >0.014670</td>\n",
       "    </tr>\n",
       "    <tr>\n",
       "      <th id=\"T_f2ea6_level0_row39\" class=\"row_heading level0 row39\" >model</th>\n",
       "      <td id=\"T_f2ea6_row39_col0\" class=\"data row39 col0\" >0.000009</td>\n",
       "      <td id=\"T_f2ea6_row39_col1\" class=\"data row39 col1\" >0.047940</td>\n",
       "      <td id=\"T_f2ea6_row39_col2\" class=\"data row39 col2\" >0.000023</td>\n",
       "      <td id=\"T_f2ea6_row39_col3\" class=\"data row39 col3\" >0.000005</td>\n",
       "      <td id=\"T_f2ea6_row39_col4\" class=\"data row39 col4\" >0.017658</td>\n",
       "    </tr>\n",
       "    <tr>\n",
       "      <th id=\"T_f2ea6_level0_row40\" class=\"row_heading level0 row40\" >need</th>\n",
       "      <td id=\"T_f2ea6_row40_col0\" class=\"data row40 col0\" >0.000009</td>\n",
       "      <td id=\"T_f2ea6_row40_col1\" class=\"data row40 col1\" >0.000005</td>\n",
       "      <td id=\"T_f2ea6_row40_col2\" class=\"data row40 col2\" >0.000023</td>\n",
       "      <td id=\"T_f2ea6_row40_col3\" class=\"data row40 col3\" >0.000005</td>\n",
       "      <td id=\"T_f2ea6_row40_col4\" class=\"data row40 col4\" >0.025943</td>\n",
       "    </tr>\n",
       "    <tr>\n",
       "      <th id=\"T_f2ea6_level0_row41\" class=\"row_heading level0 row41\" >object</th>\n",
       "      <td id=\"T_f2ea6_row41_col0\" class=\"data row41 col0\" >0.001884</td>\n",
       "      <td id=\"T_f2ea6_row41_col1\" class=\"data row41 col1\" >0.042447</td>\n",
       "      <td id=\"T_f2ea6_row41_col2\" class=\"data row41 col2\" >0.000023</td>\n",
       "      <td id=\"T_f2ea6_row41_col3\" class=\"data row41 col3\" >0.015726</td>\n",
       "      <td id=\"T_f2ea6_row41_col4\" class=\"data row41 col4\" >0.005706</td>\n",
       "    </tr>\n",
       "    <tr>\n",
       "      <th id=\"T_f2ea6_level0_row42\" class=\"row_heading level0 row42\" >official</th>\n",
       "      <td id=\"T_f2ea6_row42_col0\" class=\"data row42 col0\" >0.000009</td>\n",
       "      <td id=\"T_f2ea6_row42_col1\" class=\"data row42 col1\" >0.000005</td>\n",
       "      <td id=\"T_f2ea6_row42_col2\" class=\"data row42 col2\" >0.000023</td>\n",
       "      <td id=\"T_f2ea6_row42_col3\" class=\"data row42 col3\" >0.027652</td>\n",
       "      <td id=\"T_f2ea6_row42_col4\" class=\"data row42 col4\" >0.003668</td>\n",
       "    </tr>\n",
       "    <tr>\n",
       "      <th id=\"T_f2ea6_level0_row43\" class=\"row_heading level0 row43\" >officially</th>\n",
       "      <td id=\"T_f2ea6_row43_col0\" class=\"data row43 col0\" >0.000009</td>\n",
       "      <td id=\"T_f2ea6_row43_col1\" class=\"data row43 col1\" >0.000005</td>\n",
       "      <td id=\"T_f2ea6_row43_col2\" class=\"data row43 col2\" >0.192370</td>\n",
       "      <td id=\"T_f2ea6_row43_col3\" class=\"data row43 col3\" >0.000005</td>\n",
       "      <td id=\"T_f2ea6_row43_col4\" class=\"data row43 col4\" >0.000001</td>\n",
       "    </tr>\n",
       "    <tr>\n",
       "      <th id=\"T_f2ea6_level0_row44\" class=\"row_heading level0 row44\" >please</th>\n",
       "      <td id=\"T_f2ea6_row44_col0\" class=\"data row44 col0\" >0.000009</td>\n",
       "      <td id=\"T_f2ea6_row44_col1\" class=\"data row44 col1\" >0.000005</td>\n",
       "      <td id=\"T_f2ea6_row44_col2\" class=\"data row44 col2\" >0.027501</td>\n",
       "      <td id=\"T_f2ea6_row44_col3\" class=\"data row44 col3\" >0.014100</td>\n",
       "      <td id=\"T_f2ea6_row44_col4\" class=\"data row44 col4\" >0.008422</td>\n",
       "    </tr>\n",
       "    <tr>\n",
       "      <th id=\"T_f2ea6_level0_row45\" class=\"row_heading level0 row45\" >plugin</th>\n",
       "      <td id=\"T_f2ea6_row45_col0\" class=\"data row45 col0\" >0.000009</td>\n",
       "      <td id=\"T_f2ea6_row45_col1\" class=\"data row45 col1\" >0.009492</td>\n",
       "      <td id=\"T_f2ea6_row45_col2\" class=\"data row45 col2\" >0.000023</td>\n",
       "      <td id=\"T_f2ea6_row45_col3\" class=\"data row45 col3\" >0.000005</td>\n",
       "      <td id=\"T_f2ea6_row45_col4\" class=\"data row45 col4\" >0.010731</td>\n",
       "    </tr>\n",
       "    <tr>\n",
       "      <th id=\"T_f2ea6_level0_row46\" class=\"row_heading level0 row46\" >project</th>\n",
       "      <td id=\"T_f2ea6_row46_col0\" class=\"data row46 col0\" >0.000009</td>\n",
       "      <td id=\"T_f2ea6_row46_col1\" class=\"data row46 col1\" >0.000005</td>\n",
       "      <td id=\"T_f2ea6_row46_col2\" class=\"data row46 col2\" >0.116805</td>\n",
       "      <td id=\"T_f2ea6_row46_col3\" class=\"data row46 col3\" >0.000005</td>\n",
       "      <td id=\"T_f2ea6_row46_col4\" class=\"data row46 col4\" >0.036537</td>\n",
       "    </tr>\n",
       "    <tr>\n",
       "      <th id=\"T_f2ea6_level0_row47\" class=\"row_heading level0 row47\" >provide</th>\n",
       "      <td id=\"T_f2ea6_row47_col0\" class=\"data row47 col0\" >0.029071</td>\n",
       "      <td id=\"T_f2ea6_row47_col1\" class=\"data row47 col1\" >0.052933</td>\n",
       "      <td id=\"T_f2ea6_row47_col2\" class=\"data row47 col2\" >0.000023</td>\n",
       "      <td id=\"T_f2ea6_row47_col3\" class=\"data row47 col3\" >0.035783</td>\n",
       "      <td id=\"T_f2ea6_row47_col4\" class=\"data row47 col4\" >0.029338</td>\n",
       "    </tr>\n",
       "    <tr>\n",
       "      <th id=\"T_f2ea6_level0_row48\" class=\"row_heading level0 row48\" >rail</th>\n",
       "      <td id=\"T_f2ea6_row48_col0\" class=\"data row48 col0\" >0.000009</td>\n",
       "      <td id=\"T_f2ea6_row48_col1\" class=\"data row48 col1\" >0.025970</td>\n",
       "      <td id=\"T_f2ea6_row48_col2\" class=\"data row48 col2\" >0.000023</td>\n",
       "      <td id=\"T_f2ea6_row48_col3\" class=\"data row48 col3\" >0.000005</td>\n",
       "      <td id=\"T_f2ea6_row48_col4\" class=\"data row48 col4\" >0.040883</td>\n",
       "    </tr>\n",
       "    <tr>\n",
       "      <th id=\"T_f2ea6_level0_row49\" class=\"row_heading level0 row49\" >rails</th>\n",
       "      <td id=\"T_f2ea6_row49_col0\" class=\"data row49 col0\" >0.000009</td>\n",
       "      <td id=\"T_f2ea6_row49_col1\" class=\"data row49 col1\" >0.027468</td>\n",
       "      <td id=\"T_f2ea6_row49_col2\" class=\"data row49 col2\" >0.000023</td>\n",
       "      <td id=\"T_f2ea6_row49_col3\" class=\"data row49 col3\" >0.000005</td>\n",
       "      <td id=\"T_f2ea6_row49_col4\" class=\"data row49 col4\" >0.004212</td>\n",
       "    </tr>\n",
       "    <tr>\n",
       "      <th id=\"T_f2ea6_level0_row50\" class=\"row_heading level0 row50\" >repository</th>\n",
       "      <td id=\"T_f2ea6_row50_col0\" class=\"data row50 col0\" >0.000009</td>\n",
       "      <td id=\"T_f2ea6_row50_col1\" class=\"data row50 col1\" >0.003500</td>\n",
       "      <td id=\"T_f2ea6_row50_col2\" class=\"data row50 col2\" >0.000023</td>\n",
       "      <td id=\"T_f2ea6_row50_col3\" class=\"data row50 col3\" >0.000005</td>\n",
       "      <td id=\"T_f2ea6_row50_col4\" class=\"data row50 col4\" >0.012633</td>\n",
       "    </tr>\n",
       "    <tr>\n",
       "      <th id=\"T_f2ea6_level0_row51\" class=\"row_heading level0 row51\" >request</th>\n",
       "      <td id=\"T_f2ea6_row51_col0\" class=\"data row51 col0\" >0.000009</td>\n",
       "      <td id=\"T_f2ea6_row51_col1\" class=\"data row51 col1\" >0.000005</td>\n",
       "      <td id=\"T_f2ea6_row51_col2\" class=\"data row51 col2\" >0.000023</td>\n",
       "      <td id=\"T_f2ea6_row51_col3\" class=\"data row51 col3\" >0.037952</td>\n",
       "      <td id=\"T_f2ea6_row51_col4\" class=\"data row51 col4\" >0.011274</td>\n",
       "    </tr>\n",
       "    <tr>\n",
       "      <th id=\"T_f2ea6_level0_row52\" class=\"row_heading level0 row52\" >run</th>\n",
       "      <td id=\"T_f2ea6_row52_col0\" class=\"data row52 col0\" >0.053445</td>\n",
       "      <td id=\"T_f2ea6_row52_col1\" class=\"data row52 col1\" >0.000005</td>\n",
       "      <td id=\"T_f2ea6_row52_col2\" class=\"data row52 col2\" >0.000023</td>\n",
       "      <td id=\"T_f2ea6_row52_col3\" class=\"data row52 col3\" >0.000005</td>\n",
       "      <td id=\"T_f2ea6_row52_col4\" class=\"data row52 col4\" >0.012633</td>\n",
       "    </tr>\n",
       "    <tr>\n",
       "      <th id=\"T_f2ea6_level0_row53\" class=\"row_heading level0 row53\" >see</th>\n",
       "      <td id=\"T_f2ea6_row53_col0\" class=\"data row53 col0\" >0.000947</td>\n",
       "      <td id=\"T_f2ea6_row53_col1\" class=\"data row53 col1\" >0.000005</td>\n",
       "      <td id=\"T_f2ea6_row53_col2\" class=\"data row53 col2\" >0.000023</td>\n",
       "      <td id=\"T_f2ea6_row53_col3\" class=\"data row53 col3\" >0.007595</td>\n",
       "      <td id=\"T_f2ea6_row53_col4\" class=\"data row53 col4\" >0.010867</td>\n",
       "    </tr>\n",
       "    <tr>\n",
       "      <th id=\"T_f2ea6_level0_row54\" class=\"row_heading level0 row54\" >server</th>\n",
       "      <td id=\"T_f2ea6_row54_col0\" class=\"data row54 col0\" >0.010321</td>\n",
       "      <td id=\"T_f2ea6_row54_col1\" class=\"data row54 col1\" >0.027967</td>\n",
       "      <td id=\"T_f2ea6_row54_col2\" class=\"data row54 col2\" >0.000023</td>\n",
       "      <td id=\"T_f2ea6_row54_col3\" class=\"data row54 col3\" >0.010305</td>\n",
       "      <td id=\"T_f2ea6_row54_col4\" class=\"data row54 col4\" >0.000001</td>\n",
       "    </tr>\n",
       "    <tr>\n",
       "      <th id=\"T_f2ea6_level0_row55\" class=\"row_heading level0 row55\" >service</th>\n",
       "      <td id=\"T_f2ea6_row55_col0\" class=\"data row55 col0\" >0.016884</td>\n",
       "      <td id=\"T_f2ea6_row55_col1\" class=\"data row55 col1\" >0.000005</td>\n",
       "      <td id=\"T_f2ea6_row55_col2\" class=\"data row55 col2\" >0.000023</td>\n",
       "      <td id=\"T_f2ea6_row55_col3\" class=\"data row55 col3\" >0.056925</td>\n",
       "      <td id=\"T_f2ea6_row55_col4\" class=\"data row55 col4\" >0.002174</td>\n",
       "    </tr>\n",
       "    <tr>\n",
       "      <th id=\"T_f2ea6_level0_row56\" class=\"row_heading level0 row56\" >simple</th>\n",
       "      <td id=\"T_f2ea6_row56_col0\" class=\"data row56 col0\" >0.047820</td>\n",
       "      <td id=\"T_f2ea6_row56_col1\" class=\"data row56 col1\" >0.033959</td>\n",
       "      <td id=\"T_f2ea6_row56_col2\" class=\"data row56 col2\" >0.000023</td>\n",
       "      <td id=\"T_f2ea6_row56_col3\" class=\"data row56 col3\" >0.012474</td>\n",
       "      <td id=\"T_f2ea6_row56_col4\" class=\"data row56 col4\" >0.016707</td>\n",
       "    </tr>\n",
       "    <tr>\n",
       "      <th id=\"T_f2ea6_level0_row57\" class=\"row_heading level0 row57\" >support</th>\n",
       "      <td id=\"T_f2ea6_row57_col0\" class=\"data row57 col0\" >0.000009</td>\n",
       "      <td id=\"T_f2ea6_row57_col1\" class=\"data row57 col1\" >0.000005</td>\n",
       "      <td id=\"T_f2ea6_row57_col2\" class=\"data row57 col2\" >0.270225</td>\n",
       "      <td id=\"T_f2ea6_row57_col3\" class=\"data row57 col3\" >0.046083</td>\n",
       "      <td id=\"T_f2ea6_row57_col4\" class=\"data row57 col4\" >0.035994</td>\n",
       "    </tr>\n",
       "    <tr>\n",
       "      <th id=\"T_f2ea6_level0_row58\" class=\"row_heading level0 row58\" >system</th>\n",
       "      <td id=\"T_f2ea6_row58_col0\" class=\"data row58 col0\" >0.000009</td>\n",
       "      <td id=\"T_f2ea6_row58_col1\" class=\"data row58 col1\" >0.008993</td>\n",
       "      <td id=\"T_f2ea6_row58_col2\" class=\"data row58 col2\" >0.000023</td>\n",
       "      <td id=\"T_f2ea6_row58_col3\" class=\"data row58 col3\" >0.000005</td>\n",
       "      <td id=\"T_f2ea6_row58_col4\" class=\"data row58 col4\" >0.006792</td>\n",
       "    </tr>\n",
       "    <tr>\n",
       "      <th id=\"T_f2ea6_level0_row59\" class=\"row_heading level0 row59\" >test</th>\n",
       "      <td id=\"T_f2ea6_row59_col0\" class=\"data row59 col0\" >0.102193</td>\n",
       "      <td id=\"T_f2ea6_row59_col1\" class=\"data row59 col1\" >0.000504</td>\n",
       "      <td id=\"T_f2ea6_row59_col2\" class=\"data row59 col2\" >0.000023</td>\n",
       "      <td id=\"T_f2ea6_row59_col3\" class=\"data row59 col3\" >0.017352</td>\n",
       "      <td id=\"T_f2ea6_row59_col4\" class=\"data row59 col4\" >0.012361</td>\n",
       "    </tr>\n",
       "    <tr>\n",
       "      <th id=\"T_f2ea6_level0_row60\" class=\"row_heading level0 row60\" >time</th>\n",
       "      <td id=\"T_f2ea6_row60_col0\" class=\"data row60 col0\" >0.022508</td>\n",
       "      <td id=\"T_f2ea6_row60_col1\" class=\"data row60 col1\" >0.022475</td>\n",
       "      <td id=\"T_f2ea6_row60_col2\" class=\"data row60 col2\" >0.000023</td>\n",
       "      <td id=\"T_f2ea6_row60_col3\" class=\"data row60 col3\" >0.000005</td>\n",
       "      <td id=\"T_f2ea6_row60_col4\" class=\"data row60 col4\" >0.005842</td>\n",
       "    </tr>\n",
       "    <tr>\n",
       "      <th id=\"T_f2ea6_level0_row61\" class=\"row_heading level0 row61\" >tool</th>\n",
       "      <td id=\"T_f2ea6_row61_col0\" class=\"data row61 col0\" >0.060007</td>\n",
       "      <td id=\"T_f2ea6_row61_col1\" class=\"data row61 col1\" >0.000005</td>\n",
       "      <td id=\"T_f2ea6_row61_col2\" class=\"data row61 col2\" >0.000023</td>\n",
       "      <td id=\"T_f2ea6_row61_col3\" class=\"data row61 col3\" >0.000005</td>\n",
       "      <td id=\"T_f2ea6_row61_col4\" class=\"data row61 col4\" >0.010324</td>\n",
       "    </tr>\n",
       "    <tr>\n",
       "      <th id=\"T_f2ea6_level0_row62\" class=\"row_heading level0 row62\" >use</th>\n",
       "      <td id=\"T_f2ea6_row62_col0\" class=\"data row62 col0\" >0.093756</td>\n",
       "      <td id=\"T_f2ea6_row62_col1\" class=\"data row62 col1\" >0.085889</td>\n",
       "      <td id=\"T_f2ea6_row62_col2\" class=\"data row62 col2\" >0.025211</td>\n",
       "      <td id=\"T_f2ea6_row62_col3\" class=\"data row62 col3\" >0.015726</td>\n",
       "      <td id=\"T_f2ea6_row62_col4\" class=\"data row62 col4\" >0.075381</td>\n",
       "    </tr>\n",
       "    <tr>\n",
       "      <th id=\"T_f2ea6_level0_row63\" class=\"row_heading level0 row63\" >user</th>\n",
       "      <td id=\"T_f2ea6_row63_col0\" class=\"data row63 col0\" >0.000009</td>\n",
       "      <td id=\"T_f2ea6_row63_col1\" class=\"data row63 col1\" >0.032461</td>\n",
       "      <td id=\"T_f2ea6_row63_col2\" class=\"data row63 col2\" >0.000023</td>\n",
       "      <td id=\"T_f2ea6_row63_col3\" class=\"data row63 col3\" >0.000005</td>\n",
       "      <td id=\"T_f2ea6_row63_col4\" class=\"data row63 col4\" >0.008151</td>\n",
       "    </tr>\n",
       "    <tr>\n",
       "      <th id=\"T_f2ea6_level0_row64\" class=\"row_heading level0 row64\" >version</th>\n",
       "      <td id=\"T_f2ea6_row64_col0\" class=\"data row64 col0\" >0.000009</td>\n",
       "      <td id=\"T_f2ea6_row64_col1\" class=\"data row64 col1\" >0.000504</td>\n",
       "      <td id=\"T_f2ea6_row64_col2\" class=\"data row64 col2\" >0.000023</td>\n",
       "      <td id=\"T_f2ea6_row64_col3\" class=\"data row64 col3\" >0.021689</td>\n",
       "      <td id=\"T_f2ea6_row64_col4\" class=\"data row64 col4\" >0.023091</td>\n",
       "    </tr>\n",
       "    <tr>\n",
       "      <th id=\"T_f2ea6_level0_row65\" class=\"row_heading level0 row65\" >want</th>\n",
       "      <td id=\"T_f2ea6_row65_col0\" class=\"data row65 col0\" >0.000009</td>\n",
       "      <td id=\"T_f2ea6_row65_col1\" class=\"data row65 col1\" >0.000005</td>\n",
       "      <td id=\"T_f2ea6_row65_col2\" class=\"data row65 col2\" >0.000023</td>\n",
       "      <td id=\"T_f2ea6_row65_col3\" class=\"data row65 col3\" >0.000005</td>\n",
       "      <td id=\"T_f2ea6_row65_col4\" class=\"data row65 col4\" >0.013447</td>\n",
       "    </tr>\n",
       "    <tr>\n",
       "      <th id=\"T_f2ea6_level0_row66\" class=\"row_heading level0 row66\" >way</th>\n",
       "      <td id=\"T_f2ea6_row66_col0\" class=\"data row66 col0\" >0.016884</td>\n",
       "      <td id=\"T_f2ea6_row66_col1\" class=\"data row66 col1\" >0.023973</td>\n",
       "      <td id=\"T_f2ea6_row66_col2\" class=\"data row66 col2\" >0.000023</td>\n",
       "      <td id=\"T_f2ea6_row66_col3\" class=\"data row66 col3\" >0.000005</td>\n",
       "      <td id=\"T_f2ea6_row66_col4\" class=\"data row66 col4\" >0.010595</td>\n",
       "    </tr>\n",
       "    <tr>\n",
       "      <th id=\"T_f2ea6_level0_row67\" class=\"row_heading level0 row67\" >web</th>\n",
       "      <td id=\"T_f2ea6_row67_col0\" class=\"data row67 col0\" >0.030946</td>\n",
       "      <td id=\"T_f2ea6_row67_col1\" class=\"data row67 col1\" >0.000005</td>\n",
       "      <td id=\"T_f2ea6_row67_col2\" class=\"data row67 col2\" >0.000023</td>\n",
       "      <td id=\"T_f2ea6_row67_col3\" class=\"data row67 col3\" >0.036325</td>\n",
       "      <td id=\"T_f2ea6_row67_col4\" class=\"data row67 col4\" >0.004619</td>\n",
       "    </tr>\n",
       "    <tr>\n",
       "      <th id=\"T_f2ea6_level0_row68\" class=\"row_heading level0 row68\" >work</th>\n",
       "      <td id=\"T_f2ea6_row68_col0\" class=\"data row68 col0\" >0.000009</td>\n",
       "      <td id=\"T_f2ea6_row68_col1\" class=\"data row68 col1\" >0.004000</td>\n",
       "      <td id=\"T_f2ea6_row68_col2\" class=\"data row68 col2\" >0.000023</td>\n",
       "      <td id=\"T_f2ea6_row68_col3\" class=\"data row68 col3\" >0.011389</td>\n",
       "      <td id=\"T_f2ea6_row68_col4\" class=\"data row68 col4\" >0.024721</td>\n",
       "    </tr>\n",
       "    <tr>\n",
       "      <th id=\"T_f2ea6_level0_row69\" class=\"row_heading level0 row69\" >wrapper</th>\n",
       "      <td id=\"T_f2ea6_row69_col0\" class=\"data row69 col0\" >0.000009</td>\n",
       "      <td id=\"T_f2ea6_row69_col1\" class=\"data row69 col1\" >0.000005</td>\n",
       "      <td id=\"T_f2ea6_row69_col2\" class=\"data row69 col2\" >0.000023</td>\n",
       "      <td id=\"T_f2ea6_row69_col3\" class=\"data row69 col3\" >0.020063</td>\n",
       "      <td id=\"T_f2ea6_row69_col4\" class=\"data row69 col4\" >0.007743</td>\n",
       "    </tr>\n",
       "    <tr>\n",
       "      <th id=\"T_f2ea6_level0_row70\" class=\"row_heading level0 row70\" >write</th>\n",
       "      <td id=\"T_f2ea6_row70_col0\" class=\"data row70 col0\" >0.045945</td>\n",
       "      <td id=\"T_f2ea6_row70_col1\" class=\"data row70 col1\" >0.000005</td>\n",
       "      <td id=\"T_f2ea6_row70_col2\" class=\"data row70 col2\" >0.000023</td>\n",
       "      <td id=\"T_f2ea6_row70_col3\" class=\"data row70 col3\" >0.015184</td>\n",
       "      <td id=\"T_f2ea6_row70_col4\" class=\"data row70 col4\" >0.011274</td>\n",
       "    </tr>\n",
       "  </tbody>\n",
       "</table>\n"
      ],
      "text/plain": [
       "<pandas.io.formats.style.Styler at 0x219ef5e8a90>"
      ]
     },
     "execution_count": 156,
     "metadata": {},
     "output_type": "execute_result"
    }
   ],
   "source": [
    "phi = tmp.get_phi(model)\n",
    "phi.style.background_gradient(axis=None, vmin=0, vmax=1, cmap=\"RdYlGn\")"
   ]
  },
  {
   "cell_type": "markdown",
   "id": "f935baec-b42e-4f6c-9717-b58714c94b67",
   "metadata": {},
   "source": [
    "## Release cadence"
   ]
  },
  {
   "cell_type": "markdown",
   "id": "16f5367e-17fd-47e6-a760-91a867187b50",
   "metadata": {},
   "source": [
    "Merging topics with cadence groups:"
   ]
  },
  {
   "cell_type": "code",
   "execution_count": 157,
   "id": "d742989b-dec9-4824-843f-149e8242b270",
   "metadata": {},
   "outputs": [
    {
     "data": {
      "text/html": [
       "<div>\n",
       "<style scoped>\n",
       "    .dataframe tbody tr th:only-of-type {\n",
       "        vertical-align: middle;\n",
       "    }\n",
       "\n",
       "    .dataframe tbody tr th {\n",
       "        vertical-align: top;\n",
       "    }\n",
       "\n",
       "    .dataframe thead th {\n",
       "        text-align: right;\n",
       "    }\n",
       "</style>\n",
       "<table border=\"1\" class=\"dataframe\">\n",
       "  <thead>\n",
       "    <tr style=\"text-align: right;\">\n",
       "      <th></th>\n",
       "      <th>OWNER</th>\n",
       "      <th>NAME</th>\n",
       "      <th>CONTEXTS</th>\n",
       "      <th>TEXT_PROCESSED</th>\n",
       "      <th>LENGTH_PROCESSED</th>\n",
       "      <th>TOPIC</th>\n",
       "      <th>CADENCE</th>\n",
       "      <th>CADENCE_ID</th>\n",
       "      <th>RAPID</th>\n",
       "    </tr>\n",
       "  </thead>\n",
       "  <tbody>\n",
       "    <tr>\n",
       "      <th>0</th>\n",
       "      <td>3scale</td>\n",
       "      <td>3scale_ws_api_for_ruby</td>\n",
       "      <td>[[\"3scale\", \"api\", \"infrastructure\", \"service\"...</td>\n",
       "      <td>3scale api infrastructure service handle api k...</td>\n",
       "      <td>25</td>\n",
       "      <td>3</td>\n",
       "      <td>modern</td>\n",
       "      <td>2</td>\n",
       "      <td>False</td>\n",
       "    </tr>\n",
       "    <tr>\n",
       "      <th>1</th>\n",
       "      <td>activeadmin</td>\n",
       "      <td>arbre</td>\n",
       "      <td>[[\"arbre\", \"make\", \"easy\", \"generate\", \"html\",...</td>\n",
       "      <td>arbre make easy generate html directly ruby ge...</td>\n",
       "      <td>11</td>\n",
       "      <td>4</td>\n",
       "      <td>slow</td>\n",
       "      <td>1</td>\n",
       "      <td>False</td>\n",
       "    </tr>\n",
       "    <tr>\n",
       "      <th>2</th>\n",
       "      <td>activemerchant</td>\n",
       "      <td>offsite_payments</td>\n",
       "      <td>[[\"offsite\", \"payment\", \"extraction\", \"ecommer...</td>\n",
       "      <td>offsite payment extraction ecommerce system sh...</td>\n",
       "      <td>29</td>\n",
       "      <td>4</td>\n",
       "      <td>slow</td>\n",
       "      <td>1</td>\n",
       "      <td>False</td>\n",
       "    </tr>\n",
       "    <tr>\n",
       "      <th>3</th>\n",
       "      <td>adzerk</td>\n",
       "      <td>adzerk-api</td>\n",
       "      <td>[[\"ruby\", \"wrapper\", \"adzerk\", \"api\"]]</td>\n",
       "      <td>ruby wrapper adzerk api.</td>\n",
       "      <td>4</td>\n",
       "      <td>4</td>\n",
       "      <td>modern</td>\n",
       "      <td>2</td>\n",
       "      <td>False</td>\n",
       "    </tr>\n",
       "    <tr>\n",
       "      <th>4</th>\n",
       "      <td>aerospike</td>\n",
       "      <td>aerospike-client-ruby</td>\n",
       "      <td>[[\"aerospike\", \"library\", \"ruby\"]]</td>\n",
       "      <td>aerospike library ruby.</td>\n",
       "      <td>3</td>\n",
       "      <td>3</td>\n",
       "      <td>modern</td>\n",
       "      <td>2</td>\n",
       "      <td>False</td>\n",
       "    </tr>\n",
       "    <tr>\n",
       "      <th>...</th>\n",
       "      <td>...</td>\n",
       "      <td>...</td>\n",
       "      <td>...</td>\n",
       "      <td>...</td>\n",
       "      <td>...</td>\n",
       "      <td>...</td>\n",
       "      <td>...</td>\n",
       "      <td>...</td>\n",
       "      <td>...</td>\n",
       "    </tr>\n",
       "    <tr>\n",
       "      <th>379</th>\n",
       "      <td>yoshoku</td>\n",
       "      <td>rumale</td>\n",
       "      <td>[[\"project\", \"suspend\", \"author's\", \"health\", ...</td>\n",
       "      <td>project suspend author's health reason resume ...</td>\n",
       "      <td>8</td>\n",
       "      <td>4</td>\n",
       "      <td>modern</td>\n",
       "      <td>2</td>\n",
       "      <td>False</td>\n",
       "    </tr>\n",
       "    <tr>\n",
       "      <th>380</th>\n",
       "      <td>yujinakayama</td>\n",
       "      <td>guard-rubocop</td>\n",
       "      <td>[[\"guard-rubocop\", \"allows\", \"automatically\", ...</td>\n",
       "      <td>guard-rubocop allows automatically check ruby ...</td>\n",
       "      <td>10</td>\n",
       "      <td>0</td>\n",
       "      <td>slow</td>\n",
       "      <td>1</td>\n",
       "      <td>False</td>\n",
       "    </tr>\n",
       "    <tr>\n",
       "      <th>381</th>\n",
       "      <td>yuki24</td>\n",
       "      <td>rambulance</td>\n",
       "      <td>[[\"simple\", \"safe\", \"way\", \"dynamically\", \"ren...</td>\n",
       "      <td>simple safe way dynamically render error page ...</td>\n",
       "      <td>9</td>\n",
       "      <td>4</td>\n",
       "      <td>slow</td>\n",
       "      <td>1</td>\n",
       "      <td>False</td>\n",
       "    </tr>\n",
       "    <tr>\n",
       "      <th>382</th>\n",
       "      <td>zendesk</td>\n",
       "      <td>active_record_shards</td>\n",
       "      <td>[[\"activerecord\", \"shard\", \"extension\", \"activ...</td>\n",
       "      <td>activerecord shard extension activerecord prov...</td>\n",
       "      <td>24</td>\n",
       "      <td>4</td>\n",
       "      <td>modern</td>\n",
       "      <td>2</td>\n",
       "      <td>False</td>\n",
       "    </tr>\n",
       "    <tr>\n",
       "      <th>383</th>\n",
       "      <td>zold-io</td>\n",
       "      <td>zold</td>\n",
       "      <td>[[\"understand\", \"zold\", \"cryptocurrency\", \"may...</td>\n",
       "      <td>understand zold cryptocurrency may want watch ...</td>\n",
       "      <td>23</td>\n",
       "      <td>4</td>\n",
       "      <td>slow</td>\n",
       "      <td>1</td>\n",
       "      <td>False</td>\n",
       "    </tr>\n",
       "  </tbody>\n",
       "</table>\n",
       "<p>384 rows × 9 columns</p>\n",
       "</div>"
      ],
      "text/plain": [
       "              OWNER                    NAME                                           CONTEXTS                                     TEXT_PROCESSED  LENGTH_PROCESSED  TOPIC CADENCE  CADENCE_ID  RAPID\n",
       "0            3scale  3scale_ws_api_for_ruby  [[\"3scale\", \"api\", \"infrastructure\", \"service\"...  3scale api infrastructure service handle api k...                25      3  modern           2  False\n",
       "1       activeadmin                   arbre  [[\"arbre\", \"make\", \"easy\", \"generate\", \"html\",...  arbre make easy generate html directly ruby ge...                11      4    slow           1  False\n",
       "2    activemerchant        offsite_payments  [[\"offsite\", \"payment\", \"extraction\", \"ecommer...  offsite payment extraction ecommerce system sh...                29      4    slow           1  False\n",
       "3            adzerk              adzerk-api             [[\"ruby\", \"wrapper\", \"adzerk\", \"api\"]]                           ruby wrapper adzerk api.                 4      4  modern           2  False\n",
       "4         aerospike   aerospike-client-ruby                 [[\"aerospike\", \"library\", \"ruby\"]]                            aerospike library ruby.                 3      3  modern           2  False\n",
       "..              ...                     ...                                                ...                                                ...               ...    ...     ...         ...    ...\n",
       "379         yoshoku                  rumale  [[\"project\", \"suspend\", \"author's\", \"health\", ...  project suspend author's health reason resume ...                 8      4  modern           2  False\n",
       "380    yujinakayama           guard-rubocop  [[\"guard-rubocop\", \"allows\", \"automatically\", ...  guard-rubocop allows automatically check ruby ...                10      0    slow           1  False\n",
       "381          yuki24              rambulance  [[\"simple\", \"safe\", \"way\", \"dynamically\", \"ren...  simple safe way dynamically render error page ...                 9      4    slow           1  False\n",
       "382         zendesk    active_record_shards  [[\"activerecord\", \"shard\", \"extension\", \"activ...  activerecord shard extension activerecord prov...                24      4  modern           2  False\n",
       "383         zold-io                    zold  [[\"understand\", \"zold\", \"cryptocurrency\", \"may...  understand zold cryptocurrency may want watch ...                23      4    slow           1  False\n",
       "\n",
       "[384 rows x 9 columns]"
      ]
     },
     "metadata": {},
     "output_type": "display_data"
    },
    {
     "data": {
      "text/plain": [
       "TOPIC\n",
       "0    1.533333\n",
       "1    1.324324\n",
       "2    1.391304\n",
       "3    1.357143\n",
       "4    1.521739\n",
       "Name: CADENCE_ID, dtype: float64"
      ]
     },
     "execution_count": 157,
     "metadata": {},
     "output_type": "execute_result"
    }
   ],
   "source": [
    "repo_release_classes = pd.read_csv(\"release_categorization/all_releases_results.csv\", index_col=0).reset_index(drop=True)\n",
    "\n",
    "repos_topics_classes = pd.merge(repos, repo_release_classes,  how=\"inner\", left_on=[\"OWNER\", \"NAME\"], right_on = [\"owner\", \"repo\"]).drop(columns=[\"owner\", \"repo\", \"release_count\", \"language\"]).rename(columns={\"cadence\": \"CADENCE\"})\n",
    "\n",
    "cadence_mapper = {\"slow\": 1, \"modern\": 2, \"rapid\": 3, \"rapid+\": 4}\n",
    "repos_topics_classes[\"CADENCE_ID\"] = repos_topics_classes[\"CADENCE\"].replace(cadence_mapper)\n",
    "repos_topics_classes[\"RAPID\"] = repos_topics_classes[\"CADENCE\"].transform(lambda x: True if \"rapid\" in x else False) # rapid/rapid+ or modern/slow\n",
    "\n",
    "display(repos_topics_classes)\n",
    "\n",
    "repos_topics_classes.groupby(\"TOPIC\")[\"CADENCE_ID\"].mean()"
   ]
  },
  {
   "cell_type": "markdown",
   "id": "f8a242c7-1cde-43bf-ad21-172209d36841",
   "metadata": {},
   "source": [
    "### Kruskal-Wallis"
   ]
  },
  {
   "cell_type": "code",
   "execution_count": 158,
   "id": "e211cea7-120f-4077-9c91-ad0f04fc35dc",
   "metadata": {},
   "outputs": [
    {
     "name": "stderr",
     "output_type": "stream",
     "text": [
      "100%|█████████████████████████████████████████████████████████████████████████████| 384/384 [00:00<00:00, 76842.21it/s]\n"
     ]
    },
    {
     "data": {
      "text/plain": [
       "CADENCE_ID\n",
       "1    186.036290\n",
       "2    212.895833\n",
       "3    179.875000\n",
       "4    191.000000\n",
       "dtype: float64"
      ]
     },
     "metadata": {},
     "output_type": "display_data"
    },
    {
     "name": "stdout",
     "output_type": "stream",
     "text": [
      "Topic 0\n",
      "KruskalResult(statistic=4.5142666627817425, pvalue=0.2110212583095916)\n"
     ]
    },
    {
     "name": "stderr",
     "output_type": "stream",
     "text": [
      "100%|█████████████████████████████████████████████████████████████████████████████| 384/384 [00:00<00:00, 94719.64it/s]\n"
     ]
    },
    {
     "data": {
      "text/plain": [
       "CADENCE_ID\n",
       "1    184.487903\n",
       "2    205.854167\n",
       "3    219.062500\n",
       "4    166.750000\n",
       "dtype: float64"
      ]
     },
     "metadata": {},
     "output_type": "display_data"
    },
    {
     "name": "stdout",
     "output_type": "stream",
     "text": [
      "Topic 1\n",
      "KruskalResult(statistic=4.959128875722004, pvalue=0.1748145094238687)\n"
     ]
    },
    {
     "name": "stderr",
     "output_type": "stream",
     "text": [
      "100%|█████████████████████████████████████████████████████████████████████████████| 384/384 [00:00<00:00, 94502.89it/s]\n"
     ]
    },
    {
     "data": {
      "text/plain": [
       "CADENCE_ID\n",
       "1    188.725806\n",
       "2    202.395833\n",
       "3    186.968750\n",
       "4    205.250000\n",
       "dtype: float64"
      ]
     },
     "metadata": {},
     "output_type": "display_data"
    },
    {
     "name": "stdout",
     "output_type": "stream",
     "text": [
      "Topic 2\n",
      "KruskalResult(statistic=1.2388515451668856, pvalue=0.7437019731236711)\n"
     ]
    },
    {
     "name": "stderr",
     "output_type": "stream",
     "text": [
      "100%|████████████████████████████████████████████████████████████████████████████| 384/384 [00:00<00:00, 127563.18it/s]\n"
     ]
    },
    {
     "data": {
      "text/plain": [
       "CADENCE_ID\n",
       "1    194.669355\n",
       "2    188.312500\n",
       "3    184.031250\n",
       "4    201.750000\n",
       "dtype: float64"
      ]
     },
     "metadata": {},
     "output_type": "display_data"
    },
    {
     "name": "stdout",
     "output_type": "stream",
     "text": [
      "Topic 3\n",
      "KruskalResult(statistic=0.47376565222516775, pvalue=0.9246160029940724)\n"
     ]
    },
    {
     "name": "stderr",
     "output_type": "stream",
     "text": [
      "100%|████████████████████████████████████████████████████████████████████████████| 384/384 [00:00<00:00, 127725.04it/s]\n"
     ]
    },
    {
     "data": {
      "text/plain": [
       "CADENCE_ID\n",
       "1    192.504032\n",
       "2    198.489583\n",
       "3    186.718750\n",
       "4    136.000000\n",
       "dtype: float64"
      ]
     },
     "metadata": {},
     "output_type": "display_data"
    },
    {
     "name": "stdout",
     "output_type": "stream",
     "text": [
      "Topic 4\n",
      "KruskalResult(statistic=2.4495265276502227, pvalue=0.48448186383115177)\n",
      "Significantly differing topics: []\n"
     ]
    }
   ],
   "source": [
    "latex_results = {}\n",
    "\n",
    "kw_significantly_differing_topics = []\n",
    "\n",
    "for topic_id in sorted(top_topics): # top topics\n",
    "# for topic_id in range(model.topics_num_): # all topics\n",
    "    repos_topic_likelihood = repos_topics_classes.copy()\n",
    "    likelihoods = model.transform(btm.get_vectorized_docs(repos_topic_likelihood[\"TEXT_PROCESSED\"], vocabulary))\n",
    "    repos_topic_likelihood[\"TOPIC_LIKELIHOOD\"] = likelihoods.T[topic_id]\n",
    "    repos_topic_likelihood[\"TOPIC_RANK\"] = repos_topic_likelihood[\"TOPIC_LIKELIHOOD\"].rank(ascending=False).astype(int)\n",
    "    display(repos_topic_likelihood.groupby(\"CADENCE_ID\")[\"TOPIC_RANK\"].sum() / repos_topic_likelihood.groupby(\"CADENCE_ID\")[\"CADENCE_ID\"].count())\n",
    "    \n",
    "    samples = [repos_topic_likelihood[repos_topic_likelihood.CADENCE_ID == cadence_id][\"TOPIC_LIKELIHOOD\"].tolist() for cadence_id in repos_topic_likelihood.CADENCE_ID.unique().tolist()]\n",
    "    # samples = [repos_topic_likelihood[repos_topic_likelihood.RAPID == rapid_bool][\"TOPIC_LIKELIHOOD\"].tolist() for rapid_bool in [True, False]]\n",
    "    \n",
    "    kw_result = scipy.stats.kruskal(*samples)\n",
    "    print(f\"Topic {topic_id}\")\n",
    "    print(kw_result)\n",
    "    latex_results[topic_id] = f\" & {topic_id} & {round(kw_result[0], 3)} & {round(kw_result[1], 3)}\"\n",
    "    if kw_result[1] <= 0.05:\n",
    "        kw_significantly_differing_topics.append(topic_id)\n",
    "        # print(f\"Topic {topic_id}:\",kw_result)\n",
    "        \n",
    "print(f\"Significantly differing topics: {kw_significantly_differing_topics}\")"
   ]
  },
  {
   "cell_type": "markdown",
   "id": "54533d70-5ff7-4992-b236-2a5fac221055",
   "metadata": {},
   "source": [
    "### Fisher's exact test"
   ]
  },
  {
   "cell_type": "code",
   "execution_count": 159,
   "id": "1c5ba767-c4a1-4ecc-be1f-155f847758d2",
   "metadata": {},
   "outputs": [
    {
     "name": "stdout",
     "output_type": "stream",
     "text": [
      "Topic 0\n",
      "(1.4307692307692308, 0.39852591776464147)\n",
      "Topic 1\n",
      "(0.46466165413533833, 0.4027129888563062)\n",
      "Topic 2\n",
      "(0.3752913752913753, 0.49183416786318146)\n",
      "Topic 3\n",
      "(0.1894934333958724, 0.10315589402047637)\n",
      "Topic 4\n",
      "(1.6724546172059984, 0.17962952561403983)\n",
      "Significantly differing topics: []\n"
     ]
    }
   ],
   "source": [
    "fisher_significantly_differing_topics = []\n",
    "\n",
    "for topic_id in sorted(top_topics): # top topics\n",
    "# for topic_id in range(model.topics_num_): # all topics\n",
    "    on_topic_rapid = repos_topic_likelihood[(repos_topic_likelihood.TOPIC == topic_id) & (repos_topic_likelihood.RAPID == True)].shape[0]\n",
    "    off_topic_rapid = repos_topic_likelihood[(repos_topic_likelihood.TOPIC != topic_id) & (repos_topic_likelihood.RAPID == True)].shape[0]\n",
    "    on_topic_non_rapid = repos_topic_likelihood[(repos_topic_likelihood.TOPIC == topic_id) & (repos_topic_likelihood.RAPID == False)].shape[0]\n",
    "    off_topic_non_rapid = repos_topic_likelihood[(repos_topic_likelihood.TOPIC != topic_id) & (repos_topic_likelihood.RAPID == False)].shape[0]\n",
    "    contingency = [[on_topic_rapid, off_topic_rapid], [on_topic_non_rapid, off_topic_non_rapid]]\n",
    "    \n",
    "    fisher_result = scipy.stats.fisher_exact(contingency)\n",
    "    print(f\"Topic {topic_id}\")\n",
    "    print(fisher_result)\n",
    "    latex_results[topic_id] += f\" & {round(fisher_result[0], 3)} & {round(fisher_result[1], 3)} \\\\\\\\\"\n",
    "    if fisher_result[1] * model.topics_num_ <= 0.05:\n",
    "        fisher_significantly_differing_topics.append(topic_id)\n",
    "        # print(f\"Topic {topic_id}:\",fisher_result)\n",
    "        # print(contingency)\n",
    "        \n",
    "print(f\"Significantly differing topics: {fisher_significantly_differing_topics}\")"
   ]
  },
  {
   "cell_type": "markdown",
   "id": "c75a5b09-0e3d-4e1f-88d8-d0d3ceffef37",
   "metadata": {},
   "source": [
    "Printing results to be pasted into LaTeX:"
   ]
  },
  {
   "cell_type": "code",
   "execution_count": 160,
   "id": "7046f51a-1fc5-4228-98a7-15083bcaf24b",
   "metadata": {},
   "outputs": [
    {
     "name": "stdout",
     "output_type": "stream",
     "text": [
      " & 0 & 4.514 & 0.211 & 1.431 & 0.399 \\\\\n",
      " & 1 & 4.959 & 0.175 & 0.465 & 0.403 \\\\\n",
      " & 2 & 1.239 & 0.744 & 0.375 & 0.492 \\\\\n",
      " & 3 & 0.474 & 0.925 & 0.189 & 0.103 \\\\\n",
      " & 4 & 2.45 & 0.484 & 1.672 & 0.18 \\\\\n"
     ]
    }
   ],
   "source": [
    "for topic_id, row in latex_results.items():\n",
    "    print(row)"
   ]
  },
  {
   "cell_type": "markdown",
   "id": "55749f5f-0970-446a-8257-2291e5f28356",
   "metadata": {},
   "source": [
    "### Topic-cadence visualization"
   ]
  },
  {
   "cell_type": "code",
   "execution_count": 161,
   "id": "bad6f587-b6a5-4605-84f1-9c4d9eaa6272",
   "metadata": {},
   "outputs": [
    {
     "name": "stderr",
     "output_type": "stream",
     "text": [
      "100%|█████████████████████████████████████████████████████████████████████████████| 384/384 [00:00<00:00, 64014.81it/s]\n",
      "100%|█████████████████████████████████████████████████████████████████████████████| 384/384 [00:00<00:00, 96138.77it/s]\n",
      "100%|█████████████████████████████████████████████████████████████████████████████| 384/384 [00:00<00:00, 76823.88it/s]\n",
      "100%|████████████████████████████████████████████████████████████████████████████| 384/384 [00:00<00:00, 126640.41it/s]\n",
      "100%|████████████████████████████████████████████████████████████████████████████| 384/384 [00:00<00:00, 127442.06it/s]\n"
     ]
    },
    {
     "data": {
      "application/vnd.plotly.v1+json": {
       "config": {
        "plotlyServerURL": "https://plot.ly"
       },
       "data": [
        {
         "alignmentgroup": "True",
         "hovertemplate": "Cadence=Modern<br>Topic=%{x}<br>Avg. likelihood=%{y}<extra></extra>",
         "legendgroup": "Modern",
         "marker": {
          "color": "#636efa",
          "pattern": {
           "shape": ""
          }
         },
         "name": "Modern",
         "offsetgroup": "Modern",
         "orientation": "v",
         "showlegend": true,
         "textposition": "auto",
         "type": "bar",
         "x": [
          "Topic 4",
          "Topic 0",
          "Topic 3",
          "Topic 1",
          "Topic 2"
         ],
         "xaxis": "x",
         "y": [
          0.44678532180478275,
          0.05406404375924345,
          0.14688657543331657,
          0.12404538968278668,
          0.0719686693198706
         ],
         "yaxis": "y"
        },
        {
         "alignmentgroup": "True",
         "hovertemplate": "Cadence=Slow<br>Topic=%{x}<br>Avg. likelihood=%{y}<extra></extra>",
         "legendgroup": "Slow",
         "marker": {
          "color": "#EF553B",
          "pattern": {
           "shape": ""
          }
         },
         "name": "Slow",
         "offsetgroup": "Slow",
         "orientation": "v",
         "showlegend": true,
         "textposition": "auto",
         "type": "bar",
         "x": [
          "Topic 4",
          "Topic 0",
          "Topic 3",
          "Topic 1",
          "Topic 2"
         ],
         "xaxis": "x",
         "y": [
          0.46203263649359233,
          0.07243611133762017,
          0.12442954040562494,
          0.1440230869625079,
          0.06401410867162241
         ],
         "yaxis": "y"
        },
        {
         "alignmentgroup": "True",
         "hovertemplate": "Cadence=Rapid+<br>Topic=%{x}<br>Avg. likelihood=%{y}<extra></extra>",
         "legendgroup": "Rapid+",
         "marker": {
          "color": "#00cc96",
          "pattern": {
           "shape": ""
          }
         },
         "name": "Rapid+",
         "offsetgroup": "Rapid+",
         "orientation": "v",
         "showlegend": true,
         "textposition": "auto",
         "type": "bar",
         "x": [
          "Topic 4",
          "Topic 0",
          "Topic 3",
          "Topic 1",
          "Topic 2"
         ],
         "xaxis": "x",
         "y": [
          0.6502267108057433,
          0.03177670809270657,
          0.06949765280823426,
          0.12343024481160111,
          6.868348171470172e-05
         ],
         "yaxis": "y"
        },
        {
         "alignmentgroup": "True",
         "hovertemplate": "Cadence=Rapid<br>Topic=%{x}<br>Avg. likelihood=%{y}<extra></extra>",
         "legendgroup": "Rapid",
         "marker": {
          "color": "#ab63fa",
          "pattern": {
           "shape": ""
          }
         },
         "name": "Rapid",
         "offsetgroup": "Rapid",
         "orientation": "v",
         "showlegend": true,
         "textposition": "auto",
         "type": "bar",
         "x": [
          "Topic 4",
          "Topic 0",
          "Topic 3",
          "Topic 1",
          "Topic 2"
         ],
         "xaxis": "x",
         "y": [
          0.4875427788106109,
          0.10148164371272538,
          0.10821623371642809,
          0.09906483802939108,
          0.047444505730844536
         ],
         "yaxis": "y"
        }
       ],
       "layout": {
        "autosize": true,
        "barmode": "relative",
        "legend": {
         "title": {
          "text": "Cadence"
         },
         "tracegroupgap": 0
        },
        "margin": {
         "t": 60
        },
        "template": {
         "data": {
          "bar": [
           {
            "error_x": {
             "color": "#2a3f5f"
            },
            "error_y": {
             "color": "#2a3f5f"
            },
            "marker": {
             "line": {
              "color": "#E5ECF6",
              "width": 0.5
             },
             "pattern": {
              "fillmode": "overlay",
              "size": 10,
              "solidity": 0.2
             }
            },
            "type": "bar"
           }
          ],
          "barpolar": [
           {
            "marker": {
             "line": {
              "color": "#E5ECF6",
              "width": 0.5
             },
             "pattern": {
              "fillmode": "overlay",
              "size": 10,
              "solidity": 0.2
             }
            },
            "type": "barpolar"
           }
          ],
          "carpet": [
           {
            "aaxis": {
             "endlinecolor": "#2a3f5f",
             "gridcolor": "white",
             "linecolor": "white",
             "minorgridcolor": "white",
             "startlinecolor": "#2a3f5f"
            },
            "baxis": {
             "endlinecolor": "#2a3f5f",
             "gridcolor": "white",
             "linecolor": "white",
             "minorgridcolor": "white",
             "startlinecolor": "#2a3f5f"
            },
            "type": "carpet"
           }
          ],
          "choropleth": [
           {
            "colorbar": {
             "outlinewidth": 0,
             "ticks": ""
            },
            "type": "choropleth"
           }
          ],
          "contour": [
           {
            "colorbar": {
             "outlinewidth": 0,
             "ticks": ""
            },
            "colorscale": [
             [
              0,
              "#0d0887"
             ],
             [
              0.1111111111111111,
              "#46039f"
             ],
             [
              0.2222222222222222,
              "#7201a8"
             ],
             [
              0.3333333333333333,
              "#9c179e"
             ],
             [
              0.4444444444444444,
              "#bd3786"
             ],
             [
              0.5555555555555556,
              "#d8576b"
             ],
             [
              0.6666666666666666,
              "#ed7953"
             ],
             [
              0.7777777777777778,
              "#fb9f3a"
             ],
             [
              0.8888888888888888,
              "#fdca26"
             ],
             [
              1,
              "#f0f921"
             ]
            ],
            "type": "contour"
           }
          ],
          "contourcarpet": [
           {
            "colorbar": {
             "outlinewidth": 0,
             "ticks": ""
            },
            "type": "contourcarpet"
           }
          ],
          "heatmap": [
           {
            "colorbar": {
             "outlinewidth": 0,
             "ticks": ""
            },
            "colorscale": [
             [
              0,
              "#0d0887"
             ],
             [
              0.1111111111111111,
              "#46039f"
             ],
             [
              0.2222222222222222,
              "#7201a8"
             ],
             [
              0.3333333333333333,
              "#9c179e"
             ],
             [
              0.4444444444444444,
              "#bd3786"
             ],
             [
              0.5555555555555556,
              "#d8576b"
             ],
             [
              0.6666666666666666,
              "#ed7953"
             ],
             [
              0.7777777777777778,
              "#fb9f3a"
             ],
             [
              0.8888888888888888,
              "#fdca26"
             ],
             [
              1,
              "#f0f921"
             ]
            ],
            "type": "heatmap"
           }
          ],
          "heatmapgl": [
           {
            "colorbar": {
             "outlinewidth": 0,
             "ticks": ""
            },
            "colorscale": [
             [
              0,
              "#0d0887"
             ],
             [
              0.1111111111111111,
              "#46039f"
             ],
             [
              0.2222222222222222,
              "#7201a8"
             ],
             [
              0.3333333333333333,
              "#9c179e"
             ],
             [
              0.4444444444444444,
              "#bd3786"
             ],
             [
              0.5555555555555556,
              "#d8576b"
             ],
             [
              0.6666666666666666,
              "#ed7953"
             ],
             [
              0.7777777777777778,
              "#fb9f3a"
             ],
             [
              0.8888888888888888,
              "#fdca26"
             ],
             [
              1,
              "#f0f921"
             ]
            ],
            "type": "heatmapgl"
           }
          ],
          "histogram": [
           {
            "marker": {
             "pattern": {
              "fillmode": "overlay",
              "size": 10,
              "solidity": 0.2
             }
            },
            "type": "histogram"
           }
          ],
          "histogram2d": [
           {
            "colorbar": {
             "outlinewidth": 0,
             "ticks": ""
            },
            "colorscale": [
             [
              0,
              "#0d0887"
             ],
             [
              0.1111111111111111,
              "#46039f"
             ],
             [
              0.2222222222222222,
              "#7201a8"
             ],
             [
              0.3333333333333333,
              "#9c179e"
             ],
             [
              0.4444444444444444,
              "#bd3786"
             ],
             [
              0.5555555555555556,
              "#d8576b"
             ],
             [
              0.6666666666666666,
              "#ed7953"
             ],
             [
              0.7777777777777778,
              "#fb9f3a"
             ],
             [
              0.8888888888888888,
              "#fdca26"
             ],
             [
              1,
              "#f0f921"
             ]
            ],
            "type": "histogram2d"
           }
          ],
          "histogram2dcontour": [
           {
            "colorbar": {
             "outlinewidth": 0,
             "ticks": ""
            },
            "colorscale": [
             [
              0,
              "#0d0887"
             ],
             [
              0.1111111111111111,
              "#46039f"
             ],
             [
              0.2222222222222222,
              "#7201a8"
             ],
             [
              0.3333333333333333,
              "#9c179e"
             ],
             [
              0.4444444444444444,
              "#bd3786"
             ],
             [
              0.5555555555555556,
              "#d8576b"
             ],
             [
              0.6666666666666666,
              "#ed7953"
             ],
             [
              0.7777777777777778,
              "#fb9f3a"
             ],
             [
              0.8888888888888888,
              "#fdca26"
             ],
             [
              1,
              "#f0f921"
             ]
            ],
            "type": "histogram2dcontour"
           }
          ],
          "mesh3d": [
           {
            "colorbar": {
             "outlinewidth": 0,
             "ticks": ""
            },
            "type": "mesh3d"
           }
          ],
          "parcoords": [
           {
            "line": {
             "colorbar": {
              "outlinewidth": 0,
              "ticks": ""
             }
            },
            "type": "parcoords"
           }
          ],
          "pie": [
           {
            "automargin": true,
            "type": "pie"
           }
          ],
          "scatter": [
           {
            "fillpattern": {
             "fillmode": "overlay",
             "size": 10,
             "solidity": 0.2
            },
            "type": "scatter"
           }
          ],
          "scatter3d": [
           {
            "line": {
             "colorbar": {
              "outlinewidth": 0,
              "ticks": ""
             }
            },
            "marker": {
             "colorbar": {
              "outlinewidth": 0,
              "ticks": ""
             }
            },
            "type": "scatter3d"
           }
          ],
          "scattercarpet": [
           {
            "marker": {
             "colorbar": {
              "outlinewidth": 0,
              "ticks": ""
             }
            },
            "type": "scattercarpet"
           }
          ],
          "scattergeo": [
           {
            "marker": {
             "colorbar": {
              "outlinewidth": 0,
              "ticks": ""
             }
            },
            "type": "scattergeo"
           }
          ],
          "scattergl": [
           {
            "marker": {
             "colorbar": {
              "outlinewidth": 0,
              "ticks": ""
             }
            },
            "type": "scattergl"
           }
          ],
          "scattermapbox": [
           {
            "marker": {
             "colorbar": {
              "outlinewidth": 0,
              "ticks": ""
             }
            },
            "type": "scattermapbox"
           }
          ],
          "scatterpolar": [
           {
            "marker": {
             "colorbar": {
              "outlinewidth": 0,
              "ticks": ""
             }
            },
            "type": "scatterpolar"
           }
          ],
          "scatterpolargl": [
           {
            "marker": {
             "colorbar": {
              "outlinewidth": 0,
              "ticks": ""
             }
            },
            "type": "scatterpolargl"
           }
          ],
          "scatterternary": [
           {
            "marker": {
             "colorbar": {
              "outlinewidth": 0,
              "ticks": ""
             }
            },
            "type": "scatterternary"
           }
          ],
          "surface": [
           {
            "colorbar": {
             "outlinewidth": 0,
             "ticks": ""
            },
            "colorscale": [
             [
              0,
              "#0d0887"
             ],
             [
              0.1111111111111111,
              "#46039f"
             ],
             [
              0.2222222222222222,
              "#7201a8"
             ],
             [
              0.3333333333333333,
              "#9c179e"
             ],
             [
              0.4444444444444444,
              "#bd3786"
             ],
             [
              0.5555555555555556,
              "#d8576b"
             ],
             [
              0.6666666666666666,
              "#ed7953"
             ],
             [
              0.7777777777777778,
              "#fb9f3a"
             ],
             [
              0.8888888888888888,
              "#fdca26"
             ],
             [
              1,
              "#f0f921"
             ]
            ],
            "type": "surface"
           }
          ],
          "table": [
           {
            "cells": {
             "fill": {
              "color": "#EBF0F8"
             },
             "line": {
              "color": "white"
             }
            },
            "header": {
             "fill": {
              "color": "#C8D4E3"
             },
             "line": {
              "color": "white"
             }
            },
            "type": "table"
           }
          ]
         },
         "layout": {
          "annotationdefaults": {
           "arrowcolor": "#2a3f5f",
           "arrowhead": 0,
           "arrowwidth": 1
          },
          "autotypenumbers": "strict",
          "coloraxis": {
           "colorbar": {
            "outlinewidth": 0,
            "ticks": ""
           }
          },
          "colorscale": {
           "diverging": [
            [
             0,
             "#8e0152"
            ],
            [
             0.1,
             "#c51b7d"
            ],
            [
             0.2,
             "#de77ae"
            ],
            [
             0.3,
             "#f1b6da"
            ],
            [
             0.4,
             "#fde0ef"
            ],
            [
             0.5,
             "#f7f7f7"
            ],
            [
             0.6,
             "#e6f5d0"
            ],
            [
             0.7,
             "#b8e186"
            ],
            [
             0.8,
             "#7fbc41"
            ],
            [
             0.9,
             "#4d9221"
            ],
            [
             1,
             "#276419"
            ]
           ],
           "sequential": [
            [
             0,
             "#0d0887"
            ],
            [
             0.1111111111111111,
             "#46039f"
            ],
            [
             0.2222222222222222,
             "#7201a8"
            ],
            [
             0.3333333333333333,
             "#9c179e"
            ],
            [
             0.4444444444444444,
             "#bd3786"
            ],
            [
             0.5555555555555556,
             "#d8576b"
            ],
            [
             0.6666666666666666,
             "#ed7953"
            ],
            [
             0.7777777777777778,
             "#fb9f3a"
            ],
            [
             0.8888888888888888,
             "#fdca26"
            ],
            [
             1,
             "#f0f921"
            ]
           ],
           "sequentialminus": [
            [
             0,
             "#0d0887"
            ],
            [
             0.1111111111111111,
             "#46039f"
            ],
            [
             0.2222222222222222,
             "#7201a8"
            ],
            [
             0.3333333333333333,
             "#9c179e"
            ],
            [
             0.4444444444444444,
             "#bd3786"
            ],
            [
             0.5555555555555556,
             "#d8576b"
            ],
            [
             0.6666666666666666,
             "#ed7953"
            ],
            [
             0.7777777777777778,
             "#fb9f3a"
            ],
            [
             0.8888888888888888,
             "#fdca26"
            ],
            [
             1,
             "#f0f921"
            ]
           ]
          },
          "colorway": [
           "#636efa",
           "#EF553B",
           "#00cc96",
           "#ab63fa",
           "#FFA15A",
           "#19d3f3",
           "#FF6692",
           "#B6E880",
           "#FF97FF",
           "#FECB52"
          ],
          "font": {
           "color": "#2a3f5f"
          },
          "geo": {
           "bgcolor": "white",
           "lakecolor": "white",
           "landcolor": "#E5ECF6",
           "showlakes": true,
           "showland": true,
           "subunitcolor": "white"
          },
          "hoverlabel": {
           "align": "left"
          },
          "hovermode": "closest",
          "mapbox": {
           "style": "light"
          },
          "paper_bgcolor": "white",
          "plot_bgcolor": "#E5ECF6",
          "polar": {
           "angularaxis": {
            "gridcolor": "white",
            "linecolor": "white",
            "ticks": ""
           },
           "bgcolor": "#E5ECF6",
           "radialaxis": {
            "gridcolor": "white",
            "linecolor": "white",
            "ticks": ""
           }
          },
          "scene": {
           "xaxis": {
            "backgroundcolor": "#E5ECF6",
            "gridcolor": "white",
            "gridwidth": 2,
            "linecolor": "white",
            "showbackground": true,
            "ticks": "",
            "zerolinecolor": "white"
           },
           "yaxis": {
            "backgroundcolor": "#E5ECF6",
            "gridcolor": "white",
            "gridwidth": 2,
            "linecolor": "white",
            "showbackground": true,
            "ticks": "",
            "zerolinecolor": "white"
           },
           "zaxis": {
            "backgroundcolor": "#E5ECF6",
            "gridcolor": "white",
            "gridwidth": 2,
            "linecolor": "white",
            "showbackground": true,
            "ticks": "",
            "zerolinecolor": "white"
           }
          },
          "shapedefaults": {
           "line": {
            "color": "#2a3f5f"
           }
          },
          "ternary": {
           "aaxis": {
            "gridcolor": "white",
            "linecolor": "white",
            "ticks": ""
           },
           "baxis": {
            "gridcolor": "white",
            "linecolor": "white",
            "ticks": ""
           },
           "bgcolor": "#E5ECF6",
           "caxis": {
            "gridcolor": "white",
            "linecolor": "white",
            "ticks": ""
           }
          },
          "title": {
           "x": 0.05
          },
          "xaxis": {
           "automargin": true,
           "gridcolor": "white",
           "linecolor": "white",
           "ticks": "",
           "title": {
            "standoff": 15
           },
           "zerolinecolor": "white",
           "zerolinewidth": 2
          },
          "yaxis": {
           "automargin": true,
           "gridcolor": "white",
           "linecolor": "white",
           "ticks": "",
           "title": {
            "standoff": 15
           },
           "zerolinecolor": "white",
           "zerolinewidth": 2
          }
         }
        },
        "xaxis": {
         "anchor": "y",
         "autorange": true,
         "domain": [
          0,
          1
         ],
         "range": [
          -0.5,
          4.5
         ],
         "title": {
          "text": "Topic"
         },
         "type": "category"
        },
        "yaxis": {
         "anchor": "x",
         "autorange": true,
         "domain": [
          0,
          1
         ],
         "range": [
          0,
          2.1543025767523467
         ],
         "title": {
          "text": "Avg. likelihood"
         },
         "type": "linear"
        }
       }
      },
      "image/png": "[encoded data removed]",
      "text/html": [
       "<div>                            <div id=\"d0319d7e-c3c1-4848-8888-511d339b6d18\" class=\"plotly-graph-div\" style=\"height:525px; width:100%;\"></div>            <script type=\"text/javascript\">                require([\"plotly\"], function(Plotly) {                    window.PLOTLYENV=window.PLOTLYENV || {};                                    if (document.getElementById(\"d0319d7e-c3c1-4848-8888-511d339b6d18\")) {                    Plotly.newPlot(                        \"d0319d7e-c3c1-4848-8888-511d339b6d18\",                        [{\"alignmentgroup\":\"True\",\"hovertemplate\":\"Cadence=Modern<br>Topic=%{x}<br>Avg. likelihood=%{y}<extra></extra>\",\"legendgroup\":\"Modern\",\"marker\":{\"color\":\"#636efa\",\"pattern\":{\"shape\":\"\"}},\"name\":\"Modern\",\"offsetgroup\":\"Modern\",\"orientation\":\"v\",\"showlegend\":true,\"textposition\":\"auto\",\"x\":[\"Topic 4\",\"Topic 0\",\"Topic 3\",\"Topic 1\",\"Topic 2\"],\"xaxis\":\"x\",\"y\":[0.44678532180478275,0.05406404375924345,0.14688657543331657,0.12404538968278668,0.0719686693198706],\"yaxis\":\"y\",\"type\":\"bar\"},{\"alignmentgroup\":\"True\",\"hovertemplate\":\"Cadence=Slow<br>Topic=%{x}<br>Avg. likelihood=%{y}<extra></extra>\",\"legendgroup\":\"Slow\",\"marker\":{\"color\":\"#EF553B\",\"pattern\":{\"shape\":\"\"}},\"name\":\"Slow\",\"offsetgroup\":\"Slow\",\"orientation\":\"v\",\"showlegend\":true,\"textposition\":\"auto\",\"x\":[\"Topic 4\",\"Topic 0\",\"Topic 3\",\"Topic 1\",\"Topic 2\"],\"xaxis\":\"x\",\"y\":[0.46203263649359233,0.07243611133762017,0.12442954040562494,0.1440230869625079,0.06401410867162241],\"yaxis\":\"y\",\"type\":\"bar\"},{\"alignmentgroup\":\"True\",\"hovertemplate\":\"Cadence=Rapid+<br>Topic=%{x}<br>Avg. likelihood=%{y}<extra></extra>\",\"legendgroup\":\"Rapid+\",\"marker\":{\"color\":\"#00cc96\",\"pattern\":{\"shape\":\"\"}},\"name\":\"Rapid+\",\"offsetgroup\":\"Rapid+\",\"orientation\":\"v\",\"showlegend\":true,\"textposition\":\"auto\",\"x\":[\"Topic 4\",\"Topic 0\",\"Topic 3\",\"Topic 1\",\"Topic 2\"],\"xaxis\":\"x\",\"y\":[0.6502267108057433,0.03177670809270657,0.06949765280823426,0.12343024481160111,6.868348171470172e-05],\"yaxis\":\"y\",\"type\":\"bar\"},{\"alignmentgroup\":\"True\",\"hovertemplate\":\"Cadence=Rapid<br>Topic=%{x}<br>Avg. likelihood=%{y}<extra></extra>\",\"legendgroup\":\"Rapid\",\"marker\":{\"color\":\"#ab63fa\",\"pattern\":{\"shape\":\"\"}},\"name\":\"Rapid\",\"offsetgroup\":\"Rapid\",\"orientation\":\"v\",\"showlegend\":true,\"textposition\":\"auto\",\"x\":[\"Topic 4\",\"Topic 0\",\"Topic 3\",\"Topic 1\",\"Topic 2\"],\"xaxis\":\"x\",\"y\":[0.4875427788106109,0.10148164371272538,0.10821623371642809,0.09906483802939108,0.047444505730844536],\"yaxis\":\"y\",\"type\":\"bar\"}],                        {\"template\":{\"data\":{\"histogram2dcontour\":[{\"type\":\"histogram2dcontour\",\"colorbar\":{\"outlinewidth\":0,\"ticks\":\"\"},\"colorscale\":[[0.0,\"#0d0887\"],[0.1111111111111111,\"#46039f\"],[0.2222222222222222,\"#7201a8\"],[0.3333333333333333,\"#9c179e\"],[0.4444444444444444,\"#bd3786\"],[0.5555555555555556,\"#d8576b\"],[0.6666666666666666,\"#ed7953\"],[0.7777777777777778,\"#fb9f3a\"],[0.8888888888888888,\"#fdca26\"],[1.0,\"#f0f921\"]]}],\"choropleth\":[{\"type\":\"choropleth\",\"colorbar\":{\"outlinewidth\":0,\"ticks\":\"\"}}],\"histogram2d\":[{\"type\":\"histogram2d\",\"colorbar\":{\"outlinewidth\":0,\"ticks\":\"\"},\"colorscale\":[[0.0,\"#0d0887\"],[0.1111111111111111,\"#46039f\"],[0.2222222222222222,\"#7201a8\"],[0.3333333333333333,\"#9c179e\"],[0.4444444444444444,\"#bd3786\"],[0.5555555555555556,\"#d8576b\"],[0.6666666666666666,\"#ed7953\"],[0.7777777777777778,\"#fb9f3a\"],[0.8888888888888888,\"#fdca26\"],[1.0,\"#f0f921\"]]}],\"heatmap\":[{\"type\":\"heatmap\",\"colorbar\":{\"outlinewidth\":0,\"ticks\":\"\"},\"colorscale\":[[0.0,\"#0d0887\"],[0.1111111111111111,\"#46039f\"],[0.2222222222222222,\"#7201a8\"],[0.3333333333333333,\"#9c179e\"],[0.4444444444444444,\"#bd3786\"],[0.5555555555555556,\"#d8576b\"],[0.6666666666666666,\"#ed7953\"],[0.7777777777777778,\"#fb9f3a\"],[0.8888888888888888,\"#fdca26\"],[1.0,\"#f0f921\"]]}],\"heatmapgl\":[{\"type\":\"heatmapgl\",\"colorbar\":{\"outlinewidth\":0,\"ticks\":\"\"},\"colorscale\":[[0.0,\"#0d0887\"],[0.1111111111111111,\"#46039f\"],[0.2222222222222222,\"#7201a8\"],[0.3333333333333333,\"#9c179e\"],[0.4444444444444444,\"#bd3786\"],[0.5555555555555556,\"#d8576b\"],[0.6666666666666666,\"#ed7953\"],[0.7777777777777778,\"#fb9f3a\"],[0.8888888888888888,\"#fdca26\"],[1.0,\"#f0f921\"]]}],\"contourcarpet\":[{\"type\":\"contourcarpet\",\"colorbar\":{\"outlinewidth\":0,\"ticks\":\"\"}}],\"contour\":[{\"type\":\"contour\",\"colorbar\":{\"outlinewidth\":0,\"ticks\":\"\"},\"colorscale\":[[0.0,\"#0d0887\"],[0.1111111111111111,\"#46039f\"],[0.2222222222222222,\"#7201a8\"],[0.3333333333333333,\"#9c179e\"],[0.4444444444444444,\"#bd3786\"],[0.5555555555555556,\"#d8576b\"],[0.6666666666666666,\"#ed7953\"],[0.7777777777777778,\"#fb9f3a\"],[0.8888888888888888,\"#fdca26\"],[1.0,\"#f0f921\"]]}],\"surface\":[{\"type\":\"surface\",\"colorbar\":{\"outlinewidth\":0,\"ticks\":\"\"},\"colorscale\":[[0.0,\"#0d0887\"],[0.1111111111111111,\"#46039f\"],[0.2222222222222222,\"#7201a8\"],[0.3333333333333333,\"#9c179e\"],[0.4444444444444444,\"#bd3786\"],[0.5555555555555556,\"#d8576b\"],[0.6666666666666666,\"#ed7953\"],[0.7777777777777778,\"#fb9f3a\"],[0.8888888888888888,\"#fdca26\"],[1.0,\"#f0f921\"]]}],\"mesh3d\":[{\"type\":\"mesh3d\",\"colorbar\":{\"outlinewidth\":0,\"ticks\":\"\"}}],\"scatter\":[{\"fillpattern\":{\"fillmode\":\"overlay\",\"size\":10,\"solidity\":0.2},\"type\":\"scatter\"}],\"parcoords\":[{\"type\":\"parcoords\",\"line\":{\"colorbar\":{\"outlinewidth\":0,\"ticks\":\"\"}}}],\"scatterpolargl\":[{\"type\":\"scatterpolargl\",\"marker\":{\"colorbar\":{\"outlinewidth\":0,\"ticks\":\"\"}}}],\"bar\":[{\"error_x\":{\"color\":\"#2a3f5f\"},\"error_y\":{\"color\":\"#2a3f5f\"},\"marker\":{\"line\":{\"color\":\"#E5ECF6\",\"width\":0.5},\"pattern\":{\"fillmode\":\"overlay\",\"size\":10,\"solidity\":0.2}},\"type\":\"bar\"}],\"scattergeo\":[{\"type\":\"scattergeo\",\"marker\":{\"colorbar\":{\"outlinewidth\":0,\"ticks\":\"\"}}}],\"scatterpolar\":[{\"type\":\"scatterpolar\",\"marker\":{\"colorbar\":{\"outlinewidth\":0,\"ticks\":\"\"}}}],\"histogram\":[{\"marker\":{\"pattern\":{\"fillmode\":\"overlay\",\"size\":10,\"solidity\":0.2}},\"type\":\"histogram\"}],\"scattergl\":[{\"type\":\"scattergl\",\"marker\":{\"colorbar\":{\"outlinewidth\":0,\"ticks\":\"\"}}}],\"scatter3d\":[{\"type\":\"scatter3d\",\"line\":{\"colorbar\":{\"outlinewidth\":0,\"ticks\":\"\"}},\"marker\":{\"colorbar\":{\"outlinewidth\":0,\"ticks\":\"\"}}}],\"scattermapbox\":[{\"type\":\"scattermapbox\",\"marker\":{\"colorbar\":{\"outlinewidth\":0,\"ticks\":\"\"}}}],\"scatterternary\":[{\"type\":\"scatterternary\",\"marker\":{\"colorbar\":{\"outlinewidth\":0,\"ticks\":\"\"}}}],\"scattercarpet\":[{\"type\":\"scattercarpet\",\"marker\":{\"colorbar\":{\"outlinewidth\":0,\"ticks\":\"\"}}}],\"carpet\":[{\"aaxis\":{\"endlinecolor\":\"#2a3f5f\",\"gridcolor\":\"white\",\"linecolor\":\"white\",\"minorgridcolor\":\"white\",\"startlinecolor\":\"#2a3f5f\"},\"baxis\":{\"endlinecolor\":\"#2a3f5f\",\"gridcolor\":\"white\",\"linecolor\":\"white\",\"minorgridcolor\":\"white\",\"startlinecolor\":\"#2a3f5f\"},\"type\":\"carpet\"}],\"table\":[{\"cells\":{\"fill\":{\"color\":\"#EBF0F8\"},\"line\":{\"color\":\"white\"}},\"header\":{\"fill\":{\"color\":\"#C8D4E3\"},\"line\":{\"color\":\"white\"}},\"type\":\"table\"}],\"barpolar\":[{\"marker\":{\"line\":{\"color\":\"#E5ECF6\",\"width\":0.5},\"pattern\":{\"fillmode\":\"overlay\",\"size\":10,\"solidity\":0.2}},\"type\":\"barpolar\"}],\"pie\":[{\"automargin\":true,\"type\":\"pie\"}]},\"layout\":{\"autotypenumbers\":\"strict\",\"colorway\":[\"#636efa\",\"#EF553B\",\"#00cc96\",\"#ab63fa\",\"#FFA15A\",\"#19d3f3\",\"#FF6692\",\"#B6E880\",\"#FF97FF\",\"#FECB52\"],\"font\":{\"color\":\"#2a3f5f\"},\"hovermode\":\"closest\",\"hoverlabel\":{\"align\":\"left\"},\"paper_bgcolor\":\"white\",\"plot_bgcolor\":\"#E5ECF6\",\"polar\":{\"bgcolor\":\"#E5ECF6\",\"angularaxis\":{\"gridcolor\":\"white\",\"linecolor\":\"white\",\"ticks\":\"\"},\"radialaxis\":{\"gridcolor\":\"white\",\"linecolor\":\"white\",\"ticks\":\"\"}},\"ternary\":{\"bgcolor\":\"#E5ECF6\",\"aaxis\":{\"gridcolor\":\"white\",\"linecolor\":\"white\",\"ticks\":\"\"},\"baxis\":{\"gridcolor\":\"white\",\"linecolor\":\"white\",\"ticks\":\"\"},\"caxis\":{\"gridcolor\":\"white\",\"linecolor\":\"white\",\"ticks\":\"\"}},\"coloraxis\":{\"colorbar\":{\"outlinewidth\":0,\"ticks\":\"\"}},\"colorscale\":{\"sequential\":[[0.0,\"#0d0887\"],[0.1111111111111111,\"#46039f\"],[0.2222222222222222,\"#7201a8\"],[0.3333333333333333,\"#9c179e\"],[0.4444444444444444,\"#bd3786\"],[0.5555555555555556,\"#d8576b\"],[0.6666666666666666,\"#ed7953\"],[0.7777777777777778,\"#fb9f3a\"],[0.8888888888888888,\"#fdca26\"],[1.0,\"#f0f921\"]],\"sequentialminus\":[[0.0,\"#0d0887\"],[0.1111111111111111,\"#46039f\"],[0.2222222222222222,\"#7201a8\"],[0.3333333333333333,\"#9c179e\"],[0.4444444444444444,\"#bd3786\"],[0.5555555555555556,\"#d8576b\"],[0.6666666666666666,\"#ed7953\"],[0.7777777777777778,\"#fb9f3a\"],[0.8888888888888888,\"#fdca26\"],[1.0,\"#f0f921\"]],\"diverging\":[[0,\"#8e0152\"],[0.1,\"#c51b7d\"],[0.2,\"#de77ae\"],[0.3,\"#f1b6da\"],[0.4,\"#fde0ef\"],[0.5,\"#f7f7f7\"],[0.6,\"#e6f5d0\"],[0.7,\"#b8e186\"],[0.8,\"#7fbc41\"],[0.9,\"#4d9221\"],[1,\"#276419\"]]},\"xaxis\":{\"gridcolor\":\"white\",\"linecolor\":\"white\",\"ticks\":\"\",\"title\":{\"standoff\":15},\"zerolinecolor\":\"white\",\"automargin\":true,\"zerolinewidth\":2},\"yaxis\":{\"gridcolor\":\"white\",\"linecolor\":\"white\",\"ticks\":\"\",\"title\":{\"standoff\":15},\"zerolinecolor\":\"white\",\"automargin\":true,\"zerolinewidth\":2},\"scene\":{\"xaxis\":{\"backgroundcolor\":\"#E5ECF6\",\"gridcolor\":\"white\",\"linecolor\":\"white\",\"showbackground\":true,\"ticks\":\"\",\"zerolinecolor\":\"white\",\"gridwidth\":2},\"yaxis\":{\"backgroundcolor\":\"#E5ECF6\",\"gridcolor\":\"white\",\"linecolor\":\"white\",\"showbackground\":true,\"ticks\":\"\",\"zerolinecolor\":\"white\",\"gridwidth\":2},\"zaxis\":{\"backgroundcolor\":\"#E5ECF6\",\"gridcolor\":\"white\",\"linecolor\":\"white\",\"showbackground\":true,\"ticks\":\"\",\"zerolinecolor\":\"white\",\"gridwidth\":2}},\"shapedefaults\":{\"line\":{\"color\":\"#2a3f5f\"}},\"annotationdefaults\":{\"arrowcolor\":\"#2a3f5f\",\"arrowhead\":0,\"arrowwidth\":1},\"geo\":{\"bgcolor\":\"white\",\"landcolor\":\"#E5ECF6\",\"subunitcolor\":\"white\",\"showland\":true,\"showlakes\":true,\"lakecolor\":\"white\"},\"title\":{\"x\":0.05},\"mapbox\":{\"style\":\"light\"}}},\"xaxis\":{\"anchor\":\"y\",\"domain\":[0.0,1.0],\"title\":{\"text\":\"Topic\"}},\"yaxis\":{\"anchor\":\"x\",\"domain\":[0.0,1.0],\"title\":{\"text\":\"Avg. likelihood\"}},\"legend\":{\"title\":{\"text\":\"Cadence\"},\"tracegroupgap\":0},\"margin\":{\"t\":60},\"barmode\":\"relative\"},                        {\"responsive\": true}                    ).then(function(){\n",
       "                            \n",
       "var gd = document.getElementById('d0319d7e-c3c1-4848-8888-511d339b6d18');\n",
       "var x = new MutationObserver(function (mutations, observer) {{\n",
       "        var display = window.getComputedStyle(gd).display;\n",
       "        if (!display || display === 'none') {{\n",
       "            console.log([gd, 'removed!']);\n",
       "            Plotly.purge(gd);\n",
       "            observer.disconnect();\n",
       "        }}\n",
       "}});\n",
       "\n",
       "// Listen for the removal of the full notebook cells\n",
       "var notebookContainer = gd.closest('#notebook-container');\n",
       "if (notebookContainer) {{\n",
       "    x.observe(notebookContainer, {childList: true});\n",
       "}}\n",
       "\n",
       "// Listen for the clearing of the current output cell\n",
       "var outputEl = gd.closest('.output');\n",
       "if (outputEl) {{\n",
       "    x.observe(outputEl, {childList: true});\n",
       "}}\n",
       "\n",
       "                        })                };                });            </script>        </div>"
      ]
     },
     "metadata": {},
     "output_type": "display_data"
    }
   ],
   "source": [
    "topic_cadence = {f\"Topic {topic_id}\": {} for topic_id in top_topics}\n",
    "# topic_cadence = {f\"Topic {topic_id}\": {} for topic_id in range(model.topics_num_)}\n",
    "\n",
    "for topic_id in top_topics: # top topics\n",
    "# for topic_id in range(model.topics_num_): # all topics\n",
    "    repos_topic_likelihood = repos_topics_classes.copy()\n",
    "    likelihoods = model.transform(btm.get_vectorized_docs(repos_topic_likelihood[\"TEXT_PROCESSED\"], vocabulary))\n",
    "    repos_topic_likelihood[\"TOPIC_LIKELIHOOD\"] = likelihoods.T[topic_id]\n",
    "    \n",
    "    for cadence in repos_topic_likelihood.CADENCE.unique().tolist():\n",
    "        cadence_repos = repos_topic_likelihood[repos_topic_likelihood.CADENCE == cadence]\n",
    "        cadence_likelihood = cadence_repos[\"TOPIC_LIKELIHOOD\"].mean()\n",
    "        topic_cadence[f\"Topic {topic_id}\"][cadence.title()] = cadence_likelihood\n",
    "    \n",
    "topic_cadence_df = pd.DataFrame([{\"Topic\": topic_id, \"Cadence\": k, \"Avg. likelihood\": v} for topic_id, cadences in topic_cadence.items() for k, v in cadences.items()])\n",
    "# display(topic_cadence_df)\n",
    "\n",
    "px.bar(topic_cadence_df, x=\"Topic\", y=\"Avg. likelihood\", color=\"Cadence\").show()\n",
    "\n",
    "# px.bar(topic_cadence_df, x=\"Cadence\", y=\"Avg. likelihood\", color=\"Topic\").show()\n",
    "# px.bar(topic_cadence).update_layout(xaxis_title=\"Cadence\", yaxis_title=\"Topic likelihood\").show()"
   ]
  },
  {
   "cell_type": "code",
   "execution_count": 162,
   "id": "f13ab2bf-04d9-4766-8630-72c7740a9468",
   "metadata": {},
   "outputs": [
    {
     "name": "stderr",
     "output_type": "stream",
     "text": [
      "100%|███████████████████████████████████████████████████████████████████████████████| 96/96 [00:00<00:00, 96213.43it/s]\n",
      "100%|████████████████████████████████████████████████████████████████████████████| 248/248 [00:00<00:00, 124782.56it/s]\n",
      "100%|████████████████████████████████████████████████████████████████████████████████████████████| 8/8 [00:00<?, ?it/s]\n",
      "100%|███████████████████████████████████████████████████████████████████████████████| 32/32 [00:00<00:00, 30469.40it/s]\n"
     ]
    },
    {
     "data": {
      "application/vnd.plotly.v1+json": {
       "config": {
        "plotlyServerURL": "https://plot.ly"
       },
       "data": [
        {
         "alignmentgroup": "True",
         "hovertemplate": "Topic=Topic 0<br>Cadence=%{x}<br>Likelihood=%{y}<extra></extra>",
         "legendgroup": "Topic 0",
         "marker": {
          "color": "#636efa",
          "pattern": {
           "shape": ""
          }
         },
         "name": "Topic 0",
         "offsetgroup": "Topic 0",
         "orientation": "v",
         "showlegend": true,
         "textposition": "auto",
         "type": "bar",
         "x": [
          "Modern",
          "Slow",
          "Rapid+",
          "Rapid"
         ],
         "xaxis": "x",
         "y": [
          0.0640759037146589,
          0.08355421214758046,
          0.03631623782023608,
          0.1202745406965634
         ],
         "yaxis": "y"
        },
        {
         "alignmentgroup": "True",
         "hovertemplate": "Topic=Topic 1<br>Cadence=%{x}<br>Likelihood=%{y}<extra></extra>",
         "legendgroup": "Topic 1",
         "marker": {
          "color": "#EF553B",
          "pattern": {
           "shape": ""
          }
         },
         "name": "Topic 1",
         "offsetgroup": "Topic 1",
         "orientation": "v",
         "showlegend": true,
         "textposition": "auto",
         "type": "bar",
         "x": [
          "Modern",
          "Slow",
          "Rapid+",
          "Rapid"
         ],
         "xaxis": "x",
         "y": [
          0.147016758142562,
          0.16612895612419515,
          0.14106313692754413,
          0.11741017840520424
         ],
         "yaxis": "y"
        },
        {
         "alignmentgroup": "True",
         "hovertemplate": "Topic=Topic 2<br>Cadence=%{x}<br>Likelihood=%{y}<extra></extra>",
         "legendgroup": "Topic 2",
         "marker": {
          "color": "#00cc96",
          "pattern": {
           "shape": ""
          }
         },
         "name": "Topic 2",
         "offsetgroup": "Topic 2",
         "orientation": "v",
         "showlegend": true,
         "textposition": "auto",
         "type": "bar",
         "x": [
          "Modern",
          "Slow",
          "Rapid+",
          "Rapid"
         ],
         "xaxis": "x",
         "y": [
          0.0852962006754022,
          0.07383953000261562,
          7.849540767394481e-05,
          0.05623052531063056
         ],
         "yaxis": "y"
        },
        {
         "alignmentgroup": "True",
         "hovertemplate": "Topic=Topic 3<br>Cadence=%{x}<br>Likelihood=%{y}<extra></extra>",
         "legendgroup": "Topic 3",
         "marker": {
          "color": "#ab63fa",
          "pattern": {
           "shape": ""
          }
         },
         "name": "Topic 3",
         "offsetgroup": "Topic 3",
         "orientation": "v",
         "showlegend": true,
         "textposition": "auto",
         "type": "bar",
         "x": [
          "Modern",
          "Slow",
          "Rapid+",
          "Rapid"
         ],
         "xaxis": "x",
         "y": [
          0.17408779310615297,
          0.14352802800276737,
          0.0794258889236963,
          0.12825627699724812
         ],
         "yaxis": "y"
        },
        {
         "alignmentgroup": "True",
         "hovertemplate": "Topic=Topic 4<br>Cadence=%{x}<br>Likelihood=%{y}<extra></extra>",
         "legendgroup": "Topic 4",
         "marker": {
          "color": "#FFA15A",
          "pattern": {
           "shape": ""
          }
         },
         "name": "Topic 4",
         "offsetgroup": "Topic 4",
         "orientation": "v",
         "showlegend": true,
         "textposition": "auto",
         "type": "bar",
         "x": [
          "Modern",
          "Slow",
          "Rapid+",
          "Rapid"
         ],
         "xaxis": "x",
         "y": [
          0.529523344361224,
          0.5329492737228414,
          0.7431162409208495,
          0.5778284785903537
         ],
         "yaxis": "y"
        }
       ],
       "layout": {
        "barmode": "relative",
        "height": 300,
        "legend": {
         "title": {
          "text": "Topic"
         },
         "tracegroupgap": 0
        },
        "margin": {
         "t": 60
        },
        "template": {
         "data": {
          "bar": [
           {
            "error_x": {
             "color": "#2a3f5f"
            },
            "error_y": {
             "color": "#2a3f5f"
            },
            "marker": {
             "line": {
              "color": "#E5ECF6",
              "width": 0.5
             },
             "pattern": {
              "fillmode": "overlay",
              "size": 10,
              "solidity": 0.2
             }
            },
            "type": "bar"
           }
          ],
          "barpolar": [
           {
            "marker": {
             "line": {
              "color": "#E5ECF6",
              "width": 0.5
             },
             "pattern": {
              "fillmode": "overlay",
              "size": 10,
              "solidity": 0.2
             }
            },
            "type": "barpolar"
           }
          ],
          "carpet": [
           {
            "aaxis": {
             "endlinecolor": "#2a3f5f",
             "gridcolor": "white",
             "linecolor": "white",
             "minorgridcolor": "white",
             "startlinecolor": "#2a3f5f"
            },
            "baxis": {
             "endlinecolor": "#2a3f5f",
             "gridcolor": "white",
             "linecolor": "white",
             "minorgridcolor": "white",
             "startlinecolor": "#2a3f5f"
            },
            "type": "carpet"
           }
          ],
          "choropleth": [
           {
            "colorbar": {
             "outlinewidth": 0,
             "ticks": ""
            },
            "type": "choropleth"
           }
          ],
          "contour": [
           {
            "colorbar": {
             "outlinewidth": 0,
             "ticks": ""
            },
            "colorscale": [
             [
              0,
              "#0d0887"
             ],
             [
              0.1111111111111111,
              "#46039f"
             ],
             [
              0.2222222222222222,
              "#7201a8"
             ],
             [
              0.3333333333333333,
              "#9c179e"
             ],
             [
              0.4444444444444444,
              "#bd3786"
             ],
             [
              0.5555555555555556,
              "#d8576b"
             ],
             [
              0.6666666666666666,
              "#ed7953"
             ],
             [
              0.7777777777777778,
              "#fb9f3a"
             ],
             [
              0.8888888888888888,
              "#fdca26"
             ],
             [
              1,
              "#f0f921"
             ]
            ],
            "type": "contour"
           }
          ],
          "contourcarpet": [
           {
            "colorbar": {
             "outlinewidth": 0,
             "ticks": ""
            },
            "type": "contourcarpet"
           }
          ],
          "heatmap": [
           {
            "colorbar": {
             "outlinewidth": 0,
             "ticks": ""
            },
            "colorscale": [
             [
              0,
              "#0d0887"
             ],
             [
              0.1111111111111111,
              "#46039f"
             ],
             [
              0.2222222222222222,
              "#7201a8"
             ],
             [
              0.3333333333333333,
              "#9c179e"
             ],
             [
              0.4444444444444444,
              "#bd3786"
             ],
             [
              0.5555555555555556,
              "#d8576b"
             ],
             [
              0.6666666666666666,
              "#ed7953"
             ],
             [
              0.7777777777777778,
              "#fb9f3a"
             ],
             [
              0.8888888888888888,
              "#fdca26"
             ],
             [
              1,
              "#f0f921"
             ]
            ],
            "type": "heatmap"
           }
          ],
          "heatmapgl": [
           {
            "colorbar": {
             "outlinewidth": 0,
             "ticks": ""
            },
            "colorscale": [
             [
              0,
              "#0d0887"
             ],
             [
              0.1111111111111111,
              "#46039f"
             ],
             [
              0.2222222222222222,
              "#7201a8"
             ],
             [
              0.3333333333333333,
              "#9c179e"
             ],
             [
              0.4444444444444444,
              "#bd3786"
             ],
             [
              0.5555555555555556,
              "#d8576b"
             ],
             [
              0.6666666666666666,
              "#ed7953"
             ],
             [
              0.7777777777777778,
              "#fb9f3a"
             ],
             [
              0.8888888888888888,
              "#fdca26"
             ],
             [
              1,
              "#f0f921"
             ]
            ],
            "type": "heatmapgl"
           }
          ],
          "histogram": [
           {
            "marker": {
             "pattern": {
              "fillmode": "overlay",
              "size": 10,
              "solidity": 0.2
             }
            },
            "type": "histogram"
           }
          ],
          "histogram2d": [
           {
            "colorbar": {
             "outlinewidth": 0,
             "ticks": ""
            },
            "colorscale": [
             [
              0,
              "#0d0887"
             ],
             [
              0.1111111111111111,
              "#46039f"
             ],
             [
              0.2222222222222222,
              "#7201a8"
             ],
             [
              0.3333333333333333,
              "#9c179e"
             ],
             [
              0.4444444444444444,
              "#bd3786"
             ],
             [
              0.5555555555555556,
              "#d8576b"
             ],
             [
              0.6666666666666666,
              "#ed7953"
             ],
             [
              0.7777777777777778,
              "#fb9f3a"
             ],
             [
              0.8888888888888888,
              "#fdca26"
             ],
             [
              1,
              "#f0f921"
             ]
            ],
            "type": "histogram2d"
           }
          ],
          "histogram2dcontour": [
           {
            "colorbar": {
             "outlinewidth": 0,
             "ticks": ""
            },
            "colorscale": [
             [
              0,
              "#0d0887"
             ],
             [
              0.1111111111111111,
              "#46039f"
             ],
             [
              0.2222222222222222,
              "#7201a8"
             ],
             [
              0.3333333333333333,
              "#9c179e"
             ],
             [
              0.4444444444444444,
              "#bd3786"
             ],
             [
              0.5555555555555556,
              "#d8576b"
             ],
             [
              0.6666666666666666,
              "#ed7953"
             ],
             [
              0.7777777777777778,
              "#fb9f3a"
             ],
             [
              0.8888888888888888,
              "#fdca26"
             ],
             [
              1,
              "#f0f921"
             ]
            ],
            "type": "histogram2dcontour"
           }
          ],
          "mesh3d": [
           {
            "colorbar": {
             "outlinewidth": 0,
             "ticks": ""
            },
            "type": "mesh3d"
           }
          ],
          "parcoords": [
           {
            "line": {
             "colorbar": {
              "outlinewidth": 0,
              "ticks": ""
             }
            },
            "type": "parcoords"
           }
          ],
          "pie": [
           {
            "automargin": true,
            "type": "pie"
           }
          ],
          "scatter": [
           {
            "fillpattern": {
             "fillmode": "overlay",
             "size": 10,
             "solidity": 0.2
            },
            "type": "scatter"
           }
          ],
          "scatter3d": [
           {
            "line": {
             "colorbar": {
              "outlinewidth": 0,
              "ticks": ""
             }
            },
            "marker": {
             "colorbar": {
              "outlinewidth": 0,
              "ticks": ""
             }
            },
            "type": "scatter3d"
           }
          ],
          "scattercarpet": [
           {
            "marker": {
             "colorbar": {
              "outlinewidth": 0,
              "ticks": ""
             }
            },
            "type": "scattercarpet"
           }
          ],
          "scattergeo": [
           {
            "marker": {
             "colorbar": {
              "outlinewidth": 0,
              "ticks": ""
             }
            },
            "type": "scattergeo"
           }
          ],
          "scattergl": [
           {
            "marker": {
             "colorbar": {
              "outlinewidth": 0,
              "ticks": ""
             }
            },
            "type": "scattergl"
           }
          ],
          "scattermapbox": [
           {
            "marker": {
             "colorbar": {
              "outlinewidth": 0,
              "ticks": ""
             }
            },
            "type": "scattermapbox"
           }
          ],
          "scatterpolar": [
           {
            "marker": {
             "colorbar": {
              "outlinewidth": 0,
              "ticks": ""
             }
            },
            "type": "scatterpolar"
           }
          ],
          "scatterpolargl": [
           {
            "marker": {
             "colorbar": {
              "outlinewidth": 0,
              "ticks": ""
             }
            },
            "type": "scatterpolargl"
           }
          ],
          "scatterternary": [
           {
            "marker": {
             "colorbar": {
              "outlinewidth": 0,
              "ticks": ""
             }
            },
            "type": "scatterternary"
           }
          ],
          "surface": [
           {
            "colorbar": {
             "outlinewidth": 0,
             "ticks": ""
            },
            "colorscale": [
             [
              0,
              "#0d0887"
             ],
             [
              0.1111111111111111,
              "#46039f"
             ],
             [
              0.2222222222222222,
              "#7201a8"
             ],
             [
              0.3333333333333333,
              "#9c179e"
             ],
             [
              0.4444444444444444,
              "#bd3786"
             ],
             [
              0.5555555555555556,
              "#d8576b"
             ],
             [
              0.6666666666666666,
              "#ed7953"
             ],
             [
              0.7777777777777778,
              "#fb9f3a"
             ],
             [
              0.8888888888888888,
              "#fdca26"
             ],
             [
              1,
              "#f0f921"
             ]
            ],
            "type": "surface"
           }
          ],
          "table": [
           {
            "cells": {
             "fill": {
              "color": "#EBF0F8"
             },
             "line": {
              "color": "white"
             }
            },
            "header": {
             "fill": {
              "color": "#C8D4E3"
             },
             "line": {
              "color": "white"
             }
            },
            "type": "table"
           }
          ]
         },
         "layout": {
          "annotationdefaults": {
           "arrowcolor": "#2a3f5f",
           "arrowhead": 0,
           "arrowwidth": 1
          },
          "autotypenumbers": "strict",
          "coloraxis": {
           "colorbar": {
            "outlinewidth": 0,
            "ticks": ""
           }
          },
          "colorscale": {
           "diverging": [
            [
             0,
             "#8e0152"
            ],
            [
             0.1,
             "#c51b7d"
            ],
            [
             0.2,
             "#de77ae"
            ],
            [
             0.3,
             "#f1b6da"
            ],
            [
             0.4,
             "#fde0ef"
            ],
            [
             0.5,
             "#f7f7f7"
            ],
            [
             0.6,
             "#e6f5d0"
            ],
            [
             0.7,
             "#b8e186"
            ],
            [
             0.8,
             "#7fbc41"
            ],
            [
             0.9,
             "#4d9221"
            ],
            [
             1,
             "#276419"
            ]
           ],
           "sequential": [
            [
             0,
             "#0d0887"
            ],
            [
             0.1111111111111111,
             "#46039f"
            ],
            [
             0.2222222222222222,
             "#7201a8"
            ],
            [
             0.3333333333333333,
             "#9c179e"
            ],
            [
             0.4444444444444444,
             "#bd3786"
            ],
            [
             0.5555555555555556,
             "#d8576b"
            ],
            [
             0.6666666666666666,
             "#ed7953"
            ],
            [
             0.7777777777777778,
             "#fb9f3a"
            ],
            [
             0.8888888888888888,
             "#fdca26"
            ],
            [
             1,
             "#f0f921"
            ]
           ],
           "sequentialminus": [
            [
             0,
             "#0d0887"
            ],
            [
             0.1111111111111111,
             "#46039f"
            ],
            [
             0.2222222222222222,
             "#7201a8"
            ],
            [
             0.3333333333333333,
             "#9c179e"
            ],
            [
             0.4444444444444444,
             "#bd3786"
            ],
            [
             0.5555555555555556,
             "#d8576b"
            ],
            [
             0.6666666666666666,
             "#ed7953"
            ],
            [
             0.7777777777777778,
             "#fb9f3a"
            ],
            [
             0.8888888888888888,
             "#fdca26"
            ],
            [
             1,
             "#f0f921"
            ]
           ]
          },
          "colorway": [
           "#636efa",
           "#EF553B",
           "#00cc96",
           "#ab63fa",
           "#FFA15A",
           "#19d3f3",
           "#FF6692",
           "#B6E880",
           "#FF97FF",
           "#FECB52"
          ],
          "font": {
           "color": "#2a3f5f"
          },
          "geo": {
           "bgcolor": "white",
           "lakecolor": "white",
           "landcolor": "#E5ECF6",
           "showlakes": true,
           "showland": true,
           "subunitcolor": "white"
          },
          "hoverlabel": {
           "align": "left"
          },
          "hovermode": "closest",
          "mapbox": {
           "style": "light"
          },
          "paper_bgcolor": "white",
          "plot_bgcolor": "#E5ECF6",
          "polar": {
           "angularaxis": {
            "gridcolor": "white",
            "linecolor": "white",
            "ticks": ""
           },
           "bgcolor": "#E5ECF6",
           "radialaxis": {
            "gridcolor": "white",
            "linecolor": "white",
            "ticks": ""
           }
          },
          "scene": {
           "xaxis": {
            "backgroundcolor": "#E5ECF6",
            "gridcolor": "white",
            "gridwidth": 2,
            "linecolor": "white",
            "showbackground": true,
            "ticks": "",
            "zerolinecolor": "white"
           },
           "yaxis": {
            "backgroundcolor": "#E5ECF6",
            "gridcolor": "white",
            "gridwidth": 2,
            "linecolor": "white",
            "showbackground": true,
            "ticks": "",
            "zerolinecolor": "white"
           },
           "zaxis": {
            "backgroundcolor": "#E5ECF6",
            "gridcolor": "white",
            "gridwidth": 2,
            "linecolor": "white",
            "showbackground": true,
            "ticks": "",
            "zerolinecolor": "white"
           }
          },
          "shapedefaults": {
           "line": {
            "color": "#2a3f5f"
           }
          },
          "ternary": {
           "aaxis": {
            "gridcolor": "white",
            "linecolor": "white",
            "ticks": ""
           },
           "baxis": {
            "gridcolor": "white",
            "linecolor": "white",
            "ticks": ""
           },
           "bgcolor": "#E5ECF6",
           "caxis": {
            "gridcolor": "white",
            "linecolor": "white",
            "ticks": ""
           }
          },
          "title": {
           "x": 0.05
          },
          "xaxis": {
           "automargin": true,
           "gridcolor": "white",
           "linecolor": "white",
           "ticks": "",
           "title": {
            "standoff": 15
           },
           "zerolinecolor": "white",
           "zerolinewidth": 2
          },
          "yaxis": {
           "automargin": true,
           "gridcolor": "white",
           "linecolor": "white",
           "ticks": "",
           "title": {
            "standoff": 15
           },
           "zerolinecolor": "white",
           "zerolinewidth": 2
          }
         }
        },
        "width": 600,
        "xaxis": {
         "anchor": "y",
         "autorange": true,
         "domain": [
          0,
          1
         ],
         "range": [
          -0.5,
          3.5
         ],
         "title": {
          "text": "Cadence"
         },
         "type": "category"
        },
        "yaxis": {
         "anchor": "x",
         "autorange": true,
         "domain": [
          0,
          1
         ],
         "range": [
          0,
          1.0526315789473684
         ],
         "title": {
          "text": "Likelihood"
         },
         "type": "linear"
        }
       }
      },
      "image/png": "[encoded data removed]",
      "text/html": [
       "<div>                            <div id=\"569c72d5-fa6a-4fff-bc61-3774125f7623\" class=\"plotly-graph-div\" style=\"height:300px; width:600px;\"></div>            <script type=\"text/javascript\">                require([\"plotly\"], function(Plotly) {                    window.PLOTLYENV=window.PLOTLYENV || {};                                    if (document.getElementById(\"569c72d5-fa6a-4fff-bc61-3774125f7623\")) {                    Plotly.newPlot(                        \"569c72d5-fa6a-4fff-bc61-3774125f7623\",                        [{\"alignmentgroup\":\"True\",\"hovertemplate\":\"Topic=Topic 0<br>Cadence=%{x}<br>Likelihood=%{y}<extra></extra>\",\"legendgroup\":\"Topic 0\",\"marker\":{\"color\":\"#636efa\",\"pattern\":{\"shape\":\"\"}},\"name\":\"Topic 0\",\"offsetgroup\":\"Topic 0\",\"orientation\":\"v\",\"showlegend\":true,\"textposition\":\"auto\",\"x\":[\"Modern\",\"Slow\",\"Rapid+\",\"Rapid\"],\"xaxis\":\"x\",\"y\":[0.0640759037146589,0.08355421214758046,0.03631623782023608,0.1202745406965634],\"yaxis\":\"y\",\"type\":\"bar\"},{\"alignmentgroup\":\"True\",\"hovertemplate\":\"Topic=Topic 1<br>Cadence=%{x}<br>Likelihood=%{y}<extra></extra>\",\"legendgroup\":\"Topic 1\",\"marker\":{\"color\":\"#EF553B\",\"pattern\":{\"shape\":\"\"}},\"name\":\"Topic 1\",\"offsetgroup\":\"Topic 1\",\"orientation\":\"v\",\"showlegend\":true,\"textposition\":\"auto\",\"x\":[\"Modern\",\"Slow\",\"Rapid+\",\"Rapid\"],\"xaxis\":\"x\",\"y\":[0.147016758142562,0.16612895612419515,0.14106313692754413,0.11741017840520424],\"yaxis\":\"y\",\"type\":\"bar\"},{\"alignmentgroup\":\"True\",\"hovertemplate\":\"Topic=Topic 2<br>Cadence=%{x}<br>Likelihood=%{y}<extra></extra>\",\"legendgroup\":\"Topic 2\",\"marker\":{\"color\":\"#00cc96\",\"pattern\":{\"shape\":\"\"}},\"name\":\"Topic 2\",\"offsetgroup\":\"Topic 2\",\"orientation\":\"v\",\"showlegend\":true,\"textposition\":\"auto\",\"x\":[\"Modern\",\"Slow\",\"Rapid+\",\"Rapid\"],\"xaxis\":\"x\",\"y\":[0.0852962006754022,0.07383953000261562,7.849540767394481e-05,0.05623052531063056],\"yaxis\":\"y\",\"type\":\"bar\"},{\"alignmentgroup\":\"True\",\"hovertemplate\":\"Topic=Topic 3<br>Cadence=%{x}<br>Likelihood=%{y}<extra></extra>\",\"legendgroup\":\"Topic 3\",\"marker\":{\"color\":\"#ab63fa\",\"pattern\":{\"shape\":\"\"}},\"name\":\"Topic 3\",\"offsetgroup\":\"Topic 3\",\"orientation\":\"v\",\"showlegend\":true,\"textposition\":\"auto\",\"x\":[\"Modern\",\"Slow\",\"Rapid+\",\"Rapid\"],\"xaxis\":\"x\",\"y\":[0.17408779310615297,0.14352802800276737,0.0794258889236963,0.12825627699724812],\"yaxis\":\"y\",\"type\":\"bar\"},{\"alignmentgroup\":\"True\",\"hovertemplate\":\"Topic=Topic 4<br>Cadence=%{x}<br>Likelihood=%{y}<extra></extra>\",\"legendgroup\":\"Topic 4\",\"marker\":{\"color\":\"#FFA15A\",\"pattern\":{\"shape\":\"\"}},\"name\":\"Topic 4\",\"offsetgroup\":\"Topic 4\",\"orientation\":\"v\",\"showlegend\":true,\"textposition\":\"auto\",\"x\":[\"Modern\",\"Slow\",\"Rapid+\",\"Rapid\"],\"xaxis\":\"x\",\"y\":[0.529523344361224,0.5329492737228414,0.7431162409208495,0.5778284785903537],\"yaxis\":\"y\",\"type\":\"bar\"}],                        {\"template\":{\"data\":{\"histogram2dcontour\":[{\"type\":\"histogram2dcontour\",\"colorbar\":{\"outlinewidth\":0,\"ticks\":\"\"},\"colorscale\":[[0.0,\"#0d0887\"],[0.1111111111111111,\"#46039f\"],[0.2222222222222222,\"#7201a8\"],[0.3333333333333333,\"#9c179e\"],[0.4444444444444444,\"#bd3786\"],[0.5555555555555556,\"#d8576b\"],[0.6666666666666666,\"#ed7953\"],[0.7777777777777778,\"#fb9f3a\"],[0.8888888888888888,\"#fdca26\"],[1.0,\"#f0f921\"]]}],\"choropleth\":[{\"type\":\"choropleth\",\"colorbar\":{\"outlinewidth\":0,\"ticks\":\"\"}}],\"histogram2d\":[{\"type\":\"histogram2d\",\"colorbar\":{\"outlinewidth\":0,\"ticks\":\"\"},\"colorscale\":[[0.0,\"#0d0887\"],[0.1111111111111111,\"#46039f\"],[0.2222222222222222,\"#7201a8\"],[0.3333333333333333,\"#9c179e\"],[0.4444444444444444,\"#bd3786\"],[0.5555555555555556,\"#d8576b\"],[0.6666666666666666,\"#ed7953\"],[0.7777777777777778,\"#fb9f3a\"],[0.8888888888888888,\"#fdca26\"],[1.0,\"#f0f921\"]]}],\"heatmap\":[{\"type\":\"heatmap\",\"colorbar\":{\"outlinewidth\":0,\"ticks\":\"\"},\"colorscale\":[[0.0,\"#0d0887\"],[0.1111111111111111,\"#46039f\"],[0.2222222222222222,\"#7201a8\"],[0.3333333333333333,\"#9c179e\"],[0.4444444444444444,\"#bd3786\"],[0.5555555555555556,\"#d8576b\"],[0.6666666666666666,\"#ed7953\"],[0.7777777777777778,\"#fb9f3a\"],[0.8888888888888888,\"#fdca26\"],[1.0,\"#f0f921\"]]}],\"heatmapgl\":[{\"type\":\"heatmapgl\",\"colorbar\":{\"outlinewidth\":0,\"ticks\":\"\"},\"colorscale\":[[0.0,\"#0d0887\"],[0.1111111111111111,\"#46039f\"],[0.2222222222222222,\"#7201a8\"],[0.3333333333333333,\"#9c179e\"],[0.4444444444444444,\"#bd3786\"],[0.5555555555555556,\"#d8576b\"],[0.6666666666666666,\"#ed7953\"],[0.7777777777777778,\"#fb9f3a\"],[0.8888888888888888,\"#fdca26\"],[1.0,\"#f0f921\"]]}],\"contourcarpet\":[{\"type\":\"contourcarpet\",\"colorbar\":{\"outlinewidth\":0,\"ticks\":\"\"}}],\"contour\":[{\"type\":\"contour\",\"colorbar\":{\"outlinewidth\":0,\"ticks\":\"\"},\"colorscale\":[[0.0,\"#0d0887\"],[0.1111111111111111,\"#46039f\"],[0.2222222222222222,\"#7201a8\"],[0.3333333333333333,\"#9c179e\"],[0.4444444444444444,\"#bd3786\"],[0.5555555555555556,\"#d8576b\"],[0.6666666666666666,\"#ed7953\"],[0.7777777777777778,\"#fb9f3a\"],[0.8888888888888888,\"#fdca26\"],[1.0,\"#f0f921\"]]}],\"surface\":[{\"type\":\"surface\",\"colorbar\":{\"outlinewidth\":0,\"ticks\":\"\"},\"colorscale\":[[0.0,\"#0d0887\"],[0.1111111111111111,\"#46039f\"],[0.2222222222222222,\"#7201a8\"],[0.3333333333333333,\"#9c179e\"],[0.4444444444444444,\"#bd3786\"],[0.5555555555555556,\"#d8576b\"],[0.6666666666666666,\"#ed7953\"],[0.7777777777777778,\"#fb9f3a\"],[0.8888888888888888,\"#fdca26\"],[1.0,\"#f0f921\"]]}],\"mesh3d\":[{\"type\":\"mesh3d\",\"colorbar\":{\"outlinewidth\":0,\"ticks\":\"\"}}],\"scatter\":[{\"fillpattern\":{\"fillmode\":\"overlay\",\"size\":10,\"solidity\":0.2},\"type\":\"scatter\"}],\"parcoords\":[{\"type\":\"parcoords\",\"line\":{\"colorbar\":{\"outlinewidth\":0,\"ticks\":\"\"}}}],\"scatterpolargl\":[{\"type\":\"scatterpolargl\",\"marker\":{\"colorbar\":{\"outlinewidth\":0,\"ticks\":\"\"}}}],\"bar\":[{\"error_x\":{\"color\":\"#2a3f5f\"},\"error_y\":{\"color\":\"#2a3f5f\"},\"marker\":{\"line\":{\"color\":\"#E5ECF6\",\"width\":0.5},\"pattern\":{\"fillmode\":\"overlay\",\"size\":10,\"solidity\":0.2}},\"type\":\"bar\"}],\"scattergeo\":[{\"type\":\"scattergeo\",\"marker\":{\"colorbar\":{\"outlinewidth\":0,\"ticks\":\"\"}}}],\"scatterpolar\":[{\"type\":\"scatterpolar\",\"marker\":{\"colorbar\":{\"outlinewidth\":0,\"ticks\":\"\"}}}],\"histogram\":[{\"marker\":{\"pattern\":{\"fillmode\":\"overlay\",\"size\":10,\"solidity\":0.2}},\"type\":\"histogram\"}],\"scattergl\":[{\"type\":\"scattergl\",\"marker\":{\"colorbar\":{\"outlinewidth\":0,\"ticks\":\"\"}}}],\"scatter3d\":[{\"type\":\"scatter3d\",\"line\":{\"colorbar\":{\"outlinewidth\":0,\"ticks\":\"\"}},\"marker\":{\"colorbar\":{\"outlinewidth\":0,\"ticks\":\"\"}}}],\"scattermapbox\":[{\"type\":\"scattermapbox\",\"marker\":{\"colorbar\":{\"outlinewidth\":0,\"ticks\":\"\"}}}],\"scatterternary\":[{\"type\":\"scatterternary\",\"marker\":{\"colorbar\":{\"outlinewidth\":0,\"ticks\":\"\"}}}],\"scattercarpet\":[{\"type\":\"scattercarpet\",\"marker\":{\"colorbar\":{\"outlinewidth\":0,\"ticks\":\"\"}}}],\"carpet\":[{\"aaxis\":{\"endlinecolor\":\"#2a3f5f\",\"gridcolor\":\"white\",\"linecolor\":\"white\",\"minorgridcolor\":\"white\",\"startlinecolor\":\"#2a3f5f\"},\"baxis\":{\"endlinecolor\":\"#2a3f5f\",\"gridcolor\":\"white\",\"linecolor\":\"white\",\"minorgridcolor\":\"white\",\"startlinecolor\":\"#2a3f5f\"},\"type\":\"carpet\"}],\"table\":[{\"cells\":{\"fill\":{\"color\":\"#EBF0F8\"},\"line\":{\"color\":\"white\"}},\"header\":{\"fill\":{\"color\":\"#C8D4E3\"},\"line\":{\"color\":\"white\"}},\"type\":\"table\"}],\"barpolar\":[{\"marker\":{\"line\":{\"color\":\"#E5ECF6\",\"width\":0.5},\"pattern\":{\"fillmode\":\"overlay\",\"size\":10,\"solidity\":0.2}},\"type\":\"barpolar\"}],\"pie\":[{\"automargin\":true,\"type\":\"pie\"}]},\"layout\":{\"autotypenumbers\":\"strict\",\"colorway\":[\"#636efa\",\"#EF553B\",\"#00cc96\",\"#ab63fa\",\"#FFA15A\",\"#19d3f3\",\"#FF6692\",\"#B6E880\",\"#FF97FF\",\"#FECB52\"],\"font\":{\"color\":\"#2a3f5f\"},\"hovermode\":\"closest\",\"hoverlabel\":{\"align\":\"left\"},\"paper_bgcolor\":\"white\",\"plot_bgcolor\":\"#E5ECF6\",\"polar\":{\"bgcolor\":\"#E5ECF6\",\"angularaxis\":{\"gridcolor\":\"white\",\"linecolor\":\"white\",\"ticks\":\"\"},\"radialaxis\":{\"gridcolor\":\"white\",\"linecolor\":\"white\",\"ticks\":\"\"}},\"ternary\":{\"bgcolor\":\"#E5ECF6\",\"aaxis\":{\"gridcolor\":\"white\",\"linecolor\":\"white\",\"ticks\":\"\"},\"baxis\":{\"gridcolor\":\"white\",\"linecolor\":\"white\",\"ticks\":\"\"},\"caxis\":{\"gridcolor\":\"white\",\"linecolor\":\"white\",\"ticks\":\"\"}},\"coloraxis\":{\"colorbar\":{\"outlinewidth\":0,\"ticks\":\"\"}},\"colorscale\":{\"sequential\":[[0.0,\"#0d0887\"],[0.1111111111111111,\"#46039f\"],[0.2222222222222222,\"#7201a8\"],[0.3333333333333333,\"#9c179e\"],[0.4444444444444444,\"#bd3786\"],[0.5555555555555556,\"#d8576b\"],[0.6666666666666666,\"#ed7953\"],[0.7777777777777778,\"#fb9f3a\"],[0.8888888888888888,\"#fdca26\"],[1.0,\"#f0f921\"]],\"sequentialminus\":[[0.0,\"#0d0887\"],[0.1111111111111111,\"#46039f\"],[0.2222222222222222,\"#7201a8\"],[0.3333333333333333,\"#9c179e\"],[0.4444444444444444,\"#bd3786\"],[0.5555555555555556,\"#d8576b\"],[0.6666666666666666,\"#ed7953\"],[0.7777777777777778,\"#fb9f3a\"],[0.8888888888888888,\"#fdca26\"],[1.0,\"#f0f921\"]],\"diverging\":[[0,\"#8e0152\"],[0.1,\"#c51b7d\"],[0.2,\"#de77ae\"],[0.3,\"#f1b6da\"],[0.4,\"#fde0ef\"],[0.5,\"#f7f7f7\"],[0.6,\"#e6f5d0\"],[0.7,\"#b8e186\"],[0.8,\"#7fbc41\"],[0.9,\"#4d9221\"],[1,\"#276419\"]]},\"xaxis\":{\"gridcolor\":\"white\",\"linecolor\":\"white\",\"ticks\":\"\",\"title\":{\"standoff\":15},\"zerolinecolor\":\"white\",\"automargin\":true,\"zerolinewidth\":2},\"yaxis\":{\"gridcolor\":\"white\",\"linecolor\":\"white\",\"ticks\":\"\",\"title\":{\"standoff\":15},\"zerolinecolor\":\"white\",\"automargin\":true,\"zerolinewidth\":2},\"scene\":{\"xaxis\":{\"backgroundcolor\":\"#E5ECF6\",\"gridcolor\":\"white\",\"linecolor\":\"white\",\"showbackground\":true,\"ticks\":\"\",\"zerolinecolor\":\"white\",\"gridwidth\":2},\"yaxis\":{\"backgroundcolor\":\"#E5ECF6\",\"gridcolor\":\"white\",\"linecolor\":\"white\",\"showbackground\":true,\"ticks\":\"\",\"zerolinecolor\":\"white\",\"gridwidth\":2},\"zaxis\":{\"backgroundcolor\":\"#E5ECF6\",\"gridcolor\":\"white\",\"linecolor\":\"white\",\"showbackground\":true,\"ticks\":\"\",\"zerolinecolor\":\"white\",\"gridwidth\":2}},\"shapedefaults\":{\"line\":{\"color\":\"#2a3f5f\"}},\"annotationdefaults\":{\"arrowcolor\":\"#2a3f5f\",\"arrowhead\":0,\"arrowwidth\":1},\"geo\":{\"bgcolor\":\"white\",\"landcolor\":\"#E5ECF6\",\"subunitcolor\":\"white\",\"showland\":true,\"showlakes\":true,\"lakecolor\":\"white\"},\"title\":{\"x\":0.05},\"mapbox\":{\"style\":\"light\"}}},\"xaxis\":{\"anchor\":\"y\",\"domain\":[0.0,1.0],\"title\":{\"text\":\"Cadence\"}},\"yaxis\":{\"anchor\":\"x\",\"domain\":[0.0,1.0],\"title\":{\"text\":\"Likelihood\"}},\"legend\":{\"title\":{\"text\":\"Topic\"},\"tracegroupgap\":0},\"margin\":{\"t\":60},\"barmode\":\"relative\",\"height\":300,\"width\":600},                        {\"responsive\": true}                    ).then(function(){\n",
       "                            \n",
       "var gd = document.getElementById('569c72d5-fa6a-4fff-bc61-3774125f7623');\n",
       "var x = new MutationObserver(function (mutations, observer) {{\n",
       "        var display = window.getComputedStyle(gd).display;\n",
       "        if (!display || display === 'none') {{\n",
       "            console.log([gd, 'removed!']);\n",
       "            Plotly.purge(gd);\n",
       "            observer.disconnect();\n",
       "        }}\n",
       "}});\n",
       "\n",
       "// Listen for the removal of the full notebook cells\n",
       "var notebookContainer = gd.closest('#notebook-container');\n",
       "if (notebookContainer) {{\n",
       "    x.observe(notebookContainer, {childList: true});\n",
       "}}\n",
       "\n",
       "// Listen for the clearing of the current output cell\n",
       "var outputEl = gd.closest('.output');\n",
       "if (outputEl) {{\n",
       "    x.observe(outputEl, {childList: true});\n",
       "}}\n",
       "\n",
       "                        })                };                });            </script>        </div>"
      ]
     },
     "metadata": {},
     "output_type": "display_data"
    }
   ],
   "source": [
    "topic_cadence = {}\n",
    "\n",
    "for cadence in repos_topic_likelihood.CADENCE.unique().tolist():\n",
    "    topic_cadence[cadence.title()] = {}\n",
    "    repos_topic_likelihood = repos_topics_classes.copy()\n",
    "    cadence_repos = repos_topic_likelihood[repos_topic_likelihood.CADENCE == cadence]\n",
    "    likelihoods = model.transform(btm.get_vectorized_docs(cadence_repos[\"TEXT_PROCESSED\"], vocabulary))\n",
    "    \n",
    "    for topic_id in sorted(top_topics): # top topics\n",
    "    # for topic_id in range(model.topics_num_): # all topics\n",
    "        topic_likelihood = likelihoods.T[topic_id].sum()  # what is the probability of seeing this topic given the cadence\n",
    "        topic_cadence[cadence.title()][f\"Topic {topic_id}\"] = topic_likelihood / likelihoods.sum()\n",
    "    \n",
    "topic_cadence_df = pd.DataFrame([{\"Topic\": k, \"Cadence\": cadence, \"Likelihood\": v} for cadence, topics in topic_cadence.items() for k, v in topics.items()])\n",
    "# display(topic_cadence_df)\n",
    "\n",
    "# width=600, height=300\n",
    "fig = px.bar(topic_cadence_df, x=\"Cadence\", y=\"Likelihood\", color=\"Topic\", width=600, height=300) #.update_layout(title_text=f\"Topic likelihoods per cadence for {language} projects\", title_x=0.5)\n",
    "fig.show()"
   ]
  }
 ],
 "metadata": {
  "kernelspec": {
   "display_name": "Python 3 (ipykernel)",
   "language": "python",
   "name": "python3"
  },
  "language_info": {
   "codemirror_mode": {
    "name": "ipython",
    "version": 3
   },
   "file_extension": ".py",
   "mimetype": "text/x-python",
   "name": "python",
   "nbconvert_exporter": "python",
   "pygments_lexer": "ipython3",
   "version": "3.10.7"
  }
 },
 "nbformat": 4,
 "nbformat_minor": 5
}
